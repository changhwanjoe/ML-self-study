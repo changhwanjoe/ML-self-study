{
 "cells": [
  {
   "cell_type": "markdown",
   "metadata": {},
   "source": [
    "탐색적 데이터 분석 (Exploratory Data Analysis)를 진행하다보면, 매우 흔한 확률로 **결측치가 존재**하는 것을 볼 수 있습니다.\n",
    "\n",
    "우리는 이런 경우 결측치를 **버릴건지(drop), 혹은 채워**주어야 합니다.\n",
    "\n",
    "그러나, 데이터를 함부로 **drop하여 머신러닝 예측을 진행한다는 것은 꽤 risk** 하기도 합니다. 물론 결측치가 매우 적은 경우엔 그냥 drop하는 것이 맞을 수 있습니다.\n",
    "\n",
    "하지만, 결측치가 꽤 많이 존재하는 경우, 혹은 우리가 예측해야할 test set의 feature 데이터에 존재하는 경우에는 결측치를 채워줄 수 밖에 없습니다.\n",
    "\n",
    "결측치를 채워 줄 때 흔히 사용되는 방법은 `0` 이나 `-1`로 단순하게 채워주거나, 조금 더 발전된 방법은 `mean`이나 `median`으로 채워주는 방법입니다. 조금 더 나아간다면, 분류형 컬럼을 기준으로 `groupby`하여 `mean`이나 `median`으로 채워줄 수 있겠네요.\n",
    "\n",
    "하지마, 시계열(Time Series) 데이터나 연속된 수치를 가지는 데이터의 경우에는 우리는 일종의 연속성있는 패턴을 발견할 수 있습니다. 이런 경우 보간(Interpolation)을 통해 **앞,뒤 값을 통하여 유추하여 좀 더 스마트하게 결측치(NaN)를 채워**줄 수 있습니다.\n",
    "\n",
    "대부분, `Pandas`에 이런 유용한 기능이 내장되어 있는 점을 모르는 분들이 많은데, 이번 포스팅에서는 결측치에 대하여 보간(Interpolation) 처리를 해주는 방법에 대하여 알아보도록 하겠습니다."
   ]
  },
  {
   "cell_type": "markdown",
   "metadata": {},
   "source": [
    "**참고(Reference) - Pandas 공식 도큐먼트**\n",
    "\n",
    "[pandas.DataFrame.interpolate](https://pandas.pydata.org/pandas-docs/stable/reference/api/pandas.DataFrame.interpolate.html)"
   ]
  },
  {
   "cell_type": "code",
   "execution_count": 25,
   "metadata": {},
   "outputs": [],
   "source": [
    "import numpy as np\n",
    "import pandas as pd\n",
    "import scipy.stats as stats\n",
    "import matplotlib.pyplot as plt\n",
    "import math\n",
    "import warnings\n",
    "\n",
    "warnings.filterwarnings('ignore')\n",
    "%matplotlib inline"
   ]
  },
  {
   "cell_type": "markdown",
   "metadata": {},
   "source": [
    "실습을 위하여 **Normal Distribution을 따르는 샘플을 생성**하도록 하겠습니다."
   ]
  },
  {
   "cell_type": "code",
   "execution_count": 40,
   "metadata": {},
   "outputs": [
    {
     "data": {
      "image/png": "[encoded data removed]",
      "text/plain": [
       "<Figure size 432x288 with 1 Axes>"
      ]
     },
     "metadata": {},
     "output_type": "display_data"
    }
   ],
   "source": [
    "# 평균\n",
    "mu = 0\n",
    "# 분산\n",
    "variance = 1\n",
    "# sigma (Standard Deviation 계산)\n",
    "sigma = math.sqrt(variance)\n",
    "x = np.linspace(mu - 3*sigma, mu + 3*sigma, 100)\n",
    "\n",
    "# 랜덤한 10개의 데이터를 삭제합니다.\n",
    "idx = np.random.choice(len(x), size=10)\n",
    "x[idx] = np.nan\n",
    "\n",
    "# 시각화\n",
    "plt.plot(x, stats.norm.pdf(x, mu, sigma))\n",
    "plt.show()"
   ]
  },
  {
   "cell_type": "markdown",
   "metadata": {},
   "source": [
    "총 10개의 NaN 값을 만들었습니다."
   ]
  },
  {
   "cell_type": "code",
   "execution_count": 41,
   "metadata": {},
   "outputs": [
    {
     "data": {
      "text/plain": [
       "10"
      ]
     },
     "execution_count": 41,
     "metadata": {},
     "output_type": "execute_result"
    }
   ],
   "source": [
    "pd.Series(x).isnull().sum()"
   ]
  },
  {
   "cell_type": "markdown",
   "metadata": {},
   "source": [
    "중간 중간에 NaN값이 포진해 있는 것을 확인할 수 있습니다."
   ]
  },
  {
   "cell_type": "code",
   "execution_count": 42,
   "metadata": {},
   "outputs": [
    {
     "data": {
      "text/plain": [
       "0    -3.000000\n",
       "1    -2.939394\n",
       "2    -2.878788\n",
       "3    -2.818182\n",
       "4    -2.757576\n",
       "5    -2.696970\n",
       "6          NaN\n",
       "7    -2.575758\n",
       "8    -2.515152\n",
       "9    -2.454545\n",
       "10   -2.393939\n",
       "11         NaN\n",
       "12   -2.272727\n",
       "13   -2.212121\n",
       "14   -2.151515\n",
       "15   -2.090909\n",
       "16         NaN\n",
       "17   -1.969697\n",
       "18   -1.909091\n",
       "19   -1.848485\n",
       "dtype: float64"
      ]
     },
     "execution_count": 42,
     "metadata": {},
     "output_type": "execute_result"
    }
   ],
   "source": [
    "pd.Series(x).head(20)"
   ]
  },
  {
   "cell_type": "markdown",
   "metadata": {},
   "source": [
    "## 보간 (Interpolation)을 활용한 결측치 대입"
   ]
  },
  {
   "cell_type": "markdown",
   "metadata": {},
   "source": [
    "### 주요 Hyperparameter"
   ]
  },
  {
   "cell_type": "markdown",
   "metadata": {},
   "source": [
    "**methodstr, default `linear`**\n",
    "Interpolation technique 지정\n",
    "\n",
    "-`linear`: 색인을 무시하고 값을 동일한 간격으로 처리 (MultiIndexes에서 지원되는 유일한 방법)\n",
    "\n",
    "- `time`: \n",
    "주어진 간격의 길이를 보간하기 위해 매일 더 높은 해상도 데이터를 처리\n",
    "\n",
    "- `index`, `values`: \n",
    "인덱스의 실제 숫자 값을 사용\n",
    "\n",
    "- `pad`: \n",
    "기존 값을 사용하여 NaN 채우기\n",
    "\n",
    "- `nearest`, `zero`, `slinear`, `quadratic`, `cubic`, `spline`, `barycentric`, `polynomial`: \n",
    "scipy.interpolate.interp1d로 전달. 이 방법은 색인의 숫자 값을 사용. `polynomial`과 `spline` 모두 순서 (int)도 지정해야합니다 (예 : df.interpolate (method='polynomial', order=5).\n",
    "\n",
    "- `krogh`, `piecewise_polynomial`, `spline`, `pchip`, `akima`: 비슷한 이름의 SciPy 보간 방법을 둘러싼 Wrapper.\n",
    "\n",
    "- `from_derivatives`: scipy 0.18의 `piecewise_polynomial`보간 방법을 대체하는 scipy.interpolate.BPoly.from_derivatives를 참조\n",
    "\n",
    "**axis{0 or `index`, 1 or `columns`, None}, default None**\n",
    "보간할 축 설정\n",
    "\n",
    "**limitint, optional**\n",
    "채울 최대 연속 NaN 갯수. 0보다 커야함.\n",
    "\n",
    "**inplacebool, default False**\n",
    "데이터 업데이트 (if possible)\n",
    "\n",
    "**limit_direction{`forward`, `backward`, `both`}, default `forward`**\n",
    "limit이 지정되면, 연속 NaN이 `지정된 방향`으로 채워집니다.\n",
    "\n",
    "**limit_area{None, `inside`, `outside`}, default None**\n",
    "limit이 지정되면, 연속된 NaN은 지정된 제한(restriction)으로 채워집니다.\n",
    "\n",
    "- None: No fill restriction.\n",
    "\n",
    "- `inside`: 유효한 값으로 둘러싸인 NaN 만 채 웁니다 (보간).\n",
    "\n",
    "- `outside`: 유효 값을 초과하는 NaN 만 채 웁니다 (외삽).\n",
    "\n",
    "(New in version 0.23.0.)\n",
    "\n",
    "**downcastoptional, `infer` or None, defaults to None**\n",
    "Downcast dtypes if possible."
   ]
  },
  {
   "cell_type": "code",
   "execution_count": 43,
   "metadata": {},
   "outputs": [],
   "source": [
    "x_inter = pd.Series(x).interpolate()"
   ]
  },
  {
   "cell_type": "code",
   "execution_count": 45,
   "metadata": {},
   "outputs": [
    {
     "data": {
      "text/plain": [
       "0    -3.000000\n",
       "1    -2.939394\n",
       "2    -2.878788\n",
       "3    -2.818182\n",
       "4    -2.757576\n",
       "5    -2.696970\n",
       "6    -2.636364\n",
       "7    -2.575758\n",
       "8    -2.515152\n",
       "9    -2.454545\n",
       "10   -2.393939\n",
       "11   -2.333333\n",
       "12   -2.272727\n",
       "13   -2.212121\n",
       "14   -2.151515\n",
       "15   -2.090909\n",
       "16   -2.030303\n",
       "17   -1.969697\n",
       "18   -1.909091\n",
       "19   -1.848485\n",
       "dtype: float64"
      ]
     },
     "execution_count": 45,
     "metadata": {},
     "output_type": "execute_result"
    }
   ],
   "source": [
    "x_inter.head(20)"
   ]
  },
  {
   "cell_type": "markdown",
   "metadata": {},
   "source": [
    "### 보간(Interpolation) 이후 채워진 값에 대한 시각화"
   ]
  },
  {
   "cell_type": "code",
   "execution_count": 46,
   "metadata": {},
   "outputs": [
    {
     "data": {
      "image/png": "[encoded data removed]",
      "text/plain": [
       "<Figure size 432x288 with 1 Axes>"
      ]
     },
     "metadata": {},
     "output_type": "display_data"
    }
   ],
   "source": [
    "plt.plot(x_inter, stats.norm.pdf(x_inter, mu, sigma))\n",
    "plt.show()"
   ]
  }
 ],
 "metadata": {
  "kernelspec": {
   "display_name": "Environment (conda_tensorflow_p36)",
   "language": "python",
   "name": "conda_tensorflow_p36"
  },
  "language_info": {
   "codemirror_mode": {
    "name": "ipython",
    "version": 3
   },
   "file_extension": ".py",
   "mimetype": "text/x-python",
   "name": "python",
   "nbconvert_exporter": "python",
   "pygments_lexer": "ipython3",
   "version": "3.6.5"
  }
 },
 "nbformat": 4,
 "nbformat_minor": 2
}
