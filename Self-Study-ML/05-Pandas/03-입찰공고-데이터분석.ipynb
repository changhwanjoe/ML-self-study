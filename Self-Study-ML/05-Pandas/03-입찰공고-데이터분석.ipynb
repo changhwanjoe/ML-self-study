{
 "cells": [
  {
   "cell_type": "markdown",
   "metadata": {},
   "source": [
    "# 성공적인 입찰을 위한 데이터 분석 (토건, 토목, 시공 편)"
   ]
  },
  {
   "cell_type": "markdown",
   "metadata": {},
   "source": [
    "### 주요 용어 정리\n",
    "\n",
    "- **기초금액**: 공사 입찰을 위한 기준 금액 (부가가치세가 합산된 금액)\n",
    "- **예가**: 기초금액±3% 으로 형성되며, 이 안에 들어오는 금액으로 입찰 해야함.(결국, 예가에 근접한 가격을 입찰해야함)\n",
    "- **예정가격**: 예가(%)를 기초금액에 곱한 가격\n",
    "- **사정율**: **예정가격**을 기준으로 예정가격을 예측하는 비율. (1등 선정된 업체의 예가)\n",
    "\n",
    "그 외 다소 생소한 용어들이 존재하나, 분석에 있어 주요한 용어만 설명합니다."
   ]
  },
  {
   "cell_type": "markdown",
   "metadata": {},
   "source": [
    "## 입찰 선정 방식\n",
    "\n",
    "**예가에 가장 근접**한 기업이 입찰 받음. 단, 예가보다는 **높은 금액**을 입찰해야 합니다.\n",
    "\n",
    "**예시**\n",
    "\n",
    "기초금액: 1억원\n",
    "\n",
    "*입찰급액*\n",
    "- A기업: 9900만원\n",
    "- B기업: 1억 1000만원\n",
    "- C기업: 1억 2000만원\n",
    "\n",
    "*사정율*\n",
    "- A기업: 99.0%, (1억원 대비 99.0% 이므로)\n",
    "- B기업: 101.0%, (1억원 대비 101.0% 이므로)\n",
    "- C기업: 102.0%, (1억원 대비 102.0% 이므로)\n",
    "\n",
    "\n",
    "시나리오 1) 예가: 1억 1500만원\n",
    "\n",
    "* C기업 입찰. B기업이 예가에는 더 근접한 금액을 제시했지만, 예가보다 낮으므로, C기업이 입찰 받습니다.\n"
   ]
  },
  {
   "cell_type": "markdown",
   "metadata": {},
   "source": [
    "## 데이터 분석 방식"
   ]
  },
  {
   "cell_type": "markdown",
   "metadata": {},
   "source": [
    "1. [나라장터](http://www.g2b.go.kr/index.jsp)에서 필요한 데이터 크롤링\n",
    "2. `pandas`, `numpy`, `matplotlib`등을 활용하여 분석 및 시각화 진행\n",
    "3. `sklearn`, `xgboost`, `lgbm`을 활용하여 데이터 예측 수행"
   ]
  },
  {
   "cell_type": "code",
   "execution_count": 1,
   "metadata": {},
   "outputs": [],
   "source": [
    "import pandas as pd\n",
    "import numpy as np\n",
    "import matplotlib.pyplot as plt\n",
    "import seaborn as sns\n",
    "import warnings\n",
    "import matplotlib as mpl\n",
    "\n",
    "# 유니코드 깨짐현상 해결\n",
    "mpl.rcParams['axes.unicode_minus'] = False\n",
    "\n",
    "# 나눔고딕 폰트 적용\n",
    "plt.rcParams[\"font.family\"] = 'NanumGothic'\n",
    "\n",
    "# 경고 무시\n",
    "warnings.filterwarnings('ignore')\n",
    "%matplotlib inline"
   ]
  },
  {
   "cell_type": "markdown",
   "metadata": {},
   "source": [
    "## 데이터 로드"
   ]
  },
  {
   "cell_type": "code",
   "execution_count": 2,
   "metadata": {},
   "outputs": [],
   "source": [
    "train =  pd.read_csv('data/train.csv')"
   ]
  },
  {
   "cell_type": "markdown",
   "metadata": {},
   "source": [
    "## 컬럼 출력"
   ]
  },
  {
   "cell_type": "code",
   "execution_count": 3,
   "metadata": {},
   "outputs": [
    {
     "data": {
      "text/plain": [
       "Index(['번호', '공고업종', '지역', '공고번호', '발주기관', '입찰일시', '기초금액', '추정가격', '낙찰하한율',\n",
       "       '예정가격', '예가', '낙찰하한가', '투찰', '업체명', '대표자', '투찰금액', '투찰율', '기초대비',\n",
       "       '업체별사정율', 'num_1_num', 'num_1_money', 'num_1_per', 'num_2_num',\n",
       "       'num_2_money', 'num_2_per', 'num_3_num', 'num_3_money', 'num_3_per',\n",
       "       'num_4_num', 'num_4_money', 'num_4_per', 'num_5_num', 'num_5_money',\n",
       "       'num_5_per', 'num_6_num', 'num_6_money', 'num_6_per', 'num_7_num',\n",
       "       'num_7_money', 'num_7_per', 'num_8_num', 'num_8_money', 'num_8_per',\n",
       "       'num_9_num', 'num_9_money', 'num_9_per', 'num_10_num', 'num_10_money',\n",
       "       'num_10_per', 'num_11_num', 'num_11_money', 'num_11_per', 'num_12_num',\n",
       "       'num_12_money', 'num_12_per', 'num_13_num', 'num_13_money',\n",
       "       'num_13_per', 'num_14_num', 'num_14_money', 'num_14_per', 'num_15_num',\n",
       "       'num_15_money', 'num_15_per', 'total', 'Unnamed: 65', 'Unnamed: 66'],\n",
       "      dtype='object')"
      ]
     },
     "execution_count": 3,
     "metadata": {},
     "output_type": "execute_result"
    }
   ],
   "source": [
    "train.columns"
   ]
  },
  {
   "cell_type": "markdown",
   "metadata": {},
   "source": [
    "## 1. 예가"
   ]
  },
  {
   "cell_type": "code",
   "execution_count": 4,
   "metadata": {},
   "outputs": [
    {
     "data": {
      "text/plain": [
       "0    99.4075 % (-0.5924 % )\n",
       "1    99.2730 % (-0.7269 % )\n",
       "2    99.1207 % (-0.8792 % )\n",
       "3    99.8778 % (-0.1221 % )\n",
       "4    99.6818 % (-0.3181 % )\n",
       "Name: 예가, dtype: object"
      ]
     },
     "execution_count": 4,
     "metadata": {},
     "output_type": "execute_result"
    }
   ],
   "source": [
    "train['예가'].head()"
   ]
  },
  {
   "cell_type": "markdown",
   "metadata": {},
   "source": [
    "### **예가**에 대한 전처리 작업 수행. 필요한 숫자 소수점 4째자리 까지 추출"
   ]
  },
  {
   "cell_type": "code",
   "execution_count": 5,
   "metadata": {},
   "outputs": [],
   "source": [
    "train['예가'] = train['예가'].str.extract(r'(\\d+[.]\\d+)')"
   ]
  },
  {
   "cell_type": "markdown",
   "metadata": {},
   "source": [
    "### **예가**를 object -> float로 변환"
   ]
  },
  {
   "cell_type": "code",
   "execution_count": 6,
   "metadata": {},
   "outputs": [],
   "source": [
    "# float로 변경\n",
    "train['예가'] = train['예가'].astype('float32')"
   ]
  },
  {
   "cell_type": "markdown",
   "metadata": {},
   "source": [
    "### **예가**는 97 ~ 103의 범위를 가져야 함.\n",
    "\n",
    "이에 어긋나는 데이터는 `drop`"
   ]
  },
  {
   "cell_type": "code",
   "execution_count": 7,
   "metadata": {},
   "outputs": [
    {
     "data": {
      "text/plain": [
       "7377      0.000000\n",
       "8646      0.000000\n",
       "9522      0.000000\n",
       "10945    90.908997\n",
       "15187    59.200001\n",
       "15268     0.000000\n",
       "16133     0.000000\n",
       "16382     0.000000\n",
       "16543     0.000000\n",
       "17183     0.000000\n",
       "25247    96.362503\n",
       "29316     0.000000\n",
       "Name: 예가, dtype: float32"
      ]
     },
     "execution_count": 7,
     "metadata": {},
     "output_type": "execute_result"
    }
   ],
   "source": [
    "train.loc[(train['예가'] < 97) | (train['예가'] > 103), '예가']"
   ]
  },
  {
   "cell_type": "code",
   "execution_count": 8,
   "metadata": {},
   "outputs": [],
   "source": [
    "drop_idx = train.loc[(train['예가'] < 97) | (train['예가'] > 103), '예가'].index"
   ]
  },
  {
   "cell_type": "code",
   "execution_count": 9,
   "metadata": {},
   "outputs": [],
   "source": [
    "train = train.drop(drop_idx)"
   ]
  },
  {
   "cell_type": "markdown",
   "metadata": {},
   "source": [
    "### **예가**가 NaN인 값을 확인하고 `drop`"
   ]
  },
  {
   "cell_type": "code",
   "execution_count": 10,
   "metadata": {},
   "outputs": [
    {
     "data": {
      "text/html": [
       "<div>\n",
       "<style scoped>\n",
       "    .dataframe tbody tr th:only-of-type {\n",
       "        vertical-align: middle;\n",
       "    }\n",
       "\n",
       "    .dataframe tbody tr th {\n",
       "        vertical-align: top;\n",
       "    }\n",
       "\n",
       "    .dataframe thead th {\n",
       "        text-align: right;\n",
       "    }\n",
       "</style>\n",
       "<table border=\"1\" class=\"dataframe\">\n",
       "  <thead>\n",
       "    <tr style=\"text-align: right;\">\n",
       "      <th></th>\n",
       "      <th>번호</th>\n",
       "      <th>공고업종</th>\n",
       "      <th>지역</th>\n",
       "      <th>공고번호</th>\n",
       "      <th>발주기관</th>\n",
       "      <th>입찰일시</th>\n",
       "      <th>기초금액</th>\n",
       "      <th>추정가격</th>\n",
       "      <th>낙찰하한율</th>\n",
       "      <th>예정가격</th>\n",
       "      <th>...</th>\n",
       "      <th>num_13_per</th>\n",
       "      <th>num_14_num</th>\n",
       "      <th>num_14_money</th>\n",
       "      <th>num_14_per</th>\n",
       "      <th>num_15_num</th>\n",
       "      <th>num_15_money</th>\n",
       "      <th>num_15_per</th>\n",
       "      <th>total</th>\n",
       "      <th>Unnamed: 65</th>\n",
       "      <th>Unnamed: 66</th>\n",
       "    </tr>\n",
       "  </thead>\n",
       "  <tbody>\n",
       "    <tr>\n",
       "      <th>31788</th>\n",
       "      <td>NaN</td>\n",
       "      <td>NaN</td>\n",
       "      <td>NaN</td>\n",
       "      <td>NaN</td>\n",
       "      <td>NaN</td>\n",
       "      <td>NaN</td>\n",
       "      <td>NaN</td>\n",
       "      <td>NaN</td>\n",
       "      <td>NaN</td>\n",
       "      <td>NaN</td>\n",
       "      <td>...</td>\n",
       "      <td>99.890635</td>\n",
       "      <td>7214</td>\n",
       "      <td>NaN</td>\n",
       "      <td>99.905027</td>\n",
       "      <td>7188</td>\n",
       "      <td>NaN</td>\n",
       "      <td>99.899742</td>\n",
       "      <td>NaN</td>\n",
       "      <td>NaN</td>\n",
       "      <td>99.891641</td>\n",
       "    </tr>\n",
       "  </tbody>\n",
       "</table>\n",
       "<p>1 rows × 67 columns</p>\n",
       "</div>"
      ],
      "text/plain": [
       "       번호 공고업종   지역 공고번호 발주기관 입찰일시 기초금액 추정가격 낙찰하한율 예정가격  ...  num_13_per  \\\n",
       "31788 NaN  NaN  NaN  NaN  NaN  NaN  NaN  NaN   NaN  NaN  ...   99.890635   \n",
       "\n",
       "      num_14_num num_14_money num_14_per num_15_num num_15_money  num_15_per  \\\n",
       "31788       7214          NaN  99.905027       7188          NaN   99.899742   \n",
       "\n",
       "       total Unnamed: 65  Unnamed: 66  \n",
       "31788    NaN         NaN    99.891641  \n",
       "\n",
       "[1 rows x 67 columns]"
      ]
     },
     "execution_count": 10,
     "metadata": {},
     "output_type": "execute_result"
    }
   ],
   "source": [
    "train.loc[train['예가'].isnull()]"
   ]
  },
  {
   "cell_type": "code",
   "execution_count": 11,
   "metadata": {},
   "outputs": [],
   "source": [
    "drop_idx = train.loc[train['예가'].isnull()].index"
   ]
  },
  {
   "cell_type": "code",
   "execution_count": 12,
   "metadata": {},
   "outputs": [],
   "source": [
    "train = train.drop(drop_idx)"
   ]
  },
  {
   "cell_type": "markdown",
   "metadata": {},
   "source": [
    "### **예가**에 대한 데이터 분포 확인"
   ]
  },
  {
   "cell_type": "code",
   "execution_count": 13,
   "metadata": {},
   "outputs": [
    {
     "data": {
      "text/plain": [
       "<matplotlib.axes._subplots.AxesSubplot at 0x7f5f01cfc3c8>"
      ]
     },
     "execution_count": 13,
     "metadata": {},
     "output_type": "execute_result"
    },
    {
     "data": {
      "image/png": "[encoded data removed]",
      "text/plain": [
       "<Figure size 432x288 with 1 Axes>"
      ]
     },
     "metadata": {},
     "output_type": "display_data"
    }
   ],
   "source": [
    "sns.distplot(train['예가'])"
   ]
  },
  {
   "cell_type": "code",
   "execution_count": 14,
   "metadata": {},
   "outputs": [
    {
     "data": {
      "text/plain": [
       "count    31776.000000\n",
       "mean        99.905418\n",
       "std          0.732136\n",
       "min         97.069199\n",
       "25%         99.406502\n",
       "50%         99.912399\n",
       "75%        100.410723\n",
       "max        102.201698\n",
       "Name: 예가, dtype: float64"
      ]
     },
     "execution_count": 14,
     "metadata": {},
     "output_type": "execute_result"
    }
   ],
   "source": [
    "train['예가'].describe()"
   ]
  },
  {
   "cell_type": "markdown",
   "metadata": {},
   "source": [
    "## 2. 가격"
   ]
  },
  {
   "cell_type": "code",
   "execution_count": 15,
   "metadata": {},
   "outputs": [
    {
     "data": {
      "text/html": [
       "<div>\n",
       "<style scoped>\n",
       "    .dataframe tbody tr th:only-of-type {\n",
       "        vertical-align: middle;\n",
       "    }\n",
       "\n",
       "    .dataframe tbody tr th {\n",
       "        vertical-align: top;\n",
       "    }\n",
       "\n",
       "    .dataframe thead th {\n",
       "        text-align: right;\n",
       "    }\n",
       "</style>\n",
       "<table border=\"1\" class=\"dataframe\">\n",
       "  <thead>\n",
       "    <tr style=\"text-align: right;\">\n",
       "      <th></th>\n",
       "      <th>기초금액</th>\n",
       "      <th>추정가격</th>\n",
       "      <th>예정가격</th>\n",
       "      <th>투찰금액</th>\n",
       "    </tr>\n",
       "  </thead>\n",
       "  <tbody>\n",
       "    <tr>\n",
       "      <th>0</th>\n",
       "      <td>166,200,000 원</td>\n",
       "      <td>151,090,909 원</td>\n",
       "      <td>165,215,275 원</td>\n",
       "      <td>145,039,600</td>\n",
       "    </tr>\n",
       "    <tr>\n",
       "      <th>1</th>\n",
       "      <td>49,000,000 원</td>\n",
       "      <td>44,545,455 원</td>\n",
       "      <td>48,643,800 원</td>\n",
       "      <td>42,786,020</td>\n",
       "    </tr>\n",
       "    <tr>\n",
       "      <th>2</th>\n",
       "      <td>35,000,000 원</td>\n",
       "      <td>31,818,182 원</td>\n",
       "      <td>34,692,275 원</td>\n",
       "      <td>30,530,000</td>\n",
       "    </tr>\n",
       "    <tr>\n",
       "      <th>3</th>\n",
       "      <td>27,000,000 원</td>\n",
       "      <td>24,545,455 원</td>\n",
       "      <td>26,967,025 원</td>\n",
       "      <td>23,688,450</td>\n",
       "    </tr>\n",
       "    <tr>\n",
       "      <th>4</th>\n",
       "      <td>64,460,000 원</td>\n",
       "      <td>58,600,000 원</td>\n",
       "      <td>64,254,925 원</td>\n",
       "      <td>56,382,000</td>\n",
       "    </tr>\n",
       "  </tbody>\n",
       "</table>\n",
       "</div>"
      ],
      "text/plain": [
       "            기초금액           추정가격           예정가격         투찰금액\n",
       "0  166,200,000 원  151,090,909 원  165,215,275 원  145,039,600\n",
       "1   49,000,000 원   44,545,455 원   48,643,800 원   42,786,020\n",
       "2   35,000,000 원   31,818,182 원   34,692,275 원   30,530,000\n",
       "3   27,000,000 원   24,545,455 원   26,967,025 원   23,688,450\n",
       "4   64,460,000 원   58,600,000 원   64,254,925 원   56,382,000"
      ]
     },
     "execution_count": 15,
     "metadata": {},
     "output_type": "execute_result"
    }
   ],
   "source": [
    "train.filter(regex='금액|가격').head()"
   ]
  },
  {
   "cell_type": "markdown",
   "metadata": {},
   "source": [
    "가격에 대한 **원** 단위를 제거 및 **,**를 제거합니다."
   ]
  },
  {
   "cell_type": "code",
   "execution_count": 16,
   "metadata": {},
   "outputs": [
    {
     "data": {
      "text/plain": [
       "Index(['기초금액', '추정가격', '예정가격', '투찰금액'], dtype='object')"
      ]
     },
     "execution_count": 16,
     "metadata": {},
     "output_type": "execute_result"
    }
   ],
   "source": [
    "price_cols = train.filter(regex='금액|가격').columns\n",
    "price_cols"
   ]
  },
  {
   "cell_type": "code",
   "execution_count": 17,
   "metadata": {},
   "outputs": [
    {
     "data": {
      "text/html": [
       "<div>\n",
       "<style scoped>\n",
       "    .dataframe tbody tr th:only-of-type {\n",
       "        vertical-align: middle;\n",
       "    }\n",
       "\n",
       "    .dataframe tbody tr th {\n",
       "        vertical-align: top;\n",
       "    }\n",
       "\n",
       "    .dataframe thead th {\n",
       "        text-align: right;\n",
       "    }\n",
       "</style>\n",
       "<table border=\"1\" class=\"dataframe\">\n",
       "  <thead>\n",
       "    <tr style=\"text-align: right;\">\n",
       "      <th></th>\n",
       "      <th>기초금액</th>\n",
       "      <th>추정가격</th>\n",
       "      <th>예정가격</th>\n",
       "      <th>투찰금액</th>\n",
       "    </tr>\n",
       "  </thead>\n",
       "  <tbody>\n",
       "    <tr>\n",
       "      <th>0</th>\n",
       "      <td>166,200,000 원</td>\n",
       "      <td>151,090,909 원</td>\n",
       "      <td>165,215,275 원</td>\n",
       "      <td>145,039,600</td>\n",
       "    </tr>\n",
       "    <tr>\n",
       "      <th>1</th>\n",
       "      <td>49,000,000 원</td>\n",
       "      <td>44,545,455 원</td>\n",
       "      <td>48,643,800 원</td>\n",
       "      <td>42,786,020</td>\n",
       "    </tr>\n",
       "    <tr>\n",
       "      <th>2</th>\n",
       "      <td>35,000,000 원</td>\n",
       "      <td>31,818,182 원</td>\n",
       "      <td>34,692,275 원</td>\n",
       "      <td>30,530,000</td>\n",
       "    </tr>\n",
       "    <tr>\n",
       "      <th>3</th>\n",
       "      <td>27,000,000 원</td>\n",
       "      <td>24,545,455 원</td>\n",
       "      <td>26,967,025 원</td>\n",
       "      <td>23,688,450</td>\n",
       "    </tr>\n",
       "    <tr>\n",
       "      <th>4</th>\n",
       "      <td>64,460,000 원</td>\n",
       "      <td>58,600,000 원</td>\n",
       "      <td>64,254,925 원</td>\n",
       "      <td>56,382,000</td>\n",
       "    </tr>\n",
       "  </tbody>\n",
       "</table>\n",
       "</div>"
      ],
      "text/plain": [
       "            기초금액           추정가격           예정가격         투찰금액\n",
       "0  166,200,000 원  151,090,909 원  165,215,275 원  145,039,600\n",
       "1   49,000,000 원   44,545,455 원   48,643,800 원   42,786,020\n",
       "2   35,000,000 원   31,818,182 원   34,692,275 원   30,530,000\n",
       "3   27,000,000 원   24,545,455 원   26,967,025 원   23,688,450\n",
       "4   64,460,000 원   58,600,000 원   64,254,925 원   56,382,000"
      ]
     },
     "execution_count": 17,
     "metadata": {},
     "output_type": "execute_result"
    }
   ],
   "source": [
    "train[price_cols].head()"
   ]
  },
  {
   "cell_type": "markdown",
   "metadata": {},
   "source": [
    "### ,를 제거합니다."
   ]
  },
  {
   "cell_type": "code",
   "execution_count": 18,
   "metadata": {},
   "outputs": [],
   "source": [
    "for col in price_cols:\n",
    "    train[col] = train[col].str.replace(',', '')\n",
    "    train[col] = train[col].str.replace('원', '')"
   ]
  },
  {
   "cell_type": "code",
   "execution_count": 19,
   "metadata": {},
   "outputs": [
    {
     "data": {
      "text/html": [
       "<div>\n",
       "<style scoped>\n",
       "    .dataframe tbody tr th:only-of-type {\n",
       "        vertical-align: middle;\n",
       "    }\n",
       "\n",
       "    .dataframe tbody tr th {\n",
       "        vertical-align: top;\n",
       "    }\n",
       "\n",
       "    .dataframe thead th {\n",
       "        text-align: right;\n",
       "    }\n",
       "</style>\n",
       "<table border=\"1\" class=\"dataframe\">\n",
       "  <thead>\n",
       "    <tr style=\"text-align: right;\">\n",
       "      <th></th>\n",
       "      <th>기초금액</th>\n",
       "      <th>추정가격</th>\n",
       "      <th>예정가격</th>\n",
       "      <th>투찰금액</th>\n",
       "    </tr>\n",
       "  </thead>\n",
       "  <tbody>\n",
       "    <tr>\n",
       "      <th>0</th>\n",
       "      <td>166200000</td>\n",
       "      <td>151090909</td>\n",
       "      <td>165215275</td>\n",
       "      <td>145039600</td>\n",
       "    </tr>\n",
       "    <tr>\n",
       "      <th>1</th>\n",
       "      <td>49000000</td>\n",
       "      <td>44545455</td>\n",
       "      <td>48643800</td>\n",
       "      <td>42786020</td>\n",
       "    </tr>\n",
       "    <tr>\n",
       "      <th>2</th>\n",
       "      <td>35000000</td>\n",
       "      <td>31818182</td>\n",
       "      <td>34692275</td>\n",
       "      <td>30530000</td>\n",
       "    </tr>\n",
       "    <tr>\n",
       "      <th>3</th>\n",
       "      <td>27000000</td>\n",
       "      <td>24545455</td>\n",
       "      <td>26967025</td>\n",
       "      <td>23688450</td>\n",
       "    </tr>\n",
       "    <tr>\n",
       "      <th>4</th>\n",
       "      <td>64460000</td>\n",
       "      <td>58600000</td>\n",
       "      <td>64254925</td>\n",
       "      <td>56382000</td>\n",
       "    </tr>\n",
       "  </tbody>\n",
       "</table>\n",
       "</div>"
      ],
      "text/plain": [
       "         기초금액        추정가격        예정가격       투찰금액\n",
       "0  166200000   151090909   165215275   145039600\n",
       "1   49000000    44545455    48643800    42786020\n",
       "2   35000000    31818182    34692275    30530000\n",
       "3   27000000    24545455    26967025    23688450\n",
       "4   64460000    58600000    64254925    56382000"
      ]
     },
     "execution_count": 19,
     "metadata": {},
     "output_type": "execute_result"
    }
   ],
   "source": [
    "train[price_cols].head()"
   ]
  },
  {
   "cell_type": "markdown",
   "metadata": {},
   "source": [
    "### NaN값을 채워줍니다."
   ]
  },
  {
   "cell_type": "markdown",
   "metadata": {},
   "source": [
    "type을 int로 변경하기 전 NaN 값을 채워줍니다."
   ]
  },
  {
   "cell_type": "code",
   "execution_count": 20,
   "metadata": {},
   "outputs": [
    {
     "data": {
      "text/plain": [
       "기초금액     0\n",
       "추정가격    66\n",
       "예정가격     0\n",
       "투찰금액     0\n",
       "dtype: int64"
      ]
     },
     "execution_count": 20,
     "metadata": {},
     "output_type": "execute_result"
    }
   ],
   "source": [
    "train[price_cols].isnull().sum()"
   ]
  },
  {
   "cell_type": "code",
   "execution_count": 21,
   "metadata": {},
   "outputs": [],
   "source": [
    "train[price_cols] = train[price_cols].fillna(0)"
   ]
  },
  {
   "cell_type": "code",
   "execution_count": 22,
   "metadata": {},
   "outputs": [
    {
     "data": {
      "text/plain": [
       "기초금액    0\n",
       "추정가격    0\n",
       "예정가격    0\n",
       "투찰금액    0\n",
       "dtype: int64"
      ]
     },
     "execution_count": 22,
     "metadata": {},
     "output_type": "execute_result"
    }
   ],
   "source": [
    "train[price_cols].isnull().sum()"
   ]
  },
  {
   "cell_type": "code",
   "execution_count": 23,
   "metadata": {},
   "outputs": [
    {
     "data": {
      "text/html": [
       "<div>\n",
       "<style scoped>\n",
       "    .dataframe tbody tr th:only-of-type {\n",
       "        vertical-align: middle;\n",
       "    }\n",
       "\n",
       "    .dataframe tbody tr th {\n",
       "        vertical-align: top;\n",
       "    }\n",
       "\n",
       "    .dataframe thead th {\n",
       "        text-align: right;\n",
       "    }\n",
       "</style>\n",
       "<table border=\"1\" class=\"dataframe\">\n",
       "  <thead>\n",
       "    <tr style=\"text-align: right;\">\n",
       "      <th></th>\n",
       "      <th>기초금액</th>\n",
       "      <th>추정가격</th>\n",
       "      <th>예정가격</th>\n",
       "      <th>투찰금액</th>\n",
       "    </tr>\n",
       "  </thead>\n",
       "  <tbody>\n",
       "    <tr>\n",
       "      <th>0</th>\n",
       "      <td>166200000</td>\n",
       "      <td>151090909</td>\n",
       "      <td>165215275</td>\n",
       "      <td>145039600</td>\n",
       "    </tr>\n",
       "    <tr>\n",
       "      <th>1</th>\n",
       "      <td>49000000</td>\n",
       "      <td>44545455</td>\n",
       "      <td>48643800</td>\n",
       "      <td>42786020</td>\n",
       "    </tr>\n",
       "    <tr>\n",
       "      <th>2</th>\n",
       "      <td>35000000</td>\n",
       "      <td>31818182</td>\n",
       "      <td>34692275</td>\n",
       "      <td>30530000</td>\n",
       "    </tr>\n",
       "    <tr>\n",
       "      <th>3</th>\n",
       "      <td>27000000</td>\n",
       "      <td>24545455</td>\n",
       "      <td>26967025</td>\n",
       "      <td>23688450</td>\n",
       "    </tr>\n",
       "    <tr>\n",
       "      <th>4</th>\n",
       "      <td>64460000</td>\n",
       "      <td>58600000</td>\n",
       "      <td>64254925</td>\n",
       "      <td>56382000</td>\n",
       "    </tr>\n",
       "  </tbody>\n",
       "</table>\n",
       "</div>"
      ],
      "text/plain": [
       "         기초금액        추정가격        예정가격       투찰금액\n",
       "0  166200000   151090909   165215275   145039600\n",
       "1   49000000    44545455    48643800    42786020\n",
       "2   35000000    31818182    34692275    30530000\n",
       "3   27000000    24545455    26967025    23688450\n",
       "4   64460000    58600000    64254925    56382000"
      ]
     },
     "execution_count": 23,
     "metadata": {},
     "output_type": "execute_result"
    }
   ],
   "source": [
    "train[price_cols].head()"
   ]
  },
  {
   "cell_type": "code",
   "execution_count": 24,
   "metadata": {},
   "outputs": [
    {
     "name": "stdout",
     "output_type": "stream",
     "text": [
      "<class 'pandas.core.frame.DataFrame'>\n",
      "Int64Index: 31776 entries, 0 to 31787\n",
      "Data columns (total 4 columns):\n",
      "기초금액    31776 non-null object\n",
      "추정가격    31776 non-null object\n",
      "예정가격    31776 non-null object\n",
      "투찰금액    31776 non-null object\n",
      "dtypes: object(4)\n",
      "memory usage: 1.2+ MB\n"
     ]
    }
   ],
   "source": [
    "train[price_cols].info()"
   ]
  },
  {
   "cell_type": "markdown",
   "metadata": {},
   "source": [
    "### float 타입으로 가격 컬럼을 변환"
   ]
  },
  {
   "cell_type": "code",
   "execution_count": 25,
   "metadata": {},
   "outputs": [],
   "source": [
    "train[price_cols] = train[price_cols].astype('float32')"
   ]
  },
  {
   "cell_type": "code",
   "execution_count": 26,
   "metadata": {},
   "outputs": [
    {
     "data": {
      "text/html": [
       "<div>\n",
       "<style scoped>\n",
       "    .dataframe tbody tr th:only-of-type {\n",
       "        vertical-align: middle;\n",
       "    }\n",
       "\n",
       "    .dataframe tbody tr th {\n",
       "        vertical-align: top;\n",
       "    }\n",
       "\n",
       "    .dataframe thead th {\n",
       "        text-align: right;\n",
       "    }\n",
       "</style>\n",
       "<table border=\"1\" class=\"dataframe\">\n",
       "  <thead>\n",
       "    <tr style=\"text-align: right;\">\n",
       "      <th></th>\n",
       "      <th>기초금액</th>\n",
       "      <th>추정가격</th>\n",
       "      <th>예정가격</th>\n",
       "      <th>투찰금액</th>\n",
       "    </tr>\n",
       "  </thead>\n",
       "  <tbody>\n",
       "    <tr>\n",
       "      <th>0</th>\n",
       "      <td>166200000.0</td>\n",
       "      <td>151090912.0</td>\n",
       "      <td>165215280.0</td>\n",
       "      <td>145039600.0</td>\n",
       "    </tr>\n",
       "    <tr>\n",
       "      <th>1</th>\n",
       "      <td>49000000.0</td>\n",
       "      <td>44545456.0</td>\n",
       "      <td>48643800.0</td>\n",
       "      <td>42786020.0</td>\n",
       "    </tr>\n",
       "    <tr>\n",
       "      <th>2</th>\n",
       "      <td>35000000.0</td>\n",
       "      <td>31818182.0</td>\n",
       "      <td>34692276.0</td>\n",
       "      <td>30530000.0</td>\n",
       "    </tr>\n",
       "    <tr>\n",
       "      <th>3</th>\n",
       "      <td>27000000.0</td>\n",
       "      <td>24545456.0</td>\n",
       "      <td>26967024.0</td>\n",
       "      <td>23688450.0</td>\n",
       "    </tr>\n",
       "    <tr>\n",
       "      <th>4</th>\n",
       "      <td>64460000.0</td>\n",
       "      <td>58600000.0</td>\n",
       "      <td>64254924.0</td>\n",
       "      <td>56382000.0</td>\n",
       "    </tr>\n",
       "  </tbody>\n",
       "</table>\n",
       "</div>"
      ],
      "text/plain": [
       "          기초금액         추정가격         예정가격         투찰금액\n",
       "0  166200000.0  151090912.0  165215280.0  145039600.0\n",
       "1   49000000.0   44545456.0   48643800.0   42786020.0\n",
       "2   35000000.0   31818182.0   34692276.0   30530000.0\n",
       "3   27000000.0   24545456.0   26967024.0   23688450.0\n",
       "4   64460000.0   58600000.0   64254924.0   56382000.0"
      ]
     },
     "execution_count": 26,
     "metadata": {},
     "output_type": "execute_result"
    }
   ],
   "source": [
    "train[price_cols].head()"
   ]
  },
  {
   "cell_type": "code",
   "execution_count": 27,
   "metadata": {},
   "outputs": [
    {
     "name": "stdout",
     "output_type": "stream",
     "text": [
      "<class 'pandas.core.frame.DataFrame'>\n",
      "Int64Index: 31776 entries, 0 to 31787\n",
      "Data columns (total 4 columns):\n",
      "기초금액    31776 non-null float32\n",
      "추정가격    31776 non-null float32\n",
      "예정가격    31776 non-null float32\n",
      "투찰금액    31776 non-null float32\n",
      "dtypes: float32(4)\n",
      "memory usage: 744.8 KB\n"
     ]
    }
   ],
   "source": [
    "train[price_cols].info()"
   ]
  },
  {
   "cell_type": "markdown",
   "metadata": {},
   "source": [
    "### NaN 값을 drop 하였으므로, index 를 초기화한다"
   ]
  },
  {
   "cell_type": "code",
   "execution_count": 28,
   "metadata": {},
   "outputs": [],
   "source": [
    "train = train.reset_index(drop=True)"
   ]
  },
  {
   "cell_type": "markdown",
   "metadata": {},
   "source": [
    "### 명시된 예정 가격과 예가 비율 * 기초금액과 가격이 과연 같을까?"
   ]
  },
  {
   "cell_type": "code",
   "execution_count": 29,
   "metadata": {},
   "outputs": [
    {
     "data": {
      "text/plain": [
       "0    166200000.0\n",
       "1     49000000.0\n",
       "2     35000000.0\n",
       "3     27000000.0\n",
       "4     64460000.0\n",
       "Name: 기초금액, dtype: float32"
      ]
     },
     "execution_count": 29,
     "metadata": {},
     "output_type": "execute_result"
    }
   ],
   "source": [
    "train['기초금액'][:5]"
   ]
  },
  {
   "cell_type": "code",
   "execution_count": 30,
   "metadata": {},
   "outputs": [
    {
     "data": {
      "text/plain": [
       "0    165215280.0\n",
       "1     48643800.0\n",
       "2     34692276.0\n",
       "3     26967024.0\n",
       "4     64254924.0\n",
       "Name: 예정가격, dtype: float32"
      ]
     },
     "execution_count": 30,
     "metadata": {},
     "output_type": "execute_result"
    }
   ],
   "source": [
    "train['예정가격'][:5]"
   ]
  },
  {
   "cell_type": "code",
   "execution_count": 31,
   "metadata": {},
   "outputs": [
    {
     "data": {
      "text/plain": [
       "0    99.407501\n",
       "1    99.273003\n",
       "2    99.120697\n",
       "3    99.877800\n",
       "4    99.681801\n",
       "Name: 예가, dtype: float32"
      ]
     },
     "execution_count": 31,
     "metadata": {},
     "output_type": "execute_result"
    }
   ],
   "source": [
    "train['예가'][:5]"
   ]
  },
  {
   "cell_type": "markdown",
   "metadata": {},
   "source": [
    "**기초금액** x **예가** = **예정가격** 정말 일치할까? (왜냐하면, 소수 4째짜리까지만 반영되기 때문에 다를 수 있다)\n",
    "\n",
    "10개만 테스트해 보겠다."
   ]
  },
  {
   "cell_type": "code",
   "execution_count": 32,
   "metadata": {},
   "outputs": [
    {
     "name": "stdout",
     "output_type": "stream",
     "text": [
      "명시된 가격과 계산된 금액의 차이: 17.28 원\n",
      "명시된 가격과 계산된 금액의 차이: 26.56 원\n",
      "명시된 가격과 계산된 금액의 차이: 31.52 원\n",
      "명시된 가격과 계산된 금액의 차이: 17.28 원\n",
      "명시된 가격과 계산된 금액의 차이: 35.04 원\n",
      "명시된 가격과 계산된 금액의 차이: 46.72 원\n",
      "명시된 가격과 계산된 금액의 차이: 157.44 원\n",
      "명시된 가격과 계산된 금액의 차이: 123.52 원\n",
      "명시된 가격과 계산된 금액의 차이: 18.72 원\n",
      "명시된 가격과 계산된 금액의 차이: 143.36 원\n"
     ]
    }
   ],
   "source": [
    "for i in range(10):\n",
    "    calculated_price = train['기초금액'][i] * train['예가'][i] / 100\n",
    "    printed_price = train['예정가격'][i]\n",
    "    diff = abs(calculated_price - printed_price)\n",
    "    print('명시된 가격과 계산된 금액의 차이: {:.2f} 원'.format(diff))"
   ]
  },
  {
   "cell_type": "markdown",
   "metadata": {},
   "source": [
    "### 전체 평균 차이 계산"
   ]
  },
  {
   "cell_type": "code",
   "execution_count": 33,
   "metadata": {},
   "outputs": [
    {
     "name": "stdout",
     "output_type": "stream",
     "text": [
      "평균 오차 가격: 358.07 원\n"
     ]
    }
   ],
   "source": [
    "total_size = len(train)\n",
    "diff = 0\n",
    "for i in range(total_size):\n",
    "    calculated_price = train['기초금액'][i] * train['예가'][i] / 100\n",
    "    printed_price = train['예정가격'][i]\n",
    "    diff += abs(calculated_price - printed_price)\n",
    "diff /= total_size\n",
    "print('평균 오차 가격: {:.2f} 원'.format(diff))"
   ]
  },
  {
   "cell_type": "markdown",
   "metadata": {},
   "source": [
    "### 금액&가격 컬럼간 corr() 확인"
   ]
  },
  {
   "cell_type": "markdown",
   "metadata": {},
   "source": [
    "column들이 매우 높은 상관관계를 가지고 있다. \n",
    "\n",
    "따라서, 이중 **하나의 컬럼만 지정해서 활용**하면 될 것으로 보입니다.\n",
    "\n",
    "가장 base가 되는 **기초금액** 컬럼을 활용하겠습니다."
   ]
  },
  {
   "cell_type": "code",
   "execution_count": 34,
   "metadata": {},
   "outputs": [
    {
     "data": {
      "text/html": [
       "<div>\n",
       "<style scoped>\n",
       "    .dataframe tbody tr th:only-of-type {\n",
       "        vertical-align: middle;\n",
       "    }\n",
       "\n",
       "    .dataframe tbody tr th {\n",
       "        vertical-align: top;\n",
       "    }\n",
       "\n",
       "    .dataframe thead th {\n",
       "        text-align: right;\n",
       "    }\n",
       "</style>\n",
       "<table border=\"1\" class=\"dataframe\">\n",
       "  <thead>\n",
       "    <tr style=\"text-align: right;\">\n",
       "      <th></th>\n",
       "      <th>기초금액</th>\n",
       "      <th>추정가격</th>\n",
       "      <th>예정가격</th>\n",
       "      <th>투찰금액</th>\n",
       "    </tr>\n",
       "  </thead>\n",
       "  <tbody>\n",
       "    <tr>\n",
       "      <th>기초금액</th>\n",
       "      <td>1.000000</td>\n",
       "      <td>0.998769</td>\n",
       "      <td>0.999979</td>\n",
       "      <td>0.998075</td>\n",
       "    </tr>\n",
       "    <tr>\n",
       "      <th>추정가격</th>\n",
       "      <td>0.998769</td>\n",
       "      <td>1.000000</td>\n",
       "      <td>0.998765</td>\n",
       "      <td>0.996852</td>\n",
       "    </tr>\n",
       "    <tr>\n",
       "      <th>예정가격</th>\n",
       "      <td>0.999979</td>\n",
       "      <td>0.998765</td>\n",
       "      <td>1.000000</td>\n",
       "      <td>0.998081</td>\n",
       "    </tr>\n",
       "    <tr>\n",
       "      <th>투찰금액</th>\n",
       "      <td>0.998075</td>\n",
       "      <td>0.996852</td>\n",
       "      <td>0.998081</td>\n",
       "      <td>1.000000</td>\n",
       "    </tr>\n",
       "  </tbody>\n",
       "</table>\n",
       "</div>"
      ],
      "text/plain": [
       "          기초금액      추정가격      예정가격      투찰금액\n",
       "기초금액  1.000000  0.998769  0.999979  0.998075\n",
       "추정가격  0.998769  1.000000  0.998765  0.996852\n",
       "예정가격  0.999979  0.998765  1.000000  0.998081\n",
       "투찰금액  0.998075  0.996852  0.998081  1.000000"
      ]
     },
     "execution_count": 34,
     "metadata": {},
     "output_type": "execute_result"
    }
   ],
   "source": [
    "train[price_cols].corr()"
   ]
  },
  {
   "cell_type": "code",
   "execution_count": 35,
   "metadata": {},
   "outputs": [
    {
     "data": {
      "text/plain": [
       "<matplotlib.axes._subplots.AxesSubplot at 0x7f5f017f0358>"
      ]
     },
     "execution_count": 35,
     "metadata": {},
     "output_type": "execute_result"
    },
    {
     "data": {
      "image/png": "[encoded data removed]",
      "text/plain": [
       "<Figure size 432x288 with 2 Axes>"
      ]
     },
     "metadata": {},
     "output_type": "display_data"
    }
   ],
   "source": [
    "sns.heatmap(train[price_cols].corr(), annot=True)"
   ]
  },
  {
   "cell_type": "markdown",
   "metadata": {},
   "source": [
    "## 3. 날짜"
   ]
  },
  {
   "cell_type": "code",
   "execution_count": 36,
   "metadata": {},
   "outputs": [
    {
     "data": {
      "text/plain": [
       "0    2020-03-13 16:00\n",
       "1    2020-03-13 16:00\n",
       "2    2020-03-13 16:00\n",
       "3    2020-03-13 16:00\n",
       "4    2020-03-13 16:00\n",
       "Name: 입찰일시, dtype: object"
      ]
     },
     "execution_count": 36,
     "metadata": {},
     "output_type": "execute_result"
    }
   ],
   "source": [
    "train['입찰일시'].head()"
   ]
  },
  {
   "cell_type": "markdown",
   "metadata": {},
   "source": [
    "NaN 값 확인"
   ]
  },
  {
   "cell_type": "code",
   "execution_count": 37,
   "metadata": {},
   "outputs": [
    {
     "data": {
      "text/plain": [
       "0"
      ]
     },
     "execution_count": 37,
     "metadata": {},
     "output_type": "execute_result"
    }
   ],
   "source": [
    "train['입찰일시'].isnull().sum()"
   ]
  },
  {
   "cell_type": "markdown",
   "metadata": {},
   "source": [
    "### 날짜를 변환 (datetime)"
   ]
  },
  {
   "cell_type": "code",
   "execution_count": 38,
   "metadata": {},
   "outputs": [],
   "source": [
    "train['입찰일시'] = pd.to_datetime(train['입찰일시'])"
   ]
  },
  {
   "cell_type": "code",
   "execution_count": 39,
   "metadata": {},
   "outputs": [],
   "source": [
    "train['year'] = train['입찰일시'].dt.year\n",
    "train['month'] = train['입찰일시'].dt.month\n",
    "train['day'] = train['입찰일시'].dt.day\n",
    "train['hour'] = train['입찰일시'].dt.hour\n",
    "train['minute'] = train['입찰일시'].dt.minute\n",
    "train['dayofweek'] = train['입찰일시'].dt.dayofweek\n",
    "train['weekofyear'] = train['입찰일시'].dt.weekofyear\n",
    "train['dayofyear'] = train['입찰일시'].dt.dayofyear\n",
    "train['quarter'] = train['입찰일시'].dt.quarter"
   ]
  },
  {
   "cell_type": "markdown",
   "metadata": {},
   "source": [
    "### 연도 확인"
   ]
  },
  {
   "cell_type": "code",
   "execution_count": 106,
   "metadata": {},
   "outputs": [
    {
     "data": {
      "image/png": "[encoded data removed]",
      "text/plain": [
       "<Figure size 720x432 with 1 Axes>"
      ]
     },
     "metadata": {},
     "output_type": "display_data"
    }
   ],
   "source": [
    "plt.figure(figsize=(10, 6))\n",
    "sns.countplot(train['year'])\n",
    "plt.title('연도별 공고 현황', fontsize=18)\n",
    "plt.show()"
   ]
  },
  {
   "cell_type": "markdown",
   "metadata": {},
   "source": [
    "### 분기별 공고 현황"
   ]
  },
  {
   "cell_type": "code",
   "execution_count": 105,
   "metadata": {},
   "outputs": [
    {
     "data": {
      "image/png": "[encoded data removed]",
      "text/plain": [
       "<Figure size 720x432 with 1 Axes>"
      ]
     },
     "metadata": {},
     "output_type": "display_data"
    }
   ],
   "source": [
    "plt.figure(figsize=(10, 6))\n",
    "sns.countplot(train['quarter'])\n",
    "plt.title('분기별 공고 현황', fontsize=18)\n",
    "plt.show()"
   ]
  },
  {
   "cell_type": "markdown",
   "metadata": {},
   "source": [
    "### 월별 공고 현황"
   ]
  },
  {
   "cell_type": "code",
   "execution_count": 104,
   "metadata": {},
   "outputs": [
    {
     "data": {
      "image/png": "[encoded data removed]",
      "text/plain": [
       "<Figure size 720x432 with 1 Axes>"
      ]
     },
     "metadata": {},
     "output_type": "display_data"
    }
   ],
   "source": [
    "plt.figure(figsize=(10, 6))\n",
    "sns.countplot(train['month'])\n",
    "plt.title('월별 공고 현황', fontsize=18)\n",
    "plt.show()"
   ]
  },
  {
   "cell_type": "markdown",
   "metadata": {},
   "source": [
    "### 일별 공고 현황"
   ]
  },
  {
   "cell_type": "code",
   "execution_count": 103,
   "metadata": {},
   "outputs": [
    {
     "data": {
      "image/png": "[encoded data removed]",
      "text/plain": [
       "<Figure size 720x432 with 1 Axes>"
      ]
     },
     "metadata": {},
     "output_type": "display_data"
    }
   ],
   "source": [
    "plt.figure(figsize=(10, 6))\n",
    "sns.countplot(train['day'])\n",
    "plt.title('일자별 공고 현황', fontsize=18)\n",
    "plt.show()"
   ]
  },
  {
   "cell_type": "markdown",
   "metadata": {},
   "source": [
    "### 시간대별 공고 현황"
   ]
  },
  {
   "cell_type": "code",
   "execution_count": 102,
   "metadata": {},
   "outputs": [
    {
     "data": {
      "image/png": "[encoded data removed]",
      "text/plain": [
       "<Figure size 720x432 with 1 Axes>"
      ]
     },
     "metadata": {},
     "output_type": "display_data"
    }
   ],
   "source": [
    "plt.figure(figsize=(10, 6))\n",
    "sns.countplot(train['hour'])\n",
    "plt.title('시간대별 공고 현황', fontsize=18)\n",
    "plt.show()"
   ]
  },
  {
   "cell_type": "markdown",
   "metadata": {},
   "source": [
    "### 분(minute)별 공고 현황"
   ]
  },
  {
   "cell_type": "code",
   "execution_count": 101,
   "metadata": {},
   "outputs": [
    {
     "data": {
      "image/png": "[encoded data removed]",
      "text/plain": [
       "<Figure size 720x432 with 1 Axes>"
      ]
     },
     "metadata": {},
     "output_type": "display_data"
    }
   ],
   "source": [
    "plt.figure(figsize=(10, 6))\n",
    "sns.countplot(train['minute'])\n",
    "plt.title('분별 공고 현황', fontsize=18)\n",
    "plt.show()"
   ]
  },
  {
   "cell_type": "markdown",
   "metadata": {},
   "source": [
    "### 요일별 공고 현황"
   ]
  },
  {
   "cell_type": "markdown",
   "metadata": {},
   "source": [
    "- 0: 월요일 ~ 6: 일요일\n",
    "- 일요일은 역시 공고가 없다.\n",
    "- 토요일은 공고가 2건 있었다."
   ]
  },
  {
   "cell_type": "code",
   "execution_count": 100,
   "metadata": {},
   "outputs": [
    {
     "data": {
      "image/png": "[encoded data removed]",
      "text/plain": [
       "<Figure size 720x432 with 1 Axes>"
      ]
     },
     "metadata": {},
     "output_type": "display_data"
    }
   ],
   "source": [
    "plt.figure(figsize=(10, 6))\n",
    "sns.countplot(train['dayofweek'])\n",
    "plt.title('요일별 공고 현황', fontsize=18)\n",
    "plt.show()"
   ]
  },
  {
   "cell_type": "markdown",
   "metadata": {},
   "source": [
    "## 4. 지역"
   ]
  },
  {
   "cell_type": "code",
   "execution_count": 47,
   "metadata": {},
   "outputs": [
    {
     "data": {
      "text/plain": [
       "전남                4141\n",
       "경북                3884\n",
       "경기                3756\n",
       "경남                3480\n",
       "강원                3259\n",
       "전북                2544\n",
       "충남                2204\n",
       "충북                1631\n",
       "서울                1608\n",
       "부산                 821\n",
       "제주                 813\n",
       "대구                 729\n",
       "인천                 722\n",
       "대전                 425\n",
       "광주                 344\n",
       "울산                 338\n",
       "전국                 240\n",
       "세종                 138\n",
       "전국,경기              128\n",
       "전국,경북               58\n",
       "전국,서울               57\n",
       "전국,전남               44\n",
       "전국,전북               38\n",
       "전국,경남               37\n",
       "서울,경기               36\n",
       "전국,충남               31\n",
       "전국,충북               28\n",
       "전국,강원               27\n",
       "전국,부산               23\n",
       "전국,인천               23\n",
       "                  ... \n",
       "전국,세종               12\n",
       "충남,세종                9\n",
       "전국,대전                8\n",
       "전국,제주                8\n",
       "부산,경남                7\n",
       "인천,경기                5\n",
       "서울,인천,경기             5\n",
       "전북,전남                3\n",
       "충남,전북                3\n",
       "대전,충북,충남,세종          3\n",
       "대전,충북,세종             2\n",
       "대전,충남                2\n",
       "대전,충북,충남             2\n",
       "인천,경기,전남             1\n",
       "부산,울산                1\n",
       "울산,경남                1\n",
       "충북,충남,전북             1\n",
       "서울,경기,강원             1\n",
       "경남,전남                1\n",
       "전국,서울,경기             1\n",
       "경기,강원                1\n",
       "경기,강원,충북             1\n",
       "대구,경북,경남             1\n",
       "강원,경북,전남             1\n",
       "부산,울산,경북             1\n",
       "전국,울산,경남             1\n",
       "강원,충북                1\n",
       "광주,전북,전남             1\n",
       "서울,인천                1\n",
       "부산,대구,울산,경북,경남       1\n",
       "Name: 지역, Length: 65, dtype: int64"
      ]
     },
     "execution_count": 47,
     "metadata": {},
     "output_type": "execute_result"
    }
   ],
   "source": [
    "train['지역'].value_counts()"
   ]
  },
  {
   "cell_type": "markdown",
   "metadata": {},
   "source": [
    "### 지역을 , 기준으로 분리합니다."
   ]
  },
  {
   "cell_type": "code",
   "execution_count": 48,
   "metadata": {},
   "outputs": [],
   "source": [
    "area = train['지역'].str.split(',')"
   ]
  },
  {
   "cell_type": "code",
   "execution_count": 49,
   "metadata": {},
   "outputs": [
    {
     "data": {
      "text/plain": [
       "0    [경기]\n",
       "1    [충남]\n",
       "2    [충남]\n",
       "3    [강원]\n",
       "4    [전북]\n",
       "Name: 지역, dtype: object"
      ]
     },
     "execution_count": 49,
     "metadata": {},
     "output_type": "execute_result"
    }
   ],
   "source": [
    "area.head()"
   ]
  },
  {
   "cell_type": "markdown",
   "metadata": {},
   "source": [
    "### 최소 값과, 최대 값을 살펴봅니다."
   ]
  },
  {
   "cell_type": "code",
   "execution_count": 50,
   "metadata": {},
   "outputs": [
    {
     "data": {
      "text/plain": [
       "(1, 5)"
      ]
     },
     "execution_count": 50,
     "metadata": {},
     "output_type": "execute_result"
    }
   ],
   "source": [
    "area_count = area.apply(lambda x: len(x))\n",
    "area_count.min(), area_count.max()"
   ]
  },
  {
   "cell_type": "markdown",
   "metadata": {},
   "source": [
    "### 각각의 데이터를 분리하여 column을 만들도록 합니다."
   ]
  },
  {
   "cell_type": "code",
   "execution_count": 51,
   "metadata": {},
   "outputs": [],
   "source": [
    "area_split = train[\"지역\"].str.split(\",\", n=5, expand=True) "
   ]
  },
  {
   "cell_type": "code",
   "execution_count": 52,
   "metadata": {},
   "outputs": [
    {
     "data": {
      "text/html": [
       "<div>\n",
       "<style scoped>\n",
       "    .dataframe tbody tr th:only-of-type {\n",
       "        vertical-align: middle;\n",
       "    }\n",
       "\n",
       "    .dataframe tbody tr th {\n",
       "        vertical-align: top;\n",
       "    }\n",
       "\n",
       "    .dataframe thead th {\n",
       "        text-align: right;\n",
       "    }\n",
       "</style>\n",
       "<table border=\"1\" class=\"dataframe\">\n",
       "  <thead>\n",
       "    <tr style=\"text-align: right;\">\n",
       "      <th></th>\n",
       "      <th>0</th>\n",
       "      <th>1</th>\n",
       "      <th>2</th>\n",
       "      <th>3</th>\n",
       "      <th>4</th>\n",
       "    </tr>\n",
       "  </thead>\n",
       "  <tbody>\n",
       "    <tr>\n",
       "      <th>345</th>\n",
       "      <td>전국</td>\n",
       "      <td>None</td>\n",
       "      <td>None</td>\n",
       "      <td>None</td>\n",
       "      <td>None</td>\n",
       "    </tr>\n",
       "    <tr>\n",
       "      <th>12390</th>\n",
       "      <td>대전</td>\n",
       "      <td>충남</td>\n",
       "      <td>None</td>\n",
       "      <td>None</td>\n",
       "      <td>None</td>\n",
       "    </tr>\n",
       "    <tr>\n",
       "      <th>1646</th>\n",
       "      <td>전국</td>\n",
       "      <td>울산</td>\n",
       "      <td>경남</td>\n",
       "      <td>None</td>\n",
       "      <td>None</td>\n",
       "    </tr>\n",
       "    <tr>\n",
       "      <th>16326</th>\n",
       "      <td>부산</td>\n",
       "      <td>대구</td>\n",
       "      <td>울산</td>\n",
       "      <td>경북</td>\n",
       "      <td>경남</td>\n",
       "    </tr>\n",
       "  </tbody>\n",
       "</table>\n",
       "</div>"
      ],
      "text/plain": [
       "        0     1     2     3     4\n",
       "345    전국  None  None  None  None\n",
       "12390  대전    충남  None  None  None\n",
       "1646   전국    울산    경남  None  None\n",
       "16326  부산    대구    울산    경북    경남"
      ]
     },
     "execution_count": 52,
     "metadata": {},
     "output_type": "execute_result"
    }
   ],
   "source": [
    "area_split.iloc[[345, 12390, 1646, 16326]]"
   ]
  },
  {
   "cell_type": "code",
   "execution_count": 53,
   "metadata": {},
   "outputs": [
    {
     "data": {
      "text/plain": [
       "['전남',\n",
       " '경북',\n",
       " '경기',\n",
       " '경남',\n",
       " '강원',\n",
       " '전북',\n",
       " '충남',\n",
       " '충북',\n",
       " '서울',\n",
       " '부산',\n",
       " '제주',\n",
       " '대구',\n",
       " '인천',\n",
       " '대전',\n",
       " '광주',\n",
       " '울산',\n",
       " '전국',\n",
       " '세종']"
      ]
     },
     "execution_count": 53,
     "metadata": {},
     "output_type": "execute_result"
    }
   ],
   "source": [
    "area_key = list(train['지역'].value_counts()[:18].keys())\n",
    "area_key"
   ]
  },
  {
   "cell_type": "code",
   "execution_count": 54,
   "metadata": {},
   "outputs": [
    {
     "data": {
      "text/plain": [
       "(31776, 18)"
      ]
     },
     "execution_count": 54,
     "metadata": {},
     "output_type": "execute_result"
    }
   ],
   "source": [
    "data = np.zeros(shape=(len(area), 18))\n",
    "data.shape"
   ]
  },
  {
   "cell_type": "code",
   "execution_count": 55,
   "metadata": {},
   "outputs": [],
   "source": [
    "area_df = pd.DataFrame(columns=area_key, data=data)"
   ]
  },
  {
   "cell_type": "markdown",
   "metadata": {},
   "source": [
    "### 지역과 지역 값 컬럼을 합칩니다"
   ]
  },
  {
   "cell_type": "code",
   "execution_count": 56,
   "metadata": {},
   "outputs": [],
   "source": [
    "area_merged = pd.concat([area, area_df], axis=1)"
   ]
  },
  {
   "cell_type": "code",
   "execution_count": 57,
   "metadata": {},
   "outputs": [
    {
     "data": {
      "text/html": [
       "<div>\n",
       "<style scoped>\n",
       "    .dataframe tbody tr th:only-of-type {\n",
       "        vertical-align: middle;\n",
       "    }\n",
       "\n",
       "    .dataframe tbody tr th {\n",
       "        vertical-align: top;\n",
       "    }\n",
       "\n",
       "    .dataframe thead th {\n",
       "        text-align: right;\n",
       "    }\n",
       "</style>\n",
       "<table border=\"1\" class=\"dataframe\">\n",
       "  <thead>\n",
       "    <tr style=\"text-align: right;\">\n",
       "      <th></th>\n",
       "      <th>지역</th>\n",
       "      <th>전남</th>\n",
       "      <th>경북</th>\n",
       "      <th>경기</th>\n",
       "      <th>경남</th>\n",
       "      <th>강원</th>\n",
       "      <th>전북</th>\n",
       "      <th>충남</th>\n",
       "      <th>충북</th>\n",
       "      <th>서울</th>\n",
       "      <th>부산</th>\n",
       "      <th>제주</th>\n",
       "      <th>대구</th>\n",
       "      <th>인천</th>\n",
       "      <th>대전</th>\n",
       "      <th>광주</th>\n",
       "      <th>울산</th>\n",
       "      <th>전국</th>\n",
       "      <th>세종</th>\n",
       "    </tr>\n",
       "  </thead>\n",
       "  <tbody>\n",
       "    <tr>\n",
       "      <th>31771</th>\n",
       "      <td>[경남]</td>\n",
       "      <td>0.0</td>\n",
       "      <td>0.0</td>\n",
       "      <td>0.0</td>\n",
       "      <td>0.0</td>\n",
       "      <td>0.0</td>\n",
       "      <td>0.0</td>\n",
       "      <td>0.0</td>\n",
       "      <td>0.0</td>\n",
       "      <td>0.0</td>\n",
       "      <td>0.0</td>\n",
       "      <td>0.0</td>\n",
       "      <td>0.0</td>\n",
       "      <td>0.0</td>\n",
       "      <td>0.0</td>\n",
       "      <td>0.0</td>\n",
       "      <td>0.0</td>\n",
       "      <td>0.0</td>\n",
       "      <td>0.0</td>\n",
       "    </tr>\n",
       "    <tr>\n",
       "      <th>31772</th>\n",
       "      <td>[전국]</td>\n",
       "      <td>0.0</td>\n",
       "      <td>0.0</td>\n",
       "      <td>0.0</td>\n",
       "      <td>0.0</td>\n",
       "      <td>0.0</td>\n",
       "      <td>0.0</td>\n",
       "      <td>0.0</td>\n",
       "      <td>0.0</td>\n",
       "      <td>0.0</td>\n",
       "      <td>0.0</td>\n",
       "      <td>0.0</td>\n",
       "      <td>0.0</td>\n",
       "      <td>0.0</td>\n",
       "      <td>0.0</td>\n",
       "      <td>0.0</td>\n",
       "      <td>0.0</td>\n",
       "      <td>0.0</td>\n",
       "      <td>0.0</td>\n",
       "    </tr>\n",
       "    <tr>\n",
       "      <th>31773</th>\n",
       "      <td>[전국]</td>\n",
       "      <td>0.0</td>\n",
       "      <td>0.0</td>\n",
       "      <td>0.0</td>\n",
       "      <td>0.0</td>\n",
       "      <td>0.0</td>\n",
       "      <td>0.0</td>\n",
       "      <td>0.0</td>\n",
       "      <td>0.0</td>\n",
       "      <td>0.0</td>\n",
       "      <td>0.0</td>\n",
       "      <td>0.0</td>\n",
       "      <td>0.0</td>\n",
       "      <td>0.0</td>\n",
       "      <td>0.0</td>\n",
       "      <td>0.0</td>\n",
       "      <td>0.0</td>\n",
       "      <td>0.0</td>\n",
       "      <td>0.0</td>\n",
       "    </tr>\n",
       "    <tr>\n",
       "      <th>31774</th>\n",
       "      <td>[충북]</td>\n",
       "      <td>0.0</td>\n",
       "      <td>0.0</td>\n",
       "      <td>0.0</td>\n",
       "      <td>0.0</td>\n",
       "      <td>0.0</td>\n",
       "      <td>0.0</td>\n",
       "      <td>0.0</td>\n",
       "      <td>0.0</td>\n",
       "      <td>0.0</td>\n",
       "      <td>0.0</td>\n",
       "      <td>0.0</td>\n",
       "      <td>0.0</td>\n",
       "      <td>0.0</td>\n",
       "      <td>0.0</td>\n",
       "      <td>0.0</td>\n",
       "      <td>0.0</td>\n",
       "      <td>0.0</td>\n",
       "      <td>0.0</td>\n",
       "    </tr>\n",
       "    <tr>\n",
       "      <th>31775</th>\n",
       "      <td>[경남]</td>\n",
       "      <td>0.0</td>\n",
       "      <td>0.0</td>\n",
       "      <td>0.0</td>\n",
       "      <td>0.0</td>\n",
       "      <td>0.0</td>\n",
       "      <td>0.0</td>\n",
       "      <td>0.0</td>\n",
       "      <td>0.0</td>\n",
       "      <td>0.0</td>\n",
       "      <td>0.0</td>\n",
       "      <td>0.0</td>\n",
       "      <td>0.0</td>\n",
       "      <td>0.0</td>\n",
       "      <td>0.0</td>\n",
       "      <td>0.0</td>\n",
       "      <td>0.0</td>\n",
       "      <td>0.0</td>\n",
       "      <td>0.0</td>\n",
       "    </tr>\n",
       "  </tbody>\n",
       "</table>\n",
       "</div>"
      ],
      "text/plain": [
       "         지역   전남   경북   경기   경남   강원   전북   충남   충북   서울   부산   제주   대구   인천  \\\n",
       "31771  [경남]  0.0  0.0  0.0  0.0  0.0  0.0  0.0  0.0  0.0  0.0  0.0  0.0  0.0   \n",
       "31772  [전국]  0.0  0.0  0.0  0.0  0.0  0.0  0.0  0.0  0.0  0.0  0.0  0.0  0.0   \n",
       "31773  [전국]  0.0  0.0  0.0  0.0  0.0  0.0  0.0  0.0  0.0  0.0  0.0  0.0  0.0   \n",
       "31774  [충북]  0.0  0.0  0.0  0.0  0.0  0.0  0.0  0.0  0.0  0.0  0.0  0.0  0.0   \n",
       "31775  [경남]  0.0  0.0  0.0  0.0  0.0  0.0  0.0  0.0  0.0  0.0  0.0  0.0  0.0   \n",
       "\n",
       "        대전   광주   울산   전국   세종  \n",
       "31771  0.0  0.0  0.0  0.0  0.0  \n",
       "31772  0.0  0.0  0.0  0.0  0.0  \n",
       "31773  0.0  0.0  0.0  0.0  0.0  \n",
       "31774  0.0  0.0  0.0  0.0  0.0  \n",
       "31775  0.0  0.0  0.0  0.0  0.0  "
      ]
     },
     "execution_count": 57,
     "metadata": {},
     "output_type": "execute_result"
    }
   ],
   "source": [
    "area_merged.tail()"
   ]
  },
  {
   "cell_type": "markdown",
   "metadata": {},
   "source": [
    "### list에 지역이 포함된 경우 1로 체크합니다"
   ]
  },
  {
   "cell_type": "code",
   "execution_count": 58,
   "metadata": {},
   "outputs": [],
   "source": [
    "def check_area(data):\n",
    "    for d in data['지역']:\n",
    "        data[d] = 1\n",
    "    return data"
   ]
  },
  {
   "cell_type": "code",
   "execution_count": 59,
   "metadata": {},
   "outputs": [],
   "source": [
    "area = area_merged.apply(check_area, axis=1)"
   ]
  },
  {
   "cell_type": "code",
   "execution_count": 60,
   "metadata": {},
   "outputs": [
    {
     "data": {
      "text/html": [
       "<div>\n",
       "<style scoped>\n",
       "    .dataframe tbody tr th:only-of-type {\n",
       "        vertical-align: middle;\n",
       "    }\n",
       "\n",
       "    .dataframe tbody tr th {\n",
       "        vertical-align: top;\n",
       "    }\n",
       "\n",
       "    .dataframe thead th {\n",
       "        text-align: right;\n",
       "    }\n",
       "</style>\n",
       "<table border=\"1\" class=\"dataframe\">\n",
       "  <thead>\n",
       "    <tr style=\"text-align: right;\">\n",
       "      <th></th>\n",
       "      <th>지역</th>\n",
       "      <th>전남</th>\n",
       "      <th>경북</th>\n",
       "      <th>경기</th>\n",
       "      <th>경남</th>\n",
       "      <th>강원</th>\n",
       "      <th>전북</th>\n",
       "      <th>충남</th>\n",
       "      <th>충북</th>\n",
       "      <th>서울</th>\n",
       "      <th>부산</th>\n",
       "      <th>제주</th>\n",
       "      <th>대구</th>\n",
       "      <th>인천</th>\n",
       "      <th>대전</th>\n",
       "      <th>광주</th>\n",
       "      <th>울산</th>\n",
       "      <th>전국</th>\n",
       "      <th>세종</th>\n",
       "    </tr>\n",
       "  </thead>\n",
       "  <tbody>\n",
       "    <tr>\n",
       "      <th>0</th>\n",
       "      <td>[경기]</td>\n",
       "      <td>0.0</td>\n",
       "      <td>0.0</td>\n",
       "      <td>1.0</td>\n",
       "      <td>0.0</td>\n",
       "      <td>0.0</td>\n",
       "      <td>0.0</td>\n",
       "      <td>0.0</td>\n",
       "      <td>0.0</td>\n",
       "      <td>0.0</td>\n",
       "      <td>0.0</td>\n",
       "      <td>0.0</td>\n",
       "      <td>0.0</td>\n",
       "      <td>0.0</td>\n",
       "      <td>0.0</td>\n",
       "      <td>0.0</td>\n",
       "      <td>0.0</td>\n",
       "      <td>0.0</td>\n",
       "      <td>0.0</td>\n",
       "    </tr>\n",
       "    <tr>\n",
       "      <th>1</th>\n",
       "      <td>[충남]</td>\n",
       "      <td>0.0</td>\n",
       "      <td>0.0</td>\n",
       "      <td>0.0</td>\n",
       "      <td>0.0</td>\n",
       "      <td>0.0</td>\n",
       "      <td>0.0</td>\n",
       "      <td>1.0</td>\n",
       "      <td>0.0</td>\n",
       "      <td>0.0</td>\n",
       "      <td>0.0</td>\n",
       "      <td>0.0</td>\n",
       "      <td>0.0</td>\n",
       "      <td>0.0</td>\n",
       "      <td>0.0</td>\n",
       "      <td>0.0</td>\n",
       "      <td>0.0</td>\n",
       "      <td>0.0</td>\n",
       "      <td>0.0</td>\n",
       "    </tr>\n",
       "    <tr>\n",
       "      <th>2</th>\n",
       "      <td>[충남]</td>\n",
       "      <td>0.0</td>\n",
       "      <td>0.0</td>\n",
       "      <td>0.0</td>\n",
       "      <td>0.0</td>\n",
       "      <td>0.0</td>\n",
       "      <td>0.0</td>\n",
       "      <td>1.0</td>\n",
       "      <td>0.0</td>\n",
       "      <td>0.0</td>\n",
       "      <td>0.0</td>\n",
       "      <td>0.0</td>\n",
       "      <td>0.0</td>\n",
       "      <td>0.0</td>\n",
       "      <td>0.0</td>\n",
       "      <td>0.0</td>\n",
       "      <td>0.0</td>\n",
       "      <td>0.0</td>\n",
       "      <td>0.0</td>\n",
       "    </tr>\n",
       "    <tr>\n",
       "      <th>3</th>\n",
       "      <td>[강원]</td>\n",
       "      <td>0.0</td>\n",
       "      <td>0.0</td>\n",
       "      <td>0.0</td>\n",
       "      <td>0.0</td>\n",
       "      <td>1.0</td>\n",
       "      <td>0.0</td>\n",
       "      <td>0.0</td>\n",
       "      <td>0.0</td>\n",
       "      <td>0.0</td>\n",
       "      <td>0.0</td>\n",
       "      <td>0.0</td>\n",
       "      <td>0.0</td>\n",
       "      <td>0.0</td>\n",
       "      <td>0.0</td>\n",
       "      <td>0.0</td>\n",
       "      <td>0.0</td>\n",
       "      <td>0.0</td>\n",
       "      <td>0.0</td>\n",
       "    </tr>\n",
       "    <tr>\n",
       "      <th>4</th>\n",
       "      <td>[전북]</td>\n",
       "      <td>0.0</td>\n",
       "      <td>0.0</td>\n",
       "      <td>0.0</td>\n",
       "      <td>0.0</td>\n",
       "      <td>0.0</td>\n",
       "      <td>1.0</td>\n",
       "      <td>0.0</td>\n",
       "      <td>0.0</td>\n",
       "      <td>0.0</td>\n",
       "      <td>0.0</td>\n",
       "      <td>0.0</td>\n",
       "      <td>0.0</td>\n",
       "      <td>0.0</td>\n",
       "      <td>0.0</td>\n",
       "      <td>0.0</td>\n",
       "      <td>0.0</td>\n",
       "      <td>0.0</td>\n",
       "      <td>0.0</td>\n",
       "    </tr>\n",
       "  </tbody>\n",
       "</table>\n",
       "</div>"
      ],
      "text/plain": [
       "     지역   전남   경북   경기   경남   강원   전북   충남   충북   서울   부산   제주   대구   인천   대전  \\\n",
       "0  [경기]  0.0  0.0  1.0  0.0  0.0  0.0  0.0  0.0  0.0  0.0  0.0  0.0  0.0  0.0   \n",
       "1  [충남]  0.0  0.0  0.0  0.0  0.0  0.0  1.0  0.0  0.0  0.0  0.0  0.0  0.0  0.0   \n",
       "2  [충남]  0.0  0.0  0.0  0.0  0.0  0.0  1.0  0.0  0.0  0.0  0.0  0.0  0.0  0.0   \n",
       "3  [강원]  0.0  0.0  0.0  0.0  1.0  0.0  0.0  0.0  0.0  0.0  0.0  0.0  0.0  0.0   \n",
       "4  [전북]  0.0  0.0  0.0  0.0  0.0  1.0  0.0  0.0  0.0  0.0  0.0  0.0  0.0  0.0   \n",
       "\n",
       "    광주   울산   전국   세종  \n",
       "0  0.0  0.0  0.0  0.0  \n",
       "1  0.0  0.0  0.0  0.0  \n",
       "2  0.0  0.0  0.0  0.0  \n",
       "3  0.0  0.0  0.0  0.0  \n",
       "4  0.0  0.0  0.0  0.0  "
      ]
     },
     "execution_count": 60,
     "metadata": {},
     "output_type": "execute_result"
    }
   ],
   "source": [
    "area.head()"
   ]
  },
  {
   "cell_type": "code",
   "execution_count": 61,
   "metadata": {},
   "outputs": [
    {
     "data": {
      "text/plain": [
       "지역    [전국, 울산, 경남]\n",
       "전남               0\n",
       "경북               0\n",
       "경기               0\n",
       "경남               1\n",
       "강원               0\n",
       "전북               0\n",
       "충남               0\n",
       "충북               0\n",
       "서울               0\n",
       "부산               0\n",
       "제주               0\n",
       "대구               0\n",
       "인천               0\n",
       "대전               0\n",
       "광주               0\n",
       "울산               1\n",
       "전국               1\n",
       "세종               0\n",
       "Name: 1646, dtype: object"
      ]
     },
     "execution_count": 61,
     "metadata": {},
     "output_type": "execute_result"
    }
   ],
   "source": [
    "area.iloc[1646]"
   ]
  },
  {
   "cell_type": "markdown",
   "metadata": {},
   "source": [
    "### 지역은 drop합니다"
   ]
  },
  {
   "cell_type": "code",
   "execution_count": 62,
   "metadata": {},
   "outputs": [],
   "source": [
    "area = area.drop('지역', 1)"
   ]
  },
  {
   "cell_type": "code",
   "execution_count": 63,
   "metadata": {},
   "outputs": [
    {
     "data": {
      "text/html": [
       "<div>\n",
       "<style scoped>\n",
       "    .dataframe tbody tr th:only-of-type {\n",
       "        vertical-align: middle;\n",
       "    }\n",
       "\n",
       "    .dataframe tbody tr th {\n",
       "        vertical-align: top;\n",
       "    }\n",
       "\n",
       "    .dataframe thead th {\n",
       "        text-align: right;\n",
       "    }\n",
       "</style>\n",
       "<table border=\"1\" class=\"dataframe\">\n",
       "  <thead>\n",
       "    <tr style=\"text-align: right;\">\n",
       "      <th></th>\n",
       "      <th>전남</th>\n",
       "      <th>경북</th>\n",
       "      <th>경기</th>\n",
       "      <th>경남</th>\n",
       "      <th>강원</th>\n",
       "      <th>전북</th>\n",
       "      <th>충남</th>\n",
       "      <th>충북</th>\n",
       "      <th>서울</th>\n",
       "      <th>부산</th>\n",
       "      <th>제주</th>\n",
       "      <th>대구</th>\n",
       "      <th>인천</th>\n",
       "      <th>대전</th>\n",
       "      <th>광주</th>\n",
       "      <th>울산</th>\n",
       "      <th>전국</th>\n",
       "      <th>세종</th>\n",
       "    </tr>\n",
       "  </thead>\n",
       "  <tbody>\n",
       "    <tr>\n",
       "      <th>0</th>\n",
       "      <td>0.0</td>\n",
       "      <td>0.0</td>\n",
       "      <td>1.0</td>\n",
       "      <td>0.0</td>\n",
       "      <td>0.0</td>\n",
       "      <td>0.0</td>\n",
       "      <td>0.0</td>\n",
       "      <td>0.0</td>\n",
       "      <td>0.0</td>\n",
       "      <td>0.0</td>\n",
       "      <td>0.0</td>\n",
       "      <td>0.0</td>\n",
       "      <td>0.0</td>\n",
       "      <td>0.0</td>\n",
       "      <td>0.0</td>\n",
       "      <td>0.0</td>\n",
       "      <td>0.0</td>\n",
       "      <td>0.0</td>\n",
       "    </tr>\n",
       "    <tr>\n",
       "      <th>1</th>\n",
       "      <td>0.0</td>\n",
       "      <td>0.0</td>\n",
       "      <td>0.0</td>\n",
       "      <td>0.0</td>\n",
       "      <td>0.0</td>\n",
       "      <td>0.0</td>\n",
       "      <td>1.0</td>\n",
       "      <td>0.0</td>\n",
       "      <td>0.0</td>\n",
       "      <td>0.0</td>\n",
       "      <td>0.0</td>\n",
       "      <td>0.0</td>\n",
       "      <td>0.0</td>\n",
       "      <td>0.0</td>\n",
       "      <td>0.0</td>\n",
       "      <td>0.0</td>\n",
       "      <td>0.0</td>\n",
       "      <td>0.0</td>\n",
       "    </tr>\n",
       "    <tr>\n",
       "      <th>2</th>\n",
       "      <td>0.0</td>\n",
       "      <td>0.0</td>\n",
       "      <td>0.0</td>\n",
       "      <td>0.0</td>\n",
       "      <td>0.0</td>\n",
       "      <td>0.0</td>\n",
       "      <td>1.0</td>\n",
       "      <td>0.0</td>\n",
       "      <td>0.0</td>\n",
       "      <td>0.0</td>\n",
       "      <td>0.0</td>\n",
       "      <td>0.0</td>\n",
       "      <td>0.0</td>\n",
       "      <td>0.0</td>\n",
       "      <td>0.0</td>\n",
       "      <td>0.0</td>\n",
       "      <td>0.0</td>\n",
       "      <td>0.0</td>\n",
       "    </tr>\n",
       "    <tr>\n",
       "      <th>3</th>\n",
       "      <td>0.0</td>\n",
       "      <td>0.0</td>\n",
       "      <td>0.0</td>\n",
       "      <td>0.0</td>\n",
       "      <td>1.0</td>\n",
       "      <td>0.0</td>\n",
       "      <td>0.0</td>\n",
       "      <td>0.0</td>\n",
       "      <td>0.0</td>\n",
       "      <td>0.0</td>\n",
       "      <td>0.0</td>\n",
       "      <td>0.0</td>\n",
       "      <td>0.0</td>\n",
       "      <td>0.0</td>\n",
       "      <td>0.0</td>\n",
       "      <td>0.0</td>\n",
       "      <td>0.0</td>\n",
       "      <td>0.0</td>\n",
       "    </tr>\n",
       "    <tr>\n",
       "      <th>4</th>\n",
       "      <td>0.0</td>\n",
       "      <td>0.0</td>\n",
       "      <td>0.0</td>\n",
       "      <td>0.0</td>\n",
       "      <td>0.0</td>\n",
       "      <td>1.0</td>\n",
       "      <td>0.0</td>\n",
       "      <td>0.0</td>\n",
       "      <td>0.0</td>\n",
       "      <td>0.0</td>\n",
       "      <td>0.0</td>\n",
       "      <td>0.0</td>\n",
       "      <td>0.0</td>\n",
       "      <td>0.0</td>\n",
       "      <td>0.0</td>\n",
       "      <td>0.0</td>\n",
       "      <td>0.0</td>\n",
       "      <td>0.0</td>\n",
       "    </tr>\n",
       "  </tbody>\n",
       "</table>\n",
       "</div>"
      ],
      "text/plain": [
       "    전남   경북   경기   경남   강원   전북   충남   충북   서울   부산   제주   대구   인천   대전   광주  \\\n",
       "0  0.0  0.0  1.0  0.0  0.0  0.0  0.0  0.0  0.0  0.0  0.0  0.0  0.0  0.0  0.0   \n",
       "1  0.0  0.0  0.0  0.0  0.0  0.0  1.0  0.0  0.0  0.0  0.0  0.0  0.0  0.0  0.0   \n",
       "2  0.0  0.0  0.0  0.0  0.0  0.0  1.0  0.0  0.0  0.0  0.0  0.0  0.0  0.0  0.0   \n",
       "3  0.0  0.0  0.0  0.0  1.0  0.0  0.0  0.0  0.0  0.0  0.0  0.0  0.0  0.0  0.0   \n",
       "4  0.0  0.0  0.0  0.0  0.0  1.0  0.0  0.0  0.0  0.0  0.0  0.0  0.0  0.0  0.0   \n",
       "\n",
       "    울산   전국   세종  \n",
       "0  0.0  0.0  0.0  \n",
       "1  0.0  0.0  0.0  \n",
       "2  0.0  0.0  0.0  \n",
       "3  0.0  0.0  0.0  \n",
       "4  0.0  0.0  0.0  "
      ]
     },
     "execution_count": 63,
     "metadata": {},
     "output_type": "execute_result"
    }
   ],
   "source": [
    "area.head()"
   ]
  },
  {
   "cell_type": "code",
   "execution_count": 64,
   "metadata": {},
   "outputs": [
    {
     "data": {
      "text/plain": [
       "(31776, 18)"
      ]
     },
     "execution_count": 64,
     "metadata": {},
     "output_type": "execute_result"
    }
   ],
   "source": [
    "area.shape"
   ]
  },
  {
   "cell_type": "code",
   "execution_count": 65,
   "metadata": {},
   "outputs": [
    {
     "data": {
      "text/plain": [
       "(31776, 76)"
      ]
     },
     "execution_count": 65,
     "metadata": {},
     "output_type": "execute_result"
    }
   ],
   "source": [
    "train.shape"
   ]
  },
  {
   "cell_type": "markdown",
   "metadata": {},
   "source": [
    "## 5. 업체별 사정율"
   ]
  },
  {
   "cell_type": "markdown",
   "metadata": {},
   "source": [
    "사정율이란 개찰후 결정된 예정가격과 예비가격기초금액같의 차이를 백분율로 나타낸것이라고 정의 할 수 있습니다.\n",
    "\n",
    "법률적인 개념은 아니지만 입찰담당자들 사이에 널리 쓰이는 개념입니다.\n",
    "\n",
    "예를 들어\n",
    "\n",
    "기초금액 : 100억\n",
    "\n",
    "예정가격 : 101억이라면\n",
    "\n",
    "사정율을 1%라고 합니다."
   ]
  },
  {
   "cell_type": "markdown",
   "metadata": {},
   "source": [
    "즉, 표면적으로 보이는 투찰율은 다르지만 사정율을 계산해서 보면 패턴을 볼 수 있다는 것이지요.\n",
    "\n",
    "특정발주처나 특정업체의 입찰 패턴을 분석할 때 투찰율을 분석하면 아무런 결과를 얻을 수가 없습니다.\n",
    "\n",
    "그러나 **사정율로 분석을 하게 되면 패턴을 발견**할 수도 있습니다.\n",
    "\n",
    "복수예비가격을 사전에 발표하는 발주처의 성향을 분석할때도 금액만으로는 원하는 결과를 얻을수 없습니다.\n",
    "\n",
    "각각의 **예비가격에 대한 사정율을 계산해서 일정기간 분석해 보면 패턴이 있음**을 알 수 있습니다."
   ]
  },
  {
   "cell_type": "code",
   "execution_count": 66,
   "metadata": {},
   "outputs": [
    {
     "data": {
      "text/plain": [
       "0    99.4565\n",
       "1    99.5138\n",
       "2    99.4114\n",
       "3    99.9886\n",
       "4    99.6845\n",
       "Name: 업체별사정율, dtype: object"
      ]
     },
     "execution_count": 66,
     "metadata": {},
     "output_type": "execute_result"
    }
   ],
   "source": [
    "train['업체별사정율'].head()"
   ]
  },
  {
   "cell_type": "code",
   "execution_count": 67,
   "metadata": {},
   "outputs": [
    {
     "data": {
      "text/plain": [
       "288      ( - )\n",
       "345      ( - )\n",
       "854      ( - )\n",
       "1046     ( - )\n",
       "2227     ( - )\n",
       "2292     ( - )\n",
       "2764     ( - )\n",
       "2765     ( - )\n",
       "2798     ( - )\n",
       "3056     ( - )\n",
       "Name: 업체별사정율, dtype: object"
      ]
     },
     "execution_count": 67,
     "metadata": {},
     "output_type": "execute_result"
    }
   ],
   "source": [
    "train.loc[train['업체별사정율'].str.contains('-'), '업체별사정율'].head(10)"
   ]
  },
  {
   "cell_type": "markdown",
   "metadata": {},
   "source": [
    "### ( - ) 이루어진 데이터는 0으로 치환합니다"
   ]
  },
  {
   "cell_type": "code",
   "execution_count": 68,
   "metadata": {},
   "outputs": [],
   "source": [
    "train.loc[train['업체별사정율'].str.contains('-'), '업체별사정율'] = np.nan"
   ]
  },
  {
   "cell_type": "code",
   "execution_count": 69,
   "metadata": {},
   "outputs": [],
   "source": [
    "train['업체별사정율'] = train['업체별사정율'].fillna(0)"
   ]
  },
  {
   "cell_type": "markdown",
   "metadata": {},
   "source": [
    "### 업체별 사정율의 데이터를 float로 변경합니다"
   ]
  },
  {
   "cell_type": "code",
   "execution_count": 70,
   "metadata": {},
   "outputs": [],
   "source": [
    "train['업체별사정율'] = train['업체별사정율'].astype('float32')"
   ]
  },
  {
   "cell_type": "markdown",
   "metadata": {},
   "source": [
    "## 7. 불필요한 컬럼 정리"
   ]
  },
  {
   "cell_type": "code",
   "execution_count": 71,
   "metadata": {},
   "outputs": [
    {
     "data": {
      "text/plain": [
       "Index(['번호', '공고업종', '지역', '공고번호', '발주기관', '입찰일시', '기초금액', '추정가격', '낙찰하한율',\n",
       "       '예정가격', '예가', '낙찰하한가', '투찰', '업체명', '대표자', '투찰금액', '투찰율', '기초대비',\n",
       "       '업체별사정율', 'num_1_num', 'num_1_money', 'num_1_per', 'num_2_num',\n",
       "       'num_2_money', 'num_2_per', 'num_3_num', 'num_3_money', 'num_3_per',\n",
       "       'num_4_num', 'num_4_money', 'num_4_per', 'num_5_num', 'num_5_money',\n",
       "       'num_5_per', 'num_6_num', 'num_6_money', 'num_6_per', 'num_7_num',\n",
       "       'num_7_money', 'num_7_per', 'num_8_num', 'num_8_money', 'num_8_per',\n",
       "       'num_9_num', 'num_9_money', 'num_9_per', 'num_10_num', 'num_10_money',\n",
       "       'num_10_per', 'num_11_num', 'num_11_money', 'num_11_per', 'num_12_num',\n",
       "       'num_12_money', 'num_12_per', 'num_13_num', 'num_13_money',\n",
       "       'num_13_per', 'num_14_num', 'num_14_money', 'num_14_per', 'num_15_num',\n",
       "       'num_15_money', 'num_15_per', 'total', 'Unnamed: 65', 'Unnamed: 66',\n",
       "       'year', 'month', 'day', 'hour', 'minute', 'dayofweek', 'weekofyear',\n",
       "       'dayofyear', 'quarter'],\n",
       "      dtype='object')"
      ]
     },
     "execution_count": 71,
     "metadata": {},
     "output_type": "execute_result"
    }
   ],
   "source": [
    "train.columns"
   ]
  },
  {
   "cell_type": "code",
   "execution_count": 72,
   "metadata": {},
   "outputs": [],
   "source": [
    "cols = ['업체명', \n",
    "        '기초금액', \n",
    "        '예가', \n",
    "        '업체별사정율',\n",
    "        'year', \n",
    "        'month', \n",
    "        'day', \n",
    "        'hour', \n",
    "        'minute', \n",
    "        'dayofweek', \n",
    "        'weekofyear', \n",
    "        'dayofyear', \n",
    "        'quarter', \n",
    "       ]"
   ]
  },
  {
   "cell_type": "code",
   "execution_count": 73,
   "metadata": {},
   "outputs": [
    {
     "data": {
      "text/html": [
       "<div>\n",
       "<style scoped>\n",
       "    .dataframe tbody tr th:only-of-type {\n",
       "        vertical-align: middle;\n",
       "    }\n",
       "\n",
       "    .dataframe tbody tr th {\n",
       "        vertical-align: top;\n",
       "    }\n",
       "\n",
       "    .dataframe thead th {\n",
       "        text-align: right;\n",
       "    }\n",
       "</style>\n",
       "<table border=\"1\" class=\"dataframe\">\n",
       "  <thead>\n",
       "    <tr style=\"text-align: right;\">\n",
       "      <th></th>\n",
       "      <th>업체명</th>\n",
       "      <th>기초금액</th>\n",
       "      <th>예가</th>\n",
       "      <th>업체별사정율</th>\n",
       "      <th>year</th>\n",
       "      <th>month</th>\n",
       "      <th>day</th>\n",
       "      <th>hour</th>\n",
       "      <th>minute</th>\n",
       "      <th>dayofweek</th>\n",
       "      <th>weekofyear</th>\n",
       "      <th>dayofyear</th>\n",
       "      <th>quarter</th>\n",
       "    </tr>\n",
       "  </thead>\n",
       "  <tbody>\n",
       "    <tr>\n",
       "      <th>0</th>\n",
       "      <td>제이티건설(주)</td>\n",
       "      <td>166200000.0</td>\n",
       "      <td>99.407501</td>\n",
       "      <td>99.456497</td>\n",
       "      <td>2020</td>\n",
       "      <td>3</td>\n",
       "      <td>13</td>\n",
       "      <td>16</td>\n",
       "      <td>0</td>\n",
       "      <td>4</td>\n",
       "      <td>11</td>\n",
       "      <td>73</td>\n",
       "      <td>1</td>\n",
       "    </tr>\n",
       "    <tr>\n",
       "      <th>1</th>\n",
       "      <td>통일종합건설 주식회사</td>\n",
       "      <td>49000000.0</td>\n",
       "      <td>99.273003</td>\n",
       "      <td>99.513802</td>\n",
       "      <td>2020</td>\n",
       "      <td>3</td>\n",
       "      <td>13</td>\n",
       "      <td>16</td>\n",
       "      <td>0</td>\n",
       "      <td>4</td>\n",
       "      <td>11</td>\n",
       "      <td>73</td>\n",
       "      <td>1</td>\n",
       "    </tr>\n",
       "    <tr>\n",
       "      <th>2</th>\n",
       "      <td>성문건설 주식회사</td>\n",
       "      <td>35000000.0</td>\n",
       "      <td>99.120697</td>\n",
       "      <td>99.411400</td>\n",
       "      <td>2020</td>\n",
       "      <td>3</td>\n",
       "      <td>13</td>\n",
       "      <td>16</td>\n",
       "      <td>0</td>\n",
       "      <td>4</td>\n",
       "      <td>11</td>\n",
       "      <td>73</td>\n",
       "      <td>1</td>\n",
       "    </tr>\n",
       "    <tr>\n",
       "      <th>3</th>\n",
       "      <td>(주)덕산종합건설</td>\n",
       "      <td>27000000.0</td>\n",
       "      <td>99.877800</td>\n",
       "      <td>99.988602</td>\n",
       "      <td>2020</td>\n",
       "      <td>3</td>\n",
       "      <td>13</td>\n",
       "      <td>16</td>\n",
       "      <td>0</td>\n",
       "      <td>4</td>\n",
       "      <td>11</td>\n",
       "      <td>73</td>\n",
       "      <td>1</td>\n",
       "    </tr>\n",
       "    <tr>\n",
       "      <th>4</th>\n",
       "      <td>(유)아라야</td>\n",
       "      <td>64460000.0</td>\n",
       "      <td>99.681801</td>\n",
       "      <td>99.684502</td>\n",
       "      <td>2020</td>\n",
       "      <td>3</td>\n",
       "      <td>13</td>\n",
       "      <td>16</td>\n",
       "      <td>0</td>\n",
       "      <td>4</td>\n",
       "      <td>11</td>\n",
       "      <td>73</td>\n",
       "      <td>1</td>\n",
       "    </tr>\n",
       "  </tbody>\n",
       "</table>\n",
       "</div>"
      ],
      "text/plain": [
       "           업체명         기초금액         예가     업체별사정율  year  month  day  hour  \\\n",
       "0     제이티건설(주)  166200000.0  99.407501  99.456497  2020      3   13    16   \n",
       "1  통일종합건설 주식회사   49000000.0  99.273003  99.513802  2020      3   13    16   \n",
       "2    성문건설 주식회사   35000000.0  99.120697  99.411400  2020      3   13    16   \n",
       "3    (주)덕산종합건설   27000000.0  99.877800  99.988602  2020      3   13    16   \n",
       "4       (유)아라야   64460000.0  99.681801  99.684502  2020      3   13    16   \n",
       "\n",
       "   minute  dayofweek  weekofyear  dayofyear  quarter  \n",
       "0       0          4          11         73        1  \n",
       "1       0          4          11         73        1  \n",
       "2       0          4          11         73        1  \n",
       "3       0          4          11         73        1  \n",
       "4       0          4          11         73        1  "
      ]
     },
     "execution_count": 73,
     "metadata": {},
     "output_type": "execute_result"
    }
   ],
   "source": [
    "train[cols].head()"
   ]
  },
  {
   "cell_type": "code",
   "execution_count": 74,
   "metadata": {},
   "outputs": [
    {
     "name": "stdout",
     "output_type": "stream",
     "text": [
      "<class 'pandas.core.frame.DataFrame'>\n",
      "RangeIndex: 31776 entries, 0 to 31775\n",
      "Data columns (total 13 columns):\n",
      "업체명           31776 non-null object\n",
      "기초금액          31776 non-null float32\n",
      "예가            31776 non-null float32\n",
      "업체별사정율        31776 non-null float32\n",
      "year          31776 non-null int64\n",
      "month         31776 non-null int64\n",
      "day           31776 non-null int64\n",
      "hour          31776 non-null int64\n",
      "minute        31776 non-null int64\n",
      "dayofweek     31776 non-null int64\n",
      "weekofyear    31776 non-null int64\n",
      "dayofyear     31776 non-null int64\n",
      "quarter       31776 non-null int64\n",
      "dtypes: float32(3), int64(9), object(1)\n",
      "memory usage: 2.8+ MB\n"
     ]
    }
   ],
   "source": [
    "train[cols].info()"
   ]
  },
  {
   "cell_type": "markdown",
   "metadata": {},
   "source": [
    "### df에 정리된 train 데이터와 area 데이터를 합칩니다"
   ]
  },
  {
   "cell_type": "code",
   "execution_count": 75,
   "metadata": {},
   "outputs": [],
   "source": [
    "df = pd.concat([train[cols], area], axis=1)"
   ]
  },
  {
   "cell_type": "code",
   "execution_count": 76,
   "metadata": {},
   "outputs": [
    {
     "data": {
      "text/html": [
       "<div>\n",
       "<style scoped>\n",
       "    .dataframe tbody tr th:only-of-type {\n",
       "        vertical-align: middle;\n",
       "    }\n",
       "\n",
       "    .dataframe tbody tr th {\n",
       "        vertical-align: top;\n",
       "    }\n",
       "\n",
       "    .dataframe thead th {\n",
       "        text-align: right;\n",
       "    }\n",
       "</style>\n",
       "<table border=\"1\" class=\"dataframe\">\n",
       "  <thead>\n",
       "    <tr style=\"text-align: right;\">\n",
       "      <th></th>\n",
       "      <th>업체명</th>\n",
       "      <th>기초금액</th>\n",
       "      <th>예가</th>\n",
       "      <th>업체별사정율</th>\n",
       "      <th>year</th>\n",
       "      <th>month</th>\n",
       "      <th>day</th>\n",
       "      <th>hour</th>\n",
       "      <th>minute</th>\n",
       "      <th>dayofweek</th>\n",
       "      <th>...</th>\n",
       "      <th>서울</th>\n",
       "      <th>부산</th>\n",
       "      <th>제주</th>\n",
       "      <th>대구</th>\n",
       "      <th>인천</th>\n",
       "      <th>대전</th>\n",
       "      <th>광주</th>\n",
       "      <th>울산</th>\n",
       "      <th>전국</th>\n",
       "      <th>세종</th>\n",
       "    </tr>\n",
       "  </thead>\n",
       "  <tbody>\n",
       "    <tr>\n",
       "      <th>0</th>\n",
       "      <td>제이티건설(주)</td>\n",
       "      <td>166200000.0</td>\n",
       "      <td>99.407501</td>\n",
       "      <td>99.456497</td>\n",
       "      <td>2020</td>\n",
       "      <td>3</td>\n",
       "      <td>13</td>\n",
       "      <td>16</td>\n",
       "      <td>0</td>\n",
       "      <td>4</td>\n",
       "      <td>...</td>\n",
       "      <td>0.0</td>\n",
       "      <td>0.0</td>\n",
       "      <td>0.0</td>\n",
       "      <td>0.0</td>\n",
       "      <td>0.0</td>\n",
       "      <td>0.0</td>\n",
       "      <td>0.0</td>\n",
       "      <td>0.0</td>\n",
       "      <td>0.0</td>\n",
       "      <td>0.0</td>\n",
       "    </tr>\n",
       "    <tr>\n",
       "      <th>1</th>\n",
       "      <td>통일종합건설 주식회사</td>\n",
       "      <td>49000000.0</td>\n",
       "      <td>99.273003</td>\n",
       "      <td>99.513802</td>\n",
       "      <td>2020</td>\n",
       "      <td>3</td>\n",
       "      <td>13</td>\n",
       "      <td>16</td>\n",
       "      <td>0</td>\n",
       "      <td>4</td>\n",
       "      <td>...</td>\n",
       "      <td>0.0</td>\n",
       "      <td>0.0</td>\n",
       "      <td>0.0</td>\n",
       "      <td>0.0</td>\n",
       "      <td>0.0</td>\n",
       "      <td>0.0</td>\n",
       "      <td>0.0</td>\n",
       "      <td>0.0</td>\n",
       "      <td>0.0</td>\n",
       "      <td>0.0</td>\n",
       "    </tr>\n",
       "    <tr>\n",
       "      <th>2</th>\n",
       "      <td>성문건설 주식회사</td>\n",
       "      <td>35000000.0</td>\n",
       "      <td>99.120697</td>\n",
       "      <td>99.411400</td>\n",
       "      <td>2020</td>\n",
       "      <td>3</td>\n",
       "      <td>13</td>\n",
       "      <td>16</td>\n",
       "      <td>0</td>\n",
       "      <td>4</td>\n",
       "      <td>...</td>\n",
       "      <td>0.0</td>\n",
       "      <td>0.0</td>\n",
       "      <td>0.0</td>\n",
       "      <td>0.0</td>\n",
       "      <td>0.0</td>\n",
       "      <td>0.0</td>\n",
       "      <td>0.0</td>\n",
       "      <td>0.0</td>\n",
       "      <td>0.0</td>\n",
       "      <td>0.0</td>\n",
       "    </tr>\n",
       "    <tr>\n",
       "      <th>3</th>\n",
       "      <td>(주)덕산종합건설</td>\n",
       "      <td>27000000.0</td>\n",
       "      <td>99.877800</td>\n",
       "      <td>99.988602</td>\n",
       "      <td>2020</td>\n",
       "      <td>3</td>\n",
       "      <td>13</td>\n",
       "      <td>16</td>\n",
       "      <td>0</td>\n",
       "      <td>4</td>\n",
       "      <td>...</td>\n",
       "      <td>0.0</td>\n",
       "      <td>0.0</td>\n",
       "      <td>0.0</td>\n",
       "      <td>0.0</td>\n",
       "      <td>0.0</td>\n",
       "      <td>0.0</td>\n",
       "      <td>0.0</td>\n",
       "      <td>0.0</td>\n",
       "      <td>0.0</td>\n",
       "      <td>0.0</td>\n",
       "    </tr>\n",
       "    <tr>\n",
       "      <th>4</th>\n",
       "      <td>(유)아라야</td>\n",
       "      <td>64460000.0</td>\n",
       "      <td>99.681801</td>\n",
       "      <td>99.684502</td>\n",
       "      <td>2020</td>\n",
       "      <td>3</td>\n",
       "      <td>13</td>\n",
       "      <td>16</td>\n",
       "      <td>0</td>\n",
       "      <td>4</td>\n",
       "      <td>...</td>\n",
       "      <td>0.0</td>\n",
       "      <td>0.0</td>\n",
       "      <td>0.0</td>\n",
       "      <td>0.0</td>\n",
       "      <td>0.0</td>\n",
       "      <td>0.0</td>\n",
       "      <td>0.0</td>\n",
       "      <td>0.0</td>\n",
       "      <td>0.0</td>\n",
       "      <td>0.0</td>\n",
       "    </tr>\n",
       "  </tbody>\n",
       "</table>\n",
       "<p>5 rows × 31 columns</p>\n",
       "</div>"
      ],
      "text/plain": [
       "           업체명         기초금액         예가     업체별사정율  year  month  day  hour  \\\n",
       "0     제이티건설(주)  166200000.0  99.407501  99.456497  2020      3   13    16   \n",
       "1  통일종합건설 주식회사   49000000.0  99.273003  99.513802  2020      3   13    16   \n",
       "2    성문건설 주식회사   35000000.0  99.120697  99.411400  2020      3   13    16   \n",
       "3    (주)덕산종합건설   27000000.0  99.877800  99.988602  2020      3   13    16   \n",
       "4       (유)아라야   64460000.0  99.681801  99.684502  2020      3   13    16   \n",
       "\n",
       "   minute  dayofweek  ...   서울   부산   제주   대구   인천   대전   광주   울산   전국   세종  \n",
       "0       0          4  ...  0.0  0.0  0.0  0.0  0.0  0.0  0.0  0.0  0.0  0.0  \n",
       "1       0          4  ...  0.0  0.0  0.0  0.0  0.0  0.0  0.0  0.0  0.0  0.0  \n",
       "2       0          4  ...  0.0  0.0  0.0  0.0  0.0  0.0  0.0  0.0  0.0  0.0  \n",
       "3       0          4  ...  0.0  0.0  0.0  0.0  0.0  0.0  0.0  0.0  0.0  0.0  \n",
       "4       0          4  ...  0.0  0.0  0.0  0.0  0.0  0.0  0.0  0.0  0.0  0.0  \n",
       "\n",
       "[5 rows x 31 columns]"
      ]
     },
     "execution_count": 76,
     "metadata": {},
     "output_type": "execute_result"
    }
   ],
   "source": [
    "df.head()"
   ]
  },
  {
   "cell_type": "markdown",
   "metadata": {},
   "source": [
    "### 지역도 잘 합쳐져 있는지 확인합니다"
   ]
  },
  {
   "cell_type": "code",
   "execution_count": 77,
   "metadata": {},
   "outputs": [
    {
     "data": {
      "text/html": [
       "<div>\n",
       "<style scoped>\n",
       "    .dataframe tbody tr th:only-of-type {\n",
       "        vertical-align: middle;\n",
       "    }\n",
       "\n",
       "    .dataframe tbody tr th {\n",
       "        vertical-align: top;\n",
       "    }\n",
       "\n",
       "    .dataframe thead th {\n",
       "        text-align: right;\n",
       "    }\n",
       "</style>\n",
       "<table border=\"1\" class=\"dataframe\">\n",
       "  <thead>\n",
       "    <tr style=\"text-align: right;\">\n",
       "      <th></th>\n",
       "      <th>전남</th>\n",
       "      <th>경북</th>\n",
       "      <th>경기</th>\n",
       "      <th>경남</th>\n",
       "      <th>강원</th>\n",
       "      <th>전북</th>\n",
       "      <th>충남</th>\n",
       "      <th>충북</th>\n",
       "      <th>서울</th>\n",
       "      <th>부산</th>\n",
       "      <th>제주</th>\n",
       "      <th>대구</th>\n",
       "      <th>인천</th>\n",
       "      <th>대전</th>\n",
       "      <th>광주</th>\n",
       "      <th>울산</th>\n",
       "      <th>전국</th>\n",
       "      <th>세종</th>\n",
       "    </tr>\n",
       "  </thead>\n",
       "  <tbody>\n",
       "    <tr>\n",
       "      <th>31771</th>\n",
       "      <td>0.0</td>\n",
       "      <td>0.0</td>\n",
       "      <td>0.0</td>\n",
       "      <td>1.0</td>\n",
       "      <td>0.0</td>\n",
       "      <td>0.0</td>\n",
       "      <td>0.0</td>\n",
       "      <td>0.0</td>\n",
       "      <td>0.0</td>\n",
       "      <td>0.0</td>\n",
       "      <td>0.0</td>\n",
       "      <td>0.0</td>\n",
       "      <td>0.0</td>\n",
       "      <td>0.0</td>\n",
       "      <td>0.0</td>\n",
       "      <td>0.0</td>\n",
       "      <td>0.0</td>\n",
       "      <td>0.0</td>\n",
       "    </tr>\n",
       "    <tr>\n",
       "      <th>31772</th>\n",
       "      <td>0.0</td>\n",
       "      <td>0.0</td>\n",
       "      <td>0.0</td>\n",
       "      <td>0.0</td>\n",
       "      <td>0.0</td>\n",
       "      <td>0.0</td>\n",
       "      <td>0.0</td>\n",
       "      <td>0.0</td>\n",
       "      <td>0.0</td>\n",
       "      <td>0.0</td>\n",
       "      <td>0.0</td>\n",
       "      <td>0.0</td>\n",
       "      <td>0.0</td>\n",
       "      <td>0.0</td>\n",
       "      <td>0.0</td>\n",
       "      <td>0.0</td>\n",
       "      <td>1.0</td>\n",
       "      <td>0.0</td>\n",
       "    </tr>\n",
       "    <tr>\n",
       "      <th>31773</th>\n",
       "      <td>0.0</td>\n",
       "      <td>0.0</td>\n",
       "      <td>0.0</td>\n",
       "      <td>0.0</td>\n",
       "      <td>0.0</td>\n",
       "      <td>0.0</td>\n",
       "      <td>0.0</td>\n",
       "      <td>0.0</td>\n",
       "      <td>0.0</td>\n",
       "      <td>0.0</td>\n",
       "      <td>0.0</td>\n",
       "      <td>0.0</td>\n",
       "      <td>0.0</td>\n",
       "      <td>0.0</td>\n",
       "      <td>0.0</td>\n",
       "      <td>0.0</td>\n",
       "      <td>1.0</td>\n",
       "      <td>0.0</td>\n",
       "    </tr>\n",
       "    <tr>\n",
       "      <th>31774</th>\n",
       "      <td>0.0</td>\n",
       "      <td>0.0</td>\n",
       "      <td>0.0</td>\n",
       "      <td>0.0</td>\n",
       "      <td>0.0</td>\n",
       "      <td>0.0</td>\n",
       "      <td>0.0</td>\n",
       "      <td>1.0</td>\n",
       "      <td>0.0</td>\n",
       "      <td>0.0</td>\n",
       "      <td>0.0</td>\n",
       "      <td>0.0</td>\n",
       "      <td>0.0</td>\n",
       "      <td>0.0</td>\n",
       "      <td>0.0</td>\n",
       "      <td>0.0</td>\n",
       "      <td>0.0</td>\n",
       "      <td>0.0</td>\n",
       "    </tr>\n",
       "    <tr>\n",
       "      <th>31775</th>\n",
       "      <td>0.0</td>\n",
       "      <td>0.0</td>\n",
       "      <td>0.0</td>\n",
       "      <td>1.0</td>\n",
       "      <td>0.0</td>\n",
       "      <td>0.0</td>\n",
       "      <td>0.0</td>\n",
       "      <td>0.0</td>\n",
       "      <td>0.0</td>\n",
       "      <td>0.0</td>\n",
       "      <td>0.0</td>\n",
       "      <td>0.0</td>\n",
       "      <td>0.0</td>\n",
       "      <td>0.0</td>\n",
       "      <td>0.0</td>\n",
       "      <td>0.0</td>\n",
       "      <td>0.0</td>\n",
       "      <td>0.0</td>\n",
       "    </tr>\n",
       "  </tbody>\n",
       "</table>\n",
       "</div>"
      ],
      "text/plain": [
       "        전남   경북   경기   경남   강원   전북   충남   충북   서울   부산   제주   대구   인천   대전  \\\n",
       "31771  0.0  0.0  0.0  1.0  0.0  0.0  0.0  0.0  0.0  0.0  0.0  0.0  0.0  0.0   \n",
       "31772  0.0  0.0  0.0  0.0  0.0  0.0  0.0  0.0  0.0  0.0  0.0  0.0  0.0  0.0   \n",
       "31773  0.0  0.0  0.0  0.0  0.0  0.0  0.0  0.0  0.0  0.0  0.0  0.0  0.0  0.0   \n",
       "31774  0.0  0.0  0.0  0.0  0.0  0.0  0.0  1.0  0.0  0.0  0.0  0.0  0.0  0.0   \n",
       "31775  0.0  0.0  0.0  1.0  0.0  0.0  0.0  0.0  0.0  0.0  0.0  0.0  0.0  0.0   \n",
       "\n",
       "        광주   울산   전국   세종  \n",
       "31771  0.0  0.0  0.0  0.0  \n",
       "31772  0.0  0.0  1.0  0.0  \n",
       "31773  0.0  0.0  1.0  0.0  \n",
       "31774  0.0  0.0  0.0  0.0  \n",
       "31775  0.0  0.0  0.0  0.0  "
      ]
     },
     "execution_count": 77,
     "metadata": {},
     "output_type": "execute_result"
    }
   ],
   "source": [
    "df.iloc[:, 13:].tail()"
   ]
  },
  {
   "cell_type": "code",
   "execution_count": 78,
   "metadata": {},
   "outputs": [
    {
     "data": {
      "text/plain": [
       "31771    경남\n",
       "31772    전국\n",
       "31773    전국\n",
       "31774    충북\n",
       "31775    경남\n",
       "Name: 지역, dtype: object"
      ]
     },
     "execution_count": 78,
     "metadata": {},
     "output_type": "execute_result"
    }
   ],
   "source": [
    "train['지역'].tail()"
   ]
  },
  {
   "cell_type": "markdown",
   "metadata": {},
   "source": [
    "### 업체별사정율 -> 사정율 (컬럼명 변환)"
   ]
  },
  {
   "cell_type": "code",
   "execution_count": 79,
   "metadata": {},
   "outputs": [],
   "source": [
    "df = df.rename(columns={'업체별사정율': '사정율'})"
   ]
  },
  {
   "cell_type": "code",
   "execution_count": 80,
   "metadata": {},
   "outputs": [
    {
     "data": {
      "text/html": [
       "<div>\n",
       "<style scoped>\n",
       "    .dataframe tbody tr th:only-of-type {\n",
       "        vertical-align: middle;\n",
       "    }\n",
       "\n",
       "    .dataframe tbody tr th {\n",
       "        vertical-align: top;\n",
       "    }\n",
       "\n",
       "    .dataframe thead th {\n",
       "        text-align: right;\n",
       "    }\n",
       "</style>\n",
       "<table border=\"1\" class=\"dataframe\">\n",
       "  <thead>\n",
       "    <tr style=\"text-align: right;\">\n",
       "      <th></th>\n",
       "      <th>업체명</th>\n",
       "      <th>기초금액</th>\n",
       "      <th>예가</th>\n",
       "      <th>사정율</th>\n",
       "      <th>year</th>\n",
       "      <th>month</th>\n",
       "      <th>day</th>\n",
       "      <th>hour</th>\n",
       "      <th>minute</th>\n",
       "      <th>dayofweek</th>\n",
       "      <th>...</th>\n",
       "      <th>서울</th>\n",
       "      <th>부산</th>\n",
       "      <th>제주</th>\n",
       "      <th>대구</th>\n",
       "      <th>인천</th>\n",
       "      <th>대전</th>\n",
       "      <th>광주</th>\n",
       "      <th>울산</th>\n",
       "      <th>전국</th>\n",
       "      <th>세종</th>\n",
       "    </tr>\n",
       "  </thead>\n",
       "  <tbody>\n",
       "    <tr>\n",
       "      <th>0</th>\n",
       "      <td>제이티건설(주)</td>\n",
       "      <td>166200000.0</td>\n",
       "      <td>99.407501</td>\n",
       "      <td>99.456497</td>\n",
       "      <td>2020</td>\n",
       "      <td>3</td>\n",
       "      <td>13</td>\n",
       "      <td>16</td>\n",
       "      <td>0</td>\n",
       "      <td>4</td>\n",
       "      <td>...</td>\n",
       "      <td>0.0</td>\n",
       "      <td>0.0</td>\n",
       "      <td>0.0</td>\n",
       "      <td>0.0</td>\n",
       "      <td>0.0</td>\n",
       "      <td>0.0</td>\n",
       "      <td>0.0</td>\n",
       "      <td>0.0</td>\n",
       "      <td>0.0</td>\n",
       "      <td>0.0</td>\n",
       "    </tr>\n",
       "    <tr>\n",
       "      <th>1</th>\n",
       "      <td>통일종합건설 주식회사</td>\n",
       "      <td>49000000.0</td>\n",
       "      <td>99.273003</td>\n",
       "      <td>99.513802</td>\n",
       "      <td>2020</td>\n",
       "      <td>3</td>\n",
       "      <td>13</td>\n",
       "      <td>16</td>\n",
       "      <td>0</td>\n",
       "      <td>4</td>\n",
       "      <td>...</td>\n",
       "      <td>0.0</td>\n",
       "      <td>0.0</td>\n",
       "      <td>0.0</td>\n",
       "      <td>0.0</td>\n",
       "      <td>0.0</td>\n",
       "      <td>0.0</td>\n",
       "      <td>0.0</td>\n",
       "      <td>0.0</td>\n",
       "      <td>0.0</td>\n",
       "      <td>0.0</td>\n",
       "    </tr>\n",
       "    <tr>\n",
       "      <th>2</th>\n",
       "      <td>성문건설 주식회사</td>\n",
       "      <td>35000000.0</td>\n",
       "      <td>99.120697</td>\n",
       "      <td>99.411400</td>\n",
       "      <td>2020</td>\n",
       "      <td>3</td>\n",
       "      <td>13</td>\n",
       "      <td>16</td>\n",
       "      <td>0</td>\n",
       "      <td>4</td>\n",
       "      <td>...</td>\n",
       "      <td>0.0</td>\n",
       "      <td>0.0</td>\n",
       "      <td>0.0</td>\n",
       "      <td>0.0</td>\n",
       "      <td>0.0</td>\n",
       "      <td>0.0</td>\n",
       "      <td>0.0</td>\n",
       "      <td>0.0</td>\n",
       "      <td>0.0</td>\n",
       "      <td>0.0</td>\n",
       "    </tr>\n",
       "    <tr>\n",
       "      <th>3</th>\n",
       "      <td>(주)덕산종합건설</td>\n",
       "      <td>27000000.0</td>\n",
       "      <td>99.877800</td>\n",
       "      <td>99.988602</td>\n",
       "      <td>2020</td>\n",
       "      <td>3</td>\n",
       "      <td>13</td>\n",
       "      <td>16</td>\n",
       "      <td>0</td>\n",
       "      <td>4</td>\n",
       "      <td>...</td>\n",
       "      <td>0.0</td>\n",
       "      <td>0.0</td>\n",
       "      <td>0.0</td>\n",
       "      <td>0.0</td>\n",
       "      <td>0.0</td>\n",
       "      <td>0.0</td>\n",
       "      <td>0.0</td>\n",
       "      <td>0.0</td>\n",
       "      <td>0.0</td>\n",
       "      <td>0.0</td>\n",
       "    </tr>\n",
       "    <tr>\n",
       "      <th>4</th>\n",
       "      <td>(유)아라야</td>\n",
       "      <td>64460000.0</td>\n",
       "      <td>99.681801</td>\n",
       "      <td>99.684502</td>\n",
       "      <td>2020</td>\n",
       "      <td>3</td>\n",
       "      <td>13</td>\n",
       "      <td>16</td>\n",
       "      <td>0</td>\n",
       "      <td>4</td>\n",
       "      <td>...</td>\n",
       "      <td>0.0</td>\n",
       "      <td>0.0</td>\n",
       "      <td>0.0</td>\n",
       "      <td>0.0</td>\n",
       "      <td>0.0</td>\n",
       "      <td>0.0</td>\n",
       "      <td>0.0</td>\n",
       "      <td>0.0</td>\n",
       "      <td>0.0</td>\n",
       "      <td>0.0</td>\n",
       "    </tr>\n",
       "  </tbody>\n",
       "</table>\n",
       "<p>5 rows × 31 columns</p>\n",
       "</div>"
      ],
      "text/plain": [
       "           업체명         기초금액         예가        사정율  year  month  day  hour  \\\n",
       "0     제이티건설(주)  166200000.0  99.407501  99.456497  2020      3   13    16   \n",
       "1  통일종합건설 주식회사   49000000.0  99.273003  99.513802  2020      3   13    16   \n",
       "2    성문건설 주식회사   35000000.0  99.120697  99.411400  2020      3   13    16   \n",
       "3    (주)덕산종합건설   27000000.0  99.877800  99.988602  2020      3   13    16   \n",
       "4       (유)아라야   64460000.0  99.681801  99.684502  2020      3   13    16   \n",
       "\n",
       "   minute  dayofweek  ...   서울   부산   제주   대구   인천   대전   광주   울산   전국   세종  \n",
       "0       0          4  ...  0.0  0.0  0.0  0.0  0.0  0.0  0.0  0.0  0.0  0.0  \n",
       "1       0          4  ...  0.0  0.0  0.0  0.0  0.0  0.0  0.0  0.0  0.0  0.0  \n",
       "2       0          4  ...  0.0  0.0  0.0  0.0  0.0  0.0  0.0  0.0  0.0  0.0  \n",
       "3       0          4  ...  0.0  0.0  0.0  0.0  0.0  0.0  0.0  0.0  0.0  0.0  \n",
       "4       0          4  ...  0.0  0.0  0.0  0.0  0.0  0.0  0.0  0.0  0.0  0.0  \n",
       "\n",
       "[5 rows x 31 columns]"
      ]
     },
     "execution_count": 80,
     "metadata": {},
     "output_type": "execute_result"
    }
   ],
   "source": [
    "df.head()"
   ]
  },
  {
   "cell_type": "markdown",
   "metadata": {},
   "source": [
    "## 8. 사정율 - 예가 컬럼 생성 (1등 업체의 근접도 확인)"
   ]
  },
  {
   "cell_type": "code",
   "execution_count": 81,
   "metadata": {},
   "outputs": [],
   "source": [
    "df['근접율'] = abs(df['예가'] - df['사정율'])"
   ]
  },
  {
   "cell_type": "code",
   "execution_count": 99,
   "metadata": {},
   "outputs": [
    {
     "data": {
      "image/png": "[encoded data removed]",
      "text/plain": [
       "<Figure size 720x432 with 1 Axes>"
      ]
     },
     "metadata": {},
     "output_type": "display_data"
    }
   ],
   "source": [
    "plt.figure(figsize=(10, 6))\n",
    "sns.distplot(df['근접율'])\n",
    "plt.title('근접율 분포도', fontsize=18)\n",
    "plt.show()"
   ]
  },
  {
   "cell_type": "code",
   "execution_count": 83,
   "metadata": {},
   "outputs": [
    {
     "data": {
      "text/plain": [
       "288     100.150597\n",
       "345      99.907997\n",
       "854      99.307800\n",
       "1046    100.894501\n",
       "2227     99.351601\n",
       "2292    100.069702\n",
       "2764     98.986198\n",
       "2765    100.400200\n",
       "2798    100.603203\n",
       "3056     99.776497\n",
       "3298    100.022202\n",
       "3972    100.263702\n",
       "4044    100.124496\n",
       "4242     99.884697\n",
       "4591    100.806999\n",
       "5824    100.657700\n",
       "5826    100.247002\n",
       "6035     99.893700\n",
       "6185    100.836197\n",
       "6189    100.503700\n",
       "Name: 근접율, dtype: float32"
      ]
     },
     "execution_count": 83,
     "metadata": {},
     "output_type": "execute_result"
    }
   ],
   "source": [
    "df.loc[df['근접율'] > 30, '근접율'].head(20)"
   ]
  },
  {
   "cell_type": "markdown",
   "metadata": {},
   "source": [
    "사정율이 나와 있지 않은 column은 우리가 0으로 채워 주었기 때문에 100 이상의 수치가 나온다. \n",
    "\n",
    "해당 컬럼은 제외하고 다시 시각화"
   ]
  },
  {
   "cell_type": "code",
   "execution_count": 98,
   "metadata": {},
   "outputs": [
    {
     "data": {
      "image/png": "[encoded data removed]",
      "text/plain": [
       "<Figure size 720x432 with 1 Axes>"
      ]
     },
     "metadata": {},
     "output_type": "display_data"
    }
   ],
   "source": [
    "plt.figure(figsize=(10, 6))\n",
    "sns.distplot(df.loc[df['근접율'] < 1, '근접율'])\n",
    "plt.title('근접율 분포도', fontsize=18)\n",
    "plt.show()"
   ]
  },
  {
   "cell_type": "markdown",
   "metadata": {},
   "source": [
    "선정된 대다수의 업체가 **근접율을 0.0 ~ 0.2 이하**로 가져가고 있다는 점을 볼 수 있다"
   ]
  },
  {
   "cell_type": "markdown",
   "metadata": {},
   "source": [
    "## 8. 상위 업체 사정율 분석"
   ]
  },
  {
   "cell_type": "markdown",
   "metadata": {},
   "source": [
    "주로 활용할 유의미한 feature 정의\n",
    "- 예가 (예측 label)\n",
    "- 일자 (datetime) 관련 column\n",
    "\n",
    "안타깝께도... 기타 활용할만한 지표는 크게 보이지 않는다."
   ]
  },
  {
   "cell_type": "markdown",
   "metadata": {},
   "source": [
    "### 잘 되는 업체의 사정율 확인"
   ]
  },
  {
   "cell_type": "code",
   "execution_count": 85,
   "metadata": {},
   "outputs": [
    {
     "data": {
      "text/plain": [
       "태양종합건설 주식회사      28\n",
       "신우건설 주식회사        28\n",
       "남광건설 주식회사        27\n",
       "신영종합건설(주)        25\n",
       "주식회사 우리종합건설      25\n",
       "일진건설 주식회사        25\n",
       "동우건설 주식회사        24\n",
       "삼진건설(주)          24\n",
       "주식회사 혜성종합건설      23\n",
       "보광종합건설 주식회사      23\n",
       "우일종합건설(주)        22\n",
       "효창건설(주)          22\n",
       "청암종합건설 주식회사      22\n",
       "영진건설(주)          22\n",
       "대연종합건설 주식회사      22\n",
       "거성종합건설(주)        21\n",
       "세움종합건설 주식회사      21\n",
       "세원종합건설 주식회사      21\n",
       "우진종합건설(주)        20\n",
       "두마종합건설주식회사       20\n",
       "주식회사 부림종합건설      20\n",
       "주식회사 덕성건설        20\n",
       "우림종합건설(주)        20\n",
       "서림종합건설 주식회사      20\n",
       "유창건설 주식회사        20\n",
       "(주)동일종합건설        20\n",
       "대림종합건설 주식회사      20\n",
       "예림종합건설(주)        20\n",
       "청진건설주식회사         20\n",
       "주식회사 태화건설        19\n",
       "대창건설(주)          19\n",
       "성원건설(주)          19\n",
       "승원종합건설(주)        19\n",
       "제이와이건설 주식회사      19\n",
       "금종종합건설 주식회사      19\n",
       "(주)거성종합건설        19\n",
       "주식회사 에스엠건설       19\n",
       "성인종합건설 주식회사      19\n",
       "대호종합건설(주)        19\n",
       "대원건설(주)          18\n",
       "주식회사 다우종합건설      18\n",
       "주식회사 일성건설        18\n",
       "대영건설 주식회사        18\n",
       "대일종합건설 주식회사      18\n",
       "제이티건설(주)         18\n",
       "(주)삼구건설          18\n",
       "태창건설합자회사         18\n",
       "주식회사 조영건설        18\n",
       "제이케이종합건설 주식회사    18\n",
       "주식회사 백율          17\n",
       "Name: 업체명, dtype: int64"
      ]
     },
     "execution_count": 85,
     "metadata": {},
     "output_type": "execute_result"
    }
   ],
   "source": [
    "df['업체명'].value_counts().head(50)"
   ]
  },
  {
   "cell_type": "markdown",
   "metadata": {},
   "source": [
    "### 시각화 함수화"
   ]
  },
  {
   "cell_type": "code",
   "execution_count": 139,
   "metadata": {},
   "outputs": [],
   "source": [
    "def visualize_pct_time(data):\n",
    "    plt.figure(figsize=(10, 6))\n",
    "    d = data.groupby('year')['사정율'].mean()\n",
    "    sns.barplot(x=d.index, y=d)\n",
    "    plt.ylim(d.min() - 0.02, d.max() + 0.02)\n",
    "    plt.title('평균 사정율 (연도별)', fontsize=18)\n",
    "    plt.show()\n",
    "    print(d)\n",
    "    print('===='*10)\n",
    "    \n",
    "    plt.figure(figsize=(10, 6))\n",
    "    d = data.groupby('quarter')['사정율'].mean()\n",
    "    sns.barplot(x=d.index, y=d)\n",
    "    plt.ylim(d.min() - 0.02, d.max() + 0.02)\n",
    "    plt.title('평균 사정율 (분기별)', fontsize=18)\n",
    "    plt.show()\n",
    "    print(d)\n",
    "    print('===='*10)\n",
    "    \n",
    "    plt.figure(figsize=(10, 6))\n",
    "    d = data.groupby('month')['사정율'].mean()\n",
    "    sns.barplot(x=d.index, y=d)\n",
    "    plt.ylim(d.min() - 0.02, d.max() + 0.02)\n",
    "    plt.title('평균 사정율 (월별)', fontsize=18)\n",
    "    plt.show()\n",
    "    print(d)\n",
    "    print('===='*10)\n",
    "    \n",
    "    plt.figure(figsize=(10, 6))\n",
    "    d = data.groupby('day')['사정율'].mean()\n",
    "    sns.barplot(x=d.index, y=d)\n",
    "    plt.ylim(d.min() - 0.02, d.max() + 0.02)\n",
    "    plt.title('평균 사정율 (일자별)', fontsize=18)\n",
    "    plt.show()\n",
    "    print(d)\n",
    "    print('===='*10)\n",
    "    \n",
    "    plt.figure(figsize=(10, 6))\n",
    "    d = data.groupby('dayofweek')['사정율'].mean()\n",
    "    sns.barplot(x=d.index, y=d)\n",
    "    plt.ylim(d.min() - 0.02, d.max() + 0.02)\n",
    "    plt.title('평균 사정율 (요일별)', fontsize=18)\n",
    "    plt.show()\n",
    "    print(d)\n",
    "    print('===='*10)\n",
    "    \n",
    "    plt.figure(figsize=(10, 6))\n",
    "    d = data.groupby('hour')['사정율'].mean()\n",
    "    sns.barplot(x=d.index, y=d)\n",
    "    plt.ylim(d.min() - 0.02, d.max() + 0.02)\n",
    "    plt.title('평균 사정율 (시간별)', fontsize=18)\n",
    "    plt.show()\n",
    "    print(d)\n",
    "    print('===='*10)\n",
    "    \n",
    "    plt.figure(figsize=(10, 6))\n",
    "    d = data.groupby('minute')['사정율'].mean()\n",
    "    sns.barplot(x=d.index, y=d)\n",
    "    plt.ylim(d.min() - 0.02, d.max() + 0.02)\n",
    "    plt.title('평균 사정율 (분별)', fontsize=18)\n",
    "    plt.show()\n",
    "    print(d)\n",
    "    print('===='*10)\n",
    "    \n",
    "    plt.figure(figsize=(10, 6))\n",
    "    d = data.groupby('weekofyear')['사정율'].mean()\n",
    "    sns.barplot(x=d.index, y=d)\n",
    "    plt.ylim(d.min() - 0.02, d.max() + 0.02)\n",
    "    plt.title('평균 사정율 (주차별)', fontsize=18)\n",
    "    plt.show()\n",
    "    print(d)\n",
    "    print('===='*10)"
   ]
  },
  {
   "cell_type": "code",
   "execution_count": 140,
   "metadata": {},
   "outputs": [
    {
     "data": {
      "application/javascript": [
       "IPython.OutputArea.auto_scroll_threshold = 9999;"
      ],
      "text/plain": [
       "<IPython.core.display.Javascript object>"
      ]
     },
     "metadata": {},
     "output_type": "display_data"
    }
   ],
   "source": [
    "%%javascript\n",
    "IPython.OutputArea.auto_scroll_threshold = 9999;"
   ]
  },
  {
   "cell_type": "markdown",
   "metadata": {},
   "source": [
    "### top 50개 업체 분석"
   ]
  },
  {
   "cell_type": "code",
   "execution_count": 144,
   "metadata": {},
   "outputs": [
    {
     "data": {
      "text/plain": [
       "태양종합건설 주식회사      28\n",
       "신우건설 주식회사        28\n",
       "남광건설 주식회사        27\n",
       "신영종합건설(주)        25\n",
       "주식회사 우리종합건설      25\n",
       "일진건설 주식회사        25\n",
       "동우건설 주식회사        24\n",
       "삼진건설(주)          24\n",
       "주식회사 혜성종합건설      23\n",
       "보광종합건설 주식회사      23\n",
       "우일종합건설(주)        22\n",
       "효창건설(주)          22\n",
       "청암종합건설 주식회사      22\n",
       "영진건설(주)          22\n",
       "대연종합건설 주식회사      22\n",
       "거성종합건설(주)        21\n",
       "세움종합건설 주식회사      21\n",
       "세원종합건설 주식회사      21\n",
       "우진종합건설(주)        20\n",
       "두마종합건설주식회사       20\n",
       "주식회사 부림종합건설      20\n",
       "주식회사 덕성건설        20\n",
       "우림종합건설(주)        20\n",
       "서림종합건설 주식회사      20\n",
       "유창건설 주식회사        20\n",
       "(주)동일종합건설        20\n",
       "대림종합건설 주식회사      20\n",
       "예림종합건설(주)        20\n",
       "청진건설주식회사         20\n",
       "주식회사 태화건설        19\n",
       "대창건설(주)          19\n",
       "성원건설(주)          19\n",
       "승원종합건설(주)        19\n",
       "제이와이건설 주식회사      19\n",
       "금종종합건설 주식회사      19\n",
       "(주)거성종합건설        19\n",
       "주식회사 에스엠건설       19\n",
       "성인종합건설 주식회사      19\n",
       "대호종합건설(주)        19\n",
       "대원건설(주)          18\n",
       "주식회사 다우종합건설      18\n",
       "주식회사 일성건설        18\n",
       "대영건설 주식회사        18\n",
       "대일종합건설 주식회사      18\n",
       "제이티건설(주)         18\n",
       "(주)삼구건설          18\n",
       "태창건설합자회사         18\n",
       "주식회사 조영건설        18\n",
       "제이케이종합건설 주식회사    18\n",
       "주식회사 백율          17\n",
       "Name: 업체명, dtype: int64"
      ]
     },
     "execution_count": 144,
     "metadata": {},
     "output_type": "execute_result"
    }
   ],
   "source": [
    "df['업체명'].value_counts().head(50)"
   ]
  },
  {
   "cell_type": "code",
   "execution_count": 148,
   "metadata": {},
   "outputs": [
    {
     "data": {
      "text/plain": [
       "['태양종합건설 주식회사', '신우건설 주식회사', '남광건설 주식회사', '신영종합건설(주)', '주식회사 우리종합건설']"
      ]
     },
     "execution_count": 148,
     "metadata": {},
     "output_type": "execute_result"
    }
   ],
   "source": [
    "company = list(df['업체명'].value_counts().head(50).keys())\n",
    "company[:5]"
   ]
  },
  {
   "cell_type": "code",
   "execution_count": 150,
   "metadata": {},
   "outputs": [
    {
     "data": {
      "text/html": [
       "<div>\n",
       "<style scoped>\n",
       "    .dataframe tbody tr th:only-of-type {\n",
       "        vertical-align: middle;\n",
       "    }\n",
       "\n",
       "    .dataframe tbody tr th {\n",
       "        vertical-align: top;\n",
       "    }\n",
       "\n",
       "    .dataframe thead th {\n",
       "        text-align: right;\n",
       "    }\n",
       "</style>\n",
       "<table border=\"1\" class=\"dataframe\">\n",
       "  <thead>\n",
       "    <tr style=\"text-align: right;\">\n",
       "      <th></th>\n",
       "      <th>업체명</th>\n",
       "      <th>기초금액</th>\n",
       "      <th>예가</th>\n",
       "      <th>사정율</th>\n",
       "      <th>year</th>\n",
       "      <th>month</th>\n",
       "      <th>day</th>\n",
       "      <th>hour</th>\n",
       "      <th>minute</th>\n",
       "      <th>dayofweek</th>\n",
       "      <th>...</th>\n",
       "      <th>부산</th>\n",
       "      <th>제주</th>\n",
       "      <th>대구</th>\n",
       "      <th>인천</th>\n",
       "      <th>대전</th>\n",
       "      <th>광주</th>\n",
       "      <th>울산</th>\n",
       "      <th>전국</th>\n",
       "      <th>세종</th>\n",
       "      <th>근접율</th>\n",
       "    </tr>\n",
       "  </thead>\n",
       "  <tbody>\n",
       "    <tr>\n",
       "      <th>0</th>\n",
       "      <td>제이티건설(주)</td>\n",
       "      <td>166200000.0</td>\n",
       "      <td>99.407501</td>\n",
       "      <td>99.456497</td>\n",
       "      <td>2020</td>\n",
       "      <td>3</td>\n",
       "      <td>13</td>\n",
       "      <td>16</td>\n",
       "      <td>0</td>\n",
       "      <td>4</td>\n",
       "      <td>...</td>\n",
       "      <td>0.0</td>\n",
       "      <td>0.0</td>\n",
       "      <td>0.0</td>\n",
       "      <td>0.0</td>\n",
       "      <td>0.0</td>\n",
       "      <td>0.0</td>\n",
       "      <td>0.0</td>\n",
       "      <td>0.0</td>\n",
       "      <td>0.0</td>\n",
       "      <td>0.048996</td>\n",
       "    </tr>\n",
       "    <tr>\n",
       "      <th>7</th>\n",
       "      <td>(주)동일종합건설</td>\n",
       "      <td>131254000.0</td>\n",
       "      <td>100.563698</td>\n",
       "      <td>100.712997</td>\n",
       "      <td>2020</td>\n",
       "      <td>3</td>\n",
       "      <td>13</td>\n",
       "      <td>15</td>\n",
       "      <td>0</td>\n",
       "      <td>4</td>\n",
       "      <td>...</td>\n",
       "      <td>0.0</td>\n",
       "      <td>0.0</td>\n",
       "      <td>0.0</td>\n",
       "      <td>0.0</td>\n",
       "      <td>0.0</td>\n",
       "      <td>0.0</td>\n",
       "      <td>0.0</td>\n",
       "      <td>0.0</td>\n",
       "      <td>0.0</td>\n",
       "      <td>0.149300</td>\n",
       "    </tr>\n",
       "    <tr>\n",
       "      <th>19</th>\n",
       "      <td>대림종합건설 주식회사</td>\n",
       "      <td>152384992.0</td>\n",
       "      <td>100.215202</td>\n",
       "      <td>100.254097</td>\n",
       "      <td>2020</td>\n",
       "      <td>3</td>\n",
       "      <td>13</td>\n",
       "      <td>11</td>\n",
       "      <td>0</td>\n",
       "      <td>4</td>\n",
       "      <td>...</td>\n",
       "      <td>0.0</td>\n",
       "      <td>0.0</td>\n",
       "      <td>0.0</td>\n",
       "      <td>0.0</td>\n",
       "      <td>0.0</td>\n",
       "      <td>0.0</td>\n",
       "      <td>0.0</td>\n",
       "      <td>0.0</td>\n",
       "      <td>0.0</td>\n",
       "      <td>0.038895</td>\n",
       "    </tr>\n",
       "    <tr>\n",
       "      <th>20</th>\n",
       "      <td>(주)동일종합건설</td>\n",
       "      <td>140848000.0</td>\n",
       "      <td>99.618202</td>\n",
       "      <td>99.675301</td>\n",
       "      <td>2020</td>\n",
       "      <td>3</td>\n",
       "      <td>12</td>\n",
       "      <td>17</td>\n",
       "      <td>0</td>\n",
       "      <td>3</td>\n",
       "      <td>...</td>\n",
       "      <td>0.0</td>\n",
       "      <td>0.0</td>\n",
       "      <td>0.0</td>\n",
       "      <td>0.0</td>\n",
       "      <td>0.0</td>\n",
       "      <td>0.0</td>\n",
       "      <td>0.0</td>\n",
       "      <td>0.0</td>\n",
       "      <td>0.0</td>\n",
       "      <td>0.057098</td>\n",
       "    </tr>\n",
       "    <tr>\n",
       "      <th>48</th>\n",
       "      <td>우림종합건설(주)</td>\n",
       "      <td>99250000.0</td>\n",
       "      <td>99.945999</td>\n",
       "      <td>99.966797</td>\n",
       "      <td>2020</td>\n",
       "      <td>3</td>\n",
       "      <td>11</td>\n",
       "      <td>14</td>\n",
       "      <td>0</td>\n",
       "      <td>2</td>\n",
       "      <td>...</td>\n",
       "      <td>0.0</td>\n",
       "      <td>0.0</td>\n",
       "      <td>0.0</td>\n",
       "      <td>0.0</td>\n",
       "      <td>0.0</td>\n",
       "      <td>0.0</td>\n",
       "      <td>0.0</td>\n",
       "      <td>0.0</td>\n",
       "      <td>0.0</td>\n",
       "      <td>0.020798</td>\n",
       "    </tr>\n",
       "  </tbody>\n",
       "</table>\n",
       "<p>5 rows × 32 columns</p>\n",
       "</div>"
      ],
      "text/plain": [
       "            업체명         기초금액          예가         사정율  year  month  day  hour  \\\n",
       "0      제이티건설(주)  166200000.0   99.407501   99.456497  2020      3   13    16   \n",
       "7     (주)동일종합건설  131254000.0  100.563698  100.712997  2020      3   13    15   \n",
       "19  대림종합건설 주식회사  152384992.0  100.215202  100.254097  2020      3   13    11   \n",
       "20    (주)동일종합건설  140848000.0   99.618202   99.675301  2020      3   12    17   \n",
       "48    우림종합건설(주)   99250000.0   99.945999   99.966797  2020      3   11    14   \n",
       "\n",
       "    minute  dayofweek  ...   부산   제주   대구   인천   대전   광주   울산   전국   세종  \\\n",
       "0        0          4  ...  0.0  0.0  0.0  0.0  0.0  0.0  0.0  0.0  0.0   \n",
       "7        0          4  ...  0.0  0.0  0.0  0.0  0.0  0.0  0.0  0.0  0.0   \n",
       "19       0          4  ...  0.0  0.0  0.0  0.0  0.0  0.0  0.0  0.0  0.0   \n",
       "20       0          3  ...  0.0  0.0  0.0  0.0  0.0  0.0  0.0  0.0  0.0   \n",
       "48       0          2  ...  0.0  0.0  0.0  0.0  0.0  0.0  0.0  0.0  0.0   \n",
       "\n",
       "         근접율  \n",
       "0   0.048996  \n",
       "7   0.149300  \n",
       "19  0.038895  \n",
       "20  0.057098  \n",
       "48  0.020798  \n",
       "\n",
       "[5 rows x 32 columns]"
      ]
     },
     "execution_count": 150,
     "metadata": {},
     "output_type": "execute_result"
    }
   ],
   "source": [
    "df.loc[df['업체명'].isin(company)].head()"
   ]
  },
  {
   "cell_type": "code",
   "execution_count": 151,
   "metadata": {},
   "outputs": [
    {
     "data": {
      "text/plain": [
       "(1032, 32)"
      ]
     },
     "execution_count": 151,
     "metadata": {},
     "output_type": "execute_result"
    }
   ],
   "source": [
    "df.loc[df['업체명'].isin(company)].shape"
   ]
  },
  {
   "cell_type": "markdown",
   "metadata": {},
   "source": [
    "### 상위 50개 업체에 대한 사정율 분석"
   ]
  },
  {
   "cell_type": "code",
   "execution_count": 152,
   "metadata": {},
   "outputs": [
    {
     "data": {
      "image/png": "[encoded data removed]",
      "text/plain": [
       "<Figure size 720x432 with 1 Axes>"
      ]
     },
     "metadata": {},
     "output_type": "display_data"
    },
    {
     "name": "stdout",
     "output_type": "stream",
     "text": [
      "year\n",
      "2018     99.614723\n",
      "2019     99.650284\n",
      "2020    100.047600\n",
      "Name: 사정율, dtype: float32\n",
      "========================================\n"
     ]
    },
    {
     "data": {
      "image/png": "[encoded data removed]",
      "text/plain": [
       "<Figure size 720x432 with 1 Axes>"
      ]
     },
     "metadata": {},
     "output_type": "display_data"
    },
    {
     "name": "stdout",
     "output_type": "stream",
     "text": [
      "quarter\n",
      "1    99.524040\n",
      "2    99.793167\n",
      "3    99.495934\n",
      "4    99.726967\n",
      "Name: 사정율, dtype: float32\n",
      "========================================\n"
     ]
    },
    {
     "data": {
      "image/png": "[encoded data removed]",
      "text/plain": [
       "<Figure size 720x432 with 1 Axes>"
      ]
     },
     "metadata": {},
     "output_type": "display_data"
    },
    {
     "name": "stdout",
     "output_type": "stream",
     "text": [
      "month\n",
      "1     100.058823\n",
      "2      98.448105\n",
      "3     100.153893\n",
      "4      99.295822\n",
      "5      99.994537\n",
      "6     100.129677\n",
      "7      99.948189\n",
      "8     100.118813\n",
      "9      96.680954\n",
      "10     99.025192\n",
      "11    100.005043\n",
      "12     99.979912\n",
      "Name: 사정율, dtype: float32\n",
      "========================================\n"
     ]
    },
    {
     "data": {
      "image/png": "[encoded data removed]",
      "text/plain": [
       "<Figure size 720x432 with 1 Axes>"
      ]
     },
     "metadata": {},
     "output_type": "display_data"
    },
    {
     "name": "stdout",
     "output_type": "stream",
     "text": [
      "day\n",
      "1     101.271019\n",
      "2     100.231270\n",
      "3      97.381348\n",
      "4      99.821388\n",
      "5      99.954758\n",
      "6      99.833641\n",
      "7     100.318314\n",
      "8     100.020660\n",
      "9      99.737701\n",
      "10     99.918396\n",
      "11     98.235985\n",
      "12    100.185211\n",
      "13    100.478363\n",
      "14     99.994896\n",
      "15     99.834633\n",
      "16    100.165291\n",
      "17    100.220901\n",
      "18     99.927635\n",
      "19     99.911423\n",
      "20    100.103706\n",
      "21     97.082840\n",
      "22    100.683266\n",
      "23    100.495117\n",
      "24     99.625702\n",
      "25     99.886864\n",
      "26    100.223473\n",
      "27     99.914177\n",
      "28     99.872894\n",
      "29     99.967613\n",
      "30     96.702568\n",
      "31     99.965637\n",
      "Name: 사정율, dtype: float32\n",
      "========================================\n"
     ]
    },
    {
     "data": {
      "image/png": "[encoded data removed]",
      "text/plain": [
       "<Figure size 720x432 with 1 Axes>"
      ]
     },
     "metadata": {},
     "output_type": "display_data"
    },
    {
     "name": "stdout",
     "output_type": "stream",
     "text": [
      "dayofweek\n",
      "0     99.562622\n",
      "1     99.574066\n",
      "2     99.974068\n",
      "3     99.014107\n",
      "4    100.241432\n",
      "Name: 사정율, dtype: float32\n",
      "========================================\n"
     ]
    },
    {
     "data": {
      "image/png": "[encoded data removed]",
      "text/plain": [
       "<Figure size 720x432 with 1 Axes>"
      ]
     },
     "metadata": {},
     "output_type": "display_data"
    },
    {
     "name": "stdout",
     "output_type": "stream",
     "text": [
      "hour\n",
      "10     50.258099\n",
      "11    100.028793\n",
      "12     98.877197\n",
      "13     99.950279\n",
      "14     97.659386\n",
      "15     99.175568\n",
      "16     99.841110\n",
      "17    100.710976\n",
      "Name: 사정율, dtype: float32\n",
      "========================================\n"
     ]
    },
    {
     "data": {
      "image/png": "[encoded data removed]",
      "text/plain": [
       "<Figure size 720x432 with 1 Axes>"
      ]
     },
     "metadata": {},
     "output_type": "display_data"
    },
    {
     "name": "stdout",
     "output_type": "stream",
     "text": [
      "minute\n",
      "0      99.656639\n",
      "2      99.977829\n",
      "5      99.748566\n",
      "7     100.364998\n",
      "8     100.026352\n",
      "10     99.964233\n",
      "19    100.351303\n",
      "20    100.712151\n",
      "25     99.957802\n",
      "30     99.941765\n",
      "40    100.157654\n",
      "50    100.236298\n",
      "Name: 사정율, dtype: float32\n",
      "========================================\n"
     ]
    },
    {
     "data": {
      "image/png": "[encoded data removed]",
      "text/plain": [
       "<Figure size 720x432 with 1 Axes>"
      ]
     },
     "metadata": {},
     "output_type": "display_data"
    },
    {
     "name": "stdout",
     "output_type": "stream",
     "text": [
      "weekofyear\n",
      "1      99.661919\n",
      "2     100.014099\n",
      "3     100.747063\n",
      "4      99.940147\n",
      "5     100.009071\n",
      "6      99.955833\n",
      "7      99.823471\n",
      "8      95.927040\n",
      "9      99.859200\n",
      "10    100.142670\n",
      "11    100.001343\n",
      "12    100.518356\n",
      "13     99.893852\n",
      "14    100.370247\n",
      "15     99.850792\n",
      "16    100.627945\n",
      "17     99.982849\n",
      "18     95.889160\n",
      "19     99.727051\n",
      "20    100.228340\n",
      "21    100.135078\n",
      "22    100.518684\n",
      "23     99.685753\n",
      "24    100.148605\n",
      "25     99.961456\n",
      "26     99.614449\n",
      "27     99.932823\n",
      "28    100.017334\n",
      "29     99.884766\n",
      "30     99.870316\n",
      "31    100.464653\n",
      "32     99.721504\n",
      "33     99.657547\n",
      "34    100.685196\n",
      "35     99.553894\n",
      "36     75.060875\n",
      "37    100.103607\n",
      "38    100.163940\n",
      "39    100.151520\n",
      "40     99.986008\n",
      "41     96.657692\n",
      "42     99.729042\n",
      "43    100.439697\n",
      "44     99.698433\n",
      "45     99.980774\n",
      "46    100.067871\n",
      "47    100.138771\n",
      "48     99.932625\n",
      "49     99.713791\n",
      "50     99.992912\n",
      "51    100.159637\n",
      "52    100.053780\n",
      "Name: 사정율, dtype: float32\n",
      "========================================\n"
     ]
    }
   ],
   "source": [
    "visualize_pct_time(df.loc[df['업체명'].isin(company)])"
   ]
  },
  {
   "cell_type": "code",
   "execution_count": 153,
   "metadata": {},
   "outputs": [
    {
     "data": {
      "text/html": [
       "<div>\n",
       "<style scoped>\n",
       "    .dataframe tbody tr th:only-of-type {\n",
       "        vertical-align: middle;\n",
       "    }\n",
       "\n",
       "    .dataframe tbody tr th {\n",
       "        vertical-align: top;\n",
       "    }\n",
       "\n",
       "    .dataframe thead th {\n",
       "        text-align: right;\n",
       "    }\n",
       "</style>\n",
       "<table border=\"1\" class=\"dataframe\">\n",
       "  <thead>\n",
       "    <tr style=\"text-align: right;\">\n",
       "      <th></th>\n",
       "      <th>업체명</th>\n",
       "      <th>기초금액</th>\n",
       "      <th>예가</th>\n",
       "      <th>사정율</th>\n",
       "      <th>year</th>\n",
       "      <th>month</th>\n",
       "      <th>day</th>\n",
       "      <th>hour</th>\n",
       "      <th>minute</th>\n",
       "      <th>dayofweek</th>\n",
       "      <th>...</th>\n",
       "      <th>부산</th>\n",
       "      <th>제주</th>\n",
       "      <th>대구</th>\n",
       "      <th>인천</th>\n",
       "      <th>대전</th>\n",
       "      <th>광주</th>\n",
       "      <th>울산</th>\n",
       "      <th>전국</th>\n",
       "      <th>세종</th>\n",
       "      <th>근접율</th>\n",
       "    </tr>\n",
       "  </thead>\n",
       "  <tbody>\n",
       "    <tr>\n",
       "      <th>0</th>\n",
       "      <td>제이티건설(주)</td>\n",
       "      <td>166200000.0</td>\n",
       "      <td>99.407501</td>\n",
       "      <td>99.456497</td>\n",
       "      <td>2020</td>\n",
       "      <td>3</td>\n",
       "      <td>13</td>\n",
       "      <td>16</td>\n",
       "      <td>0</td>\n",
       "      <td>4</td>\n",
       "      <td>...</td>\n",
       "      <td>0.0</td>\n",
       "      <td>0.0</td>\n",
       "      <td>0.0</td>\n",
       "      <td>0.0</td>\n",
       "      <td>0.0</td>\n",
       "      <td>0.0</td>\n",
       "      <td>0.0</td>\n",
       "      <td>0.0</td>\n",
       "      <td>0.0</td>\n",
       "      <td>0.048996</td>\n",
       "    </tr>\n",
       "    <tr>\n",
       "      <th>1</th>\n",
       "      <td>통일종합건설 주식회사</td>\n",
       "      <td>49000000.0</td>\n",
       "      <td>99.273003</td>\n",
       "      <td>99.513802</td>\n",
       "      <td>2020</td>\n",
       "      <td>3</td>\n",
       "      <td>13</td>\n",
       "      <td>16</td>\n",
       "      <td>0</td>\n",
       "      <td>4</td>\n",
       "      <td>...</td>\n",
       "      <td>0.0</td>\n",
       "      <td>0.0</td>\n",
       "      <td>0.0</td>\n",
       "      <td>0.0</td>\n",
       "      <td>0.0</td>\n",
       "      <td>0.0</td>\n",
       "      <td>0.0</td>\n",
       "      <td>0.0</td>\n",
       "      <td>0.0</td>\n",
       "      <td>0.240799</td>\n",
       "    </tr>\n",
       "    <tr>\n",
       "      <th>2</th>\n",
       "      <td>성문건설 주식회사</td>\n",
       "      <td>35000000.0</td>\n",
       "      <td>99.120697</td>\n",
       "      <td>99.411400</td>\n",
       "      <td>2020</td>\n",
       "      <td>3</td>\n",
       "      <td>13</td>\n",
       "      <td>16</td>\n",
       "      <td>0</td>\n",
       "      <td>4</td>\n",
       "      <td>...</td>\n",
       "      <td>0.0</td>\n",
       "      <td>0.0</td>\n",
       "      <td>0.0</td>\n",
       "      <td>0.0</td>\n",
       "      <td>0.0</td>\n",
       "      <td>0.0</td>\n",
       "      <td>0.0</td>\n",
       "      <td>0.0</td>\n",
       "      <td>0.0</td>\n",
       "      <td>0.290703</td>\n",
       "    </tr>\n",
       "    <tr>\n",
       "      <th>3</th>\n",
       "      <td>(주)덕산종합건설</td>\n",
       "      <td>27000000.0</td>\n",
       "      <td>99.877800</td>\n",
       "      <td>99.988602</td>\n",
       "      <td>2020</td>\n",
       "      <td>3</td>\n",
       "      <td>13</td>\n",
       "      <td>16</td>\n",
       "      <td>0</td>\n",
       "      <td>4</td>\n",
       "      <td>...</td>\n",
       "      <td>0.0</td>\n",
       "      <td>0.0</td>\n",
       "      <td>0.0</td>\n",
       "      <td>0.0</td>\n",
       "      <td>0.0</td>\n",
       "      <td>0.0</td>\n",
       "      <td>0.0</td>\n",
       "      <td>0.0</td>\n",
       "      <td>0.0</td>\n",
       "      <td>0.110802</td>\n",
       "    </tr>\n",
       "    <tr>\n",
       "      <th>4</th>\n",
       "      <td>(유)아라야</td>\n",
       "      <td>64460000.0</td>\n",
       "      <td>99.681801</td>\n",
       "      <td>99.684502</td>\n",
       "      <td>2020</td>\n",
       "      <td>3</td>\n",
       "      <td>13</td>\n",
       "      <td>16</td>\n",
       "      <td>0</td>\n",
       "      <td>4</td>\n",
       "      <td>...</td>\n",
       "      <td>0.0</td>\n",
       "      <td>0.0</td>\n",
       "      <td>0.0</td>\n",
       "      <td>0.0</td>\n",
       "      <td>0.0</td>\n",
       "      <td>0.0</td>\n",
       "      <td>0.0</td>\n",
       "      <td>0.0</td>\n",
       "      <td>0.0</td>\n",
       "      <td>0.002701</td>\n",
       "    </tr>\n",
       "  </tbody>\n",
       "</table>\n",
       "<p>5 rows × 32 columns</p>\n",
       "</div>"
      ],
      "text/plain": [
       "           업체명         기초금액         예가        사정율  year  month  day  hour  \\\n",
       "0     제이티건설(주)  166200000.0  99.407501  99.456497  2020      3   13    16   \n",
       "1  통일종합건설 주식회사   49000000.0  99.273003  99.513802  2020      3   13    16   \n",
       "2    성문건설 주식회사   35000000.0  99.120697  99.411400  2020      3   13    16   \n",
       "3    (주)덕산종합건설   27000000.0  99.877800  99.988602  2020      3   13    16   \n",
       "4       (유)아라야   64460000.0  99.681801  99.684502  2020      3   13    16   \n",
       "\n",
       "   minute  dayofweek  ...   부산   제주   대구   인천   대전   광주   울산   전국   세종  \\\n",
       "0       0          4  ...  0.0  0.0  0.0  0.0  0.0  0.0  0.0  0.0  0.0   \n",
       "1       0          4  ...  0.0  0.0  0.0  0.0  0.0  0.0  0.0  0.0  0.0   \n",
       "2       0          4  ...  0.0  0.0  0.0  0.0  0.0  0.0  0.0  0.0  0.0   \n",
       "3       0          4  ...  0.0  0.0  0.0  0.0  0.0  0.0  0.0  0.0  0.0   \n",
       "4       0          4  ...  0.0  0.0  0.0  0.0  0.0  0.0  0.0  0.0  0.0   \n",
       "\n",
       "        근접율  \n",
       "0  0.048996  \n",
       "1  0.240799  \n",
       "2  0.290703  \n",
       "3  0.110802  \n",
       "4  0.002701  \n",
       "\n",
       "[5 rows x 32 columns]"
      ]
     },
     "execution_count": 153,
     "metadata": {},
     "output_type": "execute_result"
    }
   ],
   "source": [
    "df.head()"
   ]
  },
  {
   "cell_type": "markdown",
   "metadata": {},
   "source": [
    "## 9. 예측"
   ]
  },
  {
   "cell_type": "markdown",
   "metadata": {},
   "source": [
    "* 사정율이 중요한 feature라 판단\n",
    "* 따라서, 사정율이 0인 컬럼은 제외합니다"
   ]
  },
  {
   "cell_type": "code",
   "execution_count": 205,
   "metadata": {},
   "outputs": [],
   "source": [
    "train_data = df.loc[df['사정율'] > 85]"
   ]
  },
  {
   "cell_type": "code",
   "execution_count": 206,
   "metadata": {},
   "outputs": [
    {
     "data": {
      "text/plain": [
       "(31595, 32)"
      ]
     },
     "execution_count": 206,
     "metadata": {},
     "output_type": "execute_result"
    }
   ],
   "source": [
    "train_data.shape"
   ]
  },
  {
   "cell_type": "markdown",
   "metadata": {},
   "source": [
    "### 업체명은 drop 합니다"
   ]
  },
  {
   "cell_type": "code",
   "execution_count": 207,
   "metadata": {},
   "outputs": [],
   "source": [
    "train_data = train_data.drop('업체명', 1)"
   ]
  },
  {
   "cell_type": "markdown",
   "metadata": {},
   "source": [
    "### 지역은 서울, 전국을 포함하는 지표만 추립니다"
   ]
  },
  {
   "cell_type": "code",
   "execution_count": 208,
   "metadata": {},
   "outputs": [],
   "source": [
    "train_data = train_data.loc[(train_data['서울'] == 1) | (train_data['전국'] == 1)]"
   ]
  },
  {
   "cell_type": "code",
   "execution_count": 209,
   "metadata": {},
   "outputs": [],
   "source": [
    "area_drop_cols = ['전남', '경북', '경기', '경남', '강원', '전북', '충남', '충북', '부산', '제주', '대구',\n",
    "       '인천', '대전', '광주', '울산', '세종']"
   ]
  },
  {
   "cell_type": "code",
   "execution_count": 210,
   "metadata": {},
   "outputs": [],
   "source": [
    "train_data = train_data.drop(area_drop_cols, axis=1)"
   ]
  },
  {
   "cell_type": "markdown",
   "metadata": {},
   "source": [
    "### 예가, 사정율, 근접율은 사후에 나오는 지표 이므로 drop 합니다"
   ]
  },
  {
   "cell_type": "code",
   "execution_count": 211,
   "metadata": {},
   "outputs": [],
   "source": [
    "train_feature = train_data.drop(['예가', '사정율', '근접율'], 1)\n",
    "train_label = train_data['예가']"
   ]
  },
  {
   "cell_type": "markdown",
   "metadata": {},
   "source": [
    "### 최종 Feature"
   ]
  },
  {
   "cell_type": "code",
   "execution_count": 253,
   "metadata": {},
   "outputs": [
    {
     "data": {
      "text/html": [
       "<div>\n",
       "<style scoped>\n",
       "    .dataframe tbody tr th:only-of-type {\n",
       "        vertical-align: middle;\n",
       "    }\n",
       "\n",
       "    .dataframe tbody tr th {\n",
       "        vertical-align: top;\n",
       "    }\n",
       "\n",
       "    .dataframe thead th {\n",
       "        text-align: right;\n",
       "    }\n",
       "</style>\n",
       "<table border=\"1\" class=\"dataframe\">\n",
       "  <thead>\n",
       "    <tr style=\"text-align: right;\">\n",
       "      <th></th>\n",
       "      <th>기초금액</th>\n",
       "      <th>year</th>\n",
       "      <th>month</th>\n",
       "      <th>day</th>\n",
       "      <th>hour</th>\n",
       "      <th>minute</th>\n",
       "      <th>dayofweek</th>\n",
       "      <th>weekofyear</th>\n",
       "      <th>dayofyear</th>\n",
       "      <th>quarter</th>\n",
       "      <th>서울</th>\n",
       "      <th>전국</th>\n",
       "    </tr>\n",
       "  </thead>\n",
       "  <tbody>\n",
       "    <tr>\n",
       "      <th>167</th>\n",
       "      <td>4.674210e+08</td>\n",
       "      <td>2020</td>\n",
       "      <td>3</td>\n",
       "      <td>6</td>\n",
       "      <td>15</td>\n",
       "      <td>0</td>\n",
       "      <td>4</td>\n",
       "      <td>10</td>\n",
       "      <td>66</td>\n",
       "      <td>1</td>\n",
       "      <td>1.0</td>\n",
       "      <td>0.0</td>\n",
       "    </tr>\n",
       "    <tr>\n",
       "      <th>219</th>\n",
       "      <td>1.154583e+09</td>\n",
       "      <td>2020</td>\n",
       "      <td>3</td>\n",
       "      <td>6</td>\n",
       "      <td>11</td>\n",
       "      <td>0</td>\n",
       "      <td>4</td>\n",
       "      <td>10</td>\n",
       "      <td>66</td>\n",
       "      <td>1</td>\n",
       "      <td>1.0</td>\n",
       "      <td>0.0</td>\n",
       "    </tr>\n",
       "    <tr>\n",
       "      <th>235</th>\n",
       "      <td>6.420660e+08</td>\n",
       "      <td>2020</td>\n",
       "      <td>3</td>\n",
       "      <td>5</td>\n",
       "      <td>15</td>\n",
       "      <td>0</td>\n",
       "      <td>3</td>\n",
       "      <td>10</td>\n",
       "      <td>65</td>\n",
       "      <td>1</td>\n",
       "      <td>1.0</td>\n",
       "      <td>0.0</td>\n",
       "    </tr>\n",
       "    <tr>\n",
       "      <th>275</th>\n",
       "      <td>1.330120e+09</td>\n",
       "      <td>2020</td>\n",
       "      <td>3</td>\n",
       "      <td>5</td>\n",
       "      <td>11</td>\n",
       "      <td>0</td>\n",
       "      <td>3</td>\n",
       "      <td>10</td>\n",
       "      <td>65</td>\n",
       "      <td>1</td>\n",
       "      <td>1.0</td>\n",
       "      <td>0.0</td>\n",
       "    </tr>\n",
       "    <tr>\n",
       "      <th>305</th>\n",
       "      <td>9.960500e+08</td>\n",
       "      <td>2020</td>\n",
       "      <td>3</td>\n",
       "      <td>4</td>\n",
       "      <td>15</td>\n",
       "      <td>0</td>\n",
       "      <td>2</td>\n",
       "      <td>10</td>\n",
       "      <td>64</td>\n",
       "      <td>1</td>\n",
       "      <td>1.0</td>\n",
       "      <td>0.0</td>\n",
       "    </tr>\n",
       "  </tbody>\n",
       "</table>\n",
       "</div>"
      ],
      "text/plain": [
       "             기초금액  year  month  day  hour  minute  dayofweek  weekofyear  \\\n",
       "167  4.674210e+08  2020      3    6    15       0          4          10   \n",
       "219  1.154583e+09  2020      3    6    11       0          4          10   \n",
       "235  6.420660e+08  2020      3    5    15       0          3          10   \n",
       "275  1.330120e+09  2020      3    5    11       0          3          10   \n",
       "305  9.960500e+08  2020      3    4    15       0          2          10   \n",
       "\n",
       "     dayofyear  quarter   서울   전국  \n",
       "167         66        1  1.0  0.0  \n",
       "219         66        1  1.0  0.0  \n",
       "235         65        1  1.0  0.0  \n",
       "275         65        1  1.0  0.0  \n",
       "305         64        1  1.0  0.0  "
      ]
     },
     "execution_count": 253,
     "metadata": {},
     "output_type": "execute_result"
    }
   ],
   "source": [
    "train_feature.head()"
   ]
  },
  {
   "cell_type": "markdown",
   "metadata": {},
   "source": [
    "### 모델링"
   ]
  },
  {
   "cell_type": "code",
   "execution_count": 222,
   "metadata": {},
   "outputs": [],
   "source": [
    "from sklearn.model_selection import KFold\n",
    "from xgboost import XGBRegressor\n",
    "from lightgbm import LGBMRegressor"
   ]
  },
  {
   "cell_type": "code",
   "execution_count": 170,
   "metadata": {},
   "outputs": [],
   "source": [
    "SEED = 123"
   ]
  },
  {
   "cell_type": "code",
   "execution_count": 220,
   "metadata": {},
   "outputs": [
    {
     "name": "stdout",
     "output_type": "stream",
     "text": [
      "[0]\tvalidation_0-mae:97.43237\tvalidation_1-mae:97.48483\n",
      "Multiple eval metrics have been passed: 'validation_1-mae' will be used for early stopping.\n",
      "\n",
      "Will train until validation_1-mae hasn't improved in 30 rounds.\n",
      "[200]\tvalidation_0-mae:1.72026\tvalidation_1-mae:1.77291\n",
      "[400]\tvalidation_0-mae:0.53526\tvalidation_1-mae:0.61973\n",
      "Stopping. Best iteration:\n",
      "[390]\tvalidation_0-mae:0.53786\tvalidation_1-mae:0.61945\n",
      "\n",
      "[0]\tvalidation_0-mae:97.45020\tvalidation_1-mae:97.41235\n",
      "Multiple eval metrics have been passed: 'validation_1-mae' will be used for early stopping.\n",
      "\n",
      "Will train until validation_1-mae hasn't improved in 30 rounds.\n",
      "[200]\tvalidation_0-mae:1.72187\tvalidation_1-mae:1.68547\n",
      "Stopping. Best iteration:\n",
      "[349]\tvalidation_0-mae:0.55724\tvalidation_1-mae:0.57244\n",
      "\n",
      "[0]\tvalidation_0-mae:97.43646\tvalidation_1-mae:97.46812\n",
      "Multiple eval metrics have been passed: 'validation_1-mae' will be used for early stopping.\n",
      "\n",
      "Will train until validation_1-mae hasn't improved in 30 rounds.\n",
      "[200]\tvalidation_0-mae:1.72254\tvalidation_1-mae:1.75116\n",
      "[400]\tvalidation_0-mae:0.54700\tvalidation_1-mae:0.58112\n",
      "Stopping. Best iteration:\n",
      "[420]\tvalidation_0-mae:0.54295\tvalidation_1-mae:0.58088\n",
      "\n",
      "[0]\tvalidation_0-mae:97.44897\tvalidation_1-mae:97.41762\n",
      "Multiple eval metrics have been passed: 'validation_1-mae' will be used for early stopping.\n",
      "\n",
      "Will train until validation_1-mae hasn't improved in 30 rounds.\n",
      "[200]\tvalidation_0-mae:1.72082\tvalidation_1-mae:1.69088\n",
      "Stopping. Best iteration:\n",
      "[369]\tvalidation_0-mae:0.54636\tvalidation_1-mae:0.59549\n",
      "\n",
      "[0]\tvalidation_0-mae:97.44544\tvalidation_1-mae:97.43135\n",
      "Multiple eval metrics have been passed: 'validation_1-mae' will be used for early stopping.\n",
      "\n",
      "Will train until validation_1-mae hasn't improved in 30 rounds.\n",
      "[200]\tvalidation_0-mae:1.72041\tvalidation_1-mae:1.70751\n",
      "[400]\tvalidation_0-mae:0.54088\tvalidation_1-mae:0.59959\n",
      "Stopping. Best iteration:\n",
      "[378]\tvalidation_0-mae:0.54601\tvalidation_1-mae:0.59915\n",
      "\n",
      "avg score: 0.593481\n"
     ]
    }
   ],
   "source": [
    "# 코드 비공개 처리"
   ]
  },
  {
   "cell_type": "code",
   "execution_count": 221,
   "metadata": {},
   "outputs": [
    {
     "data": {
      "text/html": [
       "<div>\n",
       "<style scoped>\n",
       "    .dataframe tbody tr th:only-of-type {\n",
       "        vertical-align: middle;\n",
       "    }\n",
       "\n",
       "    .dataframe tbody tr th {\n",
       "        vertical-align: top;\n",
       "    }\n",
       "\n",
       "    .dataframe thead th {\n",
       "        text-align: right;\n",
       "    }\n",
       "</style>\n",
       "<table border=\"1\" class=\"dataframe\">\n",
       "  <thead>\n",
       "    <tr style=\"text-align: right;\">\n",
       "      <th></th>\n",
       "      <th>0</th>\n",
       "      <th>1</th>\n",
       "    </tr>\n",
       "  </thead>\n",
       "  <tbody>\n",
       "    <tr>\n",
       "      <th>9</th>\n",
       "      <td>quarter</td>\n",
       "      <td>0.212947</td>\n",
       "    </tr>\n",
       "    <tr>\n",
       "      <th>0</th>\n",
       "      <td>기초금액</td>\n",
       "      <td>0.090076</td>\n",
       "    </tr>\n",
       "    <tr>\n",
       "      <th>8</th>\n",
       "      <td>dayofyear</td>\n",
       "      <td>0.089709</td>\n",
       "    </tr>\n",
       "    <tr>\n",
       "      <th>11</th>\n",
       "      <td>전국</td>\n",
       "      <td>0.078249</td>\n",
       "    </tr>\n",
       "    <tr>\n",
       "      <th>7</th>\n",
       "      <td>weekofyear</td>\n",
       "      <td>0.075134</td>\n",
       "    </tr>\n",
       "    <tr>\n",
       "      <th>5</th>\n",
       "      <td>minute</td>\n",
       "      <td>0.074531</td>\n",
       "    </tr>\n",
       "    <tr>\n",
       "      <th>6</th>\n",
       "      <td>dayofweek</td>\n",
       "      <td>0.070992</td>\n",
       "    </tr>\n",
       "    <tr>\n",
       "      <th>3</th>\n",
       "      <td>day</td>\n",
       "      <td>0.070871</td>\n",
       "    </tr>\n",
       "    <tr>\n",
       "      <th>10</th>\n",
       "      <td>서울</td>\n",
       "      <td>0.069562</td>\n",
       "    </tr>\n",
       "    <tr>\n",
       "      <th>4</th>\n",
       "      <td>hour</td>\n",
       "      <td>0.059260</td>\n",
       "    </tr>\n",
       "    <tr>\n",
       "      <th>1</th>\n",
       "      <td>year</td>\n",
       "      <td>0.055194</td>\n",
       "    </tr>\n",
       "    <tr>\n",
       "      <th>2</th>\n",
       "      <td>month</td>\n",
       "      <td>0.053476</td>\n",
       "    </tr>\n",
       "  </tbody>\n",
       "</table>\n",
       "</div>"
      ],
      "text/plain": [
       "             0         1\n",
       "9      quarter  0.212947\n",
       "0         기초금액  0.090076\n",
       "8    dayofyear  0.089709\n",
       "11          전국  0.078249\n",
       "7   weekofyear  0.075134\n",
       "5       minute  0.074531\n",
       "6    dayofweek  0.070992\n",
       "3          day  0.070871\n",
       "10          서울  0.069562\n",
       "4         hour  0.059260\n",
       "1         year  0.055194\n",
       "2        month  0.053476"
      ]
     },
     "execution_count": 221,
     "metadata": {},
     "output_type": "execute_result"
    }
   ],
   "source": [
    "pd.DataFrame(list(zip(train_feature.columns, xgb_model.feature_importances_))).sort_values(by=1, ascending=False)"
   ]
  },
  {
   "cell_type": "code",
   "execution_count": null,
   "metadata": {},
   "outputs": [],
   "source": [
    "def train_xgb(train_features, train_labels, test_features, num_split=3):\n",
    "    # 코드 비공개 처리\n",
    "    return preds"
   ]
  },
  {
   "cell_type": "code",
   "execution_count": 298,
   "metadata": {},
   "outputs": [],
   "source": [
    "def train_lgbm(train_feature, train_label, test_feature, num_split=5):\n",
    "    # 코드 비공개 처리\n",
    "    return preds"
   ]
  },
  {
   "cell_type": "code",
   "execution_count": 318,
   "metadata": {},
   "outputs": [],
   "source": [
    "def train_xgb(train_feature, train_label, test_feature, num_split=3):\n",
    "    # 코드 비공개 처리\n",
    "    return preds"
   ]
  },
  {
   "cell_type": "code",
   "execution_count": 334,
   "metadata": {},
   "outputs": [
    {
     "data": {
      "text/plain": [
       "((1790, 12), (597, 12))"
      ]
     },
     "execution_count": 334,
     "metadata": {},
     "output_type": "execute_result"
    }
   ],
   "source": [
    "from sklearn.model_selection import train_test_split\n",
    "\n",
    "x_train, x_valid, y_train, y_valid = train_test_split(train_feature, train_label, random_state=321)\n",
    "x_train.shape, x_valid.shape"
   ]
  },
  {
   "cell_type": "code",
   "execution_count": 335,
   "metadata": {},
   "outputs": [
    {
     "name": "stdout",
     "output_type": "stream",
     "text": [
      "Training until validation scores don't improve for 30 rounds\n",
      "Early stopping, best iteration is:\n",
      "[1]\ttraining's l1: 0.596837\ttraining's l2: 0.544079\tvalid_1's l1: 0.599506\tvalid_1's l2: 0.56646\n",
      "Training until validation scores don't improve for 30 rounds\n",
      "Early stopping, best iteration is:\n",
      "[9]\ttraining's l1: 0.608888\ttraining's l2: 0.56613\tvalid_1's l1: 0.541242\tvalid_1's l2: 0.460266\n",
      "Training until validation scores don't improve for 30 rounds\n",
      "Early stopping, best iteration is:\n",
      "[1]\ttraining's l1: 0.590583\ttraining's l2: 0.540623\tvalid_1's l1: 0.624393\tvalid_1's l2: 0.580429\n",
      "Training until validation scores don't improve for 30 rounds\n",
      "Early stopping, best iteration is:\n",
      "[1]\ttraining's l1: 0.593366\ttraining's l2: 0.541869\tvalid_1's l1: 0.613335\tvalid_1's l2: 0.57537\n",
      "Training until validation scores don't improve for 30 rounds\n",
      "Early stopping, best iteration is:\n",
      "[19]\ttraining's l1: 0.58905\ttraining's l2: 0.536167\tvalid_1's l1: 0.609964\tvalid_1's l2: 0.563332\n",
      "avg score: 0.5976880338001499\n",
      "[0]\tvalidation_0-mae:97.44695\tvalidation_1-mae:97.39553\n",
      "Multiple eval metrics have been passed: 'validation_1-mae' will be used for early stopping.\n",
      "\n",
      "Will train until validation_1-mae hasn't improved in 20 rounds.\n",
      "[200]\tvalidation_0-mae:1.72761\tvalidation_1-mae:1.67668\n",
      "Stopping. Best iteration:\n",
      "[366]\tvalidation_0-mae:0.54420\tvalidation_1-mae:0.58611\n",
      "\n",
      "[0]\tvalidation_0-mae:97.43077\tvalidation_1-mae:97.42883\n",
      "Multiple eval metrics have been passed: 'validation_1-mae' will be used for early stopping.\n",
      "\n",
      "Will train until validation_1-mae hasn't improved in 20 rounds.\n",
      "[200]\tvalidation_0-mae:1.72430\tvalidation_1-mae:1.72252\n",
      "Stopping. Best iteration:\n",
      "[349]\tvalidation_0-mae:0.55145\tvalidation_1-mae:0.61090\n",
      "\n",
      "[0]\tvalidation_0-mae:97.41282\tvalidation_1-mae:97.46614\n",
      "Multiple eval metrics have been passed: 'validation_1-mae' will be used for early stopping.\n",
      "\n",
      "Will train until validation_1-mae hasn't improved in 20 rounds.\n",
      "[200]\tvalidation_0-mae:1.72471\tvalidation_1-mae:1.77892\n",
      "[400]\tvalidation_0-mae:0.52633\tvalidation_1-mae:0.62074\n",
      "Stopping. Best iteration:\n",
      "[400]\tvalidation_0-mae:0.52633\tvalidation_1-mae:0.62074\n",
      "\n",
      "avg score: 0.6059176666666666\n"
     ]
    }
   ],
   "source": [
    "lgbm_pred = train_lgbm(x_train, y_train, x_valid)\n",
    "xgb_pred = train_xgb(x_train, y_train, x_valid)"
   ]
  },
  {
   "cell_type": "code",
   "execution_count": 336,
   "metadata": {},
   "outputs": [],
   "source": [
    "pred = lgbm_pred * 0.6 + xgb_pred * 0.4"
   ]
  },
  {
   "cell_type": "code",
   "execution_count": 337,
   "metadata": {},
   "outputs": [
    {
     "data": {
      "text/plain": [
       "0.5554264117899838"
      ]
     },
     "execution_count": 337,
     "metadata": {},
     "output_type": "execute_result"
    }
   ],
   "source": [
    "abs(pred - y_valid).mean()"
   ]
  },
  {
   "cell_type": "markdown",
   "metadata": {},
   "source": [
    "## 검증 (시뮬레이션)"
   ]
  },
  {
   "cell_type": "code",
   "execution_count": 338,
   "metadata": {},
   "outputs": [],
   "source": [
    "validation_df = df.iloc[y_valid.index][['예가', '사정율']].copy()"
   ]
  },
  {
   "cell_type": "code",
   "execution_count": 339,
   "metadata": {},
   "outputs": [
    {
     "data": {
      "text/html": [
       "<div>\n",
       "<style scoped>\n",
       "    .dataframe tbody tr th:only-of-type {\n",
       "        vertical-align: middle;\n",
       "    }\n",
       "\n",
       "    .dataframe tbody tr th {\n",
       "        vertical-align: top;\n",
       "    }\n",
       "\n",
       "    .dataframe thead th {\n",
       "        text-align: right;\n",
       "    }\n",
       "</style>\n",
       "<table border=\"1\" class=\"dataframe\">\n",
       "  <thead>\n",
       "    <tr style=\"text-align: right;\">\n",
       "      <th></th>\n",
       "      <th>예가</th>\n",
       "      <th>사정율</th>\n",
       "    </tr>\n",
       "  </thead>\n",
       "  <tbody>\n",
       "    <tr>\n",
       "      <th>14548</th>\n",
       "      <td>98.969002</td>\n",
       "      <td>98.977898</td>\n",
       "    </tr>\n",
       "    <tr>\n",
       "      <th>5612</th>\n",
       "      <td>99.151497</td>\n",
       "      <td>99.167297</td>\n",
       "    </tr>\n",
       "    <tr>\n",
       "      <th>16649</th>\n",
       "      <td>100.463997</td>\n",
       "      <td>100.474098</td>\n",
       "    </tr>\n",
       "    <tr>\n",
       "      <th>26280</th>\n",
       "      <td>99.882004</td>\n",
       "      <td>99.883202</td>\n",
       "    </tr>\n",
       "    <tr>\n",
       "      <th>17308</th>\n",
       "      <td>99.960197</td>\n",
       "      <td>99.964798</td>\n",
       "    </tr>\n",
       "  </tbody>\n",
       "</table>\n",
       "</div>"
      ],
      "text/plain": [
       "               예가         사정율\n",
       "14548   98.969002   98.977898\n",
       "5612    99.151497   99.167297\n",
       "16649  100.463997  100.474098\n",
       "26280   99.882004   99.883202\n",
       "17308   99.960197   99.964798"
      ]
     },
     "execution_count": 339,
     "metadata": {},
     "output_type": "execute_result"
    }
   ],
   "source": [
    "validation_df.head()"
   ]
  },
  {
   "cell_type": "code",
   "execution_count": 340,
   "metadata": {},
   "outputs": [
    {
     "data": {
      "text/plain": [
       "14548     98.977898\n",
       "5612      99.167297\n",
       "16649    100.474098\n",
       "26280     99.883202\n",
       "17308     99.964798\n",
       "Name: 사정율, dtype: float32"
      ]
     },
     "execution_count": 340,
     "metadata": {},
     "output_type": "execute_result"
    }
   ],
   "source": [
    "df.iloc[y_valid.index]['사정율'].head()"
   ]
  },
  {
   "cell_type": "code",
   "execution_count": 341,
   "metadata": {},
   "outputs": [],
   "source": [
    "validation_df['pred'] = pred"
   ]
  },
  {
   "cell_type": "code",
   "execution_count": 342,
   "metadata": {},
   "outputs": [
    {
     "data": {
      "text/html": [
       "<div>\n",
       "<style scoped>\n",
       "    .dataframe tbody tr th:only-of-type {\n",
       "        vertical-align: middle;\n",
       "    }\n",
       "\n",
       "    .dataframe tbody tr th {\n",
       "        vertical-align: top;\n",
       "    }\n",
       "\n",
       "    .dataframe thead th {\n",
       "        text-align: right;\n",
       "    }\n",
       "</style>\n",
       "<table border=\"1\" class=\"dataframe\">\n",
       "  <thead>\n",
       "    <tr style=\"text-align: right;\">\n",
       "      <th></th>\n",
       "      <th>예가</th>\n",
       "      <th>사정율</th>\n",
       "      <th>pred</th>\n",
       "    </tr>\n",
       "  </thead>\n",
       "  <tbody>\n",
       "    <tr>\n",
       "      <th>14548</th>\n",
       "      <td>98.969002</td>\n",
       "      <td>98.977898</td>\n",
       "      <td>99.907663</td>\n",
       "    </tr>\n",
       "    <tr>\n",
       "      <th>5612</th>\n",
       "      <td>99.151497</td>\n",
       "      <td>99.167297</td>\n",
       "      <td>99.847656</td>\n",
       "    </tr>\n",
       "    <tr>\n",
       "      <th>16649</th>\n",
       "      <td>100.463997</td>\n",
       "      <td>100.474098</td>\n",
       "      <td>99.921612</td>\n",
       "    </tr>\n",
       "    <tr>\n",
       "      <th>26280</th>\n",
       "      <td>99.882004</td>\n",
       "      <td>99.883202</td>\n",
       "      <td>99.940660</td>\n",
       "    </tr>\n",
       "    <tr>\n",
       "      <th>17308</th>\n",
       "      <td>99.960197</td>\n",
       "      <td>99.964798</td>\n",
       "      <td>99.905172</td>\n",
       "    </tr>\n",
       "  </tbody>\n",
       "</table>\n",
       "</div>"
      ],
      "text/plain": [
       "               예가         사정율       pred\n",
       "14548   98.969002   98.977898  99.907663\n",
       "5612    99.151497   99.167297  99.847656\n",
       "16649  100.463997  100.474098  99.921612\n",
       "26280   99.882004   99.883202  99.940660\n",
       "17308   99.960197   99.964798  99.905172"
      ]
     },
     "execution_count": 342,
     "metadata": {},
     "output_type": "execute_result"
    }
   ],
   "source": [
    "validation_df.head()"
   ]
  },
  {
   "cell_type": "markdown",
   "metadata": {},
   "source": [
    "### 괴리율 = 예측값 - 예가 (0보다 작으면 무조건 탈락)"
   ]
  },
  {
   "cell_type": "code",
   "execution_count": 343,
   "metadata": {},
   "outputs": [],
   "source": [
    "validation_df['괴리율'] = validation_df['pred'] - validation_df['예가']"
   ]
  },
  {
   "cell_type": "code",
   "execution_count": 344,
   "metadata": {},
   "outputs": [],
   "source": [
    "validation_df['선정여부'] = (validation_df['pred'] < validation_df['사정율']) & (validation_df['pred'] > validation_df['예가'])"
   ]
  },
  {
   "cell_type": "code",
   "execution_count": 345,
   "metadata": {},
   "outputs": [
    {
     "data": {
      "text/html": [
       "<div>\n",
       "<style scoped>\n",
       "    .dataframe tbody tr th:only-of-type {\n",
       "        vertical-align: middle;\n",
       "    }\n",
       "\n",
       "    .dataframe tbody tr th {\n",
       "        vertical-align: top;\n",
       "    }\n",
       "\n",
       "    .dataframe thead th {\n",
       "        text-align: right;\n",
       "    }\n",
       "</style>\n",
       "<table border=\"1\" class=\"dataframe\">\n",
       "  <thead>\n",
       "    <tr style=\"text-align: right;\">\n",
       "      <th></th>\n",
       "      <th>예가</th>\n",
       "      <th>사정율</th>\n",
       "      <th>pred</th>\n",
       "      <th>괴리율</th>\n",
       "      <th>선정여부</th>\n",
       "    </tr>\n",
       "  </thead>\n",
       "  <tbody>\n",
       "    <tr>\n",
       "      <th>7468</th>\n",
       "      <td>99.897202</td>\n",
       "      <td>99.933403</td>\n",
       "      <td>99.897466</td>\n",
       "      <td>0.000264</td>\n",
       "      <td>True</td>\n",
       "    </tr>\n",
       "    <tr>\n",
       "      <th>6025</th>\n",
       "      <td>99.857002</td>\n",
       "      <td>99.860001</td>\n",
       "      <td>99.857646</td>\n",
       "      <td>0.000643</td>\n",
       "      <td>True</td>\n",
       "    </tr>\n",
       "    <tr>\n",
       "      <th>21792</th>\n",
       "      <td>99.869003</td>\n",
       "      <td>99.874496</td>\n",
       "      <td>99.873144</td>\n",
       "      <td>0.004141</td>\n",
       "      <td>True</td>\n",
       "    </tr>\n",
       "    <tr>\n",
       "      <th>17479</th>\n",
       "      <td>99.917999</td>\n",
       "      <td>99.919998</td>\n",
       "      <td>99.924551</td>\n",
       "      <td>0.006552</td>\n",
       "      <td>False</td>\n",
       "    </tr>\n",
       "    <tr>\n",
       "      <th>26677</th>\n",
       "      <td>99.924004</td>\n",
       "      <td>99.925003</td>\n",
       "      <td>99.938099</td>\n",
       "      <td>0.014095</td>\n",
       "      <td>False</td>\n",
       "    </tr>\n",
       "  </tbody>\n",
       "</table>\n",
       "</div>"
      ],
      "text/plain": [
       "              예가        사정율       pred       괴리율   선정여부\n",
       "7468   99.897202  99.933403  99.897466  0.000264   True\n",
       "6025   99.857002  99.860001  99.857646  0.000643   True\n",
       "21792  99.869003  99.874496  99.873144  0.004141   True\n",
       "17479  99.917999  99.919998  99.924551  0.006552  False\n",
       "26677  99.924004  99.925003  99.938099  0.014095  False"
      ]
     },
     "execution_count": 345,
     "metadata": {},
     "output_type": "execute_result"
    }
   ],
   "source": [
    "validation_df.loc[validation_df['괴리율'] >= 0].sort_values(by='괴리율').head()"
   ]
  },
  {
   "cell_type": "markdown",
   "metadata": {},
   "source": [
    "### 선정된 지표 확인"
   ]
  },
  {
   "cell_type": "code",
   "execution_count": 346,
   "metadata": {},
   "outputs": [
    {
     "data": {
      "text/html": [
       "<div>\n",
       "<style scoped>\n",
       "    .dataframe tbody tr th:only-of-type {\n",
       "        vertical-align: middle;\n",
       "    }\n",
       "\n",
       "    .dataframe tbody tr th {\n",
       "        vertical-align: top;\n",
       "    }\n",
       "\n",
       "    .dataframe thead th {\n",
       "        text-align: right;\n",
       "    }\n",
       "</style>\n",
       "<table border=\"1\" class=\"dataframe\">\n",
       "  <thead>\n",
       "    <tr style=\"text-align: right;\">\n",
       "      <th></th>\n",
       "      <th>예가</th>\n",
       "      <th>사정율</th>\n",
       "      <th>pred</th>\n",
       "      <th>괴리율</th>\n",
       "      <th>선정여부</th>\n",
       "    </tr>\n",
       "  </thead>\n",
       "  <tbody>\n",
       "    <tr>\n",
       "      <th>22744</th>\n",
       "      <td>99.438499</td>\n",
       "      <td>100.062599</td>\n",
       "      <td>99.869264</td>\n",
       "      <td>0.430764</td>\n",
       "      <td>True</td>\n",
       "    </tr>\n",
       "    <tr>\n",
       "      <th>10751</th>\n",
       "      <td>97.873703</td>\n",
       "      <td>100.247398</td>\n",
       "      <td>99.918239</td>\n",
       "      <td>2.044536</td>\n",
       "      <td>True</td>\n",
       "    </tr>\n",
       "    <tr>\n",
       "      <th>26726</th>\n",
       "      <td>99.441704</td>\n",
       "      <td>101.254898</td>\n",
       "      <td>99.859676</td>\n",
       "      <td>0.417972</td>\n",
       "      <td>True</td>\n",
       "    </tr>\n",
       "    <tr>\n",
       "      <th>6025</th>\n",
       "      <td>99.857002</td>\n",
       "      <td>99.860001</td>\n",
       "      <td>99.857646</td>\n",
       "      <td>0.000643</td>\n",
       "      <td>True</td>\n",
       "    </tr>\n",
       "    <tr>\n",
       "      <th>23983</th>\n",
       "      <td>99.671700</td>\n",
       "      <td>105.500000</td>\n",
       "      <td>99.884492</td>\n",
       "      <td>0.212792</td>\n",
       "      <td>True</td>\n",
       "    </tr>\n",
       "    <tr>\n",
       "      <th>21792</th>\n",
       "      <td>99.869003</td>\n",
       "      <td>99.874496</td>\n",
       "      <td>99.873144</td>\n",
       "      <td>0.004141</td>\n",
       "      <td>True</td>\n",
       "    </tr>\n",
       "    <tr>\n",
       "      <th>30818</th>\n",
       "      <td>99.890999</td>\n",
       "      <td>99.925003</td>\n",
       "      <td>99.905421</td>\n",
       "      <td>0.014422</td>\n",
       "      <td>True</td>\n",
       "    </tr>\n",
       "    <tr>\n",
       "      <th>7468</th>\n",
       "      <td>99.897202</td>\n",
       "      <td>99.933403</td>\n",
       "      <td>99.897466</td>\n",
       "      <td>0.000264</td>\n",
       "      <td>True</td>\n",
       "    </tr>\n",
       "    <tr>\n",
       "      <th>21491</th>\n",
       "      <td>99.849701</td>\n",
       "      <td>99.899803</td>\n",
       "      <td>99.897837</td>\n",
       "      <td>0.048136</td>\n",
       "      <td>True</td>\n",
       "    </tr>\n",
       "  </tbody>\n",
       "</table>\n",
       "</div>"
      ],
      "text/plain": [
       "              예가         사정율       pred       괴리율  선정여부\n",
       "22744  99.438499  100.062599  99.869264  0.430764  True\n",
       "10751  97.873703  100.247398  99.918239  2.044536  True\n",
       "26726  99.441704  101.254898  99.859676  0.417972  True\n",
       "6025   99.857002   99.860001  99.857646  0.000643  True\n",
       "23983  99.671700  105.500000  99.884492  0.212792  True\n",
       "21792  99.869003   99.874496  99.873144  0.004141  True\n",
       "30818  99.890999   99.925003  99.905421  0.014422  True\n",
       "7468   99.897202   99.933403  99.897466  0.000264  True\n",
       "21491  99.849701   99.899803  99.897837  0.048136  True"
      ]
     },
     "execution_count": 346,
     "metadata": {},
     "output_type": "execute_result"
    }
   ],
   "source": [
    "validation_df.loc[validation_df['선정여부'] ==True]"
   ]
  },
  {
   "cell_type": "code",
   "execution_count": 347,
   "metadata": {},
   "outputs": [],
   "source": [
    "idx = validation_df.loc[validation_df['선정여부'] ==True].index"
   ]
  },
  {
   "cell_type": "markdown",
   "metadata": {},
   "source": [
    "### 선정된 지표 (전체데이터)"
   ]
  },
  {
   "cell_type": "code",
   "execution_count": 348,
   "metadata": {},
   "outputs": [
    {
     "data": {
      "text/html": [
       "<div>\n",
       "<style scoped>\n",
       "    .dataframe tbody tr th:only-of-type {\n",
       "        vertical-align: middle;\n",
       "    }\n",
       "\n",
       "    .dataframe tbody tr th {\n",
       "        vertical-align: top;\n",
       "    }\n",
       "\n",
       "    .dataframe thead th {\n",
       "        text-align: right;\n",
       "    }\n",
       "</style>\n",
       "<table border=\"1\" class=\"dataframe\">\n",
       "  <thead>\n",
       "    <tr style=\"text-align: right;\">\n",
       "      <th></th>\n",
       "      <th>업체명</th>\n",
       "      <th>기초금액</th>\n",
       "      <th>예가</th>\n",
       "      <th>사정율</th>\n",
       "      <th>year</th>\n",
       "      <th>month</th>\n",
       "      <th>day</th>\n",
       "      <th>hour</th>\n",
       "      <th>minute</th>\n",
       "      <th>dayofweek</th>\n",
       "      <th>...</th>\n",
       "      <th>부산</th>\n",
       "      <th>제주</th>\n",
       "      <th>대구</th>\n",
       "      <th>인천</th>\n",
       "      <th>대전</th>\n",
       "      <th>광주</th>\n",
       "      <th>울산</th>\n",
       "      <th>전국</th>\n",
       "      <th>세종</th>\n",
       "      <th>근접율</th>\n",
       "    </tr>\n",
       "  </thead>\n",
       "  <tbody>\n",
       "    <tr>\n",
       "      <th>22744</th>\n",
       "      <td>(주)아랑존디</td>\n",
       "      <td>4.840000e+07</td>\n",
       "      <td>99.438499</td>\n",
       "      <td>100.062599</td>\n",
       "      <td>2018</td>\n",
       "      <td>10</td>\n",
       "      <td>19</td>\n",
       "      <td>11</td>\n",
       "      <td>0</td>\n",
       "      <td>4</td>\n",
       "      <td>...</td>\n",
       "      <td>0.0</td>\n",
       "      <td>0.0</td>\n",
       "      <td>0.0</td>\n",
       "      <td>0.0</td>\n",
       "      <td>0.0</td>\n",
       "      <td>0.0</td>\n",
       "      <td>0.0</td>\n",
       "      <td>1.0</td>\n",
       "      <td>0.0</td>\n",
       "      <td>0.624100</td>\n",
       "    </tr>\n",
       "    <tr>\n",
       "      <th>10751</th>\n",
       "      <td>(주)지투원</td>\n",
       "      <td>1.732107e+09</td>\n",
       "      <td>97.873703</td>\n",
       "      <td>100.247398</td>\n",
       "      <td>2019</td>\n",
       "      <td>7</td>\n",
       "      <td>9</td>\n",
       "      <td>11</td>\n",
       "      <td>0</td>\n",
       "      <td>1</td>\n",
       "      <td>...</td>\n",
       "      <td>0.0</td>\n",
       "      <td>0.0</td>\n",
       "      <td>0.0</td>\n",
       "      <td>0.0</td>\n",
       "      <td>0.0</td>\n",
       "      <td>0.0</td>\n",
       "      <td>0.0</td>\n",
       "      <td>0.0</td>\n",
       "      <td>0.0</td>\n",
       "      <td>2.373695</td>\n",
       "    </tr>\n",
       "    <tr>\n",
       "      <th>26726</th>\n",
       "      <td>계룡건설산업 주식회사</td>\n",
       "      <td>2.322301e+10</td>\n",
       "      <td>99.441704</td>\n",
       "      <td>101.254898</td>\n",
       "      <td>2018</td>\n",
       "      <td>6</td>\n",
       "      <td>26</td>\n",
       "      <td>11</td>\n",
       "      <td>0</td>\n",
       "      <td>1</td>\n",
       "      <td>...</td>\n",
       "      <td>0.0</td>\n",
       "      <td>0.0</td>\n",
       "      <td>0.0</td>\n",
       "      <td>0.0</td>\n",
       "      <td>0.0</td>\n",
       "      <td>0.0</td>\n",
       "      <td>0.0</td>\n",
       "      <td>1.0</td>\n",
       "      <td>0.0</td>\n",
       "      <td>1.813194</td>\n",
       "    </tr>\n",
       "    <tr>\n",
       "      <th>6025</th>\n",
       "      <td>세한종합건설 주식회사</td>\n",
       "      <td>1.335007e+10</td>\n",
       "      <td>99.857002</td>\n",
       "      <td>99.860001</td>\n",
       "      <td>2019</td>\n",
       "      <td>11</td>\n",
       "      <td>14</td>\n",
       "      <td>11</td>\n",
       "      <td>0</td>\n",
       "      <td>3</td>\n",
       "      <td>...</td>\n",
       "      <td>0.0</td>\n",
       "      <td>0.0</td>\n",
       "      <td>0.0</td>\n",
       "      <td>0.0</td>\n",
       "      <td>0.0</td>\n",
       "      <td>0.0</td>\n",
       "      <td>0.0</td>\n",
       "      <td>1.0</td>\n",
       "      <td>0.0</td>\n",
       "      <td>0.002998</td>\n",
       "    </tr>\n",
       "    <tr>\n",
       "      <th>23983</th>\n",
       "      <td>중미건설합자회사</td>\n",
       "      <td>1.501838e+10</td>\n",
       "      <td>99.671700</td>\n",
       "      <td>105.500000</td>\n",
       "      <td>2018</td>\n",
       "      <td>9</td>\n",
       "      <td>10</td>\n",
       "      <td>17</td>\n",
       "      <td>0</td>\n",
       "      <td>0</td>\n",
       "      <td>...</td>\n",
       "      <td>0.0</td>\n",
       "      <td>0.0</td>\n",
       "      <td>0.0</td>\n",
       "      <td>0.0</td>\n",
       "      <td>0.0</td>\n",
       "      <td>1.0</td>\n",
       "      <td>0.0</td>\n",
       "      <td>1.0</td>\n",
       "      <td>0.0</td>\n",
       "      <td>5.828300</td>\n",
       "    </tr>\n",
       "    <tr>\n",
       "      <th>21792</th>\n",
       "      <td>새움綜合建設 株式會社</td>\n",
       "      <td>1.856688e+09</td>\n",
       "      <td>99.869003</td>\n",
       "      <td>99.874496</td>\n",
       "      <td>2018</td>\n",
       "      <td>11</td>\n",
       "      <td>8</td>\n",
       "      <td>11</td>\n",
       "      <td>0</td>\n",
       "      <td>3</td>\n",
       "      <td>...</td>\n",
       "      <td>0.0</td>\n",
       "      <td>0.0</td>\n",
       "      <td>0.0</td>\n",
       "      <td>0.0</td>\n",
       "      <td>0.0</td>\n",
       "      <td>0.0</td>\n",
       "      <td>0.0</td>\n",
       "      <td>0.0</td>\n",
       "      <td>0.0</td>\n",
       "      <td>0.005493</td>\n",
       "    </tr>\n",
       "    <tr>\n",
       "      <th>30818</th>\n",
       "      <td>(주)이공</td>\n",
       "      <td>9.640700e+08</td>\n",
       "      <td>99.890999</td>\n",
       "      <td>99.925003</td>\n",
       "      <td>2018</td>\n",
       "      <td>4</td>\n",
       "      <td>6</td>\n",
       "      <td>11</td>\n",
       "      <td>0</td>\n",
       "      <td>4</td>\n",
       "      <td>...</td>\n",
       "      <td>0.0</td>\n",
       "      <td>0.0</td>\n",
       "      <td>0.0</td>\n",
       "      <td>0.0</td>\n",
       "      <td>0.0</td>\n",
       "      <td>0.0</td>\n",
       "      <td>0.0</td>\n",
       "      <td>0.0</td>\n",
       "      <td>0.0</td>\n",
       "      <td>0.034004</td>\n",
       "    </tr>\n",
       "    <tr>\n",
       "      <th>7468</th>\n",
       "      <td>주식회사 예진건설</td>\n",
       "      <td>1.083887e+10</td>\n",
       "      <td>99.897202</td>\n",
       "      <td>99.933403</td>\n",
       "      <td>2019</td>\n",
       "      <td>10</td>\n",
       "      <td>22</td>\n",
       "      <td>11</td>\n",
       "      <td>0</td>\n",
       "      <td>1</td>\n",
       "      <td>...</td>\n",
       "      <td>0.0</td>\n",
       "      <td>0.0</td>\n",
       "      <td>0.0</td>\n",
       "      <td>0.0</td>\n",
       "      <td>0.0</td>\n",
       "      <td>0.0</td>\n",
       "      <td>0.0</td>\n",
       "      <td>1.0</td>\n",
       "      <td>0.0</td>\n",
       "      <td>0.036201</td>\n",
       "    </tr>\n",
       "    <tr>\n",
       "      <th>21491</th>\n",
       "      <td>갑인종합건설주식회사</td>\n",
       "      <td>3.914170e+09</td>\n",
       "      <td>99.849701</td>\n",
       "      <td>99.899803</td>\n",
       "      <td>2018</td>\n",
       "      <td>11</td>\n",
       "      <td>14</td>\n",
       "      <td>11</td>\n",
       "      <td>0</td>\n",
       "      <td>2</td>\n",
       "      <td>...</td>\n",
       "      <td>0.0</td>\n",
       "      <td>0.0</td>\n",
       "      <td>0.0</td>\n",
       "      <td>0.0</td>\n",
       "      <td>0.0</td>\n",
       "      <td>0.0</td>\n",
       "      <td>0.0</td>\n",
       "      <td>1.0</td>\n",
       "      <td>0.0</td>\n",
       "      <td>0.050102</td>\n",
       "    </tr>\n",
       "  </tbody>\n",
       "</table>\n",
       "<p>9 rows × 32 columns</p>\n",
       "</div>"
      ],
      "text/plain": [
       "               업체명          기초금액         예가         사정율  year  month  day  \\\n",
       "22744      (주)아랑존디  4.840000e+07  99.438499  100.062599  2018     10   19   \n",
       "10751       (주)지투원  1.732107e+09  97.873703  100.247398  2019      7    9   \n",
       "26726  계룡건설산업 주식회사  2.322301e+10  99.441704  101.254898  2018      6   26   \n",
       "6025   세한종합건설 주식회사  1.335007e+10  99.857002   99.860001  2019     11   14   \n",
       "23983     중미건설합자회사  1.501838e+10  99.671700  105.500000  2018      9   10   \n",
       "21792  새움綜合建設 株式會社  1.856688e+09  99.869003   99.874496  2018     11    8   \n",
       "30818        (주)이공  9.640700e+08  99.890999   99.925003  2018      4    6   \n",
       "7468     주식회사 예진건설  1.083887e+10  99.897202   99.933403  2019     10   22   \n",
       "21491   갑인종합건설주식회사  3.914170e+09  99.849701   99.899803  2018     11   14   \n",
       "\n",
       "       hour  minute  dayofweek  ...   부산   제주   대구   인천   대전   광주   울산   전국  \\\n",
       "22744    11       0          4  ...  0.0  0.0  0.0  0.0  0.0  0.0  0.0  1.0   \n",
       "10751    11       0          1  ...  0.0  0.0  0.0  0.0  0.0  0.0  0.0  0.0   \n",
       "26726    11       0          1  ...  0.0  0.0  0.0  0.0  0.0  0.0  0.0  1.0   \n",
       "6025     11       0          3  ...  0.0  0.0  0.0  0.0  0.0  0.0  0.0  1.0   \n",
       "23983    17       0          0  ...  0.0  0.0  0.0  0.0  0.0  1.0  0.0  1.0   \n",
       "21792    11       0          3  ...  0.0  0.0  0.0  0.0  0.0  0.0  0.0  0.0   \n",
       "30818    11       0          4  ...  0.0  0.0  0.0  0.0  0.0  0.0  0.0  0.0   \n",
       "7468     11       0          1  ...  0.0  0.0  0.0  0.0  0.0  0.0  0.0  1.0   \n",
       "21491    11       0          2  ...  0.0  0.0  0.0  0.0  0.0  0.0  0.0  1.0   \n",
       "\n",
       "        세종       근접율  \n",
       "22744  0.0  0.624100  \n",
       "10751  0.0  2.373695  \n",
       "26726  0.0  1.813194  \n",
       "6025   0.0  0.002998  \n",
       "23983  0.0  5.828300  \n",
       "21792  0.0  0.005493  \n",
       "30818  0.0  0.034004  \n",
       "7468   0.0  0.036201  \n",
       "21491  0.0  0.050102  \n",
       "\n",
       "[9 rows x 32 columns]"
      ]
     },
     "execution_count": 348,
     "metadata": {},
     "output_type": "execute_result"
    }
   ],
   "source": [
    "df.iloc[idx]"
   ]
  }
 ],
 "metadata": {
  "kernelspec": {
   "display_name": "Environment (conda_tensorflow2_p36)",
   "language": "python",
   "name": "conda_tensorflow2_p36"
  },
  "language_info": {
   "codemirror_mode": {
    "name": "ipython",
    "version": 3
   },
   "file_extension": ".py",
   "mimetype": "text/x-python",
   "name": "python",
   "nbconvert_exporter": "python",
   "pygments_lexer": "ipython3",
   "version": "3.6.10"
  }
 },
 "nbformat": 4,
 "nbformat_minor": 2
}
