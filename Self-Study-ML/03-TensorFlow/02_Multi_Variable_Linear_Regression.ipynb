{
 "cells": [
  {
   "cell_type": "code",
   "execution_count": 2,
   "metadata": {},
   "outputs": [],
   "source": [
    "import tensorflow as tf"
   ]
  },
  {
   "cell_type": "code",
   "execution_count": 3,
   "metadata": {},
   "outputs": [],
   "source": [
    "x1_data = [73., 93., 89., 96., 73.]\n",
    "x2_data = [80., 88., 91., 98., 66.]\n",
    "x3_data = [75., 93., 90., 100., 70.]\n",
    "\n",
    "y_data = [152., 185., 180., 196., 142.]"
   ]
  },
  {
   "cell_type": "code",
   "execution_count": 4,
   "metadata": {},
   "outputs": [],
   "source": [
    "x1 = tf.placeholder(tf.float32)\n",
    "x2 = tf.placeholder(tf.float32)\n",
    "x3 = tf.placeholder(tf.float32)"
   ]
  },
  {
   "cell_type": "code",
   "execution_count": 5,
   "metadata": {},
   "outputs": [],
   "source": [
    "Y = tf.placeholder(tf.float32)"
   ]
  },
  {
   "cell_type": "code",
   "execution_count": 6,
   "metadata": {},
   "outputs": [],
   "source": [
    "w1 = tf.Variable(tf.random_normal([1]), tf.float32, name='w1')\n",
    "w2 = tf.Variable(tf.random_normal([1]), tf.float32, name='w2')\n",
    "w3 = tf.Variable(tf.random_normal([1]), tf.float32, name='w3')"
   ]
  },
  {
   "cell_type": "code",
   "execution_count": 7,
   "metadata": {},
   "outputs": [],
   "source": [
    "b = tf.Variable(tf.random_normal([1]), tf.float32, name='b')"
   ]
  },
  {
   "cell_type": "code",
   "execution_count": 8,
   "metadata": {},
   "outputs": [],
   "source": [
    "hypothesis = w1 * x1 + w2 * x2 + w3 * x3 + b"
   ]
  },
  {
   "cell_type": "code",
   "execution_count": 9,
   "metadata": {},
   "outputs": [],
   "source": [
    "cost = tf.reduce_mean(tf.square(hypothesis - Y))"
   ]
  },
  {
   "cell_type": "code",
   "execution_count": 10,
   "metadata": {},
   "outputs": [],
   "source": [
    "optimizer = tf.train.GradientDescentOptimizer(learning_rate=0.00001)"
   ]
  },
  {
   "cell_type": "code",
   "execution_count": 11,
   "metadata": {},
   "outputs": [],
   "source": [
    "train = optimizer.minimize(cost)"
   ]
  },
  {
   "cell_type": "code",
   "execution_count": 12,
   "metadata": {},
   "outputs": [
    {
     "name": "stdout",
     "output_type": "stream",
     "text": [
      "7947.0117 \n",
      " [79.13513  84.964035 88.98191  98.46066  60.634403]\n",
      "32.08985 \n",
      " [157.85564 179.97876 182.3948  200.20078 133.19283]\n",
      "30.524317 \n",
      " [157.65059 180.12009 182.33295 200.14856 133.38457]\n",
      "29.040844 \n",
      " [157.45111 180.2576  182.27278 200.09763 133.57129]\n",
      "27.635244 \n",
      " [157.25706 180.39136 182.21428 200.0479  133.7531 ]\n",
      "26.303051 \n",
      " [157.06828 180.52155 182.15738 199.99936 133.93018]\n",
      "25.040623 \n",
      " [156.88461 180.6482  182.10205 199.95195 134.1026 ]\n",
      "23.844303 \n",
      " [156.70595 180.77141 182.04826 199.90569 134.27052]\n",
      "22.710495 \n",
      " [156.53214 180.8913  181.99593 199.8605  134.43405]\n",
      "21.635935 \n",
      " [156.36305 181.00797 181.94507 199.81638 134.5933 ]\n",
      "20.617533 \n",
      " [156.19856 181.12144 181.89558 199.7733  134.74841]\n",
      "19.652359 \n",
      " [156.03857 181.2319  181.84753 199.73126 134.89948]\n",
      "18.737497 \n",
      " [155.88292 181.33934 181.80077 199.69019 135.0466 ]\n",
      "17.870474 \n",
      " [155.73152 181.44383 181.7553  199.65004 135.18987]\n",
      "17.048563 \n",
      " [155.58424 181.54553 181.7111  199.61084 135.32942]\n",
      "16.269506 \n",
      " [155.44096 181.64445 181.6681  199.57256 135.46533]\n",
      "15.531018 \n",
      " [155.30164 181.74074 181.62636 199.53517 135.59773]\n",
      "14.830976 \n",
      " [155.1661  181.83438 181.58575 199.49863 135.72668]\n",
      "14.167334 \n",
      " [155.03426 181.92548 181.54625 199.4629  135.85226]\n",
      "13.53824 \n",
      " [154.90604 182.01411 181.5079  199.42802 135.9746 ]\n"
     ]
    }
   ],
   "source": [
    "with tf.Session() as sess:\n",
    "    sess.run(tf.global_variables_initializer())\n",
    "    for epoch in range(2000):\n",
    "        _, _cost, _predict = sess.run([train, cost, hypothesis], feed_dict={x1:x1_data, x2:x2_data, x3:x3_data, Y:y_data})\n",
    "        if epoch % 100 == 0:\n",
    "            print(_cost,\"\\n\",_predict)"
   ]
  },
  {
   "cell_type": "code",
   "execution_count": null,
   "metadata": {},
   "outputs": [],
   "source": []
  }
 ],
 "metadata": {
  "kernelspec": {
   "display_name": "Python 3",
   "language": "python",
   "name": "python3"
  },
  "language_info": {
   "codemirror_mode": {
    "name": "ipython",
    "version": 3
   },
   "file_extension": ".py",
   "mimetype": "text/x-python",
   "name": "python",
   "nbconvert_exporter": "python",
   "pygments_lexer": "ipython3",
   "version": "3.6.3"
  }
 },
 "nbformat": 4,
 "nbformat_minor": 2
}
