{
 "cells": [
  {
   "cell_type": "code",
   "execution_count": 3,
   "metadata": {},
   "outputs": [
    {
     "name": "stdout",
     "output_type": "stream",
     "text": [
      "Extracting /tmp/data/train-images-idx3-ubyte.gz\n",
      "Extracting /tmp/data/train-labels-idx1-ubyte.gz\n",
      "Extracting /tmp/data/t10k-images-idx3-ubyte.gz\n",
      "Extracting /tmp/data/t10k-labels-idx1-ubyte.gz\n"
     ]
    }
   ],
   "source": [
    "import tensorflow as tf\n",
    "from tensorflow.examples.tutorials.mnist import input_data\n",
    "mnist = input_data.read_data_sets('/tmp/data/', one_hot=True)"
   ]
  },
  {
   "cell_type": "code",
   "execution_count": 4,
   "metadata": {},
   "outputs": [],
   "source": [
    "# parameter\n",
    "learning_rate = 0.01\n",
    "batch_size = 1000\n",
    "drop_out = 0.7\n",
    "training_epoch = 20"
   ]
  },
  {
   "cell_type": "code",
   "execution_count": 5,
   "metadata": {},
   "outputs": [],
   "source": [
    "X = tf.placeholder(tf.float32, shape=[None, 784])\n",
    "Y = tf.placeholder(tf.float32, shape=[None, 10])\n",
    "keep_prob = tf.placeholder(tf.float32)\n",
    "\n",
    "X_input = tf.reshape(X, shape=[-1, 28, 28, 1])\n",
    "\n",
    "W1 = tf.Variable(tf.random_normal([5, 5, 1, 32]), tf.float32)\n",
    "L1 = tf.nn.conv2d(X_input, W1, strides=[1, 1, 1, 1], padding='SAME')\n",
    "L1 = tf.nn.relu(L1)\n",
    "L1 = tf.nn.max_pool(L1, ksize=[1, 2, 2, 1], strides=[1, 2, 2, 1], padding='VALID')\n",
    "\n",
    "W2 = tf.Variable(tf.random_normal([5, 5, 32, 64]), tf.float32)\n",
    "L2 = tf.nn.conv2d(L1, W2, strides=[1, 1, 1, 1], padding='SAME')\n",
    "L2 = tf.nn.relu(L2)\n",
    "L2 = tf.nn.max_pool(L2, ksize=[1, 2, 2, 1], strides=[1, 2, 2, 1], padding='VALID')\n",
    "\n",
    "L2 = tf.layers.flatten(L2)\n",
    "\n",
    "W3 = tf.Variable(tf.random_normal([7*7*64, 1024]))\n",
    "b3 = tf.Variable(tf.random_normal([1024]))\n",
    "L3 = tf.matmul(L2, W3) + b3\n",
    "L3 = tf.nn.dropout(L3, keep_prob)\n",
    "\n",
    "W4 = tf.Variable(tf.random_normal([1024, 10]))\n",
    "b4 = tf.Variable(tf.random_normal([10]))\n",
    "\n",
    "L4 = tf.matmul(L3, W4) + b4\n",
    "\n",
    "hypothesis = tf.nn.softmax(L4)"
   ]
  },
  {
   "cell_type": "code",
   "execution_count": 6,
   "metadata": {},
   "outputs": [],
   "source": [
    "cost = tf.reduce_mean(tf.nn.softmax_cross_entropy_with_logits_v2(logits=L4, labels=Y))\n",
    "optimizer = tf.train.AdamOptimizer(learning_rate=learning_rate).minimize(cost)\n",
    "prediction = tf.argmax(hypothesis, axis=1)\n",
    "actual = tf.argmax(Y, axis=1)\n",
    "accuracy = tf.reduce_mean(tf.cast(tf.equal(prediction, actual), tf.float32))"
   ]
  },
  {
   "cell_type": "code",
   "execution_count": 7,
   "metadata": {},
   "outputs": [],
   "source": [
    "tf.summary.scalar('cost', cost)\n",
    "tf.summary.scalar('accuracy', accuracy)\n",
    "summaries = tf.summary.merge_all()"
   ]
  },
  {
   "cell_type": "code",
   "execution_count": null,
   "metadata": {},
   "outputs": [
    {
     "name": "stdout",
     "output_type": "stream",
     "text": [
      "epoch 0, cost = 1423.18079, accuracy = 0.90300\n"
     ]
    }
   ],
   "source": [
    "with tf.Session() as sess:\n",
    "    sess.run(tf.global_variables_initializer())\n",
    "    summary_writer = tf.summary.FileWriter('logs/05_Convolution_Neural_Network_With_Mnist_Dataset', sess.graph)\n",
    "    num_batch = int(mnist.train.num_examples / batch_size)\n",
    "    for epoch in range(training_epoch):\n",
    "        avg_cost = 0\n",
    "        for b in range(num_batch):\n",
    "            batch_xs, batch_ys = mnist.train.next_batch(batch_size)\n",
    "            cost_val, _, accuracy_val, summary_ = sess.run([cost, optimizer, accuracy, summaries], feed_dict={X: batch_xs, Y: batch_ys, keep_prob: drop_out})\n",
    "            avg_cost += cost_val / num_batch\n",
    "        print(\"epoch {0}, cost = {1:.5f}, accuracy = {2:.5f}\".format(epoch, cost_val, accuracy_val))\n",
    "        summary_writer.add_summary(summary_, global_step=epoch)\n",
    "    accuracy_val = sess.run(accuracy, feed_dict={X: mnist.test.images, Y: mnist.test.labels, keep_prob: 1.0}) \n",
    "    print(\"result, accuracy = {:.5f}\".format(accuracy_val))"
   ]
  },
  {
   "cell_type": "code",
   "execution_count": null,
   "metadata": {},
   "outputs": [],
   "source": []
  }
 ],
 "metadata": {
  "kernelspec": {
   "display_name": "Python 3",
   "language": "python",
   "name": "python3"
  },
  "language_info": {
   "codemirror_mode": {
    "name": "ipython",
    "version": 3
   },
   "file_extension": ".py",
   "mimetype": "text/x-python",
   "name": "python",
   "nbconvert_exporter": "python",
   "pygments_lexer": "ipython3",
   "version": "3.6.3"
  }
 },
 "nbformat": 4,
 "nbformat_minor": 2
}
