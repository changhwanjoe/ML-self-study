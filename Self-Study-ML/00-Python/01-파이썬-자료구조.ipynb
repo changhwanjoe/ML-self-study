{
 "cells": [
  {
   "cell_type": "markdown",
   "metadata": {},
   "source": [
    "## 파이썬의 철학"
   ]
  },
  {
   "cell_type": "code",
   "execution_count": 1,
   "metadata": {},
   "outputs": [
    {
     "name": "stdout",
     "output_type": "stream",
     "text": [
      "The Zen of Python, by Tim Peters\n",
      "\n",
      "Beautiful is better than ugly.\n",
      "Explicit is better than implicit.\n",
      "Simple is better than complex.\n",
      "Complex is better than complicated.\n",
      "Flat is better than nested.\n",
      "Sparse is better than dense.\n",
      "Readability counts.\n",
      "Special cases aren't special enough to break the rules.\n",
      "Although practicality beats purity.\n",
      "Errors should never pass silently.\n",
      "Unless explicitly silenced.\n",
      "In the face of ambiguity, refuse the temptation to guess.\n",
      "There should be one-- and preferably only one --obvious way to do it.\n",
      "Although that way may not be obvious at first unless you're Dutch.\n",
      "Now is better than never.\n",
      "Although never is often better than *right* now.\n",
      "If the implementation is hard to explain, it's a bad idea.\n",
      "If the implementation is easy to explain, it may be a good idea.\n",
      "Namespaces are one honking great idea -- let's do more of those!\n"
     ]
    }
   ],
   "source": [
    "import this"
   ]
  },
  {
   "cell_type": "markdown",
   "metadata": {
    "id": "0aabSnY6jFjM"
   },
   "source": [
    "## print (출력)"
   ]
  },
  {
   "cell_type": "markdown",
   "metadata": {
    "id": "awBY0WQUjIT5"
   },
   "source": [
    "- 첫 단원에서는 **기본 print() 의 출력**만 배웁니다.\n",
    "- 향후 실습 진행을 위한 정도만 배우고, 나중에 문자열 포맷팅에서 더 자세히 다룹니다."
   ]
  },
  {
   "cell_type": "code",
   "execution_count": 2,
   "metadata": {
    "colab": {
     "base_uri": "https://localhost:8080/",
     "height": 35
    },
    "id": "7s3bLU2LjZ8j",
    "outputId": "f98ce108-91b7-477b-c1c7-fa080ae49b19"
   },
   "outputs": [
    {
     "name": "stdout",
     "output_type": "stream",
     "text": [
      "오늘 파이썬 배우기 좋은 날이네!\n"
     ]
    }
   ],
   "source": [
    "print('오늘 파이썬 배우기 좋은 날이네!')"
   ]
  },
  {
   "cell_type": "code",
   "execution_count": 3,
   "metadata": {
    "colab": {
     "base_uri": "https://localhost:8080/",
     "height": 35
    },
    "id": "Ux7c-OupjXWA",
    "outputId": "87de4526-d64e-45e8-cc7d-d722ea0f2bf3"
   },
   "outputs": [
    {
     "name": "stdout",
     "output_type": "stream",
     "text": [
      "오늘은 일요일\n"
     ]
    }
   ],
   "source": [
    "print(\"오늘은\", \"일요일\")"
   ]
  },
  {
   "cell_type": "code",
   "execution_count": 4,
   "metadata": {
    "colab": {
     "base_uri": "https://localhost:8080/",
     "height": 35
    },
    "id": "kFtjObXhjZkO",
    "outputId": "ba886ded-65e7-41c0-bac7-30fc197e5cc6"
   },
   "outputs": [
    {
     "name": "stdout",
     "output_type": "stream",
     "text": [
      "1 2 3 4\n"
     ]
    }
   ],
   "source": [
    "print(1, 2, 3, 4)"
   ]
  },
  {
   "cell_type": "markdown",
   "metadata": {
    "id": "Lz5PVaZTjlFB"
   },
   "source": [
    "**Jupyter Notebook** 셀에서 맨 끝에 위치한 변수, 문자열, 숫자등은 자동으로 출력합니다."
   ]
  },
  {
   "cell_type": "markdown",
   "metadata": {},
   "source": [
    "3.14, '안녕', 100 이렇게 3개의 값이 있지만, 항상 가장 마지막만 출력됩니다.`ㅡ"
   ]
  },
  {
   "cell_type": "code",
   "execution_count": 5,
   "metadata": {
    "colab": {
     "base_uri": "https://localhost:8080/",
     "height": 35
    },
    "id": "i_1eYKiljvqh",
    "outputId": "5c7027f0-079b-4c17-c698-52e193a414dd"
   },
   "outputs": [
    {
     "data": {
      "text/plain": [
       "100"
      ]
     },
     "execution_count": 5,
     "metadata": {},
     "output_type": "execute_result"
    }
   ],
   "source": [
    "3.14\n",
    "'안녕'\n",
    "100"
   ]
  },
  {
   "cell_type": "markdown",
   "metadata": {
    "id": "DhRp7joQQWjC"
   },
   "source": [
    "# 변수 (Variable)"
   ]
  },
  {
   "cell_type": "markdown",
   "metadata": {
    "id": "jYy2_H0LTTV1"
   },
   "source": [
    "변수는 **데이터를 담는 그릇**이라고 생각하시면 됩니다.\n",
    "\n",
    "변수라는 그릇에 정수를 담을 수도 있고, 긴 글을 담을 수도 있고, file을 담을 수도 있습니다. 우리가 재사용 하기 쉽게 **별명**을 지정해 줬다라고 쉽게 생각하시기 바랍니다."
   ]
  },
  {
   "cell_type": "markdown",
   "metadata": {
    "id": "pXEzU0KYQlFq"
   },
   "source": [
    "## 변수의 이름 규칙 (Rule)\n",
    "\n",
    "다음의 **문자만 사용**할 수 있습니다.\n",
    "- 소문자(a~z)\n",
    "- 대문자(A~Z)\n",
    "- 숫자(0~9)\n",
    "- 한글도 가능\n",
    "- 특수기호는 언더바(_) 만 허용\n",
    "\n",
    "다음의 **규칙**을 가집니다.\n",
    "- 대소 문자를 구분합니다.\n",
    "- 숫자는 맨 처음에 올 수 없습니다. \n",
    "- 예약어(keyword)는 사용할 수 없습니다. (def, if, del, import, return 등등)"
   ]
  },
  {
   "cell_type": "markdown",
   "metadata": {
    "id": "bOx6AZblQ7N5"
   },
   "source": [
    "case 1. 알파벳 (가능) / 대소문자 모두 가능 /심지어 **한글도 가능하나 사용하는 것은 비추**!"
   ]
  },
  {
   "cell_type": "code",
   "execution_count": 6,
   "metadata": {
    "id": "TIK6Qp5RQ6-k"
   },
   "outputs": [],
   "source": [
    "a = 1"
   ]
  },
  {
   "cell_type": "code",
   "execution_count": 7,
   "metadata": {
    "id": "Wxpjs5SbSFdV"
   },
   "outputs": [],
   "source": [
    "A = 1"
   ]
  },
  {
   "cell_type": "code",
   "execution_count": 8,
   "metadata": {
    "id": "Pri05QNBSHD_"
   },
   "outputs": [],
   "source": [
    "변수 = 1"
   ]
  },
  {
   "cell_type": "code",
   "execution_count": 9,
   "metadata": {
    "colab": {
     "base_uri": "https://localhost:8080/",
     "height": 34
    },
    "id": "FKfXqeQoSIXU",
    "outputId": "e0101af9-2044-4159-fefc-dcf4073fd69a"
   },
   "outputs": [
    {
     "data": {
      "text/plain": [
       "1"
      ]
     },
     "execution_count": 9,
     "metadata": {},
     "output_type": "execute_result"
    }
   ],
   "source": [
    "변수"
   ]
  },
  {
   "cell_type": "markdown",
   "metadata": {
    "id": "nEyz3D-8Quh5"
   },
   "source": [
    "case 2. 알파벳 + 숫자 (가능)"
   ]
  },
  {
   "cell_type": "code",
   "execution_count": 10,
   "metadata": {
    "id": "XJZFGL3oQk87"
   },
   "outputs": [],
   "source": [
    "a1 = 1"
   ]
  },
  {
   "cell_type": "markdown",
   "metadata": {
    "id": "DMODcJQnRJQU"
   },
   "source": [
    "case 3. 알파벳 + 언더바(_) (가능)"
   ]
  },
  {
   "cell_type": "code",
   "execution_count": 11,
   "metadata": {
    "id": "iLZ6Bp8PRaay"
   },
   "outputs": [],
   "source": [
    "a_ = 1"
   ]
  },
  {
   "cell_type": "markdown",
   "metadata": {
    "id": "yfz1ox-5Rb0I"
   },
   "source": [
    "case 4. 언더바(_) + 알파벳 (가능))"
   ]
  },
  {
   "cell_type": "code",
   "execution_count": 12,
   "metadata": {
    "id": "gXKzcmybRizo"
   },
   "outputs": [],
   "source": [
    "_a = 1"
   ]
  },
  {
   "cell_type": "markdown",
   "metadata": {
    "id": "OrfMZBODQkyU"
   },
   "source": [
    "case 5. 숫자 + 알파벳 (불가능)"
   ]
  },
  {
   "cell_type": "code",
   "execution_count": 13,
   "metadata": {
    "colab": {
     "base_uri": "https://localhost:8080/",
     "height": 134
    },
    "id": "Po0D-oA_QWLq",
    "outputId": "47659b3c-f6b7-4f45-b059-f59dd8a9c000"
   },
   "outputs": [
    {
     "ename": "SyntaxError",
     "evalue": "invalid syntax (<ipython-input-13-cc67e5ecf289>, line 1)",
     "output_type": "error",
     "traceback": [
      "\u001b[0;36m  File \u001b[0;32m\"<ipython-input-13-cc67e5ecf289>\"\u001b[0;36m, line \u001b[0;32m1\u001b[0m\n\u001b[0;31m    1a = 1\u001b[0m\n\u001b[0m     ^\u001b[0m\n\u001b[0;31mSyntaxError\u001b[0m\u001b[0;31m:\u001b[0m invalid syntax\n"
     ]
    }
   ],
   "source": [
    "1a = 1"
   ]
  },
  {
   "cell_type": "markdown",
   "metadata": {
    "id": "cVC_51UAQ4_E"
   },
   "source": [
    "case 6. 특수문자 (불가능)"
   ]
  },
  {
   "cell_type": "code",
   "execution_count": 14,
   "metadata": {
    "colab": {
     "base_uri": "https://localhost:8080/",
     "height": 134
    },
    "id": "1R5QFrVcRsip",
    "outputId": "6ad3f6ed-b709-43f9-af36-d70d0f00a882"
   },
   "outputs": [
    {
     "ename": "SyntaxError",
     "evalue": "invalid syntax (<ipython-input-14-e21efa324dba>, line 1)",
     "output_type": "error",
     "traceback": [
      "\u001b[0;36m  File \u001b[0;32m\"<ipython-input-14-e21efa324dba>\"\u001b[0;36m, line \u001b[0;32m1\u001b[0m\n\u001b[0;31m    * = 7\u001b[0m\n\u001b[0m      ^\u001b[0m\n\u001b[0;31mSyntaxError\u001b[0m\u001b[0;31m:\u001b[0m invalid syntax\n"
     ]
    }
   ],
   "source": [
    "* = 7"
   ]
  },
  {
   "cell_type": "markdown",
   "metadata": {
    "id": "DApK72LyRuWk"
   },
   "source": [
    "case 7. 언더바를 제외한 특수문자 (불가능)"
   ]
  },
  {
   "cell_type": "code",
   "execution_count": 15,
   "metadata": {
    "colab": {
     "base_uri": "https://localhost:8080/",
     "height": 134
    },
    "id": "ib-k4vjZRuKR",
    "outputId": "29d292da-7468-4884-fb79-da9123eb5928"
   },
   "outputs": [
    {
     "ename": "SyntaxError",
     "evalue": "invalid syntax (<ipython-input-15-7b68e0211941>, line 1)",
     "output_type": "error",
     "traceback": [
      "\u001b[0;36m  File \u001b[0;32m\"<ipython-input-15-7b68e0211941>\"\u001b[0;36m, line \u001b[0;32m1\u001b[0m\n\u001b[0;31m    a$ = 6\u001b[0m\n\u001b[0m     ^\u001b[0m\n\u001b[0;31mSyntaxError\u001b[0m\u001b[0;31m:\u001b[0m invalid syntax\n"
     ]
    }
   ],
   "source": [
    "a$ = 6"
   ]
  },
  {
   "cell_type": "markdown",
   "metadata": {
    "id": "C4N7rPjenZfj"
   },
   "source": [
    "case 8. 변수의 이름 사이의 공백 (불가능)"
   ]
  },
  {
   "cell_type": "code",
   "execution_count": 16,
   "metadata": {
    "colab": {
     "base_uri": "https://localhost:8080/",
     "height": 134
    },
    "id": "t0noa6EOngJc",
    "outputId": "e294ccd3-c6e2-4424-e0cd-88d9c1d6dd59"
   },
   "outputs": [
    {
     "ename": "SyntaxError",
     "evalue": "invalid syntax (<ipython-input-16-38dc6d48d57b>, line 1)",
     "output_type": "error",
     "traceback": [
      "\u001b[0;36m  File \u001b[0;32m\"<ipython-input-16-38dc6d48d57b>\"\u001b[0;36m, line \u001b[0;32m1\u001b[0m\n\u001b[0;31m    a b = 6\u001b[0m\n\u001b[0m      ^\u001b[0m\n\u001b[0;31mSyntaxError\u001b[0m\u001b[0;31m:\u001b[0m invalid syntax\n"
     ]
    }
   ],
   "source": [
    "a b = 6"
   ]
  },
  {
   "cell_type": "markdown",
   "metadata": {
    "id": "Zi16utkrSWUB"
   },
   "source": [
    "주로 변수는 **소문자 알파벳으로 생성**하고, 필요시 **언더바**나 **숫자를 붙히는 방식**이 일반적입니다."
   ]
  },
  {
   "cell_type": "code",
   "execution_count": 17,
   "metadata": {
    "id": "7um-fqf7R7gl"
   },
   "outputs": [],
   "source": [
    "test = 10"
   ]
  },
  {
   "cell_type": "code",
   "execution_count": 18,
   "metadata": {
    "id": "niBpyRtkSmIq"
   },
   "outputs": [],
   "source": [
    "test01 = 20"
   ]
  },
  {
   "cell_type": "code",
   "execution_count": 19,
   "metadata": {
    "id": "01krOD1tSprV"
   },
   "outputs": [],
   "source": [
    "test_01 = 30"
   ]
  },
  {
   "cell_type": "markdown",
   "metadata": {
    "id": "e3jWuNkIFf52"
   },
   "source": [
    "## 데이터 타입 (Data Type)\n",
    "\n",
    "자료형태(자료형), 자료구조라고도 불리웁니다."
   ]
  },
  {
   "cell_type": "markdown",
   "metadata": {
    "id": "XG1zmhr-GLBP"
   },
   "source": [
    "**주요 데이터 타입(type)**\n",
    "\n",
    "1. `int` (정수): Integer(정수)의 약어이며, 정수를 나타내는 자료형입니다.\n",
    "2. `float` (실수): Floating point의 약어이며, 소수점이 있는 숫자를 나타내는 자료형입니다.\n",
    "3. `str` (문자열): 문자를 나타내는 자료형입니다. 작은 따옴표 혹은 큰 따옴표로 감싸져 있습니다.\n",
    "4. `bool` (참/거짓): 참 또는 거짓을 나타내는 자료형입니다. True, False에서 T와 F는 반드시 대문자로 표기해야 합니다."
   ]
  },
  {
   "cell_type": "markdown",
   "metadata": {
    "id": "YBYZV7sUvqG9"
   },
   "source": [
    "### type()"
   ]
  },
  {
   "cell_type": "markdown",
   "metadata": {
    "id": "HcxiywnGvrky"
   },
   "source": [
    "type 함수를 활용하여 데이터의 타입을 알아 볼 수 있습니다."
   ]
  },
  {
   "cell_type": "code",
   "execution_count": 20,
   "metadata": {
    "colab": {
     "base_uri": "https://localhost:8080/",
     "height": 35
    },
    "id": "jCaILKrVvyC3",
    "outputId": "a685364e-01a2-4def-f1f6-5a4d7e9916cd"
   },
   "outputs": [
    {
     "data": {
      "text/plain": [
       "int"
      ]
     },
     "execution_count": 20,
     "metadata": {},
     "output_type": "execute_result"
    }
   ],
   "source": [
    "type(1)"
   ]
  },
  {
   "cell_type": "code",
   "execution_count": 21,
   "metadata": {
    "colab": {
     "base_uri": "https://localhost:8080/",
     "height": 35
    },
    "id": "oq8Q46j4vzFc",
    "outputId": "7b88fb1a-2a83-48ec-8920-9bedcfd3f9a9"
   },
   "outputs": [
    {
     "data": {
      "text/plain": [
       "float"
      ]
     },
     "execution_count": 21,
     "metadata": {},
     "output_type": "execute_result"
    }
   ],
   "source": [
    "type(3.14)"
   ]
  },
  {
   "cell_type": "code",
   "execution_count": 22,
   "metadata": {
    "colab": {
     "base_uri": "https://localhost:8080/",
     "height": 35
    },
    "id": "rvpoQejsv0eT",
    "outputId": "c090a678-ecc7-41dd-b391-75c7079fc654"
   },
   "outputs": [
    {
     "data": {
      "text/plain": [
       "str"
      ]
     },
     "execution_count": 22,
     "metadata": {},
     "output_type": "execute_result"
    }
   ],
   "source": [
    "type(\"안녕\")"
   ]
  },
  {
   "cell_type": "code",
   "execution_count": 23,
   "metadata": {
    "colab": {
     "base_uri": "https://localhost:8080/",
     "height": 35
    },
    "id": "was4wayTv2G5",
    "outputId": "9784f376-4d10-4eb9-cb78-8c608f53d253"
   },
   "outputs": [
    {
     "data": {
      "text/plain": [
       "bool"
      ]
     },
     "execution_count": 23,
     "metadata": {},
     "output_type": "execute_result"
    }
   ],
   "source": [
    "type(True)"
   ]
  },
  {
   "cell_type": "markdown",
   "metadata": {
    "id": "QHYQ09XIGg1_"
   },
   "source": [
    "## int (정수)\n",
    "\n",
    "Integer(정수)의 약어이며, 정수를 나타내는 자료형입니다."
   ]
  },
  {
   "cell_type": "code",
   "execution_count": 24,
   "metadata": {
    "id": "y1cPV_XxFrkb"
   },
   "outputs": [],
   "source": [
    "a = 1"
   ]
  },
  {
   "cell_type": "code",
   "execution_count": 25,
   "metadata": {
    "colab": {
     "base_uri": "https://localhost:8080/",
     "height": 35
    },
    "id": "5jgHwf8wyeLZ",
    "outputId": "a70406fd-9072-4de9-cc19-35204159965a"
   },
   "outputs": [
    {
     "name": "stdout",
     "output_type": "stream",
     "text": [
      "1\n"
     ]
    }
   ],
   "source": [
    "print(a)"
   ]
  },
  {
   "cell_type": "markdown",
   "metadata": {
    "id": "rg6q9SSXyjg1"
   },
   "source": [
    "**type 확인**"
   ]
  },
  {
   "cell_type": "code",
   "execution_count": 26,
   "metadata": {
    "colab": {
     "base_uri": "https://localhost:8080/",
     "height": 35
    },
    "id": "At5R-m--FuuR",
    "outputId": "0fef0a1c-bf67-492e-f08c-c9545522d5ac"
   },
   "outputs": [
    {
     "data": {
      "text/plain": [
       "int"
      ]
     },
     "execution_count": 26,
     "metadata": {},
     "output_type": "execute_result"
    }
   ],
   "source": [
    "type(a)"
   ]
  },
  {
   "cell_type": "markdown",
   "metadata": {
    "id": "qOJu5f5kGjpf"
   },
   "source": [
    "## float (실수)\n",
    "\n",
    "Floating point의 약어이며, 소수점이 있는 숫자를 나타내는 자료형입니다."
   ]
  },
  {
   "cell_type": "code",
   "execution_count": 27,
   "metadata": {
    "id": "4N-NaYDdGlTF"
   },
   "outputs": [],
   "source": [
    "a = 3.14"
   ]
  },
  {
   "cell_type": "code",
   "execution_count": 28,
   "metadata": {
    "colab": {
     "base_uri": "https://localhost:8080/",
     "height": 35
    },
    "id": "9wJn_P-roVh9",
    "outputId": "30a8afb9-e6af-400c-f2c3-6ffbf2c209d2"
   },
   "outputs": [
    {
     "name": "stdout",
     "output_type": "stream",
     "text": [
      "3.14\n"
     ]
    }
   ],
   "source": [
    "print(a)"
   ]
  },
  {
   "cell_type": "markdown",
   "metadata": {
    "id": "YDnumuaTyZ6Z"
   },
   "source": [
    "**type 확인**"
   ]
  },
  {
   "cell_type": "code",
   "execution_count": 29,
   "metadata": {
    "colab": {
     "base_uri": "https://localhost:8080/",
     "height": 35
    },
    "id": "brYxR59nybX0",
    "outputId": "8ec6d80c-fc7b-43d2-a5f6-130128b22e17"
   },
   "outputs": [
    {
     "data": {
      "text/plain": [
       "float"
      ]
     },
     "execution_count": 29,
     "metadata": {},
     "output_type": "execute_result"
    }
   ],
   "source": [
    "type(a)"
   ]
  },
  {
   "cell_type": "markdown",
   "metadata": {
    "id": "5sc68iMeGpJO"
   },
   "source": [
    "## str (문자열)\n",
    "\n",
    "문자를 나타내는 자료형입니다. 작은 따옴표 혹은 큰 따옴표로 감싸져 있습니다."
   ]
  },
  {
   "cell_type": "markdown",
   "metadata": {
    "id": "oDBZSyefxH2_"
   },
   "source": [
    "**작은 따옴표 '  '** 사이에 문자를 입력한 경우"
   ]
  },
  {
   "cell_type": "code",
   "execution_count": 30,
   "metadata": {
    "id": "cosCc_J0Fv8l"
   },
   "outputs": [],
   "source": [
    "word = '안녕하세요'"
   ]
  },
  {
   "cell_type": "code",
   "execution_count": 31,
   "metadata": {
    "colab": {
     "base_uri": "https://localhost:8080/",
     "height": 35
    },
    "id": "Cr20488IxmXD",
    "outputId": "67f8f255-d23c-45c1-a68f-6478aeda31be"
   },
   "outputs": [
    {
     "data": {
      "text/plain": [
       "'안녕하세요'"
      ]
     },
     "execution_count": 31,
     "metadata": {},
     "output_type": "execute_result"
    }
   ],
   "source": [
    "word"
   ]
  },
  {
   "cell_type": "markdown",
   "metadata": {},
   "source": [
    "**type 확인**"
   ]
  },
  {
   "cell_type": "code",
   "execution_count": 32,
   "metadata": {},
   "outputs": [
    {
     "data": {
      "text/plain": [
       "str"
      ]
     },
     "execution_count": 32,
     "metadata": {},
     "output_type": "execute_result"
    }
   ],
   "source": [
    "type(word)"
   ]
  },
  {
   "cell_type": "markdown",
   "metadata": {
    "id": "JMnmYcx1xMPh"
   },
   "source": [
    "**큰 따옴표 \"  \"** 사이에 문자를 입력한 경우"
   ]
  },
  {
   "cell_type": "code",
   "execution_count": 33,
   "metadata": {
    "id": "1S7b3MedofHY"
   },
   "outputs": [],
   "source": [
    "word = \"안녕하세요\""
   ]
  },
  {
   "cell_type": "code",
   "execution_count": 34,
   "metadata": {
    "colab": {
     "base_uri": "https://localhost:8080/",
     "height": 35
    },
    "id": "1b-NCWmwxlc-",
    "outputId": "8ed87092-80de-4d07-efe1-e91da5d74896"
   },
   "outputs": [
    {
     "data": {
      "text/plain": [
       "'안녕하세요'"
      ]
     },
     "execution_count": 34,
     "metadata": {},
     "output_type": "execute_result"
    }
   ],
   "source": [
    "word"
   ]
  },
  {
   "cell_type": "markdown",
   "metadata": {},
   "source": [
    "**여러 줄에 입력하고 싶을 때는 어떻게 해야하나요?**"
   ]
  },
  {
   "cell_type": "markdown",
   "metadata": {
    "id": "z867VOtKxpE8"
   },
   "source": [
    "**작은 따옴표 '''  '''** 3개를 연속해서 사용한 경우\n",
    "\n",
    "- 작은 따옴표나 큰 따옴표 3개를 연속해서 사용시 여러 줄에 나누어 문장을 입력할 수 있습니다."
   ]
  },
  {
   "cell_type": "code",
   "execution_count": 35,
   "metadata": {
    "id": "Jw4PhisixyKm"
   },
   "outputs": [],
   "source": [
    "word = '''안녕하세요\n",
    "반\n",
    "갑\n",
    "습\n",
    "니다.\n",
    "'''"
   ]
  },
  {
   "cell_type": "code",
   "execution_count": 36,
   "metadata": {
    "colab": {
     "base_uri": "https://localhost:8080/",
     "height": 125
    },
    "id": "ke7J6qhox2Kg",
    "outputId": "0b7ea9c3-4839-4007-9238-40ba3adc04b9"
   },
   "outputs": [
    {
     "name": "stdout",
     "output_type": "stream",
     "text": [
      "안녕하세요\n",
      "반\n",
      "갑\n",
      "습\n",
      "니다.\n",
      "\n"
     ]
    }
   ],
   "source": [
    "print(word)"
   ]
  },
  {
   "cell_type": "markdown",
   "metadata": {
    "id": "DxZ6aOJDxWMo"
   },
   "source": [
    "**큰 따옴표 \"\"\"  \"\"\"** 3개를 연속해서 사용한 경우"
   ]
  },
  {
   "cell_type": "code",
   "execution_count": 37,
   "metadata": {
    "id": "n78ln2Haxbih"
   },
   "outputs": [],
   "source": [
    "word = \"\"\"안녕하세요\n",
    "반\n",
    "갑\n",
    "습\n",
    "니다.\n",
    "\"\"\""
   ]
  },
  {
   "cell_type": "code",
   "execution_count": 38,
   "metadata": {
    "colab": {
     "base_uri": "https://localhost:8080/",
     "height": 125
    },
    "id": "pbbnjFhlxj5e",
    "outputId": "6f224c9e-c2ee-424d-9e4b-3f0d861407f3"
   },
   "outputs": [
    {
     "name": "stdout",
     "output_type": "stream",
     "text": [
      "안녕하세요\n",
      "반\n",
      "갑\n",
      "습\n",
      "니다.\n",
      "\n"
     ]
    }
   ],
   "source": [
    "print(word)"
   ]
  },
  {
   "cell_type": "markdown",
   "metadata": {
    "id": "cHsbWm-2yCUU"
   },
   "source": [
    "**type 확인**"
   ]
  },
  {
   "cell_type": "code",
   "execution_count": 39,
   "metadata": {
    "colab": {
     "base_uri": "https://localhost:8080/",
     "height": 35
    },
    "id": "8h_mSzprGr0M",
    "outputId": "fcc95f46-0356-4dd9-fe50-82deabc3d137"
   },
   "outputs": [
    {
     "data": {
      "text/plain": [
       "str"
      ]
     },
     "execution_count": 39,
     "metadata": {},
     "output_type": "execute_result"
    }
   ],
   "source": [
    "type(word)"
   ]
  },
  {
   "cell_type": "markdown",
   "metadata": {
    "id": "v867uiHyF8nE"
   },
   "source": [
    "## bool (참/거짓)\n",
    "\n",
    "참 또는 거짓을 나타내는 자료형입니다. True, False에서 T와 F는 **반드시 대문자로 표기**해야 합니다."
   ]
  },
  {
   "cell_type": "code",
   "execution_count": 40,
   "metadata": {
    "id": "cj28ZTzLQNrV"
   },
   "outputs": [],
   "source": [
    "a = False"
   ]
  },
  {
   "cell_type": "code",
   "execution_count": 41,
   "metadata": {
    "colab": {
     "base_uri": "https://localhost:8080/",
     "height": 35
    },
    "id": "nJayiV8HQP2S",
    "outputId": "78ba2194-bbad-4d16-98e4-081005a7a68b"
   },
   "outputs": [
    {
     "name": "stdout",
     "output_type": "stream",
     "text": [
      "False\n"
     ]
    }
   ],
   "source": [
    "print(a)"
   ]
  },
  {
   "cell_type": "markdown",
   "metadata": {},
   "source": [
    "**type 확인**"
   ]
  },
  {
   "cell_type": "code",
   "execution_count": 42,
   "metadata": {},
   "outputs": [
    {
     "data": {
      "text/plain": [
       "bool"
      ]
     },
     "execution_count": 42,
     "metadata": {},
     "output_type": "execute_result"
    }
   ],
   "source": [
    "type(False)"
   ]
  },
  {
   "cell_type": "markdown",
   "metadata": {
    "id": "54k40G11awDe"
   },
   "source": [
    "* 정수 1은 `True`\n",
    "* 정수 0은 `False`"
   ]
  },
  {
   "cell_type": "markdown",
   "metadata": {},
   "source": [
    "비교 연산자는 추후에 배우게 됩니다.\n",
    "\n",
    "파이썬에서는 **\"같다\"** 비교를 **\"==\"** 기호로 합니다."
   ]
  },
  {
   "cell_type": "code",
   "execution_count": 43,
   "metadata": {
    "colab": {
     "base_uri": "https://localhost:8080/",
     "height": 35
    },
    "id": "corNodwUyMDM",
    "outputId": "24adddfe-9cf2-4eec-fd5f-daca4aef2a95"
   },
   "outputs": [
    {
     "data": {
      "text/plain": [
       "True"
      ]
     },
     "execution_count": 43,
     "metadata": {},
     "output_type": "execute_result"
    }
   ],
   "source": [
    "1 == True"
   ]
  },
  {
   "cell_type": "code",
   "execution_count": 44,
   "metadata": {
    "colab": {
     "base_uri": "https://localhost:8080/",
     "height": 35
    },
    "id": "-liXhXbSQQUj",
    "outputId": "dc12cb83-6f8e-4356-db78-b6e2e5aac043"
   },
   "outputs": [
    {
     "data": {
      "text/plain": [
       "True"
      ]
     },
     "execution_count": 44,
     "metadata": {},
     "output_type": "execute_result"
    }
   ],
   "source": [
    "0 == False"
   ]
  },
  {
   "cell_type": "markdown",
   "metadata": {
    "id": "lwifkFyyyRN9"
   },
   "source": [
    "**type 확인**"
   ]
  },
  {
   "cell_type": "code",
   "execution_count": 45,
   "metadata": {
    "colab": {
     "base_uri": "https://localhost:8080/",
     "height": 35
    },
    "id": "ZMF44VAqyTuC",
    "outputId": "81860d44-3a99-4fc5-9fd8-a5a5218569e9"
   },
   "outputs": [
    {
     "data": {
      "text/plain": [
       "bool"
      ]
     },
     "execution_count": 45,
     "metadata": {},
     "output_type": "execute_result"
    }
   ],
   "source": [
    "type(True)"
   ]
  },
  {
   "cell_type": "markdown",
   "metadata": {
    "id": "oBWsyhdR2Mc5"
   },
   "source": [
    "## 아무것도 아닌 None 타입"
   ]
  },
  {
   "cell_type": "markdown",
   "metadata": {
    "id": "G0DtMj4R2Vte"
   },
   "source": [
    "말 그래도 아무 것도 아닌 흔히 Null 값을 넣는다고도 합니다.\n",
    "\n",
    "사전상 의미는<br>\n",
    "* **Null: Nullify (무효화하다)**\n",
    "라는 뜻을 가지고 있다네요~\n",
    "\n",
    "python에서는 **None** 입니다!"
   ]
  },
  {
   "cell_type": "code",
   "execution_count": 46,
   "metadata": {
    "id": "rFrHjjC22MMA"
   },
   "outputs": [],
   "source": [
    "a = None"
   ]
  },
  {
   "cell_type": "markdown",
   "metadata": {},
   "source": [
    "**type 확인**"
   ]
  },
  {
   "cell_type": "code",
   "execution_count": 47,
   "metadata": {
    "colab": {
     "base_uri": "https://localhost:8080/",
     "height": 35
    },
    "id": "ABzXxy-EpVll",
    "outputId": "d88a4276-0c76-47a5-8f0b-8291402b8b8a"
   },
   "outputs": [
    {
     "data": {
      "text/plain": [
       "NoneType"
      ]
     },
     "execution_count": 47,
     "metadata": {},
     "output_type": "execute_result"
    }
   ],
   "source": [
    "type(a)"
   ]
  },
  {
   "cell_type": "code",
   "execution_count": 48,
   "metadata": {
    "colab": {
     "base_uri": "https://localhost:8080/",
     "height": 35
    },
    "id": "PpO_s24z2R5u",
    "outputId": "5742a827-e2c9-462a-8bc1-50b3e6c6a53b"
   },
   "outputs": [
    {
     "name": "stdout",
     "output_type": "stream",
     "text": [
      "None\n"
     ]
    }
   ],
   "source": [
    "print(a)"
   ]
  },
  {
   "cell_type": "markdown",
   "metadata": {
    "id": "tkwBhMqAGq9S"
   },
   "source": [
    "# 타입 변환"
   ]
  },
  {
   "cell_type": "markdown",
   "metadata": {},
   "source": [
    "`int`를 `float`로 변환한 경우"
   ]
  },
  {
   "cell_type": "code",
   "execution_count": 49,
   "metadata": {
    "id": "34hJc-g8GqlH"
   },
   "outputs": [],
   "source": [
    "a = 1"
   ]
  },
  {
   "cell_type": "code",
   "execution_count": 50,
   "metadata": {
    "colab": {
     "base_uri": "https://localhost:8080/",
     "height": 35
    },
    "id": "ZsS9iQBWGu8n",
    "outputId": "102319b8-c9ae-4f7f-d463-d368e55f68ac"
   },
   "outputs": [
    {
     "data": {
      "text/plain": [
       "int"
      ]
     },
     "execution_count": 50,
     "metadata": {},
     "output_type": "execute_result"
    }
   ],
   "source": [
    "type(a)"
   ]
  },
  {
   "cell_type": "code",
   "execution_count": 51,
   "metadata": {
    "colab": {
     "base_uri": "https://localhost:8080/",
     "height": 35
    },
    "id": "gPJc_onWGxHt",
    "outputId": "a2981fa5-7758-4671-cfd5-f4de3b9af1c4"
   },
   "outputs": [
    {
     "data": {
      "text/plain": [
       "1.0"
      ]
     },
     "execution_count": 51,
     "metadata": {},
     "output_type": "execute_result"
    }
   ],
   "source": [
    "float(a)"
   ]
  },
  {
   "cell_type": "markdown",
   "metadata": {},
   "source": [
    "`float`를 `int`로 변환한 경우\n",
    "\n",
    "- float를 int로 변환시 반올림이 아닌 값이 버림되어 집니다. (소수점 이하 절삭)"
   ]
  },
  {
   "cell_type": "code",
   "execution_count": 52,
   "metadata": {
    "id": "SBAX3lUzGyvJ"
   },
   "outputs": [],
   "source": [
    "b = 3.99"
   ]
  },
  {
   "cell_type": "code",
   "execution_count": 53,
   "metadata": {
    "colab": {
     "base_uri": "https://localhost:8080/",
     "height": 35
    },
    "id": "LAcL_eO1G14L",
    "outputId": "e0e5d148-38d8-4aae-9461-31108ad767d4"
   },
   "outputs": [
    {
     "data": {
      "text/plain": [
       "3"
      ]
     },
     "execution_count": 53,
     "metadata": {},
     "output_type": "execute_result"
    }
   ],
   "source": [
    "int(b)"
   ]
  },
  {
   "cell_type": "markdown",
   "metadata": {},
   "source": [
    "`bool`을 `int`로 변환한 경우"
   ]
  },
  {
   "cell_type": "code",
   "execution_count": 54,
   "metadata": {
    "id": "3p_Q1mw5G4Va"
   },
   "outputs": [],
   "source": [
    "c = True"
   ]
  },
  {
   "cell_type": "code",
   "execution_count": 55,
   "metadata": {
    "colab": {
     "base_uri": "https://localhost:8080/",
     "height": 35
    },
    "id": "gJ2Ahcc1G8JW",
    "outputId": "1575f9d8-7937-46be-d422-449d3debf0cb"
   },
   "outputs": [
    {
     "data": {
      "text/plain": [
       "1"
      ]
     },
     "execution_count": 55,
     "metadata": {},
     "output_type": "execute_result"
    }
   ],
   "source": [
    "int(c)"
   ]
  },
  {
   "cell_type": "code",
   "execution_count": 56,
   "metadata": {
    "id": "3PUPM9GiG9mw"
   },
   "outputs": [],
   "source": [
    "d = False"
   ]
  },
  {
   "cell_type": "code",
   "execution_count": 57,
   "metadata": {
    "colab": {
     "base_uri": "https://localhost:8080/",
     "height": 35
    },
    "id": "Rh3IZO91G-_t",
    "outputId": "074b290e-e105-4683-ffb4-28b2b47b4f69"
   },
   "outputs": [
    {
     "data": {
      "text/plain": [
       "0"
      ]
     },
     "execution_count": 57,
     "metadata": {},
     "output_type": "execute_result"
    }
   ],
   "source": [
    "int(d)"
   ]
  },
  {
   "cell_type": "markdown",
   "metadata": {},
   "source": [
    "`bool`을 `float`로 변환한 경우"
   ]
  },
  {
   "cell_type": "code",
   "execution_count": 58,
   "metadata": {
    "colab": {
     "base_uri": "https://localhost:8080/",
     "height": 35
    },
    "id": "nTFtfEojHBOm",
    "outputId": "323d50f8-79b1-4764-9fb3-3c9d0dd61dd3"
   },
   "outputs": [
    {
     "data": {
      "text/plain": [
       "1.0"
      ]
     },
     "execution_count": 58,
     "metadata": {},
     "output_type": "execute_result"
    }
   ],
   "source": [
    "float(True)"
   ]
  },
  {
   "cell_type": "markdown",
   "metadata": {},
   "source": [
    "파이썬에서 **0이 아닌 값은 모두 True로 간주**한다."
   ]
  },
  {
   "cell_type": "code",
   "execution_count": 59,
   "metadata": {},
   "outputs": [
    {
     "data": {
      "text/plain": [
       "True"
      ]
     },
     "execution_count": 59,
     "metadata": {},
     "output_type": "execute_result"
    }
   ],
   "source": [
    "bool(1)"
   ]
  },
  {
   "cell_type": "code",
   "execution_count": 60,
   "metadata": {},
   "outputs": [
    {
     "data": {
      "text/plain": [
       "True"
      ]
     },
     "execution_count": 60,
     "metadata": {},
     "output_type": "execute_result"
    }
   ],
   "source": [
    "bool(-10)"
   ]
  },
  {
   "cell_type": "code",
   "execution_count": 61,
   "metadata": {},
   "outputs": [
    {
     "data": {
      "text/plain": [
       "True"
      ]
     },
     "execution_count": 61,
     "metadata": {},
     "output_type": "execute_result"
    }
   ],
   "source": [
    "bool(3.14)"
   ]
  },
  {
   "cell_type": "code",
   "execution_count": 62,
   "metadata": {},
   "outputs": [
    {
     "data": {
      "text/plain": [
       "False"
      ]
     },
     "execution_count": 62,
     "metadata": {},
     "output_type": "execute_result"
    }
   ],
   "source": [
    "bool(0)"
   ]
  },
  {
   "cell_type": "code",
   "execution_count": 63,
   "metadata": {},
   "outputs": [
    {
     "data": {
      "text/plain": [
       "False"
      ]
     },
     "execution_count": 63,
     "metadata": {},
     "output_type": "execute_result"
    }
   ],
   "source": [
    "bool(0.0)"
   ]
  }
 ],
 "metadata": {
  "colab": {
   "collapsed_sections": [],
   "name": "01-파이썬-자료구조",
   "provenance": []
  },
  "kernelspec": {
   "display_name": "Python 3",
   "language": "python",
   "name": "python3"
  },
  "language_info": {
   "codemirror_mode": {
    "name": "ipython",
    "version": 3
   },
   "file_extension": ".py",
   "mimetype": "text/x-python",
   "name": "python",
   "nbconvert_exporter": "python",
   "pygments_lexer": "ipython3",
   "version": "3.6.9"
  }
 },
 "nbformat": 4,
 "nbformat_minor": 1
}
