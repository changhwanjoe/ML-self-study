{
 "cells": [
  {
   "cell_type": "markdown",
   "metadata": {},
   "source": [
    "# 내장함수(built-in function)\n",
    "\n",
    "- 파이썬에는 이미 만들어진 내장함수가 존재합니다.\n",
    "- 이미 사용하고 있는 `print()`, `type()`이 파이썬의 대표적인 내장함수입니다.\n",
    "- 이 밖에도 유용한 몇 가지 내장함수를 알아 보겠습니다."
   ]
  },
  {
   "cell_type": "markdown",
   "metadata": {
    "id": "V8gRF35efbQQ"
   },
   "source": [
    "## map\n",
    "\n",
    "- 문법: **map(function, iterable)**\n",
    "- map은 함수(f)와 순회 가능한(iterable) 자료형을 입력으로 받습니다. \n",
    "- map은 입력받은 자료형의 각 요소를 함수(function)가 수행한 결과를 묶어서 돌려줍니다."
   ]
  },
  {
   "cell_type": "code",
   "execution_count": 1,
   "metadata": {
    "id": "d9CAT6gOfMSR"
   },
   "outputs": [],
   "source": [
    "sample_data = [1, 2, 3, 4, 5, 6, 7, 8, 9, 10]"
   ]
  },
  {
   "cell_type": "markdown",
   "metadata": {},
   "source": [
    "map만 실행시 요소의 내용이 바로 출력되지 않습니다."
   ]
  },
  {
   "cell_type": "code",
   "execution_count": 2,
   "metadata": {
    "id": "fAOcpluff7fc"
   },
   "outputs": [
    {
     "data": {
      "text/plain": [
       "<map at 0x7f04681b9cc0>"
      ]
     },
     "execution_count": 2,
     "metadata": {},
     "output_type": "execute_result"
    }
   ],
   "source": [
    "map(str, sample_data)"
   ]
  },
  {
   "cell_type": "markdown",
   "metadata": {},
   "source": [
    "list()로 타입 변환하여 요소를 출력합니다."
   ]
  },
  {
   "cell_type": "code",
   "execution_count": 3,
   "metadata": {
    "id": "hjWqV7bnf-si"
   },
   "outputs": [
    {
     "data": {
      "text/plain": [
       "['1', '2', '3', '4', '5', '6', '7', '8', '9', '10']"
      ]
     },
     "execution_count": 3,
     "metadata": {},
     "output_type": "execute_result"
    }
   ],
   "source": [
    "list(map(str, sample_data))"
   ]
  },
  {
   "cell_type": "markdown",
   "metadata": {
    "id": "jyozggwtgBj9"
   },
   "source": [
    "### map에 lambda 함수 적용"
   ]
  },
  {
   "cell_type": "code",
   "execution_count": 4,
   "metadata": {
    "id": "Ds7WoQ6nfYqH"
   },
   "outputs": [
    {
     "data": {
      "text/plain": [
       "[2, 4, 6, 8, 10, 12, 14, 16, 18, 20]"
      ]
     },
     "execution_count": 4,
     "metadata": {},
     "output_type": "execute_result"
    }
   ],
   "source": [
    "result = map(lambda x: x*2, sample_data)\n",
    "list(result)"
   ]
  },
  {
   "cell_type": "markdown",
   "metadata": {
    "id": "6vqs1yfgfmk4"
   },
   "source": [
    "### map에 다중 인수를 지정"
   ]
  },
  {
   "cell_type": "code",
   "execution_count": 5,
   "metadata": {
    "id": "jvoaFy-3fpsO"
   },
   "outputs": [
    {
     "data": {
      "text/plain": [
       "[1, 3, 5, 7, 10, 14, 20, 29, 43, 65]"
      ]
     },
     "execution_count": 5,
     "metadata": {},
     "output_type": "execute_result"
    }
   ],
   "source": [
    "sample_data = [1, 2, 3, 4, 5, 6, 7, 8, 9, 10]\n",
    "sample_data_2 = [0, 1, 2, 3, 5, 8, 13, 21, 34, 55]\n",
    "list(map(lambda x, y: x+y, sample_data, sample_data_2))"
   ]
  },
  {
   "cell_type": "markdown",
   "metadata": {
    "id": "ZU4lsAO4fybe"
   },
   "source": [
    "### list의 size가 다른 경우, 작은 size에 맞춰 생성"
   ]
  },
  {
   "cell_type": "code",
   "execution_count": 6,
   "metadata": {
    "id": "iIklwPoCftq0"
   },
   "outputs": [],
   "source": [
    "sample_data = [1, 2, 3, 4, 5, 6, 7, 8, 9, 10]\n",
    "sample_data_2 = [1, 1, 1, 10, 100]"
   ]
  },
  {
   "cell_type": "code",
   "execution_count": 7,
   "metadata": {
    "id": "QNKqdxGff2yT"
   },
   "outputs": [
    {
     "data": {
      "text/plain": [
       "[2, 3, 4, 14, 105]"
      ]
     },
     "execution_count": 7,
     "metadata": {},
     "output_type": "execute_result"
    }
   ],
   "source": [
    "list(map(lambda x, y: x+y, sample_data, sample_data_2))"
   ]
  },
  {
   "cell_type": "markdown",
   "metadata": {
    "id": "023hrUeghC3l"
   },
   "source": [
    "## fIlter\n",
    "\n",
    "- 문법: **fIlter(function, iterable)**\n",
    "- `filter` 내장함수는 값을 filter 할 때 사용합니다.\n",
    "- True인 값을 가지는 요소만 filter 합니다."
   ]
  },
  {
   "cell_type": "code",
   "execution_count": 8,
   "metadata": {
    "id": "TQoP3joWhfPA"
   },
   "outputs": [],
   "source": [
    "sample_data = [1, 2, 3, 4, 5, 6, 7, 8, 9, 10]"
   ]
  },
  {
   "cell_type": "markdown",
   "metadata": {},
   "source": [
    "lambda 함수를 지정한 경우"
   ]
  },
  {
   "cell_type": "code",
   "execution_count": 9,
   "metadata": {},
   "outputs": [
    {
     "data": {
      "text/plain": [
       "[1, 3, 5, 7, 9]"
      ]
     },
     "execution_count": 9,
     "metadata": {},
     "output_type": "execute_result"
    }
   ],
   "source": [
    "result = filter(lambda x: True if (x % 2 == 1) else False, sample_data)\n",
    "list(result)"
   ]
  },
  {
   "cell_type": "markdown",
   "metadata": {},
   "source": [
    "함수를 선언하여 함수명으로 지정한 경우"
   ]
  },
  {
   "cell_type": "code",
   "execution_count": 10,
   "metadata": {},
   "outputs": [],
   "source": [
    "def three_multiple(x):\n",
    "    if x % 3 == 0:\n",
    "        return True\n",
    "    else:\n",
    "        return False"
   ]
  },
  {
   "cell_type": "code",
   "execution_count": 11,
   "metadata": {},
   "outputs": [
    {
     "data": {
      "text/plain": [
       "[3, 6, 9]"
      ]
     },
     "execution_count": 11,
     "metadata": {},
     "output_type": "execute_result"
    }
   ],
   "source": [
    "# 함수의 이름만 입력\n",
    "result = filter(three_multiple, sample_data)\n",
    "list(result)"
   ]
  },
  {
   "cell_type": "markdown",
   "metadata": {
    "id": "rm8OpLI5fzx2"
   },
   "source": [
    "## zip\n",
    "\n",
    "- 문법: **zip(*iterable)**\n",
    "- 동일한 개수로 이루어진 자료형을 묶어 주는 역할을 합니다."
   ]
  },
  {
   "cell_type": "code",
   "execution_count": 12,
   "metadata": {
    "id": "sRZqzUSpgSCJ"
   },
   "outputs": [],
   "source": [
    "sample_data1 = [1, 2, 3, 4, 5, 6, 7, 8, 9, 10]\n",
    "sample_data2 = [0, 1, 2, 3, 5, 8, 13, 21, 34, 55]\n",
    "sample_data3 = [5, 6, 7]"
   ]
  },
  {
   "cell_type": "markdown",
   "metadata": {},
   "source": [
    "`sample_data1`, `sample_data2`을 zip으로 묶어준 경우"
   ]
  },
  {
   "cell_type": "code",
   "execution_count": 13,
   "metadata": {
    "id": "n558ZjfOgU0Z"
   },
   "outputs": [
    {
     "data": {
      "text/plain": [
       "[(1, 0),\n",
       " (2, 1),\n",
       " (3, 2),\n",
       " (4, 3),\n",
       " (5, 5),\n",
       " (6, 8),\n",
       " (7, 13),\n",
       " (8, 21),\n",
       " (9, 34),\n",
       " (10, 55)]"
      ]
     },
     "execution_count": 13,
     "metadata": {},
     "output_type": "execute_result"
    }
   ],
   "source": [
    "result = zip(sample_data1, sample_data2)\n",
    "list(result)"
   ]
  },
  {
   "cell_type": "markdown",
   "metadata": {},
   "source": [
    "`sample_data1`, `sample_data2`, `sample_data3`을 zip으로 묶어준 경우\n",
    "\n",
    "- 작은 size를 가지는 리스트(list)에 맞춰 생성합니다."
   ]
  },
  {
   "cell_type": "code",
   "execution_count": 14,
   "metadata": {
    "id": "Gj_I34ANgcTi"
   },
   "outputs": [
    {
     "data": {
      "text/plain": [
       "[(1, 0, 5), (2, 1, 6), (3, 2, 7)]"
      ]
     },
     "execution_count": 14,
     "metadata": {},
     "output_type": "execute_result"
    }
   ],
   "source": [
    "list(zip(sample_data1, sample_data2, sample_data3))"
   ]
  },
  {
   "cell_type": "markdown",
   "metadata": {},
   "source": [
    "### zip의 응용"
   ]
  },
  {
   "cell_type": "code",
   "execution_count": 15,
   "metadata": {
    "id": "_nU-m4O5gmpV"
   },
   "outputs": [],
   "source": [
    "number = [1, 2, 3, 4]\n",
    "name = ['홍길동','김철수','John','Paul']"
   ]
  },
  {
   "cell_type": "code",
   "execution_count": 16,
   "metadata": {
    "id": "Eb6HDJL-g37P"
   },
   "outputs": [
    {
     "data": {
      "text/plain": [
       "[(1, '홍길동'), (2, '김철수'), (3, 'John'), (4, 'Paul')]"
      ]
     },
     "execution_count": 16,
     "metadata": {},
     "output_type": "execute_result"
    }
   ],
   "source": [
    "number_name = list(zip(number,name))\n",
    "number_name"
   ]
  },
  {
   "cell_type": "markdown",
   "metadata": {
    "id": "cPwXYLB5hG2A"
   },
   "source": [
    "### zip을 활용한 dict 만들기"
   ]
  },
  {
   "cell_type": "code",
   "execution_count": 17,
   "metadata": {
    "id": "mXIf5zE-hDkD"
   },
   "outputs": [],
   "source": [
    "number = [1, 2, 3, 4]\n",
    "name = ['홍길동','김철수','John','Paul']\n",
    "dic = {}\n",
    "\n",
    "for number, name in zip(number,name): \n",
    "    dic[number] = name"
   ]
  },
  {
   "cell_type": "code",
   "execution_count": 18,
   "metadata": {
    "id": "61z39FoHhCL8"
   },
   "outputs": [
    {
     "data": {
      "text/plain": [
       "{1: '홍길동', 2: '김철수', 3: 'John', 4: 'Paul'}"
      ]
     },
     "execution_count": 18,
     "metadata": {},
     "output_type": "execute_result"
    }
   ],
   "source": [
    "dic"
   ]
  },
  {
   "cell_type": "markdown",
   "metadata": {},
   "source": [
    "## enumerate\n",
    "\n",
    "- [문법]: **enumerate(iterable, start=0)**\n",
    "- 순서가 있는 자료형을 입력 받아 index를 포함하는 객체로 return 합니다."
   ]
  },
  {
   "cell_type": "markdown",
   "metadata": {},
   "source": [
    "일반 `range()` 함수를 사용한 경우"
   ]
  },
  {
   "cell_type": "code",
   "execution_count": 19,
   "metadata": {},
   "outputs": [
    {
     "name": "stdout",
     "output_type": "stream",
     "text": [
      "1\n",
      "3\n",
      "5\n",
      "7\n",
      "9\n"
     ]
    }
   ],
   "source": [
    "for value in range(1, 10, 2):\n",
    "    print(value)"
   ]
  },
  {
   "cell_type": "markdown",
   "metadata": {},
   "source": [
    "`enumerate()` 함수를 사용하여 index를 return 받은 경우"
   ]
  },
  {
   "cell_type": "code",
   "execution_count": 20,
   "metadata": {},
   "outputs": [
    {
     "name": "stdout",
     "output_type": "stream",
     "text": [
      "index: 0, value: 1\n",
      "index: 1, value: 3\n",
      "index: 2, value: 5\n",
      "index: 3, value: 7\n",
      "index: 4, value: 9\n"
     ]
    }
   ],
   "source": [
    "for idx, value in enumerate(range(1, 10, 2)):\n",
    "    print(f'index: {idx}, value: {value}')"
   ]
  }
 ],
 "metadata": {
  "colab": {
   "collapsed_sections": [],
   "name": "10-파이썬-내장함수(map, zip, filter, enumerate)",
   "provenance": []
  },
  "kernelspec": {
   "display_name": "Python 3",
   "language": "python",
   "name": "python3"
  },
  "language_info": {
   "codemirror_mode": {
    "name": "ipython",
    "version": 3
   },
   "file_extension": ".py",
   "mimetype": "text/x-python",
   "name": "python",
   "nbconvert_exporter": "python",
   "pygments_lexer": "ipython3",
   "version": "3.6.9"
  }
 },
 "nbformat": 4,
 "nbformat_minor": 1
}
