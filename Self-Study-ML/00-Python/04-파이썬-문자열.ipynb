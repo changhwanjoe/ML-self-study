{
 "cells": [
  {
   "cell_type": "markdown",
   "metadata": {
    "id": "yhrjrcX50_xk"
   },
   "source": [
    "# 문자열"
   ]
  },
  {
   "cell_type": "markdown",
   "metadata": {
    "id": "af-WjtP-6EHN"
   },
   "source": [
    "데이터 분석에 있어서 문자열(텍스트) 데이터의 중요성\n",
    "\n",
    "- 자연어처리 데이터는 대부분이 텍스트 데이터로 이루어져 있습니다.\n",
    "- 우리가 흔히 접하는 Excel 혹은 Table 데이터안에도 수많은 텍스트 데이터가 존재합니다.\n",
    "- 게다가 우리나라는 영어와 더불어 **한글**까지 추가로 처리 할 수 있어야 합니다!!"
   ]
  },
  {
   "cell_type": "markdown",
   "metadata": {},
   "source": [
    "### 특성\n",
    "\n",
    "- 문자열 역시 리스트(list), 튜플(tuple)과 마찬가지로 sequence 형 자료구조를 가집니다.\n",
    "- 문자열은 불변(immutable) 객체입니다."
   ]
  },
  {
   "cell_type": "markdown",
   "metadata": {
    "id": "NuK-a3yR8d9b"
   },
   "source": [
    "### 문자열의 생성\n",
    "\n",
    "파이썬의 문자열은 작은 따옴표(**'**) 나 큰 따옴표(**\"**) 모두 구분없이 사용하여 문자열을 생성할 수 있습니다."
   ]
  },
  {
   "cell_type": "markdown",
   "metadata": {
    "id": "58vOhBsu6WLW"
   },
   "source": [
    "작은 따옴표(**'**) 사용"
   ]
  },
  {
   "cell_type": "code",
   "execution_count": 1,
   "metadata": {
    "colab": {
     "base_uri": "https://localhost:8080/",
     "height": 35
    },
    "id": "JXzjndKx6Tqq",
    "outputId": "110c7f13-b9ef-4206-ebf9-69fe1f52c54a"
   },
   "outputs": [
    {
     "data": {
      "text/plain": [
       "'안녕하세요? 반갑습니다.'"
      ]
     },
     "execution_count": 1,
     "metadata": {},
     "output_type": "execute_result"
    }
   ],
   "source": [
    "'안녕하세요? 반갑습니다.'"
   ]
  },
  {
   "cell_type": "markdown",
   "metadata": {
    "id": "5HX4SerY6X9F"
   },
   "source": [
    "큰 따옴표(**\"**) 사용"
   ]
  },
  {
   "cell_type": "code",
   "execution_count": 2,
   "metadata": {
    "colab": {
     "base_uri": "https://localhost:8080/",
     "height": 35
    },
    "id": "-PBmn72k6YFJ",
    "outputId": "3a31150a-7ce4-4ae4-fd75-87ad21d11d32"
   },
   "outputs": [
    {
     "data": {
      "text/plain": [
       "'안녕하세요? 반갑습니다.'"
      ]
     },
     "execution_count": 2,
     "metadata": {},
     "output_type": "execute_result"
    }
   ],
   "source": [
    "\"안녕하세요? 반갑습니다.\""
   ]
  },
  {
   "cell_type": "markdown",
   "metadata": {
    "id": "Wl5BW9ZY6b6N"
   },
   "source": [
    "작은 따옴표 3개 혹은 큰 따옴표 3개를 써서 **여러 줄의 문자열을 생성**할 수 있습니다."
   ]
  },
  {
   "cell_type": "code",
   "execution_count": 3,
   "metadata": {
    "colab": {
     "base_uri": "https://localhost:8080/",
     "height": 35
    },
    "id": "YX2-gHvH6YRE",
    "outputId": "14764494-1181-4886-b2d8-938fafafa4b8"
   },
   "outputs": [
    {
     "name": "stdout",
     "output_type": "stream",
     "text": [
      "안녕하세요? \n",
      "반가워요\n",
      "내이름은 \n",
      "파이썬 입니다.\n"
     ]
    }
   ],
   "source": [
    "sample = '''안녕하세요? \n",
    "반가워요\n",
    "내이름은 \n",
    "파이썬 입니다.'''\n",
    "\n",
    "print(sample)"
   ]
  },
  {
   "cell_type": "code",
   "execution_count": 4,
   "metadata": {
    "colab": {
     "base_uri": "https://localhost:8080/",
     "height": 35
    },
    "id": "F7k_-5Jb6l1D",
    "outputId": "ca8f0748-eee7-483b-8fa6-761335abc031"
   },
   "outputs": [
    {
     "name": "stdout",
     "output_type": "stream",
     "text": [
      "안녕하세요? \n",
      "반가워요\n",
      "내이름은 \n",
      "파이썬 입니다.\n",
      "\n",
      "웰컴!\n",
      "\n"
     ]
    }
   ],
   "source": [
    "sample = \"\"\"안녕하세요? \n",
    "반가워요\n",
    "내이름은 \n",
    "파이썬 입니다.\n",
    "\n",
    "웰컴!\n",
    "\"\"\"\n",
    "\n",
    "print(sample)"
   ]
  },
  {
   "cell_type": "markdown",
   "metadata": {
    "id": "CYr2ZjlH8g77"
   },
   "source": [
    "## 문자열 출력 (포맷팅)"
   ]
  },
  {
   "cell_type": "markdown",
   "metadata": {
    "id": "G6S7kF158rD9"
   },
   "source": [
    "### print() : 출력"
   ]
  },
  {
   "cell_type": "code",
   "execution_count": 5,
   "metadata": {
    "colab": {
     "base_uri": "https://localhost:8080/",
     "height": 35
    },
    "id": "xw3G7lRN80nO",
    "outputId": "c263ee57-510e-4db1-dcbe-28e82bf5f0fd"
   },
   "outputs": [
    {
     "name": "stdout",
     "output_type": "stream",
     "text": [
      "헬로우 파이썬\n"
     ]
    }
   ],
   "source": [
    "print('헬로우 파이썬')"
   ]
  },
  {
   "cell_type": "code",
   "execution_count": 6,
   "metadata": {
    "colab": {
     "base_uri": "https://localhost:8080/",
     "height": 35
    },
    "id": "yVHPxpah84Ng",
    "outputId": "1e3fa3c4-e70c-403b-d606-be331aec4d6c"
   },
   "outputs": [
    {
     "name": "stdout",
     "output_type": "stream",
     "text": [
      "문자열 첫째 그리고, 둘째\n"
     ]
    }
   ],
   "source": [
    "print('문자열 첫째', '그리고, 둘째')"
   ]
  },
  {
   "cell_type": "markdown",
   "metadata": {
    "id": "dbfmLyGJsrWo"
   },
   "source": [
    "`end` 옵션으로 출력될 마지막 글자를 변경할 수 있습니다. (기본값: \\n)\n",
    "\n",
    "- [참고] : \\n 은 개행을 의미하는 특수 문자입니다."
   ]
  },
  {
   "cell_type": "code",
   "execution_count": 7,
   "metadata": {
    "colab": {
     "base_uri": "https://localhost:8080/",
     "height": 35
    },
    "id": "DWX0fGdn88NQ",
    "outputId": "71f8d5cc-1c8f-4e15-dfa3-9fda551cab6d"
   },
   "outputs": [
    {
     "name": "stdout",
     "output_type": "stream",
     "text": [
      "여기까지!end출력!"
     ]
    }
   ],
   "source": [
    "print('여기까지!', end='end출력!')"
   ]
  },
  {
   "cell_type": "markdown",
   "metadata": {},
   "source": [
    "`sep` 옵션으로 출력될 문자열 사이에 출력될 글자를 변경할 수 있습니다. (기본값: 공백)"
   ]
  },
  {
   "cell_type": "code",
   "execution_count": 8,
   "metadata": {},
   "outputs": [
    {
     "name": "stdout",
     "output_type": "stream",
     "text": [
      "문자1 <구분> 문자1 <구분> 문자3\n"
     ]
    }
   ],
   "source": [
    "print('문자1', '문자1', '문자3', sep=' <구분> ')"
   ]
  },
  {
   "cell_type": "markdown",
   "metadata": {
    "id": "9gaXVMAjio6o"
   },
   "source": [
    "### %를 사용한 출력"
   ]
  },
  {
   "cell_type": "code",
   "execution_count": 9,
   "metadata": {
    "colab": {
     "base_uri": "https://localhost:8080/",
     "height": 35
    },
    "id": "UcL19LR7irHO",
    "outputId": "72a235be-7570-40bf-fa0a-315bb6c754a5"
   },
   "outputs": [
    {
     "data": {
      "text/plain": [
       "'안녕하세요? 반갑습니다.'"
      ]
     },
     "execution_count": 9,
     "metadata": {},
     "output_type": "execute_result"
    }
   ],
   "source": [
    "\"안녕하세요? %s\" % ('반갑습니다.')"
   ]
  },
  {
   "cell_type": "code",
   "execution_count": 10,
   "metadata": {
    "colab": {
     "base_uri": "https://localhost:8080/",
     "height": 35
    },
    "id": "B-6BrxWbivtD",
    "outputId": "0e818bda-ec43-41ab-914f-aea1f1c0d206"
   },
   "outputs": [
    {
     "data": {
      "text/plain": [
       "'안녕하세요? 0.123'"
      ]
     },
     "execution_count": 10,
     "metadata": {},
     "output_type": "execute_result"
    }
   ],
   "source": [
    "'안녕하세요? %.3f' % (0.123456)"
   ]
  },
  {
   "cell_type": "code",
   "execution_count": 11,
   "metadata": {
    "colab": {
     "base_uri": "https://localhost:8080/",
     "height": 35
    },
    "id": "D0xXLvfti3cS",
    "outputId": "7d1d6cfa-5f79-4755-8268-851e6d4d514f"
   },
   "outputs": [
    {
     "data": {
      "text/plain": [
       "'안녕하세요? 12345'"
      ]
     },
     "execution_count": 11,
     "metadata": {},
     "output_type": "execute_result"
    }
   ],
   "source": [
    "'안녕하세요? %d' % (12345)"
   ]
  },
  {
   "cell_type": "code",
   "execution_count": 12,
   "metadata": {
    "colab": {
     "base_uri": "https://localhost:8080/",
     "height": 35
    },
    "id": "RU7ru-gPi-US",
    "outputId": "00c0caa4-bffd-4163-ac0b-c0800b81858e"
   },
   "outputs": [
    {
     "data": {
      "text/plain": [
       "'안녕하세요? a'"
      ]
     },
     "execution_count": 12,
     "metadata": {},
     "output_type": "execute_result"
    }
   ],
   "source": [
    "'안녕하세요? %c' % ('a')"
   ]
  },
  {
   "cell_type": "markdown",
   "metadata": {
    "id": "5CLJ0YaDjF8Z"
   },
   "source": [
    "### {} 와 format를 사용한 출력"
   ]
  },
  {
   "cell_type": "code",
   "execution_count": 13,
   "metadata": {
    "colab": {
     "base_uri": "https://localhost:8080/",
     "height": 35
    },
    "id": "32GRkJFgjIyG",
    "outputId": "3a66bc0c-10be-4da2-b929-513e02da0616"
   },
   "outputs": [
    {
     "data": {
      "text/plain": [
       "'웰컴투? 파이썬.'"
      ]
     },
     "execution_count": 13,
     "metadata": {},
     "output_type": "execute_result"
    }
   ],
   "source": [
    "'웰컴투? {}'.format('파이썬.')"
   ]
  },
  {
   "cell_type": "code",
   "execution_count": 14,
   "metadata": {
    "colab": {
     "base_uri": "https://localhost:8080/",
     "height": 35
    },
    "id": "8J2L4341jNKd",
    "outputId": "964dcd92-304c-4cb7-91aa-13185cbcc732"
   },
   "outputs": [
    {
     "data": {
      "text/plain": [
       "'비밀번호 486'"
      ]
     },
     "execution_count": 14,
     "metadata": {},
     "output_type": "execute_result"
    }
   ],
   "source": [
    "'비밀번호 {}'.format(486)"
   ]
  },
  {
   "cell_type": "markdown",
   "metadata": {},
   "source": [
    "소수점 2자리 까지 제한하는 경우 (그 이하자리는 반올림)"
   ]
  },
  {
   "cell_type": "code",
   "execution_count": 15,
   "metadata": {
    "colab": {
     "base_uri": "https://localhost:8080/",
     "height": 35
    },
    "id": "lL6qZGlSjPsO",
    "outputId": "c8921d0a-d070-403f-c302-6e3cac8145b8"
   },
   "outputs": [
    {
     "data": {
      "text/plain": [
       "'원주율? 3.14'"
      ]
     },
     "execution_count": 15,
     "metadata": {},
     "output_type": "execute_result"
    }
   ],
   "source": [
    "'원주율? {:.2f}'.format(3.141592)"
   ]
  },
  {
   "cell_type": "markdown",
   "metadata": {
    "id": "EKla2fH0_rRt"
   },
   "source": [
    "### f 문자열 포맷팅 (python 3.6 이상만 지원)"
   ]
  },
  {
   "cell_type": "code",
   "execution_count": 16,
   "metadata": {
    "colab": {
     "base_uri": "https://localhost:8080/",
     "height": 35
    },
    "id": "8fAI91HW_w1O",
    "outputId": "46f089cd-c5c6-4756-886e-d55425bd6542"
   },
   "outputs": [
    {
     "name": "stdout",
     "output_type": "stream",
     "text": [
      "나의 이름은 펭수입니다. 나이는 10 살입니다.\n"
     ]
    }
   ],
   "source": [
    "name = '펭수'\n",
    "age = 10\n",
    "print(f'나의 이름은 {name}입니다. 나이는 {age} 살입니다.')"
   ]
  },
  {
   "cell_type": "code",
   "execution_count": 17,
   "metadata": {
    "colab": {
     "base_uri": "https://localhost:8080/",
     "height": 35
    },
    "id": "1zx2auV4_3fu",
    "outputId": "68abf497-46a2-4d0e-e88e-da2eb65e00c3"
   },
   "outputs": [
    {
     "name": "stdout",
     "output_type": "stream",
     "text": [
      "내년에 저는 11 살입니다.\n"
     ]
    }
   ],
   "source": [
    "print(f'내년에 저는 {age+1} 살입니다.')"
   ]
  },
  {
   "cell_type": "code",
   "execution_count": 18,
   "metadata": {
    "id": "90vy6SCUADEu"
   },
   "outputs": [],
   "source": [
    "d = {'name':'펭수', 'age':10}"
   ]
  },
  {
   "cell_type": "code",
   "execution_count": 19,
   "metadata": {
    "colab": {
     "base_uri": "https://localhost:8080/",
     "height": 35
    },
    "id": "sk6wcosPAGX9",
    "outputId": "9588acb6-0b60-47c1-d5ff-9f18d3a98886"
   },
   "outputs": [
    {
     "name": "stdout",
     "output_type": "stream",
     "text": [
      "반가워요. 저는 펭수입니다. 저의 나이는 10 살입니다.\n"
     ]
    }
   ],
   "source": [
    "print(f\"반가워요. 저는 {d['name']}입니다. 저의 나이는 {d['age']} 살입니다.\")"
   ]
  },
  {
   "cell_type": "markdown",
   "metadata": {
    "id": "I0X0Ex-N6ftn"
   },
   "source": [
    "## 문자열 길이"
   ]
  },
  {
   "cell_type": "markdown",
   "metadata": {
    "id": "Bn4hrljDumxP"
   },
   "source": [
    "### 영문 (alphabet)"
   ]
  },
  {
   "cell_type": "code",
   "execution_count": 20,
   "metadata": {
    "colab": {
     "base_uri": "https://localhost:8080/",
     "height": 35
    },
    "id": "LHe2Vr9m6pK1",
    "outputId": "ebffc29f-f1ca-4170-9f57-3fd407f520ce"
   },
   "outputs": [
    {
     "data": {
      "text/plain": [
       "6"
      ]
     },
     "execution_count": 20,
     "metadata": {},
     "output_type": "execute_result"
    }
   ],
   "source": [
    "len('banana')"
   ]
  },
  {
   "cell_type": "markdown",
   "metadata": {
    "id": "9siMZPhguuqx"
   },
   "source": [
    "**공백**은 길이에 포함됩니다."
   ]
  },
  {
   "cell_type": "code",
   "execution_count": 21,
   "metadata": {
    "colab": {
     "base_uri": "https://localhost:8080/",
     "height": 35
    },
    "id": "sWeic6eQ6vvd",
    "outputId": "795165fc-0db0-4e04-d77a-e65cdeae41af"
   },
   "outputs": [
    {
     "data": {
      "text/plain": [
       "10"
      ]
     },
     "execution_count": 21,
     "metadata": {},
     "output_type": "execute_result"
    }
   ],
   "source": [
    "len('banana pen')"
   ]
  },
  {
   "cell_type": "markdown",
   "metadata": {
    "id": "MJT04oW7uqLg"
   },
   "source": [
    "### 한글"
   ]
  },
  {
   "cell_type": "code",
   "execution_count": 22,
   "metadata": {
    "colab": {
     "base_uri": "https://localhost:8080/",
     "height": 35
    },
    "id": "C4OsD6KE64xb",
    "outputId": "3d146219-8a7f-495a-a905-872e22c1a2b3"
   },
   "outputs": [
    {
     "data": {
      "text/plain": [
       "2"
      ]
     },
     "execution_count": 22,
     "metadata": {},
     "output_type": "execute_result"
    }
   ],
   "source": [
    "len('한글')"
   ]
  },
  {
   "cell_type": "markdown",
   "metadata": {
    "id": "K9saUoviu5tz"
   },
   "source": [
    "**공백**은 길이에 포함됩니다."
   ]
  },
  {
   "cell_type": "code",
   "execution_count": 23,
   "metadata": {
    "colab": {
     "base_uri": "https://localhost:8080/",
     "height": 35
    },
    "id": "VqpF4dSg68cG",
    "outputId": "fd4b7565-9edf-47f8-d5da-0e08ad24c5cb"
   },
   "outputs": [
    {
     "data": {
      "text/plain": [
       "6"
      ]
     },
     "execution_count": 23,
     "metadata": {},
     "output_type": "execute_result"
    }
   ],
   "source": [
    "len('한글 킹왕짱')"
   ]
  },
  {
   "cell_type": "markdown",
   "metadata": {
    "id": "fYYXjPApww5F"
   },
   "source": [
    "## 인덱싱 (indexing)\n",
    "\n",
    "- 문자열에서 한 개의 글자(char)를 조회하기 위해서는 **[]를 활용한 인덱싱으로 조회**할 수 있습니다."
   ]
  },
  {
   "cell_type": "code",
   "execution_count": 24,
   "metadata": {},
   "outputs": [
    {
     "data": {
      "text/plain": [
       "'Python is my life'"
      ]
     },
     "execution_count": 24,
     "metadata": {},
     "output_type": "execute_result"
    }
   ],
   "source": [
    "a = 'Python is my life'\n",
    "a"
   ]
  },
  {
   "cell_type": "markdown",
   "metadata": {},
   "source": [
    "| P    | y    | t    | h    | o    | n    |      | i    | s    |      | m    | y    |      | l    | i    | f    | e    |\n",
    "| ---- | ---- | ---- | ---- | ---- | ---- | ---- | ---- | ---- | ---- | ---- | ---- | ---- | ---- | ---- | ---- | ---- |\n",
    "| 0    | 1    | 2    | 3    | 4    | 5    | 6    | 7    | 8    | 9    | 10   | 11   | 12   | 13   | 14   | 15   | 16   |\n",
    "| -17  | -16  | -15  | -14  | -13  | -12  | -11  | -10  | -9   | -8   | -7   | -6   | -5   | -4   | -3   | -2   | -1   |"
   ]
  },
  {
   "cell_type": "code",
   "execution_count": 25,
   "metadata": {
    "colab": {
     "base_uri": "https://localhost:8080/",
     "height": 35
    },
    "id": "_Ee3pk7axjxw",
    "outputId": "49b525ca-6800-4d5e-dee7-11782c65882d"
   },
   "outputs": [
    {
     "data": {
      "text/plain": [
       "'P'"
      ]
     },
     "execution_count": 25,
     "metadata": {},
     "output_type": "execute_result"
    }
   ],
   "source": [
    "a[0]"
   ]
  },
  {
   "cell_type": "code",
   "execution_count": 26,
   "metadata": {
    "colab": {
     "base_uri": "https://localhost:8080/",
     "height": 35
    },
    "id": "wrjfuPlrxm8E",
    "outputId": "f38104d4-012e-4808-a0d5-ffef2e8fe16d"
   },
   "outputs": [
    {
     "data": {
      "text/plain": [
       "'f'"
      ]
     },
     "execution_count": 26,
     "metadata": {},
     "output_type": "execute_result"
    }
   ],
   "source": [
    "a[-2]"
   ]
  },
  {
   "cell_type": "markdown",
   "metadata": {
    "id": "uQtvUw-txhmT"
   },
   "source": [
    "## 슬라이싱 (Slicing)\n",
    "\n",
    "- 슬라이싱의 활용: [start:stop:step] 을 명시하여 부분을 추출할 수 있습니다."
   ]
  },
  {
   "cell_type": "code",
   "execution_count": 27,
   "metadata": {},
   "outputs": [
    {
     "data": {
      "text/plain": [
       "'Python is my life'"
      ]
     },
     "execution_count": 27,
     "metadata": {},
     "output_type": "execute_result"
    }
   ],
   "source": [
    "a = 'Python is my life'\n",
    "a"
   ]
  },
  {
   "cell_type": "markdown",
   "metadata": {},
   "source": [
    "| P    | y    | t    | h    | o    | n    |      | i    | s    |      | m    | y    |      | l    | i    | f    | e    |\n",
    "| ---- | ---- | ---- | ---- | ---- | ---- | ---- | ---- | ---- | ---- | ---- | ---- | ---- | ---- | ---- | ---- | ---- |\n",
    "| 0    | 1    | 2    | 3    | 4    | 5    | 6    | 7    | 8    | 9    | 10   | 11   | 12   | 13   | 14   | 15   | 16   |\n",
    "| -17  | -16  | -15  | -14  | -13  | -12  | -11  | -10  | -9   | -8   | -7   | -6   | -5   | -4   | -3   | -2   | -1   |"
   ]
  },
  {
   "cell_type": "markdown",
   "metadata": {},
   "source": [
    "[:]을 활용하여 전체를 추출할 수 있습니다."
   ]
  },
  {
   "cell_type": "code",
   "execution_count": 28,
   "metadata": {},
   "outputs": [
    {
     "data": {
      "text/plain": [
       "'Python is my life'"
      ]
     },
     "execution_count": 28,
     "metadata": {},
     "output_type": "execute_result"
    }
   ],
   "source": [
    "a[:]"
   ]
  },
  {
   "cell_type": "markdown",
   "metadata": {},
   "source": [
    "| P    | y    | t    | h    | o    | n    |      | i    | s    |      | m    | y    |      | l    | i    | f    | e    |\n",
    "| ---- | ---- | ---- | ---- | ---- | ---- | ---- | ---- | ---- | ---- | ---- | ---- | ---- | ---- | ---- | ---- | ---- |\n",
    "| 0    | 1    | 2    | 3    | 4    | 5    | 6    | 7    | 8    | 9    | 10   | 11   | 12   | 13   | 14   | 15   | 16   |\n",
    "| -17  | -16  | -15  | -14  | -13  | -12  | -11  | -10  | -9   | -8   | -7   | -6   | -5   | -4   | -3   | -2   | -1   |"
   ]
  },
  {
   "cell_type": "markdown",
   "metadata": {},
   "source": [
    "[start:]는 시작 index 부터 끝까지 추출합니다."
   ]
  },
  {
   "cell_type": "code",
   "execution_count": 29,
   "metadata": {},
   "outputs": [
    {
     "data": {
      "text/plain": [
       "'hon is my life'"
      ]
     },
     "execution_count": 29,
     "metadata": {},
     "output_type": "execute_result"
    }
   ],
   "source": [
    "a[3:]"
   ]
  },
  {
   "cell_type": "code",
   "execution_count": 30,
   "metadata": {},
   "outputs": [
    {
     "data": {
      "text/plain": [
       "'life'"
      ]
     },
     "execution_count": 30,
     "metadata": {},
     "output_type": "execute_result"
    }
   ],
   "source": [
    "a[-4:]"
   ]
  },
  {
   "cell_type": "markdown",
   "metadata": {},
   "source": [
    "| P    | y    | t    | h    | o    | n    |      | i    | s    |      | m    | y    |      | l    | i    | f    | e    |\n",
    "| ---- | ---- | ---- | ---- | ---- | ---- | ---- | ---- | ---- | ---- | ---- | ---- | ---- | ---- | ---- | ---- | ---- |\n",
    "| 0    | 1    | 2    | 3    | 4    | 5    | 6    | 7    | 8    | 9    | 10   | 11   | 12   | 13   | 14   | 15   | 16   |\n",
    "| -17  | -16  | -15  | -14  | -13  | -12  | -11  | -10  | -9   | -8   | -7   | -6   | -5   | -4   | -3   | -2   | -1   |"
   ]
  },
  {
   "cell_type": "markdown",
   "metadata": {},
   "source": [
    "[:end]는 처음부터 end 전까지 추출합니다."
   ]
  },
  {
   "cell_type": "code",
   "execution_count": 31,
   "metadata": {
    "colab": {
     "base_uri": "https://localhost:8080/",
     "height": 35
    },
    "id": "GuwSW6AfxHlO",
    "outputId": "65f38fa1-662b-4784-85e3-6417da4a5871"
   },
   "outputs": [
    {
     "data": {
      "text/plain": [
       "'Python'"
      ]
     },
     "execution_count": 31,
     "metadata": {},
     "output_type": "execute_result"
    }
   ],
   "source": [
    "a[:6]"
   ]
  },
  {
   "cell_type": "code",
   "execution_count": 32,
   "metadata": {
    "colab": {
     "base_uri": "https://localhost:8080/",
     "height": 35
    },
    "id": "PJU7lxPfxK-K",
    "outputId": "16be18e6-6b16-4a30-9767-9649e8032288"
   },
   "outputs": [
    {
     "data": {
      "text/plain": [
       "'Python is my l'"
      ]
     },
     "execution_count": 32,
     "metadata": {},
     "output_type": "execute_result"
    }
   ],
   "source": [
    "a[:-3]"
   ]
  },
  {
   "cell_type": "markdown",
   "metadata": {},
   "source": [
    "| P    | y    | t    | h    | o    | n    |      | i    | s    |      | m    | y    |      | l    | i    | f    | e    |\n",
    "| ---- | ---- | ---- | ---- | ---- | ---- | ---- | ---- | ---- | ---- | ---- | ---- | ---- | ---- | ---- | ---- | ---- |\n",
    "| 0    | 1    | 2    | 3    | 4    | 5    | 6    | 7    | 8    | 9    | 10   | 11   | 12   | 13   | 14   | 15   | 16   |\n",
    "| -17  | -16  | -15  | -14  | -13  | -12  | -11  | -10  | -9   | -8   | -7   | -6   | -5   | -4   | -3   | -2   | -1   |"
   ]
  },
  {
   "cell_type": "markdown",
   "metadata": {},
   "source": [
    "[start:end]는 start부터 end 전까지 추출합니다."
   ]
  },
  {
   "cell_type": "code",
   "execution_count": 33,
   "metadata": {
    "colab": {
     "base_uri": "https://localhost:8080/",
     "height": 35
    },
    "id": "D0nLAaU9xV3E",
    "outputId": "d51d202e-f3a6-4b93-f356-c84c0479a7bf"
   },
   "outputs": [
    {
     "data": {
      "text/plain": [
       "'hon'"
      ]
     },
     "execution_count": 33,
     "metadata": {},
     "output_type": "execute_result"
    }
   ],
   "source": [
    "a[3:6]"
   ]
  },
  {
   "cell_type": "markdown",
   "metadata": {},
   "source": [
    "[start:stop:step]에서 step 지정시 step만큼 건너 뛰면서 추출합니다."
   ]
  },
  {
   "cell_type": "code",
   "execution_count": 34,
   "metadata": {
    "colab": {
     "base_uri": "https://localhost:8080/",
     "height": 35
    },
    "id": "lVNSxsf7xZdK",
    "outputId": "e4723212-9cbd-4215-cb06-d3efb3c4e213"
   },
   "outputs": [
    {
     "data": {
      "text/plain": [
       "'Pto sm ie'"
      ]
     },
     "execution_count": 34,
     "metadata": {},
     "output_type": "execute_result"
    }
   ],
   "source": [
    "a[::2]"
   ]
  },
  {
   "cell_type": "markdown",
   "metadata": {},
   "source": [
    "역순으로 출력하기 위해서는 step을 -1로 지정합니다."
   ]
  },
  {
   "cell_type": "code",
   "execution_count": 35,
   "metadata": {},
   "outputs": [
    {
     "data": {
      "text/plain": [
       "'efil ym si nohtyP'"
      ]
     },
     "execution_count": 35,
     "metadata": {},
     "output_type": "execute_result"
    }
   ],
   "source": [
    "a[::-1]"
   ]
  },
  {
   "cell_type": "markdown",
   "metadata": {},
   "source": [
    "### 불변(immutable)\n",
    "\n",
    "- 문자열은 index를 통해 값을 수정 및 변경이 불가합니다.\n",
    "- 하지만 메서드(method)로 변경할 수 있습니다."
   ]
  },
  {
   "cell_type": "code",
   "execution_count": 36,
   "metadata": {
    "id": "dX6xkFv8ycbC"
   },
   "outputs": [],
   "source": [
    "a = 'Python is my life'"
   ]
  },
  {
   "cell_type": "markdown",
   "metadata": {},
   "source": [
    "index에 값을 할당하여 변경하려는 경우"
   ]
  },
  {
   "cell_type": "code",
   "execution_count": 37,
   "metadata": {
    "colab": {
     "base_uri": "https://localhost:8080/",
     "height": 172
    },
    "id": "d0OIpUlQyd98",
    "outputId": "90b091d3-4847-44ee-9f56-8cc2de111e8d"
   },
   "outputs": [
    {
     "ename": "TypeError",
     "evalue": "'str' object does not support item assignment",
     "output_type": "error",
     "traceback": [
      "\u001b[0;31m---------------------------------------------------------------------------\u001b[0m",
      "\u001b[0;31mTypeError\u001b[0m                                 Traceback (most recent call last)",
      "\u001b[0;32m<ipython-input-37-f2db0e8f1888>\u001b[0m in \u001b[0;36m<module>\u001b[0;34m\u001b[0m\n\u001b[0;32m----> 1\u001b[0;31m \u001b[0ma\u001b[0m\u001b[0;34m[\u001b[0m\u001b[0;36m2\u001b[0m\u001b[0;34m]\u001b[0m \u001b[0;34m=\u001b[0m \u001b[0;34m'Y'\u001b[0m\u001b[0;34m\u001b[0m\u001b[0;34m\u001b[0m\u001b[0m\n\u001b[0m",
      "\u001b[0;31mTypeError\u001b[0m: 'str' object does not support item assignment"
     ]
    }
   ],
   "source": [
    "a[2] = 'Y'"
   ]
  },
  {
   "cell_type": "markdown",
   "metadata": {},
   "source": [
    "del로 부분 삭제하려는 경우"
   ]
  },
  {
   "cell_type": "code",
   "execution_count": 38,
   "metadata": {},
   "outputs": [
    {
     "ename": "TypeError",
     "evalue": "'str' object doesn't support item deletion",
     "output_type": "error",
     "traceback": [
      "\u001b[0;31m---------------------------------------------------------------------------\u001b[0m",
      "\u001b[0;31mTypeError\u001b[0m                                 Traceback (most recent call last)",
      "\u001b[0;32m<ipython-input-38-734682c6a06c>\u001b[0m in \u001b[0;36m<module>\u001b[0;34m\u001b[0m\n\u001b[0;32m----> 1\u001b[0;31m \u001b[0;32mdel\u001b[0m \u001b[0ma\u001b[0m\u001b[0;34m[\u001b[0m\u001b[0;36m2\u001b[0m\u001b[0;34m]\u001b[0m\u001b[0;34m\u001b[0m\u001b[0;34m\u001b[0m\u001b[0m\n\u001b[0m",
      "\u001b[0;31mTypeError\u001b[0m: 'str' object doesn't support item deletion"
     ]
    }
   ],
   "source": [
    "del a[2]"
   ]
  },
  {
   "cell_type": "markdown",
   "metadata": {},
   "source": [
    "## 문자열의 덧셈과 곱셈"
   ]
  },
  {
   "cell_type": "markdown",
   "metadata": {
    "id": "wy7OzuVn7Rx6"
   },
   "source": [
    "### 연결: 문자열의 덧셈\n",
    "\n",
    "덧셈은 문자열을 연결합니다."
   ]
  },
  {
   "cell_type": "code",
   "execution_count": 39,
   "metadata": {},
   "outputs": [],
   "source": [
    "a = '반갑습니다!'\n",
    "b = '웰컴 투 파이썬'"
   ]
  },
  {
   "cell_type": "code",
   "execution_count": 40,
   "metadata": {
    "colab": {
     "base_uri": "https://localhost:8080/",
     "height": 35
    },
    "id": "3_LKDb6_7Bap",
    "outputId": "fa4ea1ee-63c7-41e4-c83e-bd8438a50206"
   },
   "outputs": [
    {
     "data": {
      "text/plain": [
       "'반갑습니다!웰컴 투 파이썬'"
      ]
     },
     "execution_count": 40,
     "metadata": {},
     "output_type": "execute_result"
    }
   ],
   "source": [
    "a + b"
   ]
  },
  {
   "cell_type": "code",
   "execution_count": 41,
   "metadata": {
    "colab": {
     "base_uri": "https://localhost:8080/",
     "height": 35
    },
    "id": "US6zEg98vol3",
    "outputId": "06d82465-aee1-4564-c322-6eff28f79319"
   },
   "outputs": [
    {
     "data": {
      "text/plain": [
       "'반갑습니다!???'"
      ]
     },
     "execution_count": 41,
     "metadata": {},
     "output_type": "execute_result"
    }
   ],
   "source": [
    "a + '???'"
   ]
  },
  {
   "cell_type": "code",
   "execution_count": 42,
   "metadata": {},
   "outputs": [
    {
     "data": {
      "text/plain": [
       "'hello, world'"
      ]
     },
     "execution_count": 42,
     "metadata": {},
     "output_type": "execute_result"
    }
   ],
   "source": [
    "'hello' + ', world'"
   ]
  },
  {
   "cell_type": "markdown",
   "metadata": {
    "id": "qQqStSwV7Tdj"
   },
   "source": [
    "### 복제: 문자열의 곱셈\n",
    "\n",
    "문자열을 곱한 숫자 만큼 반복하여 생성합니다."
   ]
  },
  {
   "cell_type": "code",
   "execution_count": 43,
   "metadata": {
    "colab": {
     "base_uri": "https://localhost:8080/",
     "height": 35
    },
    "id": "xrTsCnY77BVO",
    "outputId": "8e233bc5-9983-478f-fdd6-ddab882a56c3"
   },
   "outputs": [
    {
     "data": {
      "text/plain": [
       "'반갑습니다!반갑습니다!'"
      ]
     },
     "execution_count": 43,
     "metadata": {},
     "output_type": "execute_result"
    }
   ],
   "source": [
    "a * 2"
   ]
  },
  {
   "cell_type": "code",
   "execution_count": 44,
   "metadata": {
    "colab": {
     "base_uri": "https://localhost:8080/",
     "height": 35
    },
    "id": "IacR3tePvfZg",
    "outputId": "aaeeca7c-6bf5-4720-86c0-574f7a01c755"
   },
   "outputs": [
    {
     "name": "stdout",
     "output_type": "stream",
     "text": [
      "abc abc abc abc abc \n",
      "=====================\n"
     ]
    }
   ],
   "source": [
    "print('abc ' * 5)\n",
    "print('===' * 7)"
   ]
  },
  {
   "cell_type": "markdown",
   "metadata": {
    "id": "2VJuUbNy_ZUr"
   },
   "source": [
    "## 문자열의 list, set"
   ]
  },
  {
   "cell_type": "markdown",
   "metadata": {
    "id": "cST_Dqdov5gS"
   },
   "source": [
    "### 리스트(list)\n",
    "\n",
    "- 문자열을 리스트(list)로 타입 변환이 가능합니다.\n",
    "- 타입 변환시 한 글자를 요소로 갖는 리스트가 생성됩니다."
   ]
  },
  {
   "cell_type": "code",
   "execution_count": 45,
   "metadata": {
    "colab": {
     "base_uri": "https://localhost:8080/",
     "height": 35
    },
    "id": "SLWiM44c_cng",
    "outputId": "d1f8b8de-a238-42d2-e54c-d1b5d07cd944"
   },
   "outputs": [
    {
     "data": {
      "text/plain": [
       "['A', 'B', 'C', 'D', 'E']"
      ]
     },
     "execution_count": 45,
     "metadata": {},
     "output_type": "execute_result"
    }
   ],
   "source": [
    "list('ABCDE')"
   ]
  },
  {
   "cell_type": "markdown",
   "metadata": {
    "id": "Fb2mqFztv7uK"
   },
   "source": [
    "### 세트(set)\n",
    "\n",
    "- 한 글자를 요소로 갖는 세트가 생성됩니다.\n",
    "- 세트의 특성상 요소를 생성한 후 중복된 글자는 제거됩니다."
   ]
  },
  {
   "cell_type": "code",
   "execution_count": 46,
   "metadata": {
    "colab": {
     "base_uri": "https://localhost:8080/",
     "height": 35
    },
    "id": "XTEdxUag_evd",
    "outputId": "35ff62f3-7c61-4fe1-f243-2816f5ac2e23"
   },
   "outputs": [
    {
     "data": {
      "text/plain": [
       "{'A', 'B', 'C'}"
      ]
     },
     "execution_count": 46,
     "metadata": {},
     "output_type": "execute_result"
    }
   ],
   "source": [
    "set('AAABBBCCC')"
   ]
  },
  {
   "cell_type": "markdown",
   "metadata": {},
   "source": [
    "중복이 제거된 리스트로 생성하기 위해서는 list로 다시 타입 변환합니다."
   ]
  },
  {
   "cell_type": "code",
   "execution_count": 47,
   "metadata": {
    "colab": {
     "base_uri": "https://localhost:8080/",
     "height": 35
    },
    "id": "8ujXOXJp_eNh",
    "outputId": "2f286b1e-0145-4c3d-95b4-cb263ff65e95"
   },
   "outputs": [
    {
     "data": {
      "text/plain": [
       "['A', 'B', 'C']"
      ]
     },
     "execution_count": 47,
     "metadata": {},
     "output_type": "execute_result"
    }
   ],
   "source": [
    "list(set('AAABBBCCC'))"
   ]
  },
  {
   "cell_type": "markdown",
   "metadata": {
    "id": "X3drW8_W6_cP"
   },
   "source": [
    "## 문자열(텍스트)을 다루는 다양한 기능, 메서드(method)\n",
    "\n",
    "문자열만 가지고 있는 **고유의 편한 기능**들이 있습니다. \n",
    "\n",
    "우리는 이들 중 몇 가지를 배워 앞으로 유용하게 활용할 예정입니다."
   ]
  },
  {
   "cell_type": "markdown",
   "metadata": {
    "id": "b3crAbCA7Oy-"
   },
   "source": [
    "### split() : 분리"
   ]
  },
  {
   "cell_type": "markdown",
   "metadata": {
    "id": "OsAWWrld7UiV"
   },
   "source": [
    "- split은 문장을 특정 규칙에 의해 쪼개 주는 기능을 합니다.\n",
    "- 분리한 결과는 list 형식으로 값을 return 받습니다."
   ]
  },
  {
   "cell_type": "code",
   "execution_count": 50,
   "metadata": {
    "id": "FC4GEYLM7WmE"
   },
   "outputs": [],
   "source": [
    "a = 'This is a pen'"
   ]
  },
  {
   "cell_type": "markdown",
   "metadata": {},
   "source": [
    "기본 값으로 **공백**이 지정되어 있습니다. 즉, 공백을 기준으로 분리하여 리스트로 반환합니다."
   ]
  },
  {
   "cell_type": "code",
   "execution_count": 51,
   "metadata": {},
   "outputs": [
    {
     "data": {
      "text/plain": [
       "['This', 'is', 'a', 'pen']"
      ]
     },
     "execution_count": 51,
     "metadata": {},
     "output_type": "execute_result"
    }
   ],
   "source": [
    "a.split()"
   ]
  },
  {
   "cell_type": "markdown",
   "metadata": {
    "id": "JWUQvHVc7vql"
   },
   "source": [
    "기본 값인 **공백**에서 **특정 문자**로 지정할 수 있습니다."
   ]
  },
  {
   "cell_type": "code",
   "execution_count": 52,
   "metadata": {
    "id": "-CCwHeQk7hru"
   },
   "outputs": [],
   "source": [
    "a = 'This-is-a-pen'"
   ]
  },
  {
   "cell_type": "code",
   "execution_count": 53,
   "metadata": {
    "colab": {
     "base_uri": "https://localhost:8080/",
     "height": 35
    },
    "id": "fr07vyKD7lJd",
    "outputId": "7e557fd1-fe38-4c81-fff1-004c8169ade5"
   },
   "outputs": [
    {
     "data": {
      "text/plain": [
       "['This', 'is', 'a', 'pen']"
      ]
     },
     "execution_count": 53,
     "metadata": {},
     "output_type": "execute_result"
    }
   ],
   "source": [
    "a.split('-')"
   ]
  },
  {
   "cell_type": "code",
   "execution_count": 54,
   "metadata": {
    "id": "BL7mXU7H77EE"
   },
   "outputs": [
    {
     "data": {
      "text/plain": [
       "['This', 'is', 'a', 'pen']"
      ]
     },
     "execution_count": 54,
     "metadata": {},
     "output_type": "execute_result"
    }
   ],
   "source": [
    "aa = a.split('-')\n",
    "aa"
   ]
  },
  {
   "cell_type": "markdown",
   "metadata": {},
   "source": [
    "`aa`에 반환된 리스트를 대입 후 index로 값을 조회할 수 있습니다."
   ]
  },
  {
   "cell_type": "code",
   "execution_count": 55,
   "metadata": {
    "colab": {
     "base_uri": "https://localhost:8080/",
     "height": 35
    },
    "id": "fcoZjewf7-Cl",
    "outputId": "47be6961-437d-4f2a-faf5-8aa8ffe2d0d5"
   },
   "outputs": [
    {
     "data": {
      "text/plain": [
       "'This'"
      ]
     },
     "execution_count": 55,
     "metadata": {},
     "output_type": "execute_result"
    }
   ],
   "source": [
    "aa[0]"
   ]
  },
  {
   "cell_type": "code",
   "execution_count": 56,
   "metadata": {
    "colab": {
     "base_uri": "https://localhost:8080/",
     "height": 35
    },
    "id": "Tdu5YodD8ByV",
    "outputId": "2a448d81-2040-43ef-c0cf-a55e9d6882c4"
   },
   "outputs": [
    {
     "data": {
      "text/plain": [
       "'a'"
      ]
     },
     "execution_count": 56,
     "metadata": {},
     "output_type": "execute_result"
    }
   ],
   "source": [
    "aa[2]"
   ]
  },
  {
   "cell_type": "code",
   "execution_count": 57,
   "metadata": {
    "colab": {
     "base_uri": "https://localhost:8080/",
     "height": 35
    },
    "id": "A3bVCP1o8CgV",
    "outputId": "ff732dcf-4594-4688-a70d-b3192547a0a9"
   },
   "outputs": [
    {
     "data": {
      "text/plain": [
       "'Thisa'"
      ]
     },
     "execution_count": 57,
     "metadata": {},
     "output_type": "execute_result"
    }
   ],
   "source": [
    "aa[0] + aa[2]"
   ]
  },
  {
   "cell_type": "markdown",
   "metadata": {},
   "source": [
    "**한글**도 동일하게 적용됩니다."
   ]
  },
  {
   "cell_type": "code",
   "execution_count": 58,
   "metadata": {
    "id": "8cV3DoUT8X5P"
   },
   "outputs": [],
   "source": [
    "a = '한글은 어떻게 될까요?'"
   ]
  },
  {
   "cell_type": "code",
   "execution_count": 59,
   "metadata": {
    "colab": {
     "base_uri": "https://localhost:8080/",
     "height": 35
    },
    "id": "Hjb4bU-a8Ebd",
    "outputId": "a3d178c5-1839-489c-c5f3-0e8a4cef4925"
   },
   "outputs": [
    {
     "data": {
      "text/plain": [
       "['한글은', '어떻게', '될까요?']"
      ]
     },
     "execution_count": 59,
     "metadata": {},
     "output_type": "execute_result"
    }
   ],
   "source": [
    "a.split()"
   ]
  },
  {
   "cell_type": "markdown",
   "metadata": {
    "id": "YiAIxxl3-JZk"
   },
   "source": [
    "### join() : 합치기\n",
    "\n",
    "- 결합하고자 하는 문자에 .join() 안에 리스트를 지정하여 결합할 수 있습니다."
   ]
  },
  {
   "cell_type": "code",
   "execution_count": 63,
   "metadata": {
    "colab": {
     "base_uri": "https://localhost:8080/",
     "height": 35
    },
    "id": "ovA1xnOEwSZ6",
    "outputId": "4efb4985-b9ea-4ca0-8ce8-b1d91b5d2613"
   },
   "outputs": [
    {
     "data": {
      "text/plain": [
       "'010-1234-5678'"
      ]
     },
     "execution_count": 63,
     "metadata": {},
     "output_type": "execute_result"
    }
   ],
   "source": [
    "'-'.join(['010',  '1234', '5678'])"
   ]
  },
  {
   "cell_type": "code",
   "execution_count": 64,
   "metadata": {
    "colab": {
     "base_uri": "https://localhost:8080/",
     "height": 35
    },
    "id": "qlufBtYj-Un_",
    "outputId": "3973d6fa-2ed0-46fe-f1c3-b94f378cecc9"
   },
   "outputs": [
    {
     "data": {
      "text/plain": [
       "'A-B-C-D-E'"
      ]
     },
     "execution_count": 64,
     "metadata": {},
     "output_type": "execute_result"
    }
   ],
   "source": [
    "'-'.join('ABCDE')"
   ]
  },
  {
   "cell_type": "markdown",
   "metadata": {
    "id": "dBxYW5wZ8GP-"
   },
   "source": [
    "### lower(), upper() : 소문자 / 대문자로 만들기"
   ]
  },
  {
   "cell_type": "code",
   "execution_count": 68,
   "metadata": {
    "id": "_jM72wdq8I5l"
   },
   "outputs": [],
   "source": [
    "a = 'My name is Teddy'"
   ]
  },
  {
   "cell_type": "markdown",
   "metadata": {},
   "source": [
    "소문자로 변경"
   ]
  },
  {
   "cell_type": "code",
   "execution_count": 69,
   "metadata": {
    "colab": {
     "base_uri": "https://localhost:8080/",
     "height": 35
    },
    "id": "nzwSAYnY8PMt",
    "outputId": "530e8821-810f-4732-ad41-ea313e3fe180"
   },
   "outputs": [
    {
     "data": {
      "text/plain": [
       "'my name is teddy'"
      ]
     },
     "execution_count": 69,
     "metadata": {},
     "output_type": "execute_result"
    }
   ],
   "source": [
    "a.lower()"
   ]
  },
  {
   "cell_type": "markdown",
   "metadata": {},
   "source": [
    "대문자로 변경"
   ]
  },
  {
   "cell_type": "code",
   "execution_count": 70,
   "metadata": {
    "colab": {
     "base_uri": "https://localhost:8080/",
     "height": 35
    },
    "id": "-WzdUBjE8Q45",
    "outputId": "816f449c-b253-49a1-8413-9cf25d006f8c"
   },
   "outputs": [
    {
     "data": {
      "text/plain": [
       "'MY NAME IS TEDDY'"
      ]
     },
     "execution_count": 70,
     "metadata": {},
     "output_type": "execute_result"
    }
   ],
   "source": [
    "a.upper()"
   ]
  },
  {
   "cell_type": "markdown",
   "metadata": {},
   "source": [
    "한글에는 대소문자 구분이 없습니다."
   ]
  },
  {
   "cell_type": "code",
   "execution_count": 71,
   "metadata": {
    "id": "LCvVGpAs8V_e"
   },
   "outputs": [],
   "source": [
    "a = '한글엔 대소문자가 없어요ㅠ'"
   ]
  },
  {
   "cell_type": "code",
   "execution_count": 72,
   "metadata": {
    "colab": {
     "base_uri": "https://localhost:8080/",
     "height": 35
    },
    "id": "Als5HOz28hM5",
    "outputId": "8cb20266-d096-4917-e9e5-73f7c9c5ddcd"
   },
   "outputs": [
    {
     "data": {
      "text/plain": [
       "'한글엔 대소문자가 없어요ㅠ'"
      ]
     },
     "execution_count": 72,
     "metadata": {},
     "output_type": "execute_result"
    }
   ],
   "source": [
    "a.lower()"
   ]
  },
  {
   "cell_type": "code",
   "execution_count": 73,
   "metadata": {
    "colab": {
     "base_uri": "https://localhost:8080/",
     "height": 35
    },
    "id": "rjPBxrK08iFt",
    "outputId": "84927478-b332-43de-e3f2-84e00d38196d"
   },
   "outputs": [
    {
     "data": {
      "text/plain": [
       "'한글엔 대소문자가 없어요ㅠ'"
      ]
     },
     "execution_count": 73,
     "metadata": {},
     "output_type": "execute_result"
    }
   ],
   "source": [
    "a.upper()"
   ]
  },
  {
   "cell_type": "markdown",
   "metadata": {
    "id": "ZThLS-KL8rA8"
   },
   "source": [
    "## startswith, endswith\n",
    "\n",
    "시작과, 끝이 맞는지 결과를 bool로 반환합니다."
   ]
  },
  {
   "cell_type": "code",
   "execution_count": 74,
   "metadata": {
    "id": "uuTemUdN0w2B"
   },
   "outputs": [],
   "source": [
    "a = '01-sample.png'"
   ]
  },
  {
   "cell_type": "markdown",
   "metadata": {
    "id": "EavY7Aun0kjs"
   },
   "source": [
    "### startswith() : 시작하는\n",
    "\n",
    "- 지정한 문자열로 시작하면 True, 그렇지 않다면 False를 반환합니다."
   ]
  },
  {
   "cell_type": "code",
   "execution_count": 75,
   "metadata": {
    "colab": {
     "base_uri": "https://localhost:8080/",
     "height": 35
    },
    "id": "8pNYKEFi85Ie",
    "outputId": "b60bad2e-191a-4fce-8e5a-15403ad32a2f"
   },
   "outputs": [
    {
     "data": {
      "text/plain": [
       "True"
      ]
     },
     "execution_count": 75,
     "metadata": {},
     "output_type": "execute_result"
    }
   ],
   "source": [
    "a.startswith('01')"
   ]
  },
  {
   "cell_type": "code",
   "execution_count": 76,
   "metadata": {
    "colab": {
     "base_uri": "https://localhost:8080/",
     "height": 35
    },
    "id": "D858M3T00b3z",
    "outputId": "5a70c6b7-2905-485e-9970-8144d42d3b8d"
   },
   "outputs": [
    {
     "data": {
      "text/plain": [
       "False"
      ]
     },
     "execution_count": 76,
     "metadata": {},
     "output_type": "execute_result"
    }
   ],
   "source": [
    "a.startswith('02')"
   ]
  },
  {
   "cell_type": "markdown",
   "metadata": {
    "id": "oGXxMjlf0cyr"
   },
   "source": [
    "### endswith() : 끝나는\n",
    "\n",
    "- 지정한 문자열로 끝나면 True, 그렇지 않다면 False를 반환합니다."
   ]
  },
  {
   "cell_type": "code",
   "execution_count": 77,
   "metadata": {
    "colab": {
     "base_uri": "https://localhost:8080/",
     "height": 35
    },
    "id": "VCpn1plG892e",
    "outputId": "525a3419-121c-4c01-b769-87c734cede50"
   },
   "outputs": [
    {
     "data": {
      "text/plain": [
       "True"
      ]
     },
     "execution_count": 77,
     "metadata": {},
     "output_type": "execute_result"
    }
   ],
   "source": [
    "a.endswith('.png')"
   ]
  },
  {
   "cell_type": "code",
   "execution_count": 78,
   "metadata": {
    "colab": {
     "base_uri": "https://localhost:8080/",
     "height": 35
    },
    "id": "1F4JLtPY9BZl",
    "outputId": "184601bb-3118-4b58-fc16-d595d16e6395"
   },
   "outputs": [
    {
     "data": {
      "text/plain": [
       "False"
      ]
     },
     "execution_count": 78,
     "metadata": {},
     "output_type": "execute_result"
    }
   ],
   "source": [
    "a.endswith('.jpg')"
   ]
  },
  {
   "cell_type": "markdown",
   "metadata": {
    "id": "BlmsgCrK9VVk"
   },
   "source": [
    "## replace() : 문자열 바꾸기\n",
    "\n",
    "- 문자열에 **replace(바꿀 대상, 바꾸려는 문자열)** 지정하여 문자열을 변경합니다.\n",
    "- 결과는 복사본이 만들어져 반환됩니다."
   ]
  },
  {
   "cell_type": "code",
   "execution_count": 79,
   "metadata": {
    "id": "ANj2HqcK9Vb8"
   },
   "outputs": [],
   "source": [
    "a = '01-sample.png'"
   ]
  },
  {
   "cell_type": "code",
   "execution_count": 80,
   "metadata": {
    "colab": {
     "base_uri": "https://localhost:8080/",
     "height": 35
    },
    "id": "EEjlaLiV9end",
    "outputId": "787c736d-1dca-4fbb-cce8-85e97b3f59be"
   },
   "outputs": [
    {
     "data": {
      "text/plain": [
       "'01-sample.jpg'"
      ]
     },
     "execution_count": 80,
     "metadata": {},
     "output_type": "execute_result"
    }
   ],
   "source": [
    "a.replace('.png', '.jpg')"
   ]
  },
  {
   "cell_type": "markdown",
   "metadata": {},
   "source": [
    "반환값은 복사본이며 원본에 **변경사항이 바로 적용되지 않습니다.**"
   ]
  },
  {
   "cell_type": "code",
   "execution_count": 81,
   "metadata": {
    "colab": {
     "base_uri": "https://localhost:8080/",
     "height": 35
    },
    "id": "GWeRrKH59h6M",
    "outputId": "a6f5ca67-1a69-489c-95a7-0a81a7ed1c0e"
   },
   "outputs": [
    {
     "data": {
      "text/plain": [
       "'01-sample.png'"
      ]
     },
     "execution_count": 81,
     "metadata": {},
     "output_type": "execute_result"
    }
   ],
   "source": [
    "a"
   ]
  },
  {
   "cell_type": "code",
   "execution_count": 82,
   "metadata": {
    "id": "ecF_C16h9jYs"
   },
   "outputs": [],
   "source": [
    "new_a = a.replace('.png', '.jpg')"
   ]
  },
  {
   "cell_type": "code",
   "execution_count": 83,
   "metadata": {
    "colab": {
     "base_uri": "https://localhost:8080/",
     "height": 35
    },
    "id": "A3tvDKm39nW0",
    "outputId": "4469c59c-f408-4d16-c1f0-6297cf77c500"
   },
   "outputs": [
    {
     "name": "stdout",
     "output_type": "stream",
     "text": [
      "01-sample.jpg\n"
     ]
    }
   ],
   "source": [
    "print(new_a)"
   ]
  },
  {
   "cell_type": "markdown",
   "metadata": {
    "id": "f2XosBBa97Uk"
   },
   "source": [
    "## 불필요한 공백 제거"
   ]
  },
  {
   "cell_type": "code",
   "execution_count": 84,
   "metadata": {
    "id": "KsUFyKpj9-eL"
   },
   "outputs": [],
   "source": [
    "a = '    01-sample.png                '"
   ]
  },
  {
   "cell_type": "code",
   "execution_count": 85,
   "metadata": {
    "colab": {
     "base_uri": "https://localhost:8080/",
     "height": 35
    },
    "id": "EX31a4RRz3mX",
    "outputId": "0da146d2-8892-425c-bd87-eef73b5cc16e"
   },
   "outputs": [
    {
     "name": "stdout",
     "output_type": "stream",
     "text": [
      "    01-sample.png                \n"
     ]
    }
   ],
   "source": [
    "print(a)"
   ]
  },
  {
   "cell_type": "markdown",
   "metadata": {
    "id": "x2BIXr3a-IbK"
   },
   "source": [
    "**strip은 불필요한 공백을 제거**해 줍니다."
   ]
  },
  {
   "cell_type": "markdown",
   "metadata": {
    "id": "Zg3o3-6pzjxH"
   },
   "source": [
    "### lstrip() : 왼쪽 공백 제거"
   ]
  },
  {
   "cell_type": "code",
   "execution_count": 86,
   "metadata": {
    "colab": {
     "base_uri": "https://localhost:8080/",
     "height": 35
    },
    "id": "9-tTlJmEzqAi",
    "outputId": "afcae8f0-b7f7-4a4f-c4b9-8132d58cd6d5"
   },
   "outputs": [
    {
     "data": {
      "text/plain": [
       "'01-sample.png                '"
      ]
     },
     "execution_count": 86,
     "metadata": {},
     "output_type": "execute_result"
    }
   ],
   "source": [
    "a.lstrip()"
   ]
  },
  {
   "cell_type": "markdown",
   "metadata": {
    "id": "MLR04FyNz0ra"
   },
   "source": [
    "### rstrip() : 오른쪽 공백 제거"
   ]
  },
  {
   "cell_type": "code",
   "execution_count": 87,
   "metadata": {
    "colab": {
     "base_uri": "https://localhost:8080/",
     "height": 35
    },
    "id": "6kYVeqJTz81g",
    "outputId": "627c0995-3e11-4f60-834f-c282c7391204"
   },
   "outputs": [
    {
     "data": {
      "text/plain": [
       "'    01-sample.png'"
      ]
     },
     "execution_count": 87,
     "metadata": {},
     "output_type": "execute_result"
    }
   ],
   "source": [
    "a.rstrip()"
   ]
  },
  {
   "cell_type": "markdown",
   "metadata": {
    "id": "TkvP_X0Ez-GA"
   },
   "source": [
    "### strip() : 양쪽 공백 제거"
   ]
  },
  {
   "cell_type": "code",
   "execution_count": 88,
   "metadata": {
    "colab": {
     "base_uri": "https://localhost:8080/",
     "height": 35
    },
    "id": "YiShmptM-G_b",
    "outputId": "dedf45de-8868-4c80-8702-9428db4fd697"
   },
   "outputs": [
    {
     "data": {
      "text/plain": [
       "'01-sample.png'"
      ]
     },
     "execution_count": 88,
     "metadata": {},
     "output_type": "execute_result"
    }
   ],
   "source": [
    "a.strip()"
   ]
  }
 ],
 "metadata": {
  "colab": {
   "collapsed_sections": [],
   "name": "04-파이썬-문자열",
   "provenance": []
  },
  "kernelspec": {
   "display_name": "Python 3",
   "language": "python",
   "name": "python3"
  },
  "language_info": {
   "codemirror_mode": {
    "name": "ipython",
    "version": 3
   },
   "file_extension": ".py",
   "mimetype": "text/x-python",
   "name": "python",
   "nbconvert_exporter": "python",
   "pygments_lexer": "ipython3",
   "version": "3.6.9"
  }
 },
 "nbformat": 4,
 "nbformat_minor": 1
}
