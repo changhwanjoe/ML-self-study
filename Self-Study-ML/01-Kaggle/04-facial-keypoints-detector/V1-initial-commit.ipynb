{
 "cells": [
  {
   "cell_type": "markdown",
   "metadata": {
    "colab_type": "text",
    "id": "f3vgHndtSsWD"
   },
   "source": [
    "# Kaggle - Facial Keypoints Detector\n",
    "\n",
    "[Facial Keypoints Detector](https://www.kaggle.com/c/facial-keypoints-detector)\n",
    "\n"
   ]
  },
  {
   "cell_type": "code",
   "execution_count": 65,
   "metadata": {
    "colab": {},
    "colab_type": "code",
    "id": "I6YIfOCaTG0l"
   },
   "outputs": [],
   "source": [
    "import tensorflow as tf\n",
    "import numpy as np\n",
    "from matplotlib import pyplot as plt\n",
    "import pandas as pd"
   ]
  },
  {
   "cell_type": "code",
   "execution_count": null,
   "metadata": {
    "colab": {
     "base_uri": "https://localhost:8080/",
     "height": 54
    },
    "colab_type": "code",
    "id": "bAIBIi6jWCrN",
    "outputId": "51406108-8427-4699-bf1b-8330777a5e7c"
   },
   "outputs": [],
   "source": [
    "# importing samples from Google Drive\n",
    "!pip install -U -q PyDrive\n",
    "\n",
    "from pydrive.auth import GoogleAuth\n",
    "from pydrive.drive import GoogleDrive\n",
    "from google.colab import auth\n",
    "from oauth2client.client import GoogleCredentials\n",
    "import os\n",
    "\n",
    "# PyDrive Authentication\n",
    "auth.authenticate_user()\n",
    "gauth = GoogleAuth()\n",
    "gauth.credentials = GoogleCredentials.get_application_default()\n",
    "drive = GoogleDrive(gauth)\n",
    "\n",
    "# define folder id\n",
    "folder_id = 'folder id'\n",
    "\n",
    "# file_lists will be my list of files from folder\n",
    "file_lists = []\n",
    "\n",
    "# get lists of files from Google Drive folder\n",
    "def ListFolder(parent):\n",
    "    filelist=[]\n",
    "    file_list = drive.ListFile({'q': \"'%s' in parents and trashed=false\" % parent}).GetList()\n",
    "    for f in file_list:\n",
    "        if f['mimeType']=='application/vnd.google-apps.folder': # if folder\n",
    "            filelist.append({\"id\":f['id'],\"title\":f['title'],\"list\":ListFolder(f['id'])})\n",
    "        else:\n",
    "            filelist.append({\"title\":f['title'],\"id\":f['id']})\n",
    "    return filelist\n",
    "\n",
    "file_lists_from_drive = ListFolder(folder_id)\n",
    "\n",
    "# choose a local (colab) directory to store the data.\n",
    "local_download_path = os.path.expanduser('~/my_sample_data')\n",
    "try:\n",
    "    os.makedirs(local_download_path)\n",
    "except: pass\n",
    "\n",
    "\n",
    "for file in file_lists_from_drive:\n",
    "    fname = os.path.join(local_download_path, file['title'])\n",
    "    f_ = drive.CreateFile({'id': file['id']})\n",
    "    f_.GetContentFile(fname)\n",
    "    file_lists.append(fname)\n",
    "\n",
    "print(file_lists)"
   ]
  },
  {
   "cell_type": "code",
   "execution_count": 2,
   "metadata": {},
   "outputs": [],
   "source": [
    "# import sample data from local PC\n",
    "import os\n",
    "\n",
    "folder_path = './data/'\n",
    "flists = os.listdir(folder_path)\n",
    "file_lists =[os.path.join(folder_path, fname) for fname in flists]"
   ]
  },
  {
   "cell_type": "code",
   "execution_count": 3,
   "metadata": {},
   "outputs": [
    {
     "data": {
      "text/plain": [
       "['./data/kaggle_facial_keypoints_detector_test.csv',\n",
       " './data/kaggle_facial_keypoints_detector_train.csv',\n",
       " './data/kaggle_facial_keypoints_detector_train_identity.csv']"
      ]
     },
     "execution_count": 3,
     "metadata": {},
     "output_type": "execute_result"
    }
   ],
   "source": [
    "sorted(file_lists, key=str.lower)"
   ]
  },
  {
   "cell_type": "code",
   "execution_count": 4,
   "metadata": {},
   "outputs": [
    {
     "name": "stdout",
     "output_type": "stream",
     "text": [
      "['./data/kaggle_facial_keypoints_detector_test.csv', './data/kaggle_facial_keypoints_detector_train_identity.csv', './data/kaggle_facial_keypoints_detector_train.csv']\n"
     ]
    }
   ],
   "source": [
    "print(file_lists)"
   ]
  },
  {
   "cell_type": "code",
   "execution_count": 5,
   "metadata": {
    "colab": {},
    "colab_type": "code",
    "id": "OC17tBZWmwZU"
   },
   "outputs": [],
   "source": [
    "train = pd.read_csv(file_lists[2])\n",
    "test = pd.read_csv(file_lists[0])"
   ]
  },
  {
   "cell_type": "code",
   "execution_count": 6,
   "metadata": {},
   "outputs": [
    {
     "data": {
      "text/html": [
       "<div>\n",
       "<style scoped>\n",
       "    .dataframe tbody tr th:only-of-type {\n",
       "        vertical-align: middle;\n",
       "    }\n",
       "\n",
       "    .dataframe tbody tr th {\n",
       "        vertical-align: top;\n",
       "    }\n",
       "\n",
       "    .dataframe thead th {\n",
       "        text-align: right;\n",
       "    }\n",
       "</style>\n",
       "<table border=\"1\" class=\"dataframe\">\n",
       "  <thead>\n",
       "    <tr style=\"text-align: right;\">\n",
       "      <th></th>\n",
       "      <th>Emotion</th>\n",
       "      <th>Pixels</th>\n",
       "    </tr>\n",
       "  </thead>\n",
       "  <tbody>\n",
       "    <tr>\n",
       "      <th>0</th>\n",
       "      <td>3</td>\n",
       "      <td>221 240 251 254 255 255 255 255 255 255 255 25...</td>\n",
       "    </tr>\n",
       "    <tr>\n",
       "      <th>1</th>\n",
       "      <td>6</td>\n",
       "      <td>100 107 108 104 103 113 117 115 120 130 138 14...</td>\n",
       "    </tr>\n",
       "    <tr>\n",
       "      <th>2</th>\n",
       "      <td>4</td>\n",
       "      <td>35 50 56 57 63 76 74 79 85 86 105 133 145 152 ...</td>\n",
       "    </tr>\n",
       "    <tr>\n",
       "      <th>3</th>\n",
       "      <td>6</td>\n",
       "      <td>119 124 129 135 136 140 142 149 159 156 163 16...</td>\n",
       "    </tr>\n",
       "    <tr>\n",
       "      <th>4</th>\n",
       "      <td>2</td>\n",
       "      <td>160 173 186 194 188 185 175 162 153 143 135 12...</td>\n",
       "    </tr>\n",
       "  </tbody>\n",
       "</table>\n",
       "</div>"
      ],
      "text/plain": [
       "   Emotion                                             Pixels\n",
       "0        3  221 240 251 254 255 255 255 255 255 255 255 25...\n",
       "1        6  100 107 108 104 103 113 117 115 120 130 138 14...\n",
       "2        4  35 50 56 57 63 76 74 79 85 86 105 133 145 152 ...\n",
       "3        6  119 124 129 135 136 140 142 149 159 156 163 16...\n",
       "4        2  160 173 186 194 188 185 175 162 153 143 135 12..."
      ]
     },
     "execution_count": 6,
     "metadata": {},
     "output_type": "execute_result"
    }
   ],
   "source": [
    "train.head()"
   ]
  },
  {
   "cell_type": "code",
   "execution_count": 7,
   "metadata": {
    "colab": {},
    "colab_type": "code",
    "id": "SmCISPP2qB7B"
   },
   "outputs": [],
   "source": [
    "X_train = train['Pixels']\n",
    "y_train = train['Emotion']"
   ]
  },
  {
   "cell_type": "code",
   "execution_count": 8,
   "metadata": {
    "colab": {
     "base_uri": "https://localhost:8080/",
     "height": 34
    },
    "colab_type": "code",
    "id": "LL-GU7IFU02m",
    "outputId": "304e41df-7e13-4b87-b1b0-dde9525ba0a7"
   },
   "outputs": [
    {
     "data": {
      "text/plain": [
       "((4178,), (4178,))"
      ]
     },
     "execution_count": 8,
     "metadata": {},
     "output_type": "execute_result"
    }
   ],
   "source": [
    "X_train.shape, y_train.shape"
   ]
  },
  {
   "cell_type": "code",
   "execution_count": 9,
   "metadata": {
    "colab": {},
    "colab_type": "code",
    "id": "-9Q-qm77cJvA"
   },
   "outputs": [],
   "source": [
    "def convert_to_float32(arr):\n",
    "    ret = []\n",
    "    for col in arr:\n",
    "        a = col.split(' ')\n",
    "        ret.append(a)\n",
    "    ret = [[int(x) for x in col.split(' ')] for col in arr]\n",
    "    return np.array(ret, np.float32)"
   ]
  },
  {
   "cell_type": "code",
   "execution_count": 10,
   "metadata": {
    "colab": {},
    "colab_type": "code",
    "id": "jF0NYoHickPe"
   },
   "outputs": [],
   "source": [
    "X_train = convert_to_float32(X_train)"
   ]
  },
  {
   "cell_type": "code",
   "execution_count": 11,
   "metadata": {
    "colab": {
     "base_uri": "https://localhost:8080/",
     "height": 34
    },
    "colab_type": "code",
    "id": "fGsWBlJMtuNH",
    "outputId": "db6f497a-30f3-4c48-e517-0486d8273cac"
   },
   "outputs": [
    {
     "data": {
      "text/plain": [
       "(4178, 2304)"
      ]
     },
     "execution_count": 11,
     "metadata": {},
     "output_type": "execute_result"
    }
   ],
   "source": [
    "X_train.shape"
   ]
  },
  {
   "cell_type": "code",
   "execution_count": 46,
   "metadata": {
    "colab": {},
    "colab_type": "code",
    "id": "1Op3uDPK0c4B"
   },
   "outputs": [
    {
     "name": "stdout",
     "output_type": "stream",
     "text": [
      "(4178, 48, 48, 1) (4178, 1)\n"
     ]
    }
   ],
   "source": [
    "X_train = X_train.reshape(-1, 48, 48, 1)\n",
    "y_train = y_train.reshape(-1, 1).astype(np.int32)\n",
    "print(X_train.shape, y_train.shape)"
   ]
  },
  {
   "cell_type": "markdown",
   "metadata": {},
   "source": [
    "### CNN Model"
   ]
  },
  {
   "cell_type": "markdown",
   "metadata": {},
   "source": [
    "L1: filter_size=5X5, strides=1, features=32, max_pool= 2X2 strides=2\n",
    "L2: filter_size=3X3, strides=1, features=64, max_pool= 2X2 strides=2\n",
    "FC: output=1024\n",
    "OUTPUT\n",
    "\n",
    "Loss Function = cross_entropy\n",
    "activation = softmax"
   ]
  },
  {
   "cell_type": "code",
   "execution_count": 17,
   "metadata": {
    "colab": {},
    "colab_type": "code",
    "id": "QZ7m30mL0u10"
   },
   "outputs": [],
   "source": [
    "# parameters\n",
    "BATCH_SIZE = 128\n",
    "LEARNING_RATE = 1e-3\n",
    "TRAINING_EPOCH = 1001\n",
    "KEEP_PROB = 0.75"
   ]
  },
  {
   "cell_type": "code",
   "execution_count": 18,
   "metadata": {
    "colab": {
     "base_uri": "https://localhost:8080/",
     "height": 828
    },
    "colab_type": "code",
    "id": "7ccH1YvUR_Cf",
    "outputId": "0e310e03-738c-4bbe-9789-195305ec1b82"
   },
   "outputs": [],
   "source": [
    "X = tf.placeholder(tf.float32, shape=[None, 48, 48, 1])\n",
    "Y = tf.placeholder(tf.int32, shape=[None, 1])\n",
    "drop_out = tf.placeholder(tf.float32)"
   ]
  },
  {
   "cell_type": "code",
   "execution_count": 50,
   "metadata": {},
   "outputs": [],
   "source": [
    "Y_one_hot = tf.one_hot(Y, 7)\n",
    "Y_one_hot = tf.reshape(Y_one_hot, shape=[-1, 7])"
   ]
  },
  {
   "cell_type": "code",
   "execution_count": 20,
   "metadata": {
    "colab": {},
    "colab_type": "code",
    "id": "FXedhfK2SALK"
   },
   "outputs": [],
   "source": [
    "w1 = tf.Variable(tf.random_normal([5, 5, 1, 32]), tf.float32)"
   ]
  },
  {
   "cell_type": "code",
   "execution_count": 21,
   "metadata": {},
   "outputs": [],
   "source": [
    "L1 = tf.nn.conv2d(X, w1, strides=[1, 1, 1, 1], padding='SAME')"
   ]
  },
  {
   "cell_type": "code",
   "execution_count": 22,
   "metadata": {},
   "outputs": [],
   "source": [
    "L1 = tf.nn.relu(L1)"
   ]
  },
  {
   "cell_type": "code",
   "execution_count": 23,
   "metadata": {},
   "outputs": [],
   "source": [
    "L1 = tf.nn.max_pool(L1, ksize=[1, 2, 2, 1], strides=[1, 2, 2, 1], padding='SAME')"
   ]
  },
  {
   "cell_type": "code",
   "execution_count": 24,
   "metadata": {},
   "outputs": [
    {
     "data": {
      "text/plain": [
       "TensorShape([Dimension(None), Dimension(24), Dimension(24), Dimension(32)])"
      ]
     },
     "execution_count": 24,
     "metadata": {},
     "output_type": "execute_result"
    }
   ],
   "source": [
    "L1.shape"
   ]
  },
  {
   "cell_type": "code",
   "execution_count": 25,
   "metadata": {},
   "outputs": [],
   "source": [
    "w2 = tf.Variable(tf.random_normal([3, 3, 32, 64]), tf.float32)"
   ]
  },
  {
   "cell_type": "code",
   "execution_count": 26,
   "metadata": {},
   "outputs": [],
   "source": [
    "L2 = tf.nn.conv2d(L1, w2, strides=[1, 1, 1, 1], padding='SAME')"
   ]
  },
  {
   "cell_type": "code",
   "execution_count": 27,
   "metadata": {},
   "outputs": [],
   "source": [
    "L2 = tf.nn.relu(L2)"
   ]
  },
  {
   "cell_type": "code",
   "execution_count": 28,
   "metadata": {},
   "outputs": [],
   "source": [
    "L2 = tf.nn.max_pool(L2, ksize=[1, 2, 2, 1], strides=[1, 2, 2, 1], padding='SAME')"
   ]
  },
  {
   "cell_type": "code",
   "execution_count": 29,
   "metadata": {},
   "outputs": [
    {
     "data": {
      "text/plain": [
       "TensorShape([Dimension(None), Dimension(12), Dimension(12), Dimension(64)])"
      ]
     },
     "execution_count": 29,
     "metadata": {},
     "output_type": "execute_result"
    }
   ],
   "source": [
    "L2.shape"
   ]
  },
  {
   "cell_type": "code",
   "execution_count": 30,
   "metadata": {},
   "outputs": [],
   "source": [
    "w3 = tf.Variable(tf.random_normal([12*12*64, 1024]), tf.float32)"
   ]
  },
  {
   "cell_type": "code",
   "execution_count": 31,
   "metadata": {},
   "outputs": [],
   "source": [
    "b3 = tf.Variable(tf.random_normal([1024]), tf.float32)"
   ]
  },
  {
   "cell_type": "code",
   "execution_count": 32,
   "metadata": {},
   "outputs": [],
   "source": [
    "L2 = tf.layers.flatten(L2)\n",
    "FC = tf.matmul(L2, w3)+ b3"
   ]
  },
  {
   "cell_type": "code",
   "execution_count": 33,
   "metadata": {},
   "outputs": [
    {
     "data": {
      "text/plain": [
       "TensorShape([Dimension(None), Dimension(1024)])"
      ]
     },
     "execution_count": 33,
     "metadata": {},
     "output_type": "execute_result"
    }
   ],
   "source": [
    "FC.shape"
   ]
  },
  {
   "cell_type": "code",
   "execution_count": 34,
   "metadata": {},
   "outputs": [],
   "source": [
    "FC = tf.nn.relu(FC)"
   ]
  },
  {
   "cell_type": "code",
   "execution_count": 35,
   "metadata": {},
   "outputs": [],
   "source": [
    "FC = tf.nn.dropout(FC, drop_out)"
   ]
  },
  {
   "cell_type": "code",
   "execution_count": 36,
   "metadata": {},
   "outputs": [],
   "source": [
    "w4 = tf.Variable(tf.random_normal([1024, 7]), tf.float32)"
   ]
  },
  {
   "cell_type": "code",
   "execution_count": 37,
   "metadata": {},
   "outputs": [],
   "source": [
    "b4 = tf.Variable(tf.random_normal([7]), tf.float32)"
   ]
  },
  {
   "cell_type": "code",
   "execution_count": 38,
   "metadata": {},
   "outputs": [],
   "source": [
    "Logit = tf.matmul(FC, w4) + b4"
   ]
  },
  {
   "cell_type": "code",
   "execution_count": 39,
   "metadata": {},
   "outputs": [],
   "source": [
    "Hypothesis = tf.nn.softmax(Logit)"
   ]
  },
  {
   "cell_type": "code",
   "execution_count": 53,
   "metadata": {},
   "outputs": [],
   "source": [
    "Loss = tf.reduce_mean(tf.nn.softmax_cross_entropy_with_logits_v2(logits=Logit, labels=Y_one_hot))"
   ]
  },
  {
   "cell_type": "code",
   "execution_count": 41,
   "metadata": {},
   "outputs": [],
   "source": [
    "Optimizer = tf.train.AdamOptimizer(LEARNING_RATE).minimize(Loss)"
   ]
  },
  {
   "cell_type": "code",
   "execution_count": 56,
   "metadata": {},
   "outputs": [],
   "source": [
    "Prediction = tf.argmax(Hypothesis, 1)"
   ]
  },
  {
   "cell_type": "code",
   "execution_count": 57,
   "metadata": {},
   "outputs": [],
   "source": [
    "Actual = tf.argmax(Y_one_hot, 1)"
   ]
  },
  {
   "cell_type": "code",
   "execution_count": 59,
   "metadata": {},
   "outputs": [],
   "source": [
    "Accuracy = tf.reduce_mean(tf.cast(tf.equal(Prediction, Actual), tf.float32))"
   ]
  },
  {
   "cell_type": "code",
   "execution_count": 63,
   "metadata": {},
   "outputs": [],
   "source": [
    "tf.summary.scalar('Loss', Loss)\n",
    "tf.summary.scalar('Accuracy', Accuracy)\n",
    "Summaries = tf.summary.merge_all()"
   ]
  },
  {
   "cell_type": "code",
   "execution_count": 64,
   "metadata": {},
   "outputs": [
    {
     "name": "stdout",
     "output_type": "stream",
     "text": [
      "EPOCH: 0, Loss: 25145526.00000, Accuracy: 0.11719\n",
      "EPOCH: 10, Loss: 10104240.00000, Accuracy: 0.15625\n",
      "EPOCH: 20, Loss: 7834931.00000, Accuracy: 0.22656\n",
      "EPOCH: 30, Loss: 6470991.50000, Accuracy: 0.18750\n",
      "EPOCH: 40, Loss: 6011287.00000, Accuracy: 0.19531\n",
      "EPOCH: 50, Loss: 4258662.00000, Accuracy: 0.27344\n",
      "EPOCH: 60, Loss: 4220480.00000, Accuracy: 0.29688\n",
      "EPOCH: 70, Loss: 3214868.00000, Accuracy: 0.28906\n",
      "EPOCH: 80, Loss: 3160731.00000, Accuracy: 0.31250\n",
      "EPOCH: 90, Loss: 2445706.50000, Accuracy: 0.39062\n",
      "EPOCH: 100, Loss: 1790683.25000, Accuracy: 0.35938\n",
      "EPOCH: 110, Loss: 2151585.00000, Accuracy: 0.39062\n",
      "EPOCH: 120, Loss: 1506672.00000, Accuracy: 0.43750\n",
      "EPOCH: 130, Loss: 1340079.87500, Accuracy: 0.46094\n",
      "EPOCH: 140, Loss: 965394.93750, Accuracy: 0.57812\n",
      "EPOCH: 150, Loss: 1089800.00000, Accuracy: 0.51562\n",
      "EPOCH: 160, Loss: 791545.75000, Accuracy: 0.57812\n",
      "EPOCH: 170, Loss: 691561.50000, Accuracy: 0.53125\n",
      "EPOCH: 180, Loss: 705621.25000, Accuracy: 0.50781\n",
      "EPOCH: 190, Loss: 496610.43750, Accuracy: 0.60938\n",
      "EPOCH: 200, Loss: 685469.87500, Accuracy: 0.51562\n",
      "EPOCH: 210, Loss: 540402.12500, Accuracy: 0.60156\n",
      "EPOCH: 220, Loss: 474549.06250, Accuracy: 0.62500\n",
      "EPOCH: 230, Loss: 411539.71875, Accuracy: 0.63281\n",
      "EPOCH: 240, Loss: 449393.93750, Accuracy: 0.56250\n",
      "EPOCH: 250, Loss: 268047.90625, Accuracy: 0.71094\n",
      "EPOCH: 260, Loss: 273744.71875, Accuracy: 0.67969\n",
      "EPOCH: 270, Loss: 330581.68750, Accuracy: 0.64844\n",
      "EPOCH: 280, Loss: 388940.46875, Accuracy: 0.62500\n",
      "EPOCH: 290, Loss: 154905.39062, Accuracy: 0.69531\n",
      "EPOCH: 300, Loss: 219305.28125, Accuracy: 0.64844\n",
      "EPOCH: 310, Loss: 245499.45312, Accuracy: 0.67188\n",
      "EPOCH: 320, Loss: 175462.84375, Accuracy: 0.68750\n",
      "EPOCH: 330, Loss: 282531.62500, Accuracy: 0.60938\n",
      "EPOCH: 340, Loss: 197102.78125, Accuracy: 0.67969\n",
      "EPOCH: 350, Loss: 140473.15625, Accuracy: 0.71094\n",
      "EPOCH: 360, Loss: 149021.10938, Accuracy: 0.62500\n",
      "EPOCH: 370, Loss: 155693.31250, Accuracy: 0.65625\n",
      "EPOCH: 380, Loss: 103199.87500, Accuracy: 0.71094\n",
      "EPOCH: 390, Loss: 144852.29688, Accuracy: 0.63281\n",
      "EPOCH: 400, Loss: 127720.74219, Accuracy: 0.67188\n",
      "EPOCH: 410, Loss: 121215.91406, Accuracy: 0.64062\n",
      "EPOCH: 420, Loss: 117484.53906, Accuracy: 0.60156\n",
      "EPOCH: 430, Loss: 143878.90625, Accuracy: 0.63281\n",
      "EPOCH: 440, Loss: 115650.54688, Accuracy: 0.64844\n",
      "EPOCH: 450, Loss: 95569.12500, Accuracy: 0.64062\n",
      "EPOCH: 460, Loss: 106009.34375, Accuracy: 0.57812\n",
      "EPOCH: 470, Loss: 78790.10938, Accuracy: 0.67969\n",
      "EPOCH: 480, Loss: 93952.39062, Accuracy: 0.64844\n",
      "EPOCH: 490, Loss: 78063.59375, Accuracy: 0.67969\n",
      "EPOCH: 500, Loss: 94413.40625, Accuracy: 0.65625\n",
      "EPOCH: 510, Loss: 48644.86719, Accuracy: 0.71875\n",
      "EPOCH: 520, Loss: 55879.07422, Accuracy: 0.68750\n",
      "EPOCH: 530, Loss: 69822.03125, Accuracy: 0.62500\n",
      "EPOCH: 540, Loss: 72928.05469, Accuracy: 0.67188\n",
      "EPOCH: 550, Loss: 68038.94531, Accuracy: 0.66406\n",
      "EPOCH: 560, Loss: 64016.58594, Accuracy: 0.64062\n",
      "EPOCH: 570, Loss: 62701.35938, Accuracy: 0.62500\n",
      "EPOCH: 580, Loss: 37906.08203, Accuracy: 0.70312\n",
      "EPOCH: 590, Loss: 46361.82812, Accuracy: 0.70312\n",
      "EPOCH: 600, Loss: 43689.28125, Accuracy: 0.69531\n",
      "EPOCH: 610, Loss: 45235.38281, Accuracy: 0.63281\n",
      "EPOCH: 620, Loss: 51645.75781, Accuracy: 0.57031\n",
      "EPOCH: 630, Loss: 31611.31250, Accuracy: 0.68750\n",
      "EPOCH: 640, Loss: 27841.91602, Accuracy: 0.65625\n",
      "EPOCH: 650, Loss: 56175.31250, Accuracy: 0.57031\n",
      "EPOCH: 660, Loss: 26751.53711, Accuracy: 0.60938\n",
      "EPOCH: 670, Loss: 42326.24219, Accuracy: 0.53906\n",
      "EPOCH: 680, Loss: 35962.80469, Accuracy: 0.56250\n",
      "EPOCH: 690, Loss: 33647.10156, Accuracy: 0.57812\n",
      "EPOCH: 700, Loss: 18201.26953, Accuracy: 0.67188\n",
      "EPOCH: 710, Loss: 32343.16797, Accuracy: 0.57031\n",
      "EPOCH: 720, Loss: 36337.48438, Accuracy: 0.50000\n",
      "EPOCH: 730, Loss: 17306.86328, Accuracy: 0.64844\n",
      "EPOCH: 740, Loss: 37843.24219, Accuracy: 0.54688\n",
      "EPOCH: 750, Loss: 18262.21680, Accuracy: 0.64844\n",
      "EPOCH: 760, Loss: 18995.20312, Accuracy: 0.53906\n",
      "EPOCH: 770, Loss: 45754.32422, Accuracy: 0.50000\n",
      "EPOCH: 780, Loss: 19694.83203, Accuracy: 0.45312\n",
      "EPOCH: 790, Loss: 19778.28516, Accuracy: 0.57031\n",
      "EPOCH: 800, Loss: 17519.80859, Accuracy: 0.62500\n",
      "EPOCH: 810, Loss: 20805.88672, Accuracy: 0.45312\n",
      "EPOCH: 820, Loss: 20092.13867, Accuracy: 0.50000\n",
      "EPOCH: 830, Loss: 18941.47266, Accuracy: 0.47656\n",
      "EPOCH: 840, Loss: 20453.72656, Accuracy: 0.54688\n",
      "EPOCH: 850, Loss: 26660.82422, Accuracy: 0.43750\n",
      "EPOCH: 860, Loss: 19839.79688, Accuracy: 0.46875\n",
      "EPOCH: 870, Loss: 14812.67969, Accuracy: 0.47656\n",
      "EPOCH: 880, Loss: 19545.43555, Accuracy: 0.37500\n",
      "EPOCH: 890, Loss: 10458.97656, Accuracy: 0.49219\n",
      "EPOCH: 900, Loss: 8972.15039, Accuracy: 0.47656\n",
      "EPOCH: 910, Loss: 5850.19434, Accuracy: 0.42969\n",
      "EPOCH: 920, Loss: 9212.21875, Accuracy: 0.42969\n",
      "EPOCH: 930, Loss: 10366.73828, Accuracy: 0.44531\n",
      "EPOCH: 940, Loss: 18534.18945, Accuracy: 0.39062\n",
      "EPOCH: 950, Loss: 9289.23047, Accuracy: 0.40625\n",
      "EPOCH: 960, Loss: 6744.90918, Accuracy: 0.40625\n",
      "EPOCH: 970, Loss: 9606.54883, Accuracy: 0.53125\n",
      "EPOCH: 980, Loss: 10210.37109, Accuracy: 0.57812\n",
      "EPOCH: 990, Loss: 8179.43945, Accuracy: 0.46094\n",
      "EPOCH: 1000, Loss: 8706.34082, Accuracy: 0.55469\n"
     ]
    }
   ],
   "source": [
    "with tf.Session() as sess:\n",
    "    sess.run(tf.global_variables_initializer())\n",
    "    summary_writer = tf.summary.FileWriter('logs/kaggle_facial_keypoints_detector', sess.graph)\n",
    "    for epoch in range(TRAINING_EPOCH):\n",
    "        dataset = Dataset(X_train, y_train)\n",
    "        dx, dy = dataset.next_batch(BATCH_SIZE)\n",
    "        _, loss, accuracy, summeries = sess.run([Optimizer, Loss, Accuracy, Summaries], feed_dict={X:dx, Y:dy, drop_out:KEEP_PROB})\n",
    "        summary_writer.add_summary(summeries, global_step=epoch)\n",
    "        if epoch % 10 == 0:\n",
    "            print(\"EPOCH: {0}, Loss: {1:.5f}, Accuracy: {2:.5f}\".format(epoch, loss, accuracy))"
   ]
  },
  {
   "cell_type": "code",
   "execution_count": 48,
   "metadata": {},
   "outputs": [
    {
     "data": {
      "text/plain": [
       "((128, 48, 48, 1), (128, 1))"
      ]
     },
     "execution_count": 48,
     "metadata": {},
     "output_type": "execute_result"
    }
   ],
   "source": [
    "dx.shape, dy.shape"
   ]
  },
  {
   "cell_type": "code",
   "execution_count": 49,
   "metadata": {},
   "outputs": [
    {
     "data": {
      "text/plain": [
       "TensorShape([Dimension(None), Dimension(1), Dimension(7)])"
      ]
     },
     "execution_count": 49,
     "metadata": {},
     "output_type": "execute_result"
    }
   ],
   "source": [
    "Y_one_hot.shape"
   ]
  },
  {
   "cell_type": "markdown",
   "metadata": {},
   "source": [
    "### Implementing next_batch"
   ]
  },
  {
   "cell_type": "code",
   "execution_count": 13,
   "metadata": {},
   "outputs": [],
   "source": [
    "import numpy as np \n",
    "\n",
    "class Dataset:\n",
    "    def __init__(self, images, labels):\n",
    "        self._index_in_epoch = 0\n",
    "        self._epochs_completed = 0\n",
    "        self._images = images\n",
    "        self._labels = labels \n",
    "        self._num_examples = train.shape[0]\n",
    "        pass\n",
    "\n",
    "    @property\n",
    "    def images(self):\n",
    "        return self._images\n",
    "    \n",
    "    @property\n",
    "    def labels(self):\n",
    "        return self._labels\n",
    "\n",
    "    def next_batch(self, batch_size, shuffle=True):\n",
    "        # mark start index\n",
    "        start = self._index_in_epoch\n",
    "        \n",
    "        # if it's very first time in epoch\n",
    "        if start == 0 and self._epochs_completed == 0 and shuffle:\n",
    "            idx = np.arange(0, self._num_examples)  # get all possible indexes\n",
    "            np.random.shuffle(idx)  # shuffle indexe\n",
    "            self._images = self._images[idx]  # get list of `num` random samples\n",
    "            self._labels = self._labels[idx]\n",
    "\n",
    "        # go to the next epoch\n",
    "        if start + batch_size > self._num_examples:\n",
    "            # it is the last batch loop\n",
    "            self._epochs_completed += 1\n",
    "            \n",
    "            # get the rest\n",
    "            rest_num_examples = self._num_examples - start\n",
    "            images_rest_part = self._images[start:self._num_examples]\n",
    "            labels_rest_part = self._labels[start:self._num_examples]\n",
    "            \n",
    "            # newly shuffle images, labels for next epoch\n",
    "            if shuffle:\n",
    "                idx0 = np.arange(0, self._num_examples)  \n",
    "                np.random.shuffle(idx0)  # shuffle indexes\n",
    "                self._images = self._images[idx0]\n",
    "                self._labels = self._labels[idx0]\n",
    "\n",
    "            start = 0\n",
    "            self._index_in_epoch = batch_size - rest_num_examples #avoid the case where the #sample != integar times of batch_size\n",
    "            end =  self._index_in_epoch  \n",
    "            images_new_part =  self._images[start:end]  \n",
    "            labels_new_part =  self._labels[start:end]  \n",
    "            \n",
    "            return np.concatenate((images_rest_part, images_new_part), axis=0), numpy.concatenate((labels_rest_part, labels_new_part), axis=0)\n",
    "        else:\n",
    "            self._index_in_epoch += batch_size\n",
    "            end = self._index_in_epoch\n",
    "            return self._images[start:end], self._labels[start:end]\n",
    "\n",
    "X_batch = X_train.copy()\n",
    "Y_batch = y_train.copy()\n",
    "\n",
    "dataset = Dataset(X_batch, Y_batch)\n",
    "dx, dy = dataset.next_batch(10)   "
   ]
  },
  {
   "cell_type": "code",
   "execution_count": 14,
   "metadata": {},
   "outputs": [
    {
     "data": {
      "text/plain": [
       "<matplotlib.image.AxesImage at 0x145fa1828>"
      ]
     },
     "execution_count": 14,
     "metadata": {},
     "output_type": "execute_result"
    },
    {
     "data": {
      "image/png": "[encoded data removed]",
      "text/plain": [
       "<Figure size 432x288 with 1 Axes>"
      ]
     },
     "metadata": {},
     "output_type": "display_data"
    }
   ],
   "source": [
    "plt.imshow(dx[2].reshape([48, 48]))"
   ]
  },
  {
   "cell_type": "markdown",
   "metadata": {},
   "source": [
    "### Visualize"
   ]
  },
  {
   "cell_type": "code",
   "execution_count": 15,
   "metadata": {},
   "outputs": [
    {
     "data": {
      "image/png": "[encoded data removed]",
      "text/plain": [
       "<Figure size 864x360 with 10 Axes>"
      ]
     },
     "metadata": {},
     "output_type": "display_data"
    }
   ],
   "source": [
    "figure = plt.figure()\n",
    "figure.set_size_inches(12, 5)\n",
    "\n",
    "axes = []\n",
    "for i in range(1, 11):\n",
    "    axes.append(figure.add_subplot(2, 5, i))\n",
    "\n",
    "for i in range(10):\n",
    "    axes[i].matshow(dx[i].reshape(48, 48))"
   ]
  },
  {
   "cell_type": "code",
   "execution_count": 16,
   "metadata": {},
   "outputs": [
    {
     "data": {
      "text/plain": [
       "array([[0],\n",
       "       [0],\n",
       "       [5],\n",
       "       [6],\n",
       "       [6],\n",
       "       [5],\n",
       "       [3],\n",
       "       [6],\n",
       "       [2],\n",
       "       [6]])"
      ]
     },
     "execution_count": 16,
     "metadata": {},
     "output_type": "execute_result"
    }
   ],
   "source": [
    "dy"
   ]
  },
  {
   "cell_type": "code",
   "execution_count": null,
   "metadata": {},
   "outputs": [],
   "source": []
  }
 ],
 "metadata": {
  "accelerator": "GPU",
  "colab": {
   "collapsed_sections": [],
   "name": "kaggle_facial_keypoints_detector.ipynb",
   "provenance": [],
   "toc_visible": true,
   "version": "0.3.2"
  },
  "kernelspec": {
   "display_name": "Python 3",
   "language": "python",
   "name": "python3"
  },
  "language_info": {
   "codemirror_mode": {
    "name": "ipython",
    "version": 3
   },
   "file_extension": ".py",
   "mimetype": "text/x-python",
   "name": "python",
   "nbconvert_exporter": "python",
   "pygments_lexer": "ipython3",
   "version": "3.6.3"
  }
 },
 "nbformat": 4,
 "nbformat_minor": 1
}
