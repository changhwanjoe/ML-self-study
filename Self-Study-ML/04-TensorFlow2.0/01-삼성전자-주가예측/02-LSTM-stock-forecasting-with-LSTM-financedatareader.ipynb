{
 "cells": [
  {
   "cell_type": "markdown",
   "metadata": {},
   "source": [
    "# LSTM을 활용한 주가 예측 모델"
   ]
  },
  {
   "cell_type": "markdown",
   "metadata": {},
   "source": [
    "이번 튜토리얼 에서는 다음과 같은 **프로세스 파이프라인**으로 주가 예측을 진행합니다.\n",
    "\n",
    "- FinanceDataReader를 활용하여 주가 데이터 받아오기\n",
    "- TensorFlow Dataset 클래스를 활용하여 주가 데이터 구축\n",
    "- LSTM 을 활용한 주가 예측 모델 구축"
   ]
  },
  {
   "cell_type": "markdown",
   "metadata": {},
   "source": [
    "## 필요한 모듈 import"
   ]
  },
  {
   "cell_type": "code",
   "execution_count": 1,
   "metadata": {},
   "outputs": [],
   "source": [
    "import pandas as pd\n",
    "import numpy as np\n",
    "import matplotlib.pyplot as plt\n",
    "import seaborn as sns\n",
    "import warnings\n",
    "import os\n",
    "\n",
    "%matplotlib inline\n",
    "warnings.filterwarnings('ignore')\n",
    "\n",
    "plt.rcParams['font.family'] = 'NanumGothic'"
   ]
  },
  {
   "cell_type": "markdown",
   "metadata": {},
   "source": [
    "## 데이터 (FinanceDataReader)"
   ]
  },
  {
   "cell_type": "markdown",
   "metadata": {},
   "source": [
    "**FinanceDataReader**는 주가 데이터를 편리하게 가져올 수 있는 파이썬 패키지입니다.\n",
    "\n",
    "- [GitHub Repo](https://github.com/FinanceData/FinanceDataReader)"
   ]
  },
  {
   "cell_type": "markdown",
   "metadata": {},
   "source": [
    "**FinanceDataReader**가 아직 설치 되지 않으신 분들은 아래의 주석을 해제한 후 명령어로 설치해 주시기 바랍니다."
   ]
  },
  {
   "cell_type": "code",
   "execution_count": 2,
   "metadata": {},
   "outputs": [],
   "source": [
    "# !pip install finance-datareader"
   ]
  },
  {
   "cell_type": "code",
   "execution_count": 3,
   "metadata": {},
   "outputs": [],
   "source": [
    "import FinanceDataReader as fdr"
   ]
  },
  {
   "cell_type": "code",
   "execution_count": 4,
   "metadata": {},
   "outputs": [],
   "source": [
    "# 삼성전자(005930) 전체 (1996-11-05 ~ 현재)\n",
    "samsung = fdr.DataReader('005930')"
   ]
  },
  {
   "cell_type": "markdown",
   "metadata": {},
   "source": [
    "매우 편리하게 삼성전자 주가 데이터를 `DataFrame`형식으로 받아옵니다.\n",
    "\n",
    "기본 **오름차순 정렬**이 된 데이터임을 알 수 있습니다.\n",
    "\n",
    "### 컬럼 설명\n",
    "\n",
    "- `Open`:   시가\n",
    "- `High`:   고가\n",
    "- `Low`:    저가\n",
    "- `Close`:  종가\n",
    "- `Volume`: 거래량\n",
    "- `Change`: 대비"
   ]
  },
  {
   "cell_type": "code",
   "execution_count": 5,
   "metadata": {},
   "outputs": [
    {
     "data": {
      "text/html": [
       "<div>\n",
       "<style scoped>\n",
       "    .dataframe tbody tr th:only-of-type {\n",
       "        vertical-align: middle;\n",
       "    }\n",
       "\n",
       "    .dataframe tbody tr th {\n",
       "        vertical-align: top;\n",
       "    }\n",
       "\n",
       "    .dataframe thead th {\n",
       "        text-align: right;\n",
       "    }\n",
       "</style>\n",
       "<table border=\"1\" class=\"dataframe\">\n",
       "  <thead>\n",
       "    <tr style=\"text-align: right;\">\n",
       "      <th></th>\n",
       "      <th>Open</th>\n",
       "      <th>High</th>\n",
       "      <th>Low</th>\n",
       "      <th>Close</th>\n",
       "      <th>Volume</th>\n",
       "      <th>Change</th>\n",
       "    </tr>\n",
       "    <tr>\n",
       "      <th>Date</th>\n",
       "      <th></th>\n",
       "      <th></th>\n",
       "      <th></th>\n",
       "      <th></th>\n",
       "      <th></th>\n",
       "      <th></th>\n",
       "    </tr>\n",
       "  </thead>\n",
       "  <tbody>\n",
       "    <tr>\n",
       "      <th>2020-12-18</th>\n",
       "      <td>73300</td>\n",
       "      <td>73700</td>\n",
       "      <td>73000</td>\n",
       "      <td>73000</td>\n",
       "      <td>17613029</td>\n",
       "      <td>-0.004093</td>\n",
       "    </tr>\n",
       "    <tr>\n",
       "      <th>2020-12-21</th>\n",
       "      <td>73100</td>\n",
       "      <td>73400</td>\n",
       "      <td>72000</td>\n",
       "      <td>73000</td>\n",
       "      <td>20367355</td>\n",
       "      <td>0.000000</td>\n",
       "    </tr>\n",
       "    <tr>\n",
       "      <th>2020-12-22</th>\n",
       "      <td>72500</td>\n",
       "      <td>73200</td>\n",
       "      <td>72100</td>\n",
       "      <td>72300</td>\n",
       "      <td>16304910</td>\n",
       "      <td>-0.009589</td>\n",
       "    </tr>\n",
       "    <tr>\n",
       "      <th>2020-12-23</th>\n",
       "      <td>72400</td>\n",
       "      <td>74000</td>\n",
       "      <td>72300</td>\n",
       "      <td>73900</td>\n",
       "      <td>19411326</td>\n",
       "      <td>0.022130</td>\n",
       "    </tr>\n",
       "    <tr>\n",
       "      <th>2020-12-24</th>\n",
       "      <td>74100</td>\n",
       "      <td>78800</td>\n",
       "      <td>74000</td>\n",
       "      <td>77800</td>\n",
       "      <td>32317535</td>\n",
       "      <td>0.052774</td>\n",
       "    </tr>\n",
       "  </tbody>\n",
       "</table>\n",
       "</div>"
      ],
      "text/plain": [
       "             Open   High    Low  Close    Volume    Change\n",
       "Date                                                      \n",
       "2020-12-18  73300  73700  73000  73000  17613029 -0.004093\n",
       "2020-12-21  73100  73400  72000  73000  20367355  0.000000\n",
       "2020-12-22  72500  73200  72100  72300  16304910 -0.009589\n",
       "2020-12-23  72400  74000  72300  73900  19411326  0.022130\n",
       "2020-12-24  74100  78800  74000  77800  32317535  0.052774"
      ]
     },
     "execution_count": 5,
     "metadata": {},
     "output_type": "execute_result"
    }
   ],
   "source": [
    "samsung.tail()"
   ]
  },
  {
   "cell_type": "markdown",
   "metadata": {},
   "source": [
    "**미국 주식 데이터**도 가져올 수 있습니다."
   ]
  },
  {
   "cell_type": "code",
   "execution_count": 6,
   "metadata": {},
   "outputs": [],
   "source": [
    "# Apple(AAPL), 애플\n",
    "apple = fdr.DataReader('AAPL')"
   ]
  },
  {
   "cell_type": "code",
   "execution_count": 7,
   "metadata": {},
   "outputs": [
    {
     "data": {
      "text/html": [
       "<div>\n",
       "<style scoped>\n",
       "    .dataframe tbody tr th:only-of-type {\n",
       "        vertical-align: middle;\n",
       "    }\n",
       "\n",
       "    .dataframe tbody tr th {\n",
       "        vertical-align: top;\n",
       "    }\n",
       "\n",
       "    .dataframe thead th {\n",
       "        text-align: right;\n",
       "    }\n",
       "</style>\n",
       "<table border=\"1\" class=\"dataframe\">\n",
       "  <thead>\n",
       "    <tr style=\"text-align: right;\">\n",
       "      <th></th>\n",
       "      <th>Close</th>\n",
       "      <th>Open</th>\n",
       "      <th>High</th>\n",
       "      <th>Low</th>\n",
       "      <th>Volume</th>\n",
       "      <th>Change</th>\n",
       "    </tr>\n",
       "    <tr>\n",
       "      <th>Date</th>\n",
       "      <th></th>\n",
       "      <th></th>\n",
       "      <th></th>\n",
       "      <th></th>\n",
       "      <th></th>\n",
       "      <th></th>\n",
       "    </tr>\n",
       "  </thead>\n",
       "  <tbody>\n",
       "    <tr>\n",
       "      <th>2020-12-18</th>\n",
       "      <td>126.65</td>\n",
       "      <td>128.96</td>\n",
       "      <td>129.10</td>\n",
       "      <td>126.12</td>\n",
       "      <td>192540000.0</td>\n",
       "      <td>-0.0159</td>\n",
       "    </tr>\n",
       "    <tr>\n",
       "      <th>2020-12-21</th>\n",
       "      <td>128.23</td>\n",
       "      <td>125.03</td>\n",
       "      <td>128.26</td>\n",
       "      <td>123.47</td>\n",
       "      <td>121250000.0</td>\n",
       "      <td>0.0124</td>\n",
       "    </tr>\n",
       "    <tr>\n",
       "      <th>2020-12-22</th>\n",
       "      <td>131.88</td>\n",
       "      <td>131.68</td>\n",
       "      <td>134.40</td>\n",
       "      <td>129.66</td>\n",
       "      <td>169350000.0</td>\n",
       "      <td>0.0285</td>\n",
       "    </tr>\n",
       "    <tr>\n",
       "      <th>2020-12-23</th>\n",
       "      <td>130.96</td>\n",
       "      <td>132.18</td>\n",
       "      <td>132.32</td>\n",
       "      <td>130.83</td>\n",
       "      <td>88220000.0</td>\n",
       "      <td>-0.0070</td>\n",
       "    </tr>\n",
       "    <tr>\n",
       "      <th>2020-12-24</th>\n",
       "      <td>131.99</td>\n",
       "      <td>131.19</td>\n",
       "      <td>133.46</td>\n",
       "      <td>131.10</td>\n",
       "      <td>52790000.0</td>\n",
       "      <td>0.0079</td>\n",
       "    </tr>\n",
       "  </tbody>\n",
       "</table>\n",
       "</div>"
      ],
      "text/plain": [
       "             Close    Open    High     Low       Volume  Change\n",
       "Date                                                           \n",
       "2020-12-18  126.65  128.96  129.10  126.12  192540000.0 -0.0159\n",
       "2020-12-21  128.23  125.03  128.26  123.47  121250000.0  0.0124\n",
       "2020-12-22  131.88  131.68  134.40  129.66  169350000.0  0.0285\n",
       "2020-12-23  130.96  132.18  132.32  130.83   88220000.0 -0.0070\n",
       "2020-12-24  131.99  131.19  133.46  131.10   52790000.0  0.0079"
      ]
     },
     "execution_count": 7,
     "metadata": {},
     "output_type": "execute_result"
    }
   ],
   "source": [
    "apple.tail()"
   ]
  },
  {
   "cell_type": "markdown",
   "metadata": {},
   "source": [
    "다음과 같이 `2017`을 같이 넘겨주면, 해당 시점 이후의 주식 데이터를 가져옵니다."
   ]
  },
  {
   "cell_type": "code",
   "execution_count": 8,
   "metadata": {},
   "outputs": [],
   "source": [
    "# Apple(AAPL), 애플\n",
    "apple = fdr.DataReader('AAPL', '2017')"
   ]
  },
  {
   "cell_type": "code",
   "execution_count": 9,
   "metadata": {},
   "outputs": [
    {
     "data": {
      "text/html": [
       "<div>\n",
       "<style scoped>\n",
       "    .dataframe tbody tr th:only-of-type {\n",
       "        vertical-align: middle;\n",
       "    }\n",
       "\n",
       "    .dataframe tbody tr th {\n",
       "        vertical-align: top;\n",
       "    }\n",
       "\n",
       "    .dataframe thead th {\n",
       "        text-align: right;\n",
       "    }\n",
       "</style>\n",
       "<table border=\"1\" class=\"dataframe\">\n",
       "  <thead>\n",
       "    <tr style=\"text-align: right;\">\n",
       "      <th></th>\n",
       "      <th>Close</th>\n",
       "      <th>Open</th>\n",
       "      <th>High</th>\n",
       "      <th>Low</th>\n",
       "      <th>Volume</th>\n",
       "      <th>Change</th>\n",
       "    </tr>\n",
       "    <tr>\n",
       "      <th>Date</th>\n",
       "      <th></th>\n",
       "      <th></th>\n",
       "      <th></th>\n",
       "      <th></th>\n",
       "      <th></th>\n",
       "      <th></th>\n",
       "    </tr>\n",
       "  </thead>\n",
       "  <tbody>\n",
       "    <tr>\n",
       "      <th>2017-01-03</th>\n",
       "      <td>29.04</td>\n",
       "      <td>28.95</td>\n",
       "      <td>29.08</td>\n",
       "      <td>28.69</td>\n",
       "      <td>115130000.0</td>\n",
       "      <td>0.0031</td>\n",
       "    </tr>\n",
       "    <tr>\n",
       "      <th>2017-01-04</th>\n",
       "      <td>29.00</td>\n",
       "      <td>28.96</td>\n",
       "      <td>29.13</td>\n",
       "      <td>28.94</td>\n",
       "      <td>84470000.0</td>\n",
       "      <td>-0.0014</td>\n",
       "    </tr>\n",
       "    <tr>\n",
       "      <th>2017-01-05</th>\n",
       "      <td>29.15</td>\n",
       "      <td>28.98</td>\n",
       "      <td>29.22</td>\n",
       "      <td>28.95</td>\n",
       "      <td>88770000.0</td>\n",
       "      <td>0.0052</td>\n",
       "    </tr>\n",
       "    <tr>\n",
       "      <th>2017-01-06</th>\n",
       "      <td>29.48</td>\n",
       "      <td>29.20</td>\n",
       "      <td>29.54</td>\n",
       "      <td>29.12</td>\n",
       "      <td>127010000.0</td>\n",
       "      <td>0.0113</td>\n",
       "    </tr>\n",
       "    <tr>\n",
       "      <th>2017-01-09</th>\n",
       "      <td>29.75</td>\n",
       "      <td>29.49</td>\n",
       "      <td>29.86</td>\n",
       "      <td>29.48</td>\n",
       "      <td>134250000.0</td>\n",
       "      <td>0.0092</td>\n",
       "    </tr>\n",
       "  </tbody>\n",
       "</table>\n",
       "</div>"
      ],
      "text/plain": [
       "            Close   Open   High    Low       Volume  Change\n",
       "Date                                                       \n",
       "2017-01-03  29.04  28.95  29.08  28.69  115130000.0  0.0031\n",
       "2017-01-04  29.00  28.96  29.13  28.94   84470000.0 -0.0014\n",
       "2017-01-05  29.15  28.98  29.22  28.95   88770000.0  0.0052\n",
       "2017-01-06  29.48  29.20  29.54  29.12  127010000.0  0.0113\n",
       "2017-01-09  29.75  29.49  29.86  29.48  134250000.0  0.0092"
      ]
     },
     "execution_count": 9,
     "metadata": {},
     "output_type": "execute_result"
    }
   ],
   "source": [
    "apple.head()"
   ]
  },
  {
   "cell_type": "markdown",
   "metadata": {},
   "source": [
    "**시작**과 **끝** 날짜를 지정하여 범위 데이터를 가져올 수 있습니다."
   ]
  },
  {
   "cell_type": "code",
   "execution_count": 10,
   "metadata": {},
   "outputs": [],
   "source": [
    "# Ford(F), 1980-01-01 ~ 2019-12-30 (40년 데이터)\n",
    "ford = fdr.DataReader('F', '1980-01-01', '2019-12-30')"
   ]
  },
  {
   "cell_type": "code",
   "execution_count": 11,
   "metadata": {},
   "outputs": [
    {
     "data": {
      "text/html": [
       "<div>\n",
       "<style scoped>\n",
       "    .dataframe tbody tr th:only-of-type {\n",
       "        vertical-align: middle;\n",
       "    }\n",
       "\n",
       "    .dataframe tbody tr th {\n",
       "        vertical-align: top;\n",
       "    }\n",
       "\n",
       "    .dataframe thead th {\n",
       "        text-align: right;\n",
       "    }\n",
       "</style>\n",
       "<table border=\"1\" class=\"dataframe\">\n",
       "  <thead>\n",
       "    <tr style=\"text-align: right;\">\n",
       "      <th></th>\n",
       "      <th>Close</th>\n",
       "      <th>Open</th>\n",
       "      <th>High</th>\n",
       "      <th>Low</th>\n",
       "      <th>Volume</th>\n",
       "      <th>Change</th>\n",
       "    </tr>\n",
       "    <tr>\n",
       "      <th>Date</th>\n",
       "      <th></th>\n",
       "      <th></th>\n",
       "      <th></th>\n",
       "      <th></th>\n",
       "      <th></th>\n",
       "      <th></th>\n",
       "    </tr>\n",
       "  </thead>\n",
       "  <tbody>\n",
       "    <tr>\n",
       "      <th>1980-03-18</th>\n",
       "      <td>1.85</td>\n",
       "      <td>1.85</td>\n",
       "      <td>1.88</td>\n",
       "      <td>1.84</td>\n",
       "      <td>3770000.0</td>\n",
       "      <td>-0.0160</td>\n",
       "    </tr>\n",
       "    <tr>\n",
       "      <th>1980-03-19</th>\n",
       "      <td>1.87</td>\n",
       "      <td>1.87</td>\n",
       "      <td>1.88</td>\n",
       "      <td>1.85</td>\n",
       "      <td>1560000.0</td>\n",
       "      <td>0.0108</td>\n",
       "    </tr>\n",
       "    <tr>\n",
       "      <th>1980-03-20</th>\n",
       "      <td>1.88</td>\n",
       "      <td>1.88</td>\n",
       "      <td>1.90</td>\n",
       "      <td>1.87</td>\n",
       "      <td>1450000.0</td>\n",
       "      <td>0.0053</td>\n",
       "    </tr>\n",
       "    <tr>\n",
       "      <th>1980-03-21</th>\n",
       "      <td>1.80</td>\n",
       "      <td>1.80</td>\n",
       "      <td>1.87</td>\n",
       "      <td>1.78</td>\n",
       "      <td>5020000.0</td>\n",
       "      <td>-0.0426</td>\n",
       "    </tr>\n",
       "    <tr>\n",
       "      <th>1980-03-24</th>\n",
       "      <td>1.73</td>\n",
       "      <td>1.73</td>\n",
       "      <td>1.77</td>\n",
       "      <td>1.68</td>\n",
       "      <td>3330000.0</td>\n",
       "      <td>-0.0389</td>\n",
       "    </tr>\n",
       "  </tbody>\n",
       "</table>\n",
       "</div>"
      ],
      "text/plain": [
       "            Close  Open  High   Low     Volume  Change\n",
       "Date                                                  \n",
       "1980-03-18   1.85  1.85  1.88  1.84  3770000.0 -0.0160\n",
       "1980-03-19   1.87  1.87  1.88  1.85  1560000.0  0.0108\n",
       "1980-03-20   1.88  1.88  1.90  1.87  1450000.0  0.0053\n",
       "1980-03-21   1.80  1.80  1.87  1.78  5020000.0 -0.0426\n",
       "1980-03-24   1.73  1.73  1.77  1.68  3330000.0 -0.0389"
      ]
     },
     "execution_count": 11,
     "metadata": {},
     "output_type": "execute_result"
    }
   ],
   "source": [
    "ford.head()"
   ]
  },
  {
   "cell_type": "code",
   "execution_count": 12,
   "metadata": {},
   "outputs": [
    {
     "data": {
      "text/html": [
       "<div>\n",
       "<style scoped>\n",
       "    .dataframe tbody tr th:only-of-type {\n",
       "        vertical-align: middle;\n",
       "    }\n",
       "\n",
       "    .dataframe tbody tr th {\n",
       "        vertical-align: top;\n",
       "    }\n",
       "\n",
       "    .dataframe thead th {\n",
       "        text-align: right;\n",
       "    }\n",
       "</style>\n",
       "<table border=\"1\" class=\"dataframe\">\n",
       "  <thead>\n",
       "    <tr style=\"text-align: right;\">\n",
       "      <th></th>\n",
       "      <th>Close</th>\n",
       "      <th>Open</th>\n",
       "      <th>High</th>\n",
       "      <th>Low</th>\n",
       "      <th>Volume</th>\n",
       "      <th>Change</th>\n",
       "    </tr>\n",
       "    <tr>\n",
       "      <th>Date</th>\n",
       "      <th></th>\n",
       "      <th></th>\n",
       "      <th></th>\n",
       "      <th></th>\n",
       "      <th></th>\n",
       "      <th></th>\n",
       "    </tr>\n",
       "  </thead>\n",
       "  <tbody>\n",
       "    <tr>\n",
       "      <th>2019-12-23</th>\n",
       "      <td>9.44</td>\n",
       "      <td>9.50</td>\n",
       "      <td>9.57</td>\n",
       "      <td>9.40</td>\n",
       "      <td>54800000.0</td>\n",
       "      <td>-0.0042</td>\n",
       "    </tr>\n",
       "    <tr>\n",
       "      <th>2019-12-24</th>\n",
       "      <td>9.47</td>\n",
       "      <td>9.44</td>\n",
       "      <td>9.49</td>\n",
       "      <td>9.43</td>\n",
       "      <td>11880000.0</td>\n",
       "      <td>0.0032</td>\n",
       "    </tr>\n",
       "    <tr>\n",
       "      <th>2019-12-26</th>\n",
       "      <td>9.45</td>\n",
       "      <td>9.47</td>\n",
       "      <td>9.49</td>\n",
       "      <td>9.43</td>\n",
       "      <td>28980000.0</td>\n",
       "      <td>-0.0021</td>\n",
       "    </tr>\n",
       "    <tr>\n",
       "      <th>2019-12-27</th>\n",
       "      <td>9.36</td>\n",
       "      <td>9.45</td>\n",
       "      <td>9.46</td>\n",
       "      <td>9.35</td>\n",
       "      <td>28270000.0</td>\n",
       "      <td>-0.0095</td>\n",
       "    </tr>\n",
       "    <tr>\n",
       "      <th>2019-12-30</th>\n",
       "      <td>9.25</td>\n",
       "      <td>9.34</td>\n",
       "      <td>9.35</td>\n",
       "      <td>9.23</td>\n",
       "      <td>36090000.0</td>\n",
       "      <td>-0.0118</td>\n",
       "    </tr>\n",
       "  </tbody>\n",
       "</table>\n",
       "</div>"
      ],
      "text/plain": [
       "            Close  Open  High   Low      Volume  Change\n",
       "Date                                                   \n",
       "2019-12-23   9.44  9.50  9.57  9.40  54800000.0 -0.0042\n",
       "2019-12-24   9.47  9.44  9.49  9.43  11880000.0  0.0032\n",
       "2019-12-26   9.45  9.47  9.49  9.43  28980000.0 -0.0021\n",
       "2019-12-27   9.36  9.45  9.46  9.35  28270000.0 -0.0095\n",
       "2019-12-30   9.25  9.34  9.35  9.23  36090000.0 -0.0118"
      ]
     },
     "execution_count": 12,
     "metadata": {},
     "output_type": "execute_result"
    }
   ],
   "source": [
    "ford.tail()"
   ]
  },
  {
   "cell_type": "markdown",
   "metadata": {},
   "source": [
    "그 밖에 **금, 은과 같은 현물**, **달러와 같은 화폐** 데이터도 가져올 수 있습니다."
   ]
  },
  {
   "cell_type": "markdown",
   "metadata": {},
   "source": [
    "더욱 자세한 내용은 [GitHub 페이지 링크](https://github.com/FinanceData/FinanceDataReader)를 참고해 보시기 바랍니다."
   ]
  },
  {
   "cell_type": "markdown",
   "metadata": {
    "colab": {},
    "colab_type": "code",
    "id": "RJtxeKQm0l2w"
   },
   "source": [
    "## 주가데이터 가져오기"
   ]
  },
  {
   "cell_type": "markdown",
   "metadata": {},
   "source": [
    "지난 주식 예측 튜토리얼에서는 **삼성전자** 주가데이터로 실습을 해봤으니, \n",
    "\n",
    "이번에는 글로벌 증시의 대장주인 **Apple**사의 주가데이터를 가져와서 예측해 보도록 하겠습니다."
   ]
  },
  {
   "cell_type": "code",
   "execution_count": 13,
   "metadata": {},
   "outputs": [],
   "source": [
    "# 삼성전자 주식코드: 005930\n",
    "STOCK_CODE = '005930'"
   ]
  },
  {
   "cell_type": "code",
   "execution_count": 14,
   "metadata": {},
   "outputs": [],
   "source": [
    "stock = fdr.DataReader(STOCK_CODE)"
   ]
  },
  {
   "cell_type": "code",
   "execution_count": 15,
   "metadata": {},
   "outputs": [
    {
     "data": {
      "text/html": [
       "<div>\n",
       "<style scoped>\n",
       "    .dataframe tbody tr th:only-of-type {\n",
       "        vertical-align: middle;\n",
       "    }\n",
       "\n",
       "    .dataframe tbody tr th {\n",
       "        vertical-align: top;\n",
       "    }\n",
       "\n",
       "    .dataframe thead th {\n",
       "        text-align: right;\n",
       "    }\n",
       "</style>\n",
       "<table border=\"1\" class=\"dataframe\">\n",
       "  <thead>\n",
       "    <tr style=\"text-align: right;\">\n",
       "      <th></th>\n",
       "      <th>Open</th>\n",
       "      <th>High</th>\n",
       "      <th>Low</th>\n",
       "      <th>Close</th>\n",
       "      <th>Volume</th>\n",
       "      <th>Change</th>\n",
       "    </tr>\n",
       "    <tr>\n",
       "      <th>Date</th>\n",
       "      <th></th>\n",
       "      <th></th>\n",
       "      <th></th>\n",
       "      <th></th>\n",
       "      <th></th>\n",
       "      <th></th>\n",
       "    </tr>\n",
       "  </thead>\n",
       "  <tbody>\n",
       "    <tr>\n",
       "      <th>1997-01-20</th>\n",
       "      <td>800</td>\n",
       "      <td>844</td>\n",
       "      <td>800</td>\n",
       "      <td>838</td>\n",
       "      <td>91310</td>\n",
       "      <td>NaN</td>\n",
       "    </tr>\n",
       "    <tr>\n",
       "      <th>1997-01-21</th>\n",
       "      <td>844</td>\n",
       "      <td>844</td>\n",
       "      <td>803</td>\n",
       "      <td>809</td>\n",
       "      <td>81800</td>\n",
       "      <td>-0.034606</td>\n",
       "    </tr>\n",
       "    <tr>\n",
       "      <th>1997-01-22</th>\n",
       "      <td>805</td>\n",
       "      <td>805</td>\n",
       "      <td>782</td>\n",
       "      <td>786</td>\n",
       "      <td>81910</td>\n",
       "      <td>-0.028430</td>\n",
       "    </tr>\n",
       "    <tr>\n",
       "      <th>1997-01-23</th>\n",
       "      <td>786</td>\n",
       "      <td>798</td>\n",
       "      <td>770</td>\n",
       "      <td>776</td>\n",
       "      <td>74200</td>\n",
       "      <td>-0.012723</td>\n",
       "    </tr>\n",
       "    <tr>\n",
       "      <th>1997-01-24</th>\n",
       "      <td>745</td>\n",
       "      <td>793</td>\n",
       "      <td>745</td>\n",
       "      <td>783</td>\n",
       "      <td>98260</td>\n",
       "      <td>0.009021</td>\n",
       "    </tr>\n",
       "  </tbody>\n",
       "</table>\n",
       "</div>"
      ],
      "text/plain": [
       "            Open  High  Low  Close  Volume    Change\n",
       "Date                                                \n",
       "1997-01-20   800   844  800    838   91310       NaN\n",
       "1997-01-21   844   844  803    809   81800 -0.034606\n",
       "1997-01-22   805   805  782    786   81910 -0.028430\n",
       "1997-01-23   786   798  770    776   74200 -0.012723\n",
       "1997-01-24   745   793  745    783   98260  0.009021"
      ]
     },
     "execution_count": 15,
     "metadata": {},
     "output_type": "execute_result"
    }
   ],
   "source": [
    "stock.head()"
   ]
  },
  {
   "cell_type": "code",
   "execution_count": 16,
   "metadata": {},
   "outputs": [
    {
     "data": {
      "text/html": [
       "<div>\n",
       "<style scoped>\n",
       "    .dataframe tbody tr th:only-of-type {\n",
       "        vertical-align: middle;\n",
       "    }\n",
       "\n",
       "    .dataframe tbody tr th {\n",
       "        vertical-align: top;\n",
       "    }\n",
       "\n",
       "    .dataframe thead th {\n",
       "        text-align: right;\n",
       "    }\n",
       "</style>\n",
       "<table border=\"1\" class=\"dataframe\">\n",
       "  <thead>\n",
       "    <tr style=\"text-align: right;\">\n",
       "      <th></th>\n",
       "      <th>Open</th>\n",
       "      <th>High</th>\n",
       "      <th>Low</th>\n",
       "      <th>Close</th>\n",
       "      <th>Volume</th>\n",
       "      <th>Change</th>\n",
       "    </tr>\n",
       "    <tr>\n",
       "      <th>Date</th>\n",
       "      <th></th>\n",
       "      <th></th>\n",
       "      <th></th>\n",
       "      <th></th>\n",
       "      <th></th>\n",
       "      <th></th>\n",
       "    </tr>\n",
       "  </thead>\n",
       "  <tbody>\n",
       "    <tr>\n",
       "      <th>2020-12-18</th>\n",
       "      <td>73300</td>\n",
       "      <td>73700</td>\n",
       "      <td>73000</td>\n",
       "      <td>73000</td>\n",
       "      <td>17613029</td>\n",
       "      <td>-0.004093</td>\n",
       "    </tr>\n",
       "    <tr>\n",
       "      <th>2020-12-21</th>\n",
       "      <td>73100</td>\n",
       "      <td>73400</td>\n",
       "      <td>72000</td>\n",
       "      <td>73000</td>\n",
       "      <td>20367355</td>\n",
       "      <td>0.000000</td>\n",
       "    </tr>\n",
       "    <tr>\n",
       "      <th>2020-12-22</th>\n",
       "      <td>72500</td>\n",
       "      <td>73200</td>\n",
       "      <td>72100</td>\n",
       "      <td>72300</td>\n",
       "      <td>16304910</td>\n",
       "      <td>-0.009589</td>\n",
       "    </tr>\n",
       "    <tr>\n",
       "      <th>2020-12-23</th>\n",
       "      <td>72400</td>\n",
       "      <td>74000</td>\n",
       "      <td>72300</td>\n",
       "      <td>73900</td>\n",
       "      <td>19411326</td>\n",
       "      <td>0.022130</td>\n",
       "    </tr>\n",
       "    <tr>\n",
       "      <th>2020-12-24</th>\n",
       "      <td>74100</td>\n",
       "      <td>78800</td>\n",
       "      <td>74000</td>\n",
       "      <td>77800</td>\n",
       "      <td>32317535</td>\n",
       "      <td>0.052774</td>\n",
       "    </tr>\n",
       "  </tbody>\n",
       "</table>\n",
       "</div>"
      ],
      "text/plain": [
       "             Open   High    Low  Close    Volume    Change\n",
       "Date                                                      \n",
       "2020-12-18  73300  73700  73000  73000  17613029 -0.004093\n",
       "2020-12-21  73100  73400  72000  73000  20367355  0.000000\n",
       "2020-12-22  72500  73200  72100  72300  16304910 -0.009589\n",
       "2020-12-23  72400  74000  72300  73900  19411326  0.022130\n",
       "2020-12-24  74100  78800  74000  77800  32317535  0.052774"
      ]
     },
     "execution_count": 16,
     "metadata": {},
     "output_type": "execute_result"
    }
   ],
   "source": [
    "stock.tail()"
   ]
  },
  {
   "cell_type": "code",
   "execution_count": 17,
   "metadata": {},
   "outputs": [
    {
     "data": {
      "text/plain": [
       "DatetimeIndex(['1997-01-20', '1997-01-21', '1997-01-22', '1997-01-23',\n",
       "               '1997-01-24', '1997-01-25', '1997-01-27', '1997-01-28',\n",
       "               '1997-01-29', '1997-01-30',\n",
       "               ...\n",
       "               '2020-12-11', '2020-12-14', '2020-12-15', '2020-12-16',\n",
       "               '2020-12-17', '2020-12-18', '2020-12-21', '2020-12-22',\n",
       "               '2020-12-23', '2020-12-24'],\n",
       "              dtype='datetime64[ns]', name='Date', length=6000, freq=None)"
      ]
     },
     "execution_count": 17,
     "metadata": {},
     "output_type": "execute_result"
    }
   ],
   "source": [
    "stock.index"
   ]
  },
  {
   "cell_type": "markdown",
   "metadata": {},
   "source": [
    "위에서 보시는 바와 같이 index가 `DatetimeIndex`로 지정되어 있습니다.\n",
    "\n",
    "`DatetimeIndex`로 정의되어 있다면, 아래와 같이 연도, 월, 일을 쪼갤 수 있으며, **월별, 연도별 피벗데이터**를 만들때 유용하게 활용할 수 있습니다."
   ]
  },
  {
   "cell_type": "code",
   "execution_count": 18,
   "metadata": {
    "colab": {},
    "colab_type": "code",
    "id": "fif43Fh-0l4L"
   },
   "outputs": [],
   "source": [
    "stock['Year'] = stock.index.year\n",
    "stock['Month'] = stock.index.month\n",
    "stock['Day'] = stock.index.day"
   ]
  },
  {
   "cell_type": "code",
   "execution_count": 19,
   "metadata": {
    "colab": {
     "base_uri": "https://localhost:8080/",
     "height": 198
    },
    "colab_type": "code",
    "id": "0yAKE9Ag0l4S",
    "outputId": "e7470fde-813c-4e25-9779-53f92ec20bfc"
   },
   "outputs": [
    {
     "data": {
      "text/html": [
       "<div>\n",
       "<style scoped>\n",
       "    .dataframe tbody tr th:only-of-type {\n",
       "        vertical-align: middle;\n",
       "    }\n",
       "\n",
       "    .dataframe tbody tr th {\n",
       "        vertical-align: top;\n",
       "    }\n",
       "\n",
       "    .dataframe thead th {\n",
       "        text-align: right;\n",
       "    }\n",
       "</style>\n",
       "<table border=\"1\" class=\"dataframe\">\n",
       "  <thead>\n",
       "    <tr style=\"text-align: right;\">\n",
       "      <th></th>\n",
       "      <th>Open</th>\n",
       "      <th>High</th>\n",
       "      <th>Low</th>\n",
       "      <th>Close</th>\n",
       "      <th>Volume</th>\n",
       "      <th>Change</th>\n",
       "      <th>Year</th>\n",
       "      <th>Month</th>\n",
       "      <th>Day</th>\n",
       "    </tr>\n",
       "    <tr>\n",
       "      <th>Date</th>\n",
       "      <th></th>\n",
       "      <th></th>\n",
       "      <th></th>\n",
       "      <th></th>\n",
       "      <th></th>\n",
       "      <th></th>\n",
       "      <th></th>\n",
       "      <th></th>\n",
       "      <th></th>\n",
       "    </tr>\n",
       "  </thead>\n",
       "  <tbody>\n",
       "    <tr>\n",
       "      <th>1997-01-20</th>\n",
       "      <td>800</td>\n",
       "      <td>844</td>\n",
       "      <td>800</td>\n",
       "      <td>838</td>\n",
       "      <td>91310</td>\n",
       "      <td>NaN</td>\n",
       "      <td>1997</td>\n",
       "      <td>1</td>\n",
       "      <td>20</td>\n",
       "    </tr>\n",
       "    <tr>\n",
       "      <th>1997-01-21</th>\n",
       "      <td>844</td>\n",
       "      <td>844</td>\n",
       "      <td>803</td>\n",
       "      <td>809</td>\n",
       "      <td>81800</td>\n",
       "      <td>-0.034606</td>\n",
       "      <td>1997</td>\n",
       "      <td>1</td>\n",
       "      <td>21</td>\n",
       "    </tr>\n",
       "    <tr>\n",
       "      <th>1997-01-22</th>\n",
       "      <td>805</td>\n",
       "      <td>805</td>\n",
       "      <td>782</td>\n",
       "      <td>786</td>\n",
       "      <td>81910</td>\n",
       "      <td>-0.028430</td>\n",
       "      <td>1997</td>\n",
       "      <td>1</td>\n",
       "      <td>22</td>\n",
       "    </tr>\n",
       "    <tr>\n",
       "      <th>1997-01-23</th>\n",
       "      <td>786</td>\n",
       "      <td>798</td>\n",
       "      <td>770</td>\n",
       "      <td>776</td>\n",
       "      <td>74200</td>\n",
       "      <td>-0.012723</td>\n",
       "      <td>1997</td>\n",
       "      <td>1</td>\n",
       "      <td>23</td>\n",
       "    </tr>\n",
       "    <tr>\n",
       "      <th>1997-01-24</th>\n",
       "      <td>745</td>\n",
       "      <td>793</td>\n",
       "      <td>745</td>\n",
       "      <td>783</td>\n",
       "      <td>98260</td>\n",
       "      <td>0.009021</td>\n",
       "      <td>1997</td>\n",
       "      <td>1</td>\n",
       "      <td>24</td>\n",
       "    </tr>\n",
       "  </tbody>\n",
       "</table>\n",
       "</div>"
      ],
      "text/plain": [
       "            Open  High  Low  Close  Volume    Change  Year  Month  Day\n",
       "Date                                                                  \n",
       "1997-01-20   800   844  800    838   91310       NaN  1997      1   20\n",
       "1997-01-21   844   844  803    809   81800 -0.034606  1997      1   21\n",
       "1997-01-22   805   805  782    786   81910 -0.028430  1997      1   22\n",
       "1997-01-23   786   798  770    776   74200 -0.012723  1997      1   23\n",
       "1997-01-24   745   793  745    783   98260  0.009021  1997      1   24"
      ]
     },
     "execution_count": 19,
     "metadata": {},
     "output_type": "execute_result"
    }
   ],
   "source": [
    "stock.head()"
   ]
  },
  {
   "cell_type": "markdown",
   "metadata": {
    "colab_type": "text",
    "id": "5FBTlube0l4d"
   },
   "source": [
    "## 시각화"
   ]
  },
  {
   "cell_type": "code",
   "execution_count": 20,
   "metadata": {
    "colab": {
     "base_uri": "https://localhost:8080/",
     "height": 571
    },
    "colab_type": "code",
    "id": "MWcaWEa80l4o",
    "outputId": "5e77a9be-a7fa-4c14-b7fb-4bec85e92448"
   },
   "outputs": [
    {
     "data": {
      "text/plain": [
       "Text(0, 0.5, 'price')"
      ]
     },
     "execution_count": 20,
     "metadata": {},
     "output_type": "execute_result"
    },
    {
     "data": {
      "image/png": "[encoded data removed]",
      "text/plain": [
       "<Figure size 1152x648 with 1 Axes>"
      ]
     },
     "metadata": {},
     "output_type": "display_data"
    }
   ],
   "source": [
    "plt.figure(figsize=(16, 9))\n",
    "sns.lineplot(y=stock['Close'], x=stock.index)\n",
    "plt.xlabel('time')\n",
    "plt.ylabel('price')"
   ]
  },
  {
   "cell_type": "code",
   "execution_count": 22,
   "metadata": {},
   "outputs": [
    {
     "data": {
      "image/png": "[encoded data removed]",
      "text/plain": [
       "<Figure size 1152x648 with 4 Axes>"
      ]
     },
     "metadata": {},
     "output_type": "display_data"
    }
   ],
   "source": [
    "time_steps = [['1990', '2000'], \n",
    "              ['2000', '2010'], \n",
    "              ['2010', '2015'], \n",
    "              ['2015', '2020']]\n",
    "\n",
    "fig, axes = plt.subplots(2, 2)\n",
    "fig.set_size_inches(16, 9)\n",
    "for i in range(4):\n",
    "    ax = axes[i//2, i%2]\n",
    "    df = stock.loc[(stock.index > time_steps[i][0]) & (stock.index < time_steps[i][1])]\n",
    "    sns.lineplot(y=df['Close'], x=df.index, ax=ax)\n",
    "    ax.set_title(f'{time_steps[i][0]}~{time_steps[i][1]}')\n",
    "    ax.set_xlabel('time')\n",
    "    ax.set_ylabel('price')\n",
    "plt.tight_layout()\n",
    "plt.show()"
   ]
  },
  {
   "cell_type": "markdown",
   "metadata": {},
   "source": [
    "## 데이터 전처리"
   ]
  },
  {
   "cell_type": "markdown",
   "metadata": {},
   "source": [
    "주가 데이터에 대하여 딥러닝 모델이 더 잘 학습할 수 있도록 **정규화(Normalization)**를 해주도록 하겠습니다.\n",
    "\n",
    "**표준화 (Standardization)**와 **정규화(Normalization)**에 대한 내용은 아래 링크에서 더 자세히 다루니, 참고해 보시기 바랍니다.\n",
    "\n",
    "- [데이터 전처리에 관하여](https://teddylee777.github.io/scikit-learn/scikit-learn-preprocessing)"
   ]
  },
  {
   "cell_type": "code",
   "execution_count": 23,
   "metadata": {
    "colab": {},
    "colab_type": "code",
    "id": "4-4PgRMZ0l5Q"
   },
   "outputs": [
    {
     "data": {
      "text/plain": [
       "array([[0.01079622, 0.01071066, 0.01081081, 0.00273412, 0.00143815],\n",
       "       [0.01139001, 0.01071066, 0.01085135, 0.00235834, 0.00128837],\n",
       "       [0.0108637 , 0.01021574, 0.01056757, 0.00206031, 0.0012901 ],\n",
       "       ...,\n",
       "       [0.97840756, 0.92893401, 0.97432432, 0.92873155, 0.25680619],\n",
       "       [0.97705803, 0.93908629, 0.97702703, 0.94946419, 0.30573298],\n",
       "       [1.        , 1.        , 1.        , 1.        , 0.50900883]])"
      ]
     },
     "execution_count": 23,
     "metadata": {},
     "output_type": "execute_result"
    }
   ],
   "source": [
    "from sklearn.preprocessing import MinMaxScaler\n",
    "\n",
    "scaler = MinMaxScaler()\n",
    "# 스케일을 적용할 column을 정의합니다.\n",
    "scale_cols = ['Open', 'High', 'Low', 'Close', 'Volume']\n",
    "# 스케일 후 columns\n",
    "scaled = scaler.fit_transform(stock[scale_cols])\n",
    "scaled"
   ]
  },
  {
   "cell_type": "markdown",
   "metadata": {},
   "source": [
    "스케일이 완료된 column으로 새로운 데이터프레임을 생성합니다.\n",
    "\n",
    "**시간 순으로 정렬**되어 있으며, datetime index는 제외했습니다.\n",
    "\n",
    "*6,000개의 row, 5개 column*으로 이루어진 데이터셋이 DataFrame으로 정리되었습니다."
   ]
  },
  {
   "cell_type": "code",
   "execution_count": 24,
   "metadata": {
    "colab": {},
    "colab_type": "code",
    "id": "dIJjE21B0l5m"
   },
   "outputs": [],
   "source": [
    "df = pd.DataFrame(scaled, columns=scale_cols)"
   ]
  },
  {
   "cell_type": "markdown",
   "metadata": {},
   "source": [
    "## train / test 분할"
   ]
  },
  {
   "cell_type": "code",
   "execution_count": 25,
   "metadata": {},
   "outputs": [],
   "source": [
    "from sklearn.model_selection import train_test_split"
   ]
  },
  {
   "cell_type": "code",
   "execution_count": 26,
   "metadata": {},
   "outputs": [],
   "source": [
    "x_train, x_test, y_train, y_test = train_test_split(df.drop('Close', 1), df['Close'], test_size=0.2, random_state=0, shuffle=False)"
   ]
  },
  {
   "cell_type": "code",
   "execution_count": 27,
   "metadata": {},
   "outputs": [
    {
     "data": {
      "text/plain": [
       "((4800, 4), (4800,))"
      ]
     },
     "execution_count": 27,
     "metadata": {},
     "output_type": "execute_result"
    }
   ],
   "source": [
    "x_train.shape, y_train.shape"
   ]
  },
  {
   "cell_type": "code",
   "execution_count": 28,
   "metadata": {},
   "outputs": [
    {
     "data": {
      "text/plain": [
       "((1200, 4), (1200,))"
      ]
     },
     "execution_count": 28,
     "metadata": {},
     "output_type": "execute_result"
    }
   ],
   "source": [
    "x_test.shape, y_test.shape"
   ]
  },
  {
   "cell_type": "code",
   "execution_count": 29,
   "metadata": {},
   "outputs": [
    {
     "data": {
      "text/html": [
       "<div>\n",
       "<style scoped>\n",
       "    .dataframe tbody tr th:only-of-type {\n",
       "        vertical-align: middle;\n",
       "    }\n",
       "\n",
       "    .dataframe tbody tr th {\n",
       "        vertical-align: top;\n",
       "    }\n",
       "\n",
       "    .dataframe thead th {\n",
       "        text-align: right;\n",
       "    }\n",
       "</style>\n",
       "<table border=\"1\" class=\"dataframe\">\n",
       "  <thead>\n",
       "    <tr style=\"text-align: right;\">\n",
       "      <th></th>\n",
       "      <th>Open</th>\n",
       "      <th>High</th>\n",
       "      <th>Low</th>\n",
       "      <th>Volume</th>\n",
       "    </tr>\n",
       "  </thead>\n",
       "  <tbody>\n",
       "    <tr>\n",
       "      <th>0</th>\n",
       "      <td>0.010796</td>\n",
       "      <td>0.010711</td>\n",
       "      <td>0.010811</td>\n",
       "      <td>0.001438</td>\n",
       "    </tr>\n",
       "    <tr>\n",
       "      <th>1</th>\n",
       "      <td>0.011390</td>\n",
       "      <td>0.010711</td>\n",
       "      <td>0.010851</td>\n",
       "      <td>0.001288</td>\n",
       "    </tr>\n",
       "    <tr>\n",
       "      <th>2</th>\n",
       "      <td>0.010864</td>\n",
       "      <td>0.010216</td>\n",
       "      <td>0.010568</td>\n",
       "      <td>0.001290</td>\n",
       "    </tr>\n",
       "    <tr>\n",
       "      <th>3</th>\n",
       "      <td>0.010607</td>\n",
       "      <td>0.010127</td>\n",
       "      <td>0.010405</td>\n",
       "      <td>0.001169</td>\n",
       "    </tr>\n",
       "    <tr>\n",
       "      <th>4</th>\n",
       "      <td>0.010054</td>\n",
       "      <td>0.010063</td>\n",
       "      <td>0.010068</td>\n",
       "      <td>0.001548</td>\n",
       "    </tr>\n",
       "    <tr>\n",
       "      <th>...</th>\n",
       "      <td>...</td>\n",
       "      <td>...</td>\n",
       "      <td>...</td>\n",
       "      <td>...</td>\n",
       "    </tr>\n",
       "    <tr>\n",
       "      <th>4795</th>\n",
       "      <td>0.307692</td>\n",
       "      <td>0.291878</td>\n",
       "      <td>0.301622</td>\n",
       "      <td>0.006883</td>\n",
       "    </tr>\n",
       "    <tr>\n",
       "      <th>4796</th>\n",
       "      <td>0.310931</td>\n",
       "      <td>0.295178</td>\n",
       "      <td>0.311081</td>\n",
       "      <td>0.004095</td>\n",
       "    </tr>\n",
       "    <tr>\n",
       "      <th>4797</th>\n",
       "      <td>0.313360</td>\n",
       "      <td>0.295939</td>\n",
       "      <td>0.310000</td>\n",
       "      <td>0.002620</td>\n",
       "    </tr>\n",
       "    <tr>\n",
       "      <th>4798</th>\n",
       "      <td>0.310391</td>\n",
       "      <td>0.292386</td>\n",
       "      <td>0.307297</td>\n",
       "      <td>0.002749</td>\n",
       "    </tr>\n",
       "    <tr>\n",
       "      <th>4799</th>\n",
       "      <td>0.310391</td>\n",
       "      <td>0.294670</td>\n",
       "      <td>0.310270</td>\n",
       "      <td>0.003905</td>\n",
       "    </tr>\n",
       "  </tbody>\n",
       "</table>\n",
       "<p>4800 rows × 4 columns</p>\n",
       "</div>"
      ],
      "text/plain": [
       "          Open      High       Low    Volume\n",
       "0     0.010796  0.010711  0.010811  0.001438\n",
       "1     0.011390  0.010711  0.010851  0.001288\n",
       "2     0.010864  0.010216  0.010568  0.001290\n",
       "3     0.010607  0.010127  0.010405  0.001169\n",
       "4     0.010054  0.010063  0.010068  0.001548\n",
       "...        ...       ...       ...       ...\n",
       "4795  0.307692  0.291878  0.301622  0.006883\n",
       "4796  0.310931  0.295178  0.311081  0.004095\n",
       "4797  0.313360  0.295939  0.310000  0.002620\n",
       "4798  0.310391  0.292386  0.307297  0.002749\n",
       "4799  0.310391  0.294670  0.310270  0.003905\n",
       "\n",
       "[4800 rows x 4 columns]"
      ]
     },
     "execution_count": 29,
     "metadata": {},
     "output_type": "execute_result"
    }
   ],
   "source": [
    "x_train"
   ]
  },
  {
   "cell_type": "markdown",
   "metadata": {},
   "source": [
    "## TensroFlow Dataset을 활용한 시퀀스 데이터셋 구성"
   ]
  },
  {
   "cell_type": "code",
   "execution_count": 30,
   "metadata": {},
   "outputs": [],
   "source": [
    "import tensorflow as tf"
   ]
  },
  {
   "cell_type": "code",
   "execution_count": 65,
   "metadata": {},
   "outputs": [],
   "source": [
    "def windowed_dataset(series, window_size, batch_size, shuffle):\n",
    "    series = tf.expand_dims(series, axis=-1)\n",
    "    ds = tf.data.Dataset.from_tensor_slices(series)\n",
    "    ds = ds.window(window_size + 1, shift=1, drop_remainder=True)\n",
    "    ds = ds.flat_map(lambda w: w.batch(window_size + 1))\n",
    "    if shuffle:\n",
    "        ds = ds.shuffle(1000)\n",
    "    ds = ds.map(lambda w: (w[:-1], w[-1]))\n",
    "    return ds.batch(batch_size).prefetch(1)"
   ]
  },
  {
   "cell_type": "markdown",
   "metadata": {},
   "source": [
    "Hyperparameter를 정의합니다."
   ]
  },
  {
   "cell_type": "code",
   "execution_count": 66,
   "metadata": {},
   "outputs": [],
   "source": [
    "WINDOW_SIZE=20\n",
    "BATCH_SIZE=32"
   ]
  },
  {
   "cell_type": "code",
   "execution_count": 67,
   "metadata": {},
   "outputs": [],
   "source": [
    "# trian_data는 학습용 데이터셋, test_data는 검증용 데이터셋 입니다.\n",
    "train_data = windowed_dataset(y_train, WINDOW_SIZE, BATCH_SIZE, True)\n",
    "test_data = windowed_dataset(y_test, WINDOW_SIZE, BATCH_SIZE, False)"
   ]
  },
  {
   "cell_type": "code",
   "execution_count": 198,
   "metadata": {},
   "outputs": [
    {
     "name": "stdout",
     "output_type": "stream",
     "text": [
      "데이터셋(X) 구성(batch_size, window_size, feature갯수): (32, 20, 1)\n",
      "데이터셋(Y) 구성(batch_size, window_size, feature갯수): (32, 1)\n"
     ]
    }
   ],
   "source": [
    "# 아래의 코드로 데이터셋의 구성을 확인해 볼 수 있습니다.\n",
    "# X: (batch_size, window_size, feature)\n",
    "# Y: (batch_size, feature)\n",
    "for data in train_data.take(1):\n",
    "    print(f'데이터셋(X) 구성(batch_size, window_size, feature갯수): {data[0].shape}')\n",
    "    print(f'데이터셋(Y) 구성(batch_size, window_size, feature갯수): {data[1].shape}')"
   ]
  },
  {
   "cell_type": "markdown",
   "metadata": {},
   "source": [
    "## 모델"
   ]
  },
  {
   "cell_type": "code",
   "execution_count": 246,
   "metadata": {
    "colab": {
     "base_uri": "https://localhost:8080/",
     "height": 192
    },
    "colab_type": "code",
    "id": "mAkmGu1j0l8M",
    "outputId": "85fc9629-8a06-4704-c644-124071e354ab"
   },
   "outputs": [],
   "source": [
    "from tensorflow.keras.models import Sequential\n",
    "from tensorflow.keras.layers import Dense, LSTM, Conv1D, Lambda\n",
    "from tensorflow.keras.losses import Huber\n",
    "from tensorflow.keras.optimizers import Adam\n",
    "from tensorflow.keras.callbacks import EarlyStopping, ModelCheckpoint\n",
    "\n",
    "\n",
    "model = Sequential([\n",
    "    # 1차원 feature map 생성\n",
    "    Conv1D(filters=32, kernel_size=5,\n",
    "           padding=\"causal\",\n",
    "           activation=\"relu\",\n",
    "           input_shape=[WINDOW_SIZE, 1]),\n",
    "    # LSTM\n",
    "    LSTM(16, activation='tanh'),\n",
    "    Dense(16, activation=\"relu\"),\n",
    "    Dense(1),\n",
    "])"
   ]
  },
  {
   "cell_type": "code",
   "execution_count": 247,
   "metadata": {
    "colab": {
     "base_uri": "https://localhost:8080/",
     "height": 1000
    },
    "colab_type": "code",
    "id": "xShll_EX0l8T",
    "outputId": "522fff00-b86d-4866-fd81-5bc705d751c2"
   },
   "outputs": [],
   "source": [
    "# Sequence 학습에 비교적 좋은 퍼포먼스를 내는 Huber()를 사용합니다.\n",
    "loss = Huber()\n",
    "optimizer = Adam(0.0005)\n",
    "model.compile(loss=Huber(), optimizer=optimizer, metrics=['mse'])"
   ]
  },
  {
   "cell_type": "code",
   "execution_count": 248,
   "metadata": {
    "colab": {
     "base_uri": "https://localhost:8080/",
     "height": 1000
    },
    "colab_type": "code",
    "id": "xShll_EX0l8T",
    "outputId": "522fff00-b86d-4866-fd81-5bc705d751c2"
   },
   "outputs": [],
   "source": [
    "# earlystopping은 10번 epoch통안 val_loss 개선이 없다면 학습을 멈춥니다.\n",
    "earlystopping = EarlyStopping(monitor='val_loss', patience=10)\n",
    "# val_loss 기준 체크포인터도 생성합니다.\n",
    "filename = os.path.join('tmp', 'ckeckpointer.ckpt')\n",
    "checkpoint = ModelCheckpoint(filename, \n",
    "                             save_weights_only=True, \n",
    "                             save_best_only=True, \n",
    "                             monitor='val_loss', \n",
    "                             verbose=1)"
   ]
  },
  {
   "cell_type": "code",
   "execution_count": 249,
   "metadata": {
    "colab": {
     "base_uri": "https://localhost:8080/",
     "height": 1000
    },
    "colab_type": "code",
    "id": "xShll_EX0l8T",
    "outputId": "522fff00-b86d-4866-fd81-5bc705d751c2"
   },
   "outputs": [
    {
     "name": "stdout",
     "output_type": "stream",
     "text": [
      "Epoch 1/50\n",
      "    145/Unknown - 1s 6ms/step - loss: 1.3915e-04 - mse: 2.7831e-04\n",
      "Epoch 00001: val_loss improved from inf to 0.00442, saving model to tmp/ckeckpointer.ckpt\n",
      "150/150 [==============================] - 2s 11ms/step - loss: 1.3702e-04 - mse: 2.7404e-04 - val_loss: 0.0044 - val_mse: 0.0088\n",
      "Epoch 2/50\n",
      "150/150 [==============================] - ETA: 0s - loss: 3.5403e-05 - mse: 7.0805e-05\n",
      "Epoch 00002: val_loss improved from 0.00442 to 0.00373, saving model to tmp/ckeckpointer.ckpt\n",
      "150/150 [==============================] - 1s 8ms/step - loss: 3.5403e-05 - mse: 7.0805e-05 - val_loss: 0.0037 - val_mse: 0.0075\n",
      "Epoch 3/50\n",
      "145/150 [============================>.] - ETA: 0s - loss: 3.0890e-05 - mse: 6.1779e-05\n",
      "Epoch 00003: val_loss improved from 0.00373 to 0.00265, saving model to tmp/ckeckpointer.ckpt\n",
      "150/150 [==============================] - 1s 8ms/step - loss: 3.2327e-05 - mse: 6.4655e-05 - val_loss: 0.0026 - val_mse: 0.0053\n",
      "Epoch 4/50\n",
      "139/150 [==========================>...] - ETA: 0s - loss: 3.0849e-05 - mse: 6.1697e-05\n",
      "Epoch 00004: val_loss did not improve from 0.00265\n",
      "150/150 [==============================] - 1s 8ms/step - loss: 3.3384e-05 - mse: 6.6768e-05 - val_loss: 0.0028 - val_mse: 0.0056\n",
      "Epoch 5/50\n",
      "140/150 [===========================>..] - ETA: 0s - loss: 2.9329e-05 - mse: 5.8658e-05\n",
      "Epoch 00005: val_loss improved from 0.00265 to 0.00255, saving model to tmp/ckeckpointer.ckpt\n",
      "150/150 [==============================] - 1s 8ms/step - loss: 3.1223e-05 - mse: 6.2445e-05 - val_loss: 0.0026 - val_mse: 0.0051\n",
      "Epoch 6/50\n",
      "139/150 [==========================>...] - ETA: 0s - loss: 2.9247e-05 - mse: 5.8493e-05\n",
      "Epoch 00006: val_loss improved from 0.00255 to 0.00206, saving model to tmp/ckeckpointer.ckpt\n",
      "150/150 [==============================] - 1s 8ms/step - loss: 3.1141e-05 - mse: 6.2282e-05 - val_loss: 0.0021 - val_mse: 0.0041\n",
      "Epoch 7/50\n",
      "146/150 [============================>.] - ETA: 0s - loss: 2.9408e-05 - mse: 5.8817e-05\n",
      "Epoch 00007: val_loss did not improve from 0.00206\n",
      "150/150 [==============================] - 1s 8ms/step - loss: 2.9931e-05 - mse: 5.9862e-05 - val_loss: 0.0022 - val_mse: 0.0044\n",
      "Epoch 8/50\n",
      "139/150 [==========================>...] - ETA: 0s - loss: 2.6324e-05 - mse: 5.2648e-05\n",
      "Epoch 00008: val_loss did not improve from 0.00206\n",
      "150/150 [==============================] - 1s 8ms/step - loss: 2.8588e-05 - mse: 5.7175e-05 - val_loss: 0.0022 - val_mse: 0.0043\n",
      "Epoch 9/50\n",
      "147/150 [============================>.] - ETA: 0s - loss: 2.6072e-05 - mse: 5.2143e-05\n",
      "Epoch 00009: val_loss improved from 0.00206 to 0.00140, saving model to tmp/ckeckpointer.ckpt\n",
      "150/150 [==============================] - 1s 8ms/step - loss: 2.6393e-05 - mse: 5.2786e-05 - val_loss: 0.0014 - val_mse: 0.0028\n",
      "Epoch 10/50\n",
      "142/150 [===========================>..] - ETA: 0s - loss: 2.5399e-05 - mse: 5.0798e-05\n",
      "Epoch 00010: val_loss did not improve from 0.00140\n",
      "150/150 [==============================] - 1s 8ms/step - loss: 2.6429e-05 - mse: 5.2859e-05 - val_loss: 0.0015 - val_mse: 0.0031\n",
      "Epoch 11/50\n",
      "146/150 [============================>.] - ETA: 0s - loss: 2.4973e-05 - mse: 4.9946e-05\n",
      "Epoch 00011: val_loss did not improve from 0.00140\n",
      "150/150 [==============================] - 1s 8ms/step - loss: 2.5656e-05 - mse: 5.1313e-05 - val_loss: 0.0019 - val_mse: 0.0038\n",
      "Epoch 12/50\n",
      "143/150 [===========================>..] - ETA: 0s - loss: 2.3122e-05 - mse: 4.6245e-05\n",
      "Epoch 00012: val_loss improved from 0.00140 to 0.00131, saving model to tmp/ckeckpointer.ckpt\n",
      "150/150 [==============================] - 1s 8ms/step - loss: 2.4026e-05 - mse: 4.8053e-05 - val_loss: 0.0013 - val_mse: 0.0026\n",
      "Epoch 13/50\n",
      "145/150 [============================>.] - ETA: 0s - loss: 2.3306e-05 - mse: 4.6611e-05\n",
      "Epoch 00013: val_loss improved from 0.00131 to 0.00073, saving model to tmp/ckeckpointer.ckpt\n",
      "150/150 [==============================] - 1s 8ms/step - loss: 2.3637e-05 - mse: 4.7273e-05 - val_loss: 7.2618e-04 - val_mse: 0.0015\n",
      "Epoch 14/50\n",
      "146/150 [============================>.] - ETA: 0s - loss: 2.3101e-05 - mse: 4.6202e-05\n",
      "Epoch 00014: val_loss did not improve from 0.00073\n",
      "150/150 [==============================] - 1s 8ms/step - loss: 2.3758e-05 - mse: 4.7515e-05 - val_loss: 0.0011 - val_mse: 0.0021\n",
      "Epoch 15/50\n",
      "138/150 [==========================>...] - ETA: 0s - loss: 2.0612e-05 - mse: 4.1225e-05\n",
      "Epoch 00015: val_loss did not improve from 0.00073\n",
      "150/150 [==============================] - 1s 8ms/step - loss: 2.2132e-05 - mse: 4.4265e-05 - val_loss: 9.7743e-04 - val_mse: 0.0020\n",
      "Epoch 16/50\n",
      "145/150 [============================>.] - ETA: 0s - loss: 2.1968e-05 - mse: 4.3937e-05\n",
      "Epoch 00016: val_loss improved from 0.00073 to 0.00068, saving model to tmp/ckeckpointer.ckpt\n",
      "150/150 [==============================] - 1s 8ms/step - loss: 2.2618e-05 - mse: 4.5237e-05 - val_loss: 6.7990e-04 - val_mse: 0.0014\n",
      "Epoch 17/50\n",
      "140/150 [===========================>..] - ETA: 0s - loss: 2.0500e-05 - mse: 4.1001e-05\n",
      "Epoch 00017: val_loss improved from 0.00068 to 0.00051, saving model to tmp/ckeckpointer.ckpt\n",
      "150/150 [==============================] - 1s 8ms/step - loss: 2.2256e-05 - mse: 4.4512e-05 - val_loss: 5.1027e-04 - val_mse: 0.0010\n",
      "Epoch 18/50\n",
      "141/150 [===========================>..] - ETA: 0s - loss: 1.9266e-05 - mse: 3.8533e-05\n",
      "Epoch 00018: val_loss improved from 0.00051 to 0.00047, saving model to tmp/ckeckpointer.ckpt\n",
      "150/150 [==============================] - 1s 8ms/step - loss: 2.0363e-05 - mse: 4.0727e-05 - val_loss: 4.7082e-04 - val_mse: 9.4163e-04\n",
      "Epoch 19/50\n",
      "140/150 [===========================>..] - ETA: 0s - loss: 1.8217e-05 - mse: 3.6433e-05\n",
      "Epoch 00019: val_loss improved from 0.00047 to 0.00039, saving model to tmp/ckeckpointer.ckpt\n",
      "150/150 [==============================] - 1s 8ms/step - loss: 1.8908e-05 - mse: 3.7815e-05 - val_loss: 3.9196e-04 - val_mse: 7.8393e-04\n",
      "Epoch 20/50\n",
      "146/150 [============================>.] - ETA: 0s - loss: 1.7757e-05 - mse: 3.5514e-05\n",
      "Epoch 00020: val_loss did not improve from 0.00039\n",
      "150/150 [==============================] - 1s 8ms/step - loss: 1.8188e-05 - mse: 3.6375e-05 - val_loss: 5.7883e-04 - val_mse: 0.0012\n",
      "Epoch 21/50\n",
      "143/150 [===========================>..] - ETA: 0s - loss: 1.8277e-05 - mse: 3.6553e-05\n",
      "Epoch 00021: val_loss improved from 0.00039 to 0.00037, saving model to tmp/ckeckpointer.ckpt\n",
      "150/150 [==============================] - 1s 9ms/step - loss: 1.9064e-05 - mse: 3.8128e-05 - val_loss: 3.6557e-04 - val_mse: 7.3113e-04\n",
      "Epoch 22/50\n",
      "149/150 [============================>.] - ETA: 0s - loss: 1.7973e-05 - mse: 3.5946e-05\n",
      "Epoch 00022: val_loss did not improve from 0.00037\n",
      "150/150 [==============================] - 1s 8ms/step - loss: 1.7972e-05 - mse: 3.5943e-05 - val_loss: 7.2105e-04 - val_mse: 0.0014\n",
      "Epoch 23/50\n",
      "144/150 [===========================>..] - ETA: 0s - loss: 1.6506e-05 - mse: 3.3012e-05\n",
      "Epoch 00023: val_loss improved from 0.00037 to 0.00022, saving model to tmp/ckeckpointer.ckpt\n",
      "150/150 [==============================] - 1s 8ms/step - loss: 1.6973e-05 - mse: 3.3946e-05 - val_loss: 2.2470e-04 - val_mse: 4.4941e-04\n",
      "Epoch 24/50\n",
      "143/150 [===========================>..] - ETA: 0s - loss: 1.5503e-05 - mse: 3.1005e-05\n",
      "Epoch 00024: val_loss improved from 0.00022 to 0.00020, saving model to tmp/ckeckpointer.ckpt\n",
      "150/150 [==============================] - 1s 8ms/step - loss: 1.6053e-05 - mse: 3.2106e-05 - val_loss: 1.9826e-04 - val_mse: 3.9652e-04\n",
      "Epoch 25/50\n",
      "141/150 [===========================>..] - ETA: 0s - loss: 1.4575e-05 - mse: 2.9149e-05\n",
      "Epoch 00025: val_loss did not improve from 0.00020\n",
      "150/150 [==============================] - 1s 8ms/step - loss: 1.5453e-05 - mse: 3.0907e-05 - val_loss: 3.3893e-04 - val_mse: 6.7787e-04\n",
      "Epoch 26/50\n",
      "141/150 [===========================>..] - ETA: 0s - loss: 1.4477e-05 - mse: 2.8954e-05\n",
      "Epoch 00026: val_loss did not improve from 0.00020\n",
      "150/150 [==============================] - 1s 8ms/step - loss: 1.5228e-05 - mse: 3.0457e-05 - val_loss: 3.3818e-04 - val_mse: 6.7637e-04\n",
      "Epoch 27/50\n",
      "146/150 [============================>.] - ETA: 0s - loss: 1.5209e-05 - mse: 3.0417e-05\n",
      "Epoch 00027: val_loss did not improve from 0.00020\n",
      "150/150 [==============================] - 1s 8ms/step - loss: 1.5293e-05 - mse: 3.0586e-05 - val_loss: 2.2337e-04 - val_mse: 4.4673e-04\n"
     ]
    },
    {
     "name": "stdout",
     "output_type": "stream",
     "text": [
      "Epoch 28/50\n",
      "141/150 [===========================>..] - ETA: 0s - loss: 1.4172e-05 - mse: 2.8343e-05\n",
      "Epoch 00028: val_loss improved from 0.00020 to 0.00017, saving model to tmp/ckeckpointer.ckpt\n",
      "150/150 [==============================] - 1s 8ms/step - loss: 1.5115e-05 - mse: 3.0230e-05 - val_loss: 1.6553e-04 - val_mse: 3.3106e-04\n",
      "Epoch 29/50\n",
      "145/150 [============================>.] - ETA: 0s - loss: 1.4089e-05 - mse: 2.8178e-05\n",
      "Epoch 00029: val_loss improved from 0.00017 to 0.00016, saving model to tmp/ckeckpointer.ckpt\n",
      "150/150 [==============================] - 1s 8ms/step - loss: 1.4461e-05 - mse: 2.8921e-05 - val_loss: 1.5889e-04 - val_mse: 3.1778e-04\n",
      "Epoch 30/50\n",
      "144/150 [===========================>..] - ETA: 0s - loss: 1.5103e-05 - mse: 3.0207e-05\n",
      "Epoch 00030: val_loss improved from 0.00016 to 0.00016, saving model to tmp/ckeckpointer.ckpt\n",
      "150/150 [==============================] - 1s 8ms/step - loss: 1.5549e-05 - mse: 3.1097e-05 - val_loss: 1.5603e-04 - val_mse: 3.1205e-04\n",
      "Epoch 31/50\n",
      "139/150 [==========================>...] - ETA: 0s - loss: 1.4528e-05 - mse: 2.9055e-05\n",
      "Epoch 00031: val_loss did not improve from 0.00016\n",
      "150/150 [==============================] - 1s 8ms/step - loss: 1.6304e-05 - mse: 3.2608e-05 - val_loss: 1.8720e-04 - val_mse: 3.7439e-04\n",
      "Epoch 32/50\n",
      "142/150 [===========================>..] - ETA: 0s - loss: 1.4269e-05 - mse: 2.8537e-05\n",
      "Epoch 00032: val_loss improved from 0.00016 to 0.00015, saving model to tmp/ckeckpointer.ckpt\n",
      "150/150 [==============================] - 1s 9ms/step - loss: 1.4625e-05 - mse: 2.9250e-05 - val_loss: 1.4684e-04 - val_mse: 2.9369e-04\n",
      "Epoch 33/50\n",
      "142/150 [===========================>..] - ETA: 0s - loss: 1.2597e-05 - mse: 2.5194e-05\n",
      "Epoch 00033: val_loss did not improve from 0.00015\n",
      "150/150 [==============================] - 1s 8ms/step - loss: 1.3262e-05 - mse: 2.6524e-05 - val_loss: 1.8885e-04 - val_mse: 3.7770e-04\n",
      "Epoch 34/50\n",
      "146/150 [============================>.] - ETA: 0s - loss: 1.4380e-05 - mse: 2.8761e-05\n",
      "Epoch 00034: val_loss improved from 0.00015 to 0.00014, saving model to tmp/ckeckpointer.ckpt\n",
      "150/150 [==============================] - 1s 8ms/step - loss: 1.4529e-05 - mse: 2.9058e-05 - val_loss: 1.4084e-04 - val_mse: 2.8168e-04\n",
      "Epoch 35/50\n",
      "144/150 [===========================>..] - ETA: 0s - loss: 1.2255e-05 - mse: 2.4510e-05\n",
      "Epoch 00035: val_loss improved from 0.00014 to 0.00014, saving model to tmp/ckeckpointer.ckpt\n",
      "150/150 [==============================] - 1s 8ms/step - loss: 1.2630e-05 - mse: 2.5259e-05 - val_loss: 1.3570e-04 - val_mse: 2.7141e-04\n",
      "Epoch 36/50\n",
      "146/150 [============================>.] - ETA: 0s - loss: 1.2402e-05 - mse: 2.4805e-05\n",
      "Epoch 00036: val_loss did not improve from 0.00014\n",
      "150/150 [==============================] - 1s 8ms/step - loss: 1.2712e-05 - mse: 2.5423e-05 - val_loss: 1.3717e-04 - val_mse: 2.7434e-04\n",
      "Epoch 37/50\n",
      "148/150 [============================>.] - ETA: 0s - loss: 1.2014e-05 - mse: 2.4028e-05\n",
      "Epoch 00037: val_loss improved from 0.00014 to 0.00013, saving model to tmp/ckeckpointer.ckpt\n",
      "150/150 [==============================] - 1s 8ms/step - loss: 1.2155e-05 - mse: 2.4311e-05 - val_loss: 1.3075e-04 - val_mse: 2.6150e-04\n",
      "Epoch 38/50\n",
      "149/150 [============================>.] - ETA: 0s - loss: 1.2660e-05 - mse: 2.5319e-05\n",
      "Epoch 00038: val_loss did not improve from 0.00013\n",
      "150/150 [==============================] - 1s 8ms/step - loss: 1.2697e-05 - mse: 2.5395e-05 - val_loss: 3.2183e-04 - val_mse: 6.4366e-04\n",
      "Epoch 39/50\n",
      "139/150 [==========================>...] - ETA: 0s - loss: 1.0822e-05 - mse: 2.1644e-05\n",
      "Epoch 00039: val_loss did not improve from 0.00013\n",
      "150/150 [==============================] - 1s 8ms/step - loss: 1.1924e-05 - mse: 2.3849e-05 - val_loss: 3.5369e-04 - val_mse: 7.0737e-04\n",
      "Epoch 40/50\n",
      "143/150 [===========================>..] - ETA: 0s - loss: 1.1230e-05 - mse: 2.2460e-05\n",
      "Epoch 00040: val_loss did not improve from 0.00013\n",
      "150/150 [==============================] - 1s 8ms/step - loss: 1.1633e-05 - mse: 2.3266e-05 - val_loss: 2.4469e-04 - val_mse: 4.8938e-04\n",
      "Epoch 41/50\n",
      "140/150 [===========================>..] - ETA: 0s - loss: 1.2174e-05 - mse: 2.4348e-05\n",
      "Epoch 00041: val_loss did not improve from 0.00013\n",
      "150/150 [==============================] - 1s 8ms/step - loss: 1.2546e-05 - mse: 2.5092e-05 - val_loss: 2.2481e-04 - val_mse: 4.4961e-04\n",
      "Epoch 42/50\n",
      "141/150 [===========================>..] - ETA: 0s - loss: 1.0771e-05 - mse: 2.1541e-05\n",
      "Epoch 00042: val_loss did not improve from 0.00013\n",
      "150/150 [==============================] - 1s 8ms/step - loss: 1.1201e-05 - mse: 2.2402e-05 - val_loss: 1.9641e-04 - val_mse: 3.9283e-04\n",
      "Epoch 43/50\n",
      "150/150 [==============================] - ETA: 0s - loss: 1.1375e-05 - mse: 2.2750e-05\n",
      "Epoch 00043: val_loss did not improve from 0.00013\n",
      "150/150 [==============================] - 1s 8ms/step - loss: 1.1375e-05 - mse: 2.2750e-05 - val_loss: 5.3345e-04 - val_mse: 0.0011\n",
      "Epoch 44/50\n",
      "147/150 [============================>.] - ETA: 0s - loss: 1.0875e-05 - mse: 2.1749e-05\n",
      "Epoch 00044: val_loss did not improve from 0.00013\n",
      "150/150 [==============================] - 1s 8ms/step - loss: 1.0975e-05 - mse: 2.1949e-05 - val_loss: 3.9328e-04 - val_mse: 7.8657e-04\n",
      "Epoch 45/50\n",
      "144/150 [===========================>..] - ETA: 0s - loss: 1.0671e-05 - mse: 2.1343e-05\n",
      "Epoch 00045: val_loss did not improve from 0.00013\n",
      "150/150 [==============================] - 1s 8ms/step - loss: 1.1074e-05 - mse: 2.2147e-05 - val_loss: 3.3973e-04 - val_mse: 6.7945e-04\n",
      "Epoch 46/50\n",
      "143/150 [===========================>..] - ETA: 0s - loss: 1.0369e-05 - mse: 2.0738e-05\n",
      "Epoch 00046: val_loss did not improve from 0.00013\n",
      "150/150 [==============================] - 1s 8ms/step - loss: 1.0733e-05 - mse: 2.1465e-05 - val_loss: 3.1263e-04 - val_mse: 6.2526e-04\n",
      "Epoch 47/50\n",
      "149/150 [============================>.] - ETA: 0s - loss: 1.1758e-05 - mse: 2.3515e-05\n",
      "Epoch 00047: val_loss did not improve from 0.00013\n",
      "150/150 [==============================] - 1s 8ms/step - loss: 1.1775e-05 - mse: 2.3549e-05 - val_loss: 1.3305e-04 - val_mse: 2.6610e-04\n"
     ]
    }
   ],
   "source": [
    "history = model.fit(train_data, \n",
    "                    validation_data=(test_data), \n",
    "                    epochs=50, \n",
    "                    callbacks=[checkpoint, earlystopping])"
   ]
  },
  {
   "cell_type": "markdown",
   "metadata": {},
   "source": [
    "저장한 ModelCheckpoint 를 로드합니다."
   ]
  },
  {
   "cell_type": "code",
   "execution_count": 250,
   "metadata": {
    "colab": {},
    "colab_type": "code",
    "id": "RoPIDRSo32f-"
   },
   "outputs": [
    {
     "data": {
      "text/plain": [
       "<tensorflow.python.training.tracking.util.CheckpointLoadStatus at 0x7f3cdd729518>"
      ]
     },
     "execution_count": 250,
     "metadata": {},
     "output_type": "execute_result"
    }
   ],
   "source": [
    "model.load_weights(filename)"
   ]
  },
  {
   "cell_type": "markdown",
   "metadata": {},
   "source": [
    "`test_data`를 활용하여 예측을 진행합니다."
   ]
  },
  {
   "cell_type": "code",
   "execution_count": 251,
   "metadata": {
    "colab": {},
    "colab_type": "code",
    "id": "WxAxSLNL0l8Z"
   },
   "outputs": [],
   "source": [
    "pred = model.predict(test_data)"
   ]
  },
  {
   "cell_type": "code",
   "execution_count": 253,
   "metadata": {
    "colab": {
     "base_uri": "https://localhost:8080/",
     "height": 35
    },
    "colab_type": "code",
    "id": "yMPXjSQ10l8d",
    "outputId": "c742e25c-fd8c-4c62-ba46-43eac3802a46"
   },
   "outputs": [
    {
     "data": {
      "text/plain": [
       "(1180, 1)"
      ]
     },
     "execution_count": 253,
     "metadata": {},
     "output_type": "execute_result"
    }
   ],
   "source": [
    "pred.shape"
   ]
  },
  {
   "cell_type": "markdown",
   "metadata": {
    "colab_type": "text",
    "id": "jaWpXnQf6zMt"
   },
   "source": [
    "## 예측 데이터 시각화"
   ]
  },
  {
   "cell_type": "markdown",
   "metadata": {},
   "source": [
    "아래 시각화 코드중 y_test 데이터에 **[20:]**으로 슬라이싱을 한 이유는\n",
    "\n",
    "예측 데이터에서 20일치의 데이터로 21일치를 예측해야하기 때문에 test_data로 예측 시 *앞의 20일은 예측하지 않습니다.*\n",
    "\n",
    "따라서, 20번 째 index와 비교하면 더욱 정확합니다."
   ]
  },
  {
   "cell_type": "code",
   "execution_count": 254,
   "metadata": {
    "colab": {
     "base_uri": "https://localhost:8080/",
     "height": 537
    },
    "colab_type": "code",
    "id": "2F4QQ1O_0l8m",
    "outputId": "42555f80-d80c-4361-b0ed-5651c1097899"
   },
   "outputs": [
    {
     "data": {
      "image/png": "[encoded data removed]",
      "text/plain": [
       "<Figure size 864x648 with 1 Axes>"
      ]
     },
     "metadata": {},
     "output_type": "display_data"
    }
   ],
   "source": [
    "plt.figure(figsize=(12, 9))\n",
    "plt.plot(np.asarray(y_test)[20:], label='actual')\n",
    "plt.plot(pred, label='prediction')\n",
    "plt.legend()\n",
    "plt.show()"
   ]
  }
 ],
 "metadata": {
  "accelerator": "GPU",
  "colab": {
   "collapsed_sections": [],
   "name": "LSTM을 활용한 삼성전자 주가예측.ipynb",
   "provenance": []
  },
  "kernelspec": {
   "display_name": "Python 3",
   "language": "python",
   "name": "python3"
  },
  "language_info": {
   "codemirror_mode": {
    "name": "ipython",
    "version": 3
   },
   "file_extension": ".py",
   "mimetype": "text/x-python",
   "name": "python",
   "nbconvert_exporter": "python",
   "pygments_lexer": "ipython3",
   "version": "3.6.10"
  }
 },
 "nbformat": 4,
 "nbformat_minor": 1
}
