{
  "nbformat": 4,
  "nbformat_minor": 0,
  "metadata": {
    "colab": {
      "name": "HJK_PG_REINFORCE-CONTINUE.ipynb",
      "provenance": [],
      "collapsed_sections": [],
      "include_colab_link": true
    },
    "kernelspec": {
      "name": "python3",
      "display_name": "Python 3"
    },
    "accelerator": "GPU"
  },
  "cells": [
    {
      "cell_type": "markdown",
      "metadata": {
        "id": "view-in-github",
        "colab_type": "text"
      },
      "source": [
        "<a href=\"https://colab.research.google.com/github/HongJaeKwon/machine-learning/blob/master/HJK_PG_REINFORCE_CONTINUE.ipynb\" target=\"_parent\"><img src=\"https://colab.research.google.com/assets/colab-badge.svg\" alt=\"Open In Colab\"/></a>"
      ]
    },
    {
      "cell_type": "code",
      "metadata": {
        "id": "iYW-kK-7k8Ce",
        "colab_type": "code",
        "colab": {
          "base_uri": "https://localhost:8080/",
          "height": 127
        },
        "outputId": "3840ebf9-d380-4780-917a-7ba2d169bbce"
      },
      "source": [
        "# # 구글 드라이브 마운트\n",
        "# from google.colab import drive\n",
        "# drive.mount('/gdrive', force_remount=True)\n",
        "# # /gdrive/My Drive/ (폴더명)"
      ],
      "execution_count": null,
      "outputs": [
        {
          "output_type": "stream",
          "text": [
            "Go to this URL in a browser: https://accounts.google.com/o/oauth2/auth?client_id=947318989803-6bn6qk8qdgf4n4g3pfee6491hc0brc4i.apps.googleusercontent.com&redirect_uri=urn%3aietf%3awg%3aoauth%3a2.0%3aoob&response_type=code&scope=email%20https%3a%2f%2fwww.googleapis.com%2fauth%2fdocs.test%20https%3a%2f%2fwww.googleapis.com%2fauth%2fdrive%20https%3a%2f%2fwww.googleapis.com%2fauth%2fdrive.photos.readonly%20https%3a%2f%2fwww.googleapis.com%2fauth%2fpeopleapi.readonly\n",
            "\n",
            "Enter your authorization code:\n",
            "··········\n",
            "Mounted at /gdrive\n"
          ],
          "name": "stdout"
        }
      ]
    },
    {
      "cell_type": "code",
      "metadata": {
        "id": "Jg8pWcz_5YgV",
        "colab_type": "code",
        "colab": {
          "base_uri": "https://localhost:8080/",
          "height": 989
        },
        "outputId": "13e3fb8d-b70d-4fd7-cf2a-f496e3255261"
      },
      "source": [
        "# # 그림파일로 렌더링 하도록 패키지 설정\n",
        "# !apt-get install python-opengl -y\n",
        "# !apt install xvfb -y\n",
        "# !pip install pyvirtualdisplay\n",
        "# !pip install piglet"
      ],
      "execution_count": null,
      "outputs": [
        {
          "output_type": "stream",
          "text": [
            "Reading package lists... Done\n",
            "Building dependency tree       \n",
            "Reading state information... Done\n",
            "Suggested packages:\n",
            "  libgle3\n",
            "The following NEW packages will be installed:\n",
            "  python-opengl\n",
            "0 upgraded, 1 newly installed, 0 to remove and 31 not upgraded.\n",
            "Need to get 496 kB of archives.\n",
            "After this operation, 5,416 kB of additional disk space will be used.\n",
            "Get:1 http://archive.ubuntu.com/ubuntu bionic/universe amd64 python-opengl all 3.1.0+dfsg-1 [496 kB]\n",
            "Fetched 496 kB in 2s (238 kB/s)\n",
            "Selecting previously unselected package python-opengl.\n",
            "(Reading database ... 144433 files and directories currently installed.)\n",
            "Preparing to unpack .../python-opengl_3.1.0+dfsg-1_all.deb ...\n",
            "Unpacking python-opengl (3.1.0+dfsg-1) ...\n",
            "Setting up python-opengl (3.1.0+dfsg-1) ...\n",
            "Reading package lists... Done\n",
            "Building dependency tree       \n",
            "Reading state information... Done\n",
            "The following NEW packages will be installed:\n",
            "  xvfb\n",
            "0 upgraded, 1 newly installed, 0 to remove and 31 not upgraded.\n",
            "Need to get 784 kB of archives.\n",
            "After this operation, 2,266 kB of additional disk space will be used.\n",
            "Get:1 http://archive.ubuntu.com/ubuntu bionic-updates/universe amd64 xvfb amd64 2:1.19.6-1ubuntu4.4 [784 kB]\n",
            "Fetched 784 kB in 2s (385 kB/s)\n",
            "Selecting previously unselected package xvfb.\n",
            "(Reading database ... 146788 files and directories currently installed.)\n",
            "Preparing to unpack .../xvfb_2%3a1.19.6-1ubuntu4.4_amd64.deb ...\n",
            "Unpacking xvfb (2:1.19.6-1ubuntu4.4) ...\n",
            "Setting up xvfb (2:1.19.6-1ubuntu4.4) ...\n",
            "Processing triggers for man-db (2.8.3-2ubuntu0.1) ...\n",
            "Collecting pyvirtualdisplay\n",
            "  Downloading https://files.pythonhosted.org/packages/69/ec/8221a07850d69fa3c57c02e526edd23d18c7c05d58ed103e3b19172757c1/PyVirtualDisplay-0.2.5-py2.py3-none-any.whl\n",
            "Collecting EasyProcess\n",
            "  Downloading https://files.pythonhosted.org/packages/48/3c/75573613641c90c6d094059ac28adb748560d99bd27ee6f80cce398f404e/EasyProcess-0.3-py2.py3-none-any.whl\n",
            "Installing collected packages: EasyProcess, pyvirtualdisplay\n",
            "Successfully installed EasyProcess-0.3 pyvirtualdisplay-0.2.5\n",
            "Collecting piglet\n",
            "  Downloading https://files.pythonhosted.org/packages/11/56/6840e5f45626dc7eb7cd5dff57d11880b3113723b3b7b1fb1fa537855b75/piglet-1.0.0-py2.py3-none-any.whl\n",
            "Collecting piglet-templates\n",
            "\u001b[?25l  Downloading https://files.pythonhosted.org/packages/d0/dc/d628dcdf0b38b8f230e9c2309bfa370d2e3fb95e9e9c260213d10fde91ac/piglet_templates-1.0.0-py3-none-any.whl (63kB)\n",
            "\u001b[K     |████████████████████████████████| 71kB 2.1MB/s \n",
            "\u001b[?25hCollecting Parsley\n",
            "\u001b[?25l  Downloading https://files.pythonhosted.org/packages/2b/d6/4fed8d65e28a970e1c5cb33ce9c7e22e3de745e1b2ae37af051ef16aea3b/Parsley-1.3-py2.py3-none-any.whl (88kB)\n",
            "\u001b[K     |████████████████████████████████| 92kB 4.7MB/s \n",
            "\u001b[?25hRequirement already satisfied: astunparse in /usr/local/lib/python3.6/dist-packages (from piglet-templates->piglet) (1.6.3)\n",
            "Requirement already satisfied: attrs in /usr/local/lib/python3.6/dist-packages (from piglet-templates->piglet) (19.3.0)\n",
            "Requirement already satisfied: markupsafe in /usr/local/lib/python3.6/dist-packages (from piglet-templates->piglet) (1.1.1)\n",
            "Requirement already satisfied: wheel<1.0,>=0.23.0 in /usr/local/lib/python3.6/dist-packages (from astunparse->piglet-templates->piglet) (0.34.2)\n",
            "Requirement already satisfied: six<2.0,>=1.6.1 in /usr/local/lib/python3.6/dist-packages (from astunparse->piglet-templates->piglet) (1.12.0)\n",
            "Installing collected packages: Parsley, piglet-templates, piglet\n",
            "Successfully installed Parsley-1.3 piglet-1.0.0 piglet-templates-1.0.0\n"
          ],
          "name": "stdout"
        }
      ]
    },
    {
      "cell_type": "code",
      "metadata": {
        "id": "JaqtdUDn7hhR",
        "colab_type": "code",
        "colab": {}
      },
      "source": [
        "import math\n",
        "import gym\n",
        "from gym import spaces, logger\n",
        "from gym.utils import seeding\n",
        "import numpy as np\n",
        "\n",
        "\n",
        "class ContinuousCartPoleEnv(gym.Env):\n",
        "    metadata = {\n",
        "        'render.modes': ['human', 'rgb_array'],\n",
        "        'video.frames_per_second': 50\n",
        "    }\n",
        "\n",
        "    def __init__(self):\n",
        "        self.gravity = 9.8\n",
        "        self.masscart = 1.0\n",
        "        self.masspole = 0.1\n",
        "        self.total_mass = (self.masspole + self.masscart)\n",
        "        self.length = 0.5  # actually half the pole's length\n",
        "        self.polemass_length = (self.masspole * self.length)\n",
        "        self.force_mag = 30.0\n",
        "        self.tau = 0.02  # seconds between state updates\n",
        "        self.min_action = -1.0\n",
        "        self.max_action = 1.0\n",
        "        self.max_score=300\n",
        "        # Angle at which to fail the episode\n",
        "        self.theta_threshold_radians = 12 * 2 * math.pi / 360\n",
        "        self.x_threshold = 2.4\n",
        "\n",
        "        # Angle limit set to 2 * theta_threshold_radians so failing observation\n",
        "        # is still within bounds\n",
        "        high = np.array([\n",
        "            self.x_threshold * 2,\n",
        "            np.finfo(np.float32).max,\n",
        "            self.theta_threshold_radians * 2,\n",
        "            np.finfo(np.float32).max])\n",
        "\n",
        "        self.action_space = spaces.Box(\n",
        "            low=self.min_action,\n",
        "            high=self.max_action,\n",
        "            shape=(1,)\n",
        "        )\n",
        "        self.observation_space = spaces.Box(-high, high)\n",
        "\n",
        "        self.seed()\n",
        "        self.viewer = None\n",
        "        self.state = None\n",
        "\n",
        "        self.steps_beyond_done = None\n",
        "\n",
        "    def seed(self, seed=None):\n",
        "        self.np_random, seed = seeding.np_random(seed)\n",
        "        return [seed]\n",
        "\n",
        "    def stepPhysics(self, force):\n",
        "        x, x_dot, theta, theta_dot = self.state\n",
        "        costheta = math.cos(theta)\n",
        "        sintheta = math.sin(theta)\n",
        "        temp = (force + self.polemass_length * theta_dot * theta_dot * sintheta) / self.total_mass\n",
        "        thetaacc = (self.gravity * sintheta - costheta * temp) / \\\n",
        "            (self.length * (4.0/3.0 - self.masspole * costheta * costheta / self.total_mass))\n",
        "        xacc = temp - self.polemass_length * thetaacc * costheta / self.total_mass\n",
        "        x = x + self.tau * x_dot\n",
        "        x_dot = x_dot + self.tau * xacc\n",
        "        theta = theta + self.tau * theta_dot\n",
        "        theta_dot = theta_dot + self.tau * thetaacc\n",
        "        return (x, x_dot, theta, theta_dot)\n",
        "\n",
        "    def step(self, action):\n",
        "        assert self.action_space.contains(action), \\\n",
        "            \"%r (%s) invalid\" % (action, type(action))\n",
        "        # Cast action to float to strip np trappings\n",
        "        force = self.force_mag * float(action)\n",
        "        self.state = self.stepPhysics(force)\n",
        "        x, x_dot, theta, theta_dot = self.state\n",
        "        done = x < -self.x_threshold \\\n",
        "            or x > self.x_threshold \\\n",
        "            or theta < -self.theta_threshold_radians \\\n",
        "            or theta > self.theta_threshold_radians\n",
        "        done = bool(done)\n",
        "        \n",
        "        if not done:\n",
        "            reward = 1.0\n",
        "        elif self.steps_beyond_done is None:\n",
        "            # Pole just fell!\n",
        "            self.steps_beyond_done = 0\n",
        "            reward = 1.0\n",
        "        else:\n",
        "            if self.steps_beyond_done == 0:\n",
        "                logger.warn(\"\"\"\n",
        "You are calling 'step()' even though this environment has already returned\n",
        "done = True. You should always call 'reset()' once you receive 'done = True'\n",
        "Any further steps are undefined behavior.\n",
        "                \"\"\")\n",
        "            self.steps_beyond_done += 1\n",
        "            reward = 0.0\n",
        "\n",
        "        return np.array(self.state), reward, done, {}\n",
        "\n",
        "    def reset(self):\n",
        "        self.state = self.np_random.uniform(low=-0.05, high=0.05, size=(4,))\n",
        "        self.steps_beyond_done = None\n",
        "        return np.array(self.state)\n",
        "\n",
        "    def render(self, mode='human'):\n",
        "        screen_width = 600\n",
        "        screen_height = 400\n",
        "\n",
        "        world_width = self.x_threshold * 2\n",
        "        scale = screen_width /world_width\n",
        "        carty = 100  # TOP OF CART\n",
        "        polewidth = 10.0\n",
        "        polelen = scale * 1.0\n",
        "        cartwidth = 50.0\n",
        "        cartheight = 30.0\n",
        "\n",
        "        if self.viewer is None:\n",
        "            from gym.envs.classic_control import rendering\n",
        "            self.viewer = rendering.Viewer(screen_width, screen_height)\n",
        "            l, r, t, b = -cartwidth / 2, cartwidth / 2, cartheight / 2, -cartheight / 2\n",
        "            axleoffset = cartheight / 4.0\n",
        "            cart = rendering.FilledPolygon([(l, b), (l, t), (r, t), (r, b)])\n",
        "            self.carttrans = rendering.Transform()\n",
        "            cart.add_attr(self.carttrans)\n",
        "            self.viewer.add_geom(cart)\n",
        "            l, r, t, b = -polewidth / 2, polewidth / 2, polelen-polewidth / 2, -polewidth / 2\n",
        "            pole = rendering.FilledPolygon([(l, b), (l, t), (r, t), (r, b)])\n",
        "            pole.set_color(.8, .6, .4)\n",
        "            self.poletrans = rendering.Transform(translation=(0, axleoffset))\n",
        "            pole.add_attr(self.poletrans)\n",
        "            pole.add_attr(self.carttrans)\n",
        "            self.viewer.add_geom(pole)\n",
        "            self.axle = rendering.make_circle(polewidth / 2)\n",
        "            self.axle.add_attr(self.poletrans)\n",
        "            self.axle.add_attr(self.carttrans)\n",
        "            self.axle.set_color(.5, .5, .8)\n",
        "            self.viewer.add_geom(self.axle)\n",
        "            self.track = rendering.Line((0, carty), (screen_width, carty))\n",
        "            self.track.set_color(0, 0, 0)\n",
        "            self.viewer.add_geom(self.track)\n",
        "\n",
        "        if self.state is None:\n",
        "            return None\n",
        "\n",
        "        x = self.state\n",
        "        cartx = x[0] * scale + screen_width / 2.0  # MIDDLE OF CART\n",
        "        self.carttrans.set_translation(cartx, carty)\n",
        "        self.poletrans.set_rotation(-x[2])\n",
        "\n",
        "        return self.viewer.render(return_rgb_array=(mode == 'rgb_array'))\n",
        "\n",
        "    def close(self):\n",
        "        if self.viewer:\n",
        "            self.viewer.close()"
      ],
      "execution_count": null,
      "outputs": []
    },
    {
      "cell_type": "code",
      "metadata": {
        "id": "hE9Gld8a4DfZ",
        "colab_type": "code",
        "colab": {}
      },
      "source": [
        "# 필요한 모듈 설치\n",
        "import tensorflow as tf\n",
        "import tensorflow_probability as tfp\n",
        "import gym\n",
        "import matplotlib.pyplot as plt\n",
        "from collections import deque\n",
        "import numpy as np\n",
        "import random\n",
        "\n",
        "# from IPython import display\n",
        "# import cv2\n",
        "# from pyvirtualdisplay import Display\n",
        "# %matplotlib inline\n",
        "# Display().start()\n"
      ],
      "execution_count": null,
      "outputs": []
    },
    {
      "cell_type": "code",
      "metadata": {
        "id": "AzL4zooO4chN",
        "colab_type": "code",
        "colab": {
          "base_uri": "https://localhost:8080/",
          "height": 53
        },
        "outputId": "1d93a749-44e9-4053-92e2-885342e2da3a"
      },
      "source": [
        "# 카트폴 게임 환경을 만듦\n",
        "env = ContinuousCartPoleEnv()"
      ],
      "execution_count": null,
      "outputs": [
        {
          "output_type": "stream",
          "text": [
            "/usr/local/lib/python3.6/dist-packages/gym/logger.py:30: UserWarning: \u001b[33mWARN: Box bound precision lowered by casting to float32\u001b[0m\n",
            "  warnings.warn(colorize('%s: %s'%('WARN', msg % args), 'yellow'))\n"
          ],
          "name": "stderr"
        }
      ]
    },
    {
      "cell_type": "code",
      "metadata": {
        "id": "YqwFQ3D3kU5u",
        "colab_type": "code",
        "colab": {}
      },
      "source": [
        "# env.render('rgb_array')"
      ],
      "execution_count": null,
      "outputs": []
    },
    {
      "cell_type": "code",
      "metadata": {
        "id": "TmvYV05oBk7M",
        "colab_type": "code",
        "colab": {}
      },
      "source": [
        "# 2 - 액션 종류 슈 (아웃풋)\n",
        "action_num=env.action_space.shape[0]\n",
        "# action_num=1\n",
        "# 4 - 상태 종류 수 (인풋)\n",
        "state_num=env.observation_space.shape[0]"
      ],
      "execution_count": null,
      "outputs": []
    },
    {
      "cell_type": "code",
      "metadata": {
        "id": "A44-PVgWGb45",
        "colab_type": "code",
        "colab": {
          "base_uri": "https://localhost:8080/",
          "height": 35
        },
        "outputId": "ae3a93c4-447c-46ea-c5ba-659e47a1330c"
      },
      "source": [
        "action_num,state_num"
      ],
      "execution_count": null,
      "outputs": [
        {
          "output_type": "execute_result",
          "data": {
            "text/plain": [
              "(1, 4)"
            ]
          },
          "metadata": {
            "tags": []
          },
          "execution_count": 16
        }
      ]
    },
    {
      "cell_type": "code",
      "metadata": {
        "id": "Tn7crP0QCCpc",
        "colab_type": "code",
        "colab": {}
      },
      "source": [
        "# pg 모델 만들기 - REINFORCE 알고리즘(가장 기초)\n",
        "i=tf.keras.Input(shape=(state_num,))\n",
        "out=tf.keras.layers.Dense(16,activation='relu')(i)\n",
        "out=tf.keras.layers.Dense(16,activation='relu')(out)\n",
        "mu=tf.keras.layers.Dense(16,activation='relu')(out)\n",
        "mu=tf.keras.layers.Dense(action_num,name='mu')(mu)\n",
        "sigma=tf.keras.layers.Dense(16,activation='relu')(out)\n",
        "sigma=tf.keras.layers.Dense(action_num,activation='sigmoid',name='sigma')(sigma)\n",
        "sigma=tf.keras.layers.Lambda(lambda x : tf.add(x,0.01))(sigma)\n",
        "pg_model=tf.keras.Model(inputs=[i],outputs=[mu,sigma])\n",
        "\n",
        "opt=tf.keras.optimizers.Adam(0.001)"
      ],
      "execution_count": null,
      "outputs": []
    },
    {
      "cell_type": "code",
      "metadata": {
        "id": "MwdI5pyggVAX",
        "colab_type": "code",
        "colab": {
          "base_uri": "https://localhost:8080/",
          "height": 644
        },
        "outputId": "4c876d33-8c1d-4885-9008-50876239f166"
      },
      "source": [
        "tf.keras.utils.plot_model(pg_model,show_shapes=True)"
      ],
      "execution_count": null,
      "outputs": [
        {
          "output_type": "execute_result",
          "data": {
            "image/png": "[encoded data removed]",
            "text/plain": [
              "<IPython.core.display.Image object>"
            ]
          },
          "metadata": {
            "tags": []
          },
          "execution_count": 18
        }
      ]
    },
    {
      "cell_type": "code",
      "metadata": {
        "id": "ACHwiSxKIoEc",
        "colab_type": "code",
        "colab": {}
      },
      "source": [
        "# 에피소드 수만큼 학습\n",
        "episode_count=1000\n",
        "\n",
        "# 점수를 기록할 리스트\n",
        "scores = []\n",
        "memory=[]\n",
        "\n",
        "# 디스카운트 팩터 정의\n",
        "discount_rate=0.99\n",
        "# win_count=0\n",
        "for episode in range(episode_count):\n",
        "    \n",
        "    state = env.reset()\n",
        "    # 차원을 맞추어 준다\n",
        "    state = np.reshape(state, [1, state_num])\n",
        "    done = False\n",
        "    total_reward = 0\n",
        "    while not done:\n",
        "        mu,sigma=pg_model.predict(state)\n",
        "        mu=mu[0]\n",
        "        sigma=sigma[0]\n",
        "        dist=tfp.distributions.Normal(loc=mu,scale=sigma)\n",
        "        action=dist.sample()\n",
        "        action=tf.clip_by_value(action,-1.0,1.0)\n",
        "        next_state, reward, done, _ = env.step(action)\n",
        "        next_state = np.reshape(next_state, [1, state_num])\n",
        "        i=(state,action,reward/100.,next_state,done)\n",
        "        memory.append(i)\n",
        "        state = next_state\n",
        "        total_reward += reward\n",
        "        if(total_reward>=200):\n",
        "            print(\"성공\")\n",
        "            break\n",
        "    # 에피소드가 끝나면 PG 학습 시작\n",
        "    G=0\n",
        "    for s,a,r,n_s,d in memory[::-1]:\n",
        "        G=r+discount_rate * G\n",
        "        variable = pg_model.trainable_variables\n",
        "        with tf.GradientTape() as tape:\n",
        "            mu,sigma=pg_model(s)\n",
        "            mu=mu[0]\n",
        "            sigma=sigma[0]\n",
        "            dist=tfp.distributions.Normal(loc=mu,scale=sigma)\n",
        "            p=dist.prob(a)[0] + 0.001\n",
        "            loss = - tf.math.log(p) * G\n",
        "            grad=tape.gradient(loss,variable)\n",
        "            opt.apply_gradients(zip(grad,variable))\n",
        "        if(np.isnan(p)):\n",
        "            print(\"wrong\")\n",
        "\n",
        "\n",
        "    memory=[]\n",
        "    \n",
        "    scores.append(total_reward)\n",
        "    print(episode+1,total_reward)\n",
        "\n",
        "env.close() "
      ],
      "execution_count": null,
      "outputs": []
    },
    {
      "cell_type": "code",
      "metadata": {
        "id": "_7KPtqkNsVNm",
        "colab_type": "code",
        "colab": {
          "base_uri": "https://localhost:8080/",
          "height": 283
        },
        "outputId": "1f2b4476-a891-462f-9102-ab7cc8fe8f8e"
      },
      "source": [
        "plt.plot(scores)"
      ],
      "execution_count": null,
      "outputs": [
        {
          "output_type": "execute_result",
          "data": {
            "text/plain": [
              "[<matplotlib.lines.Line2D at 0x7f0b8193bd30>]"
            ]
          },
          "metadata": {
            "tags": []
          },
          "execution_count": 20
        },
        {
          "output_type": "display_data",
          "data": {
            "image/png": "[encoded data removed]",
            "text/plain": [
              "<Figure size 432x288 with 1 Axes>"
            ]
          },
          "metadata": {
            "tags": [],
            "needs_background": "light"
          }
        }
      ]
    },
    {
      "cell_type": "code",
      "metadata": {
        "id": "le6oP-THjV3N",
        "colab_type": "code",
        "colab": {
          "base_uri": "https://localhost:8080/",
          "height": 35
        },
        "outputId": "520205e7-d2e4-4051-8749-9ebbe1d91a62"
      },
      "source": [
        "# pg_model.save('/gdrive/My Drive/hjk_pg_reinforce_continue_model.h5')\n",
        "pg_model=tf.keras.models.load_model('/gdrive/My Drive/hjk_pg_reinforce_continue_model.h5')"
      ],
      "execution_count": null,
      "outputs": [
        {
          "output_type": "stream",
          "text": [
            "WARNING:tensorflow:No training configuration found in the save file, so the model was *not* compiled. Compile it manually.\n"
          ],
          "name": "stdout"
        }
      ]
    },
    {
      "cell_type": "code",
      "metadata": {
        "id": "kJIjEQxQJ9O_",
        "colab_type": "code",
        "colab": {
          "base_uri": "https://localhost:8080/",
          "height": 35
        },
        "outputId": "76aa2d9c-305c-4b2b-dabb-8c77819b7a76"
      },
      "source": [
        "env = gym.make('CartPole-v1')\n",
        "state=env.reset()\n",
        "state = np.reshape(state, [1, state_num])\n",
        "done=False\n",
        "total_reward=0\n",
        "img_avi=np.zeros((400,600,3))\n",
        "fcc=cv2.VideoWriter_fourcc(*'DIVX')\n",
        "out=cv2.VideoWriter('/gdrive/My Drive/hjk_pg_reinforce_continue.avi',fcc,10.0,(600,400))\n",
        "while not done:\n",
        "    img_avi=env.render('rgb_array')\n",
        "    mu,sigma=pg_model.predict(state)\n",
        "    mu=mu[0]\n",
        "    sigma=sigma[0] + tf.keras.backend.epsilon()\n",
        "    dist=tfp.distributions.Normal(loc=mu,scale=sigma)\n",
        "    action=dist.sample()\n",
        "    action=tf.clip_by_value(action,0,1)\n",
        "    if(action>0.5):\n",
        "        action_=1\n",
        "    else:\n",
        "        action_=0\n",
        "    next_state, reward, done, _ = env.step(action_)\n",
        "    next_state = np.reshape(next_state, [1, state_num])\n",
        "    state = next_state\n",
        "    total_reward += reward\n",
        "    out.write(np.uint8(img_avi))\n",
        "print(total_reward)\n",
        "out.release()\n",
        "cv2.destroyAllWindows()"
      ],
      "execution_count": null,
      "outputs": [
        {
          "output_type": "stream",
          "text": [
            "500.0\n"
          ],
          "name": "stdout"
        }
      ]
    }
  ]
}
