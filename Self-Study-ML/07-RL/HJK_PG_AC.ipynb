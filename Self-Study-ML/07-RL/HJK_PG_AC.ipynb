{
  "nbformat": 4,
  "nbformat_minor": 0,
  "metadata": {
    "colab": {
      "name": "HJK_PG_AC.ipynb",
      "provenance": [],
      "collapsed_sections": [],
      "include_colab_link": true
    },
    "kernelspec": {
      "name": "python3",
      "display_name": "Python 3"
    }
  },
  "cells": [
    {
      "cell_type": "markdown",
      "metadata": {
        "id": "view-in-github",
        "colab_type": "text"
      },
      "source": [
        "<a href=\"https://colab.research.google.com/github/HongJaeKwon/machine-learning/blob/master/HJK_PG_AC.ipynb\" target=\"_parent\"><img src=\"https://colab.research.google.com/assets/colab-badge.svg\" alt=\"Open In Colab\"/></a>"
      ]
    },
    {
      "cell_type": "code",
      "metadata": {
        "id": "iYW-kK-7k8Ce",
        "colab_type": "code",
        "colab": {}
      },
      "source": [
        "# 구글 드라이브 마운트\n",
        "from google.colab import drive\n",
        "drive.mount('/gdrive', force_remount=True)\n",
        "# /gdrive/My Drive/ (폴더명)"
      ],
      "execution_count": 0,
      "outputs": []
    },
    {
      "cell_type": "code",
      "metadata": {
        "id": "Jg8pWcz_5YgV",
        "colab_type": "code",
        "colab": {}
      },
      "source": [
        "# 그림파일로 렌더링 하도록 패키지 설정\n",
        "!apt-get install python-opengl -y\n",
        "!apt install xvfb -y\n",
        "!pip install pyvirtualdisplay\n",
        "!pip install piglet"
      ],
      "execution_count": 0,
      "outputs": []
    },
    {
      "cell_type": "code",
      "metadata": {
        "id": "hE9Gld8a4DfZ",
        "colab_type": "code",
        "outputId": "66aa3ae9-c4df-4afe-db5b-be39ebe0e91d",
        "colab": {
          "base_uri": "https://localhost:8080/",
          "height": 34
        }
      },
      "source": [
        "# 필요한 모듈 설치\n",
        "import tensorflow as tf\n",
        "import gym\n",
        "from IPython import display\n",
        "import cv2\n",
        "from pyvirtualdisplay import Display\n",
        "from IPython import display\n",
        "import matplotlib.pyplot as plt\n",
        "from collections import deque\n",
        "import numpy as np\n",
        "import random\n",
        "%matplotlib inline\n",
        "Display().start()"
      ],
      "execution_count": 0,
      "outputs": [
        {
          "output_type": "execute_result",
          "data": {
            "text/plain": [
              "<pyvirtualdisplay.display.Display at 0x7f34a075e1d0>"
            ]
          },
          "metadata": {
            "tags": []
          },
          "execution_count": 3
        }
      ]
    },
    {
      "cell_type": "code",
      "metadata": {
        "id": "AzL4zooO4chN",
        "colab_type": "code",
        "colab": {}
      },
      "source": [
        "# 카트폴 게임 환경을 만듦\n",
        "env = gym.make(\"CartPole-v1\")"
      ],
      "execution_count": 0,
      "outputs": []
    },
    {
      "cell_type": "code",
      "metadata": {
        "id": "YqwFQ3D3kU5u",
        "colab_type": "code",
        "colab": {}
      },
      "source": [
        "env.render('rgb_array')"
      ],
      "execution_count": 0,
      "outputs": []
    },
    {
      "cell_type": "code",
      "metadata": {
        "id": "TmvYV05oBk7M",
        "colab_type": "code",
        "colab": {}
      },
      "source": [
        "# 2 - 액션 종류 슈 (아웃풋)\n",
        "action_num=env.action_space.n\n",
        "# 4 - 상태 종류 수 (인풋)\n",
        "state_num=env.observation_space.shape[0]"
      ],
      "execution_count": 0,
      "outputs": []
    },
    {
      "cell_type": "code",
      "metadata": {
        "id": "Tn7crP0QCCpc",
        "colab_type": "code",
        "outputId": "06dc9c5f-b704-4aba-c80c-8f598c31bbd3",
        "colab": {
          "base_uri": "https://localhost:8080/",
          "height": 241
        }
      },
      "source": [
        "# pg 모델 만들기 - REINFORCE 알고리즘(가장 기초)\n",
        "i=tf.keras.Input(shape=(state_num,))\n",
        "out=tf.keras.layers.Dense(128,activation='relu')(i)\n",
        "# out=tf.keras.layers.Dense(128,activation='relu')(out)\n",
        "# out=tf.keras.layers.Dense(128,activation='relu')(out)\n",
        "pi=tf.keras.layers.Dense(action_num,activation='softmax',name='pi')(out)\n",
        "val=tf.keras.layers.Dense(1,name='val')(out)\n",
        "pg_model=tf.keras.Model(inputs=[i],outputs=[pi,val])\n",
        "opt=tf.keras.optimizers.Adam(0.001,clipnorm=0.1)"
      ],
      "execution_count": 0,
      "outputs": [
        {
          "output_type": "error",
          "ename": "NameError",
          "evalue": "ignored",
          "traceback": [
            "\u001b[0;31m---------------------------------------------------------------------------\u001b[0m",
            "\u001b[0;31mNameError\u001b[0m                                 Traceback (most recent call last)",
            "\u001b[0;32m<ipython-input-1-df773df0268a>\u001b[0m in \u001b[0;36m<module>\u001b[0;34m()\u001b[0m\n\u001b[1;32m      1\u001b[0m \u001b[0;31m# pg 모델 만들기 - REINFORCE 알고리즘(가장 기초)\u001b[0m\u001b[0;34m\u001b[0m\u001b[0;34m\u001b[0m\u001b[0;34m\u001b[0m\u001b[0m\n\u001b[0;32m----> 2\u001b[0;31m \u001b[0mi\u001b[0m\u001b[0;34m=\u001b[0m\u001b[0mtf\u001b[0m\u001b[0;34m.\u001b[0m\u001b[0mkeras\u001b[0m\u001b[0;34m.\u001b[0m\u001b[0mInput\u001b[0m\u001b[0;34m(\u001b[0m\u001b[0mshape\u001b[0m\u001b[0;34m=\u001b[0m\u001b[0;34m(\u001b[0m\u001b[0mstate_num\u001b[0m\u001b[0;34m,\u001b[0m\u001b[0;34m)\u001b[0m\u001b[0;34m)\u001b[0m\u001b[0;34m\u001b[0m\u001b[0;34m\u001b[0m\u001b[0m\n\u001b[0m\u001b[1;32m      3\u001b[0m \u001b[0mout\u001b[0m\u001b[0;34m=\u001b[0m\u001b[0mtf\u001b[0m\u001b[0;34m.\u001b[0m\u001b[0mkeras\u001b[0m\u001b[0;34m.\u001b[0m\u001b[0mlayers\u001b[0m\u001b[0;34m.\u001b[0m\u001b[0mDense\u001b[0m\u001b[0;34m(\u001b[0m\u001b[0;36m128\u001b[0m\u001b[0;34m,\u001b[0m\u001b[0mactivation\u001b[0m\u001b[0;34m=\u001b[0m\u001b[0;34m'relu'\u001b[0m\u001b[0;34m)\u001b[0m\u001b[0;34m(\u001b[0m\u001b[0mi\u001b[0m\u001b[0;34m)\u001b[0m\u001b[0;34m\u001b[0m\u001b[0;34m\u001b[0m\u001b[0m\n\u001b[1;32m      4\u001b[0m \u001b[0;31m# out=tf.keras.layers.Dense(128,activation='relu')(out)\u001b[0m\u001b[0;34m\u001b[0m\u001b[0;34m\u001b[0m\u001b[0;34m\u001b[0m\u001b[0m\n\u001b[1;32m      5\u001b[0m \u001b[0;31m# out=tf.keras.layers.Dense(128,activation='relu')(out)\u001b[0m\u001b[0;34m\u001b[0m\u001b[0;34m\u001b[0m\u001b[0;34m\u001b[0m\u001b[0m\n",
            "\u001b[0;31mNameError\u001b[0m: name 'tf' is not defined"
          ]
        }
      ]
    },
    {
      "cell_type": "code",
      "metadata": {
        "id": "tXD77HPOEDST",
        "colab_type": "code",
        "outputId": "0d785ecf-cf04-4bf7-ec9c-55d6498a9eaf",
        "colab": {
          "base_uri": "https://localhost:8080/",
          "height": 298
        }
      },
      "source": [
        "pg_model.summary()"
      ],
      "execution_count": 0,
      "outputs": [
        {
          "output_type": "stream",
          "text": [
            "Model: \"model_1\"\n",
            "__________________________________________________________________________________________________\n",
            "Layer (type)                    Output Shape         Param #     Connected to                     \n",
            "==================================================================================================\n",
            "input_2 (InputLayer)            [(None, 4)]          0                                            \n",
            "__________________________________________________________________________________________________\n",
            "dense_3 (Dense)                 (None, 128)          640         input_2[0][0]                    \n",
            "__________________________________________________________________________________________________\n",
            "pi (Dense)                      (None, 2)            258         dense_3[0][0]                    \n",
            "__________________________________________________________________________________________________\n",
            "val (Dense)                     (None, 1)            129         dense_3[0][0]                    \n",
            "==================================================================================================\n",
            "Total params: 1,027\n",
            "Trainable params: 1,027\n",
            "Non-trainable params: 0\n",
            "__________________________________________________________________________________________________\n"
          ],
          "name": "stdout"
        }
      ]
    },
    {
      "cell_type": "code",
      "metadata": {
        "id": "ACHwiSxKIoEc",
        "colab_type": "code",
        "colab": {}
      },
      "source": [
        "# 에피소드 수만큼 학습\n",
        "episode_count=1000\n",
        "\n",
        "# 점수를 기록할 리스트\n",
        "scores = []\n",
        "\n",
        "# 디스카운트 팩터 정의\n",
        "discount_rate=0.99\n",
        "\n",
        "# 업데이트 배치\n",
        "batch_size=16\n",
        "count=0\n",
        "grad_t=[]\n",
        "\n",
        "for episode in range(episode_count):\n",
        "    state = env.reset()\n",
        "    # 차원을 맞추어 준다\n",
        "    state = np.reshape(state, [1, state_num])\n",
        "    done = False\n",
        "    total_reward = 0\n",
        "    while not done:\n",
        "        count=count+1\n",
        "        p,v=pg_model.predict(state)\n",
        "        action=np.random.choice(range(action_num),p=p[0])\n",
        "        next_state, reward, done, _ = env.step(action)\n",
        "        next_state = np.reshape(next_state, [1, state_num])\n",
        "\n",
        "        \n",
        "        variable = pg_model.trainable_variables\n",
        "        \n",
        "        with tf.GradientTape() as tape:\n",
        "            p,v=pg_model(state)\n",
        "            p=p[0]\n",
        "            _,n_v=pg_model(next_state)\n",
        "            td=reward + (1-done) * discount_rate * n_v[0]\n",
        "            tde=tf.stop_gradient(td-v[0])\n",
        "            val_loss=tf.stop_gradient(td)-v[0]\n",
        "            val_loss=tf.square(val_loss)\n",
        "            loss = - tf.math.log(p[action]) * tde + val_loss\n",
        "        grad=tape.gradient(loss,variable)\n",
        "        grad_t.append(grad)\n",
        "        \n",
        "        # print(grad)\n",
        "        \n",
        "        if(count%batch_size==0):\n",
        "            opt.apply_gradients(zip(np.mean(grad_t,axis=0),variable))\n",
        "            grad_t=[]\n",
        "            \n",
        "       \n",
        "        state = next_state\n",
        "        total_reward += reward\n",
        "    \n",
        "    scores.append(total_reward)\n",
        "    mean_score = np.mean(scores)\n",
        "    \n",
        "    print(episode+1,total_reward)\n",
        "    # print(p[action])\n",
        "       \n",
        "    \n",
        "    if (episode+1) % 20 == 0:\n",
        "        print(\"Episode %d: Mean survival = %0.2lf in %d episodes\" %(episode+1, mean_score, 20))\n",
        "        scores = []\n",
        "\n",
        "env.close() "
      ],
      "execution_count": 0,
      "outputs": []
    },
    {
      "cell_type": "code",
      "metadata": {
        "id": "le6oP-THjV3N",
        "colab_type": "code",
        "outputId": "333b147c-458e-46c4-81ae-32789b778670",
        "colab": {
          "base_uri": "https://localhost:8080/",
          "height": 34
        }
      },
      "source": [
        "pg_model=tf.keras.models.load_model('/gdrive/My Drive/hjk_pg_reinforce_model.h5')"
      ],
      "execution_count": 0,
      "outputs": [
        {
          "output_type": "stream",
          "text": [
            "WARNING:tensorflow:No training configuration found in the save file, so the model was *not* compiled. Compile it manually.\n"
          ],
          "name": "stdout"
        }
      ]
    },
    {
      "cell_type": "code",
      "metadata": {
        "id": "kJIjEQxQJ9O_",
        "colab_type": "code",
        "outputId": "e3534c15-3add-4508-d5c8-675d0b311002",
        "colab": {
          "base_uri": "https://localhost:8080/",
          "height": 34
        }
      },
      "source": [
        "env = gym.make('CartPole-v1')\n",
        "state=env.reset()\n",
        "state = np.reshape(state, [1, state_num])\n",
        "done=False\n",
        "# img = plt.imshow(env.render('rgb_array')) # only call this once\n",
        "total_reward=0\n",
        "img_avi=np.zeros((400,600,3))\n",
        "fcc=cv2.VideoWriter_fourcc(*'DIVX')\n",
        "out=cv2.VideoWriter('/gdrive/My Drive/hjk_pg_reinforce.avi',fcc,10.0,(600,400))\n",
        "while not done:\n",
        "    # img.set_data(env.render('rgb_array')) # just update the data\n",
        "    # display.display(plt.gcf())\n",
        "    # display.clear_output(wait=True)\n",
        "    img_avi=env.render('rgb_array')\n",
        "    action = np.argmax(pg_model.predict(state)[0])\n",
        "    # action = env.action_space.sample()\n",
        "    next_state, reward, done, _ = env.step(action)\n",
        "    next_state = np.reshape(next_state, [1, state_num])\n",
        "    state = next_state\n",
        "    total_reward += reward\n",
        "    out.write(np.uint8(img_avi))\n",
        "print(total_reward)\n",
        "out.release()\n",
        "cv2.destroyAllWindows()"
      ],
      "execution_count": 0,
      "outputs": [
        {
          "output_type": "stream",
          "text": [
            "500.0\n"
          ],
          "name": "stdout"
        }
      ]
    }
  ]
}
