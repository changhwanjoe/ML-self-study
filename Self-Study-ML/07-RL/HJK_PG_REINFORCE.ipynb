{
  "nbformat": 4,
  "nbformat_minor": 0,
  "metadata": {
    "colab": {
      "name": "HJK_PG_REINFORCE.ipynb",
      "provenance": [],
      "collapsed_sections": [],
      "include_colab_link": true
    },
    "kernelspec": {
      "name": "python3",
      "display_name": "Python 3"
    },
    "accelerator": "GPU"
  },
  "cells": [
    {
      "cell_type": "markdown",
      "metadata": {
        "id": "view-in-github",
        "colab_type": "text"
      },
      "source": [
        "<a href=\"https://colab.research.google.com/github/HongJaeKwon/machine-learning/blob/master/HJK_PG_REINFORCE.ipynb\" target=\"_parent\"><img src=\"https://colab.research.google.com/assets/colab-badge.svg\" alt=\"Open In Colab\"/></a>"
      ]
    },
    {
      "cell_type": "code",
      "metadata": {
        "id": "iYW-kK-7k8Ce",
        "colab_type": "code",
        "outputId": "6d24d5cc-3b07-44ea-9e53-bfcc63a549d1",
        "colab": {
          "base_uri": "https://localhost:8080/",
          "height": 125
        }
      },
      "source": [
        "# 구글 드라이브 마운트\n",
        "from google.colab import drive\n",
        "drive.mount('/gdrive', force_remount=True)\n",
        "# /gdrive/My Drive/ (폴더명)"
      ],
      "execution_count": 0,
      "outputs": [
        {
          "output_type": "stream",
          "text": [
            "Go to this URL in a browser: https://accounts.google.com/o/oauth2/auth?client_id=947318989803-6bn6qk8qdgf4n4g3pfee6491hc0brc4i.apps.googleusercontent.com&redirect_uri=urn%3aietf%3awg%3aoauth%3a2.0%3aoob&response_type=code&scope=email%20https%3a%2f%2fwww.googleapis.com%2fauth%2fdocs.test%20https%3a%2f%2fwww.googleapis.com%2fauth%2fdrive%20https%3a%2f%2fwww.googleapis.com%2fauth%2fdrive.photos.readonly%20https%3a%2f%2fwww.googleapis.com%2fauth%2fpeopleapi.readonly\n",
            "\n",
            "Enter your authorization code:\n",
            "··········\n",
            "Mounted at /gdrive\n"
          ],
          "name": "stdout"
        }
      ]
    },
    {
      "cell_type": "code",
      "metadata": {
        "id": "Jg8pWcz_5YgV",
        "colab_type": "code",
        "outputId": "46524141-8720-46c1-d87f-2f15f833c029",
        "colab": {
          "base_uri": "https://localhost:8080/",
          "height": 987
        }
      },
      "source": [
        "# 그림파일로 렌더링 하도록 패키지 설정\n",
        "!apt-get install python-opengl -y\n",
        "!apt install xvfb -y\n",
        "!pip install pyvirtualdisplay\n",
        "!pip install piglet"
      ],
      "execution_count": 0,
      "outputs": [
        {
          "output_type": "stream",
          "text": [
            "Reading package lists... Done\n",
            "Building dependency tree       \n",
            "Reading state information... Done\n",
            "Suggested packages:\n",
            "  libgle3\n",
            "The following NEW packages will be installed:\n",
            "  python-opengl\n",
            "0 upgraded, 1 newly installed, 0 to remove and 31 not upgraded.\n",
            "Need to get 496 kB of archives.\n",
            "After this operation, 5,416 kB of additional disk space will be used.\n",
            "Get:1 http://archive.ubuntu.com/ubuntu bionic/universe amd64 python-opengl all 3.1.0+dfsg-1 [496 kB]\n",
            "Fetched 496 kB in 2s (237 kB/s)\n",
            "Selecting previously unselected package python-opengl.\n",
            "(Reading database ... 144433 files and directories currently installed.)\n",
            "Preparing to unpack .../python-opengl_3.1.0+dfsg-1_all.deb ...\n",
            "Unpacking python-opengl (3.1.0+dfsg-1) ...\n",
            "Setting up python-opengl (3.1.0+dfsg-1) ...\n",
            "Reading package lists... Done\n",
            "Building dependency tree       \n",
            "Reading state information... Done\n",
            "The following NEW packages will be installed:\n",
            "  xvfb\n",
            "0 upgraded, 1 newly installed, 0 to remove and 31 not upgraded.\n",
            "Need to get 784 kB of archives.\n",
            "After this operation, 2,266 kB of additional disk space will be used.\n",
            "Get:1 http://archive.ubuntu.com/ubuntu bionic-updates/universe amd64 xvfb amd64 2:1.19.6-1ubuntu4.4 [784 kB]\n",
            "Fetched 784 kB in 2s (331 kB/s)\n",
            "Selecting previously unselected package xvfb.\n",
            "(Reading database ... 146788 files and directories currently installed.)\n",
            "Preparing to unpack .../xvfb_2%3a1.19.6-1ubuntu4.4_amd64.deb ...\n",
            "Unpacking xvfb (2:1.19.6-1ubuntu4.4) ...\n",
            "Setting up xvfb (2:1.19.6-1ubuntu4.4) ...\n",
            "Processing triggers for man-db (2.8.3-2ubuntu0.1) ...\n",
            "Collecting pyvirtualdisplay\n",
            "  Downloading https://files.pythonhosted.org/packages/69/ec/8221a07850d69fa3c57c02e526edd23d18c7c05d58ed103e3b19172757c1/PyVirtualDisplay-0.2.5-py2.py3-none-any.whl\n",
            "Collecting EasyProcess\n",
            "  Downloading https://files.pythonhosted.org/packages/48/3c/75573613641c90c6d094059ac28adb748560d99bd27ee6f80cce398f404e/EasyProcess-0.3-py2.py3-none-any.whl\n",
            "Installing collected packages: EasyProcess, pyvirtualdisplay\n",
            "Successfully installed EasyProcess-0.3 pyvirtualdisplay-0.2.5\n",
            "Collecting piglet\n",
            "  Downloading https://files.pythonhosted.org/packages/11/56/6840e5f45626dc7eb7cd5dff57d11880b3113723b3b7b1fb1fa537855b75/piglet-1.0.0-py2.py3-none-any.whl\n",
            "Collecting piglet-templates\n",
            "\u001b[?25l  Downloading https://files.pythonhosted.org/packages/d0/dc/d628dcdf0b38b8f230e9c2309bfa370d2e3fb95e9e9c260213d10fde91ac/piglet_templates-1.0.0-py3-none-any.whl (63kB)\n",
            "\u001b[K     |████████████████████████████████| 71kB 2.0MB/s \n",
            "\u001b[?25hRequirement already satisfied: markupsafe in /usr/local/lib/python3.6/dist-packages (from piglet-templates->piglet) (1.1.1)\n",
            "Requirement already satisfied: attrs in /usr/local/lib/python3.6/dist-packages (from piglet-templates->piglet) (19.3.0)\n",
            "Requirement already satisfied: astunparse in /usr/local/lib/python3.6/dist-packages (from piglet-templates->piglet) (1.6.3)\n",
            "Collecting Parsley\n",
            "\u001b[?25l  Downloading https://files.pythonhosted.org/packages/2b/d6/4fed8d65e28a970e1c5cb33ce9c7e22e3de745e1b2ae37af051ef16aea3b/Parsley-1.3-py2.py3-none-any.whl (88kB)\n",
            "\u001b[K     |████████████████████████████████| 92kB 4.6MB/s \n",
            "\u001b[?25hRequirement already satisfied: six<2.0,>=1.6.1 in /usr/local/lib/python3.6/dist-packages (from astunparse->piglet-templates->piglet) (1.12.0)\n",
            "Requirement already satisfied: wheel<1.0,>=0.23.0 in /usr/local/lib/python3.6/dist-packages (from astunparse->piglet-templates->piglet) (0.34.2)\n",
            "Installing collected packages: Parsley, piglet-templates, piglet\n",
            "Successfully installed Parsley-1.3 piglet-1.0.0 piglet-templates-1.0.0\n"
          ],
          "name": "stdout"
        }
      ]
    },
    {
      "cell_type": "code",
      "metadata": {
        "id": "hE9Gld8a4DfZ",
        "colab_type": "code",
        "outputId": "1c3355ce-83be-498c-ddd5-44438aa648dc",
        "colab": {
          "base_uri": "https://localhost:8080/",
          "height": 72
        }
      },
      "source": [
        "# 필요한 모듈 설치\n",
        "import tensorflow as tf\n",
        "import gym\n",
        "from IPython import display\n",
        "import cv2\n",
        "from pyvirtualdisplay import Display\n",
        "from IPython import display\n",
        "import matplotlib.pyplot as plt\n",
        "from collections import deque\n",
        "import numpy as np\n",
        "import random\n",
        "%matplotlib inline\n",
        "Display().start()"
      ],
      "execution_count": 0,
      "outputs": [
        {
          "output_type": "stream",
          "text": [
            "xdpyinfo was not found, X start can not be checked! Please install xdpyinfo!\n"
          ],
          "name": "stderr"
        },
        {
          "output_type": "execute_result",
          "data": {
            "text/plain": [
              "<Display cmd_param=['Xvfb', '-br', '-nolisten', 'tcp', '-screen', '0', '1024x768x24', ':1001'] cmd=['Xvfb', '-br', '-nolisten', 'tcp', '-screen', '0', '1024x768x24', ':1001'] oserror=None return_code=None stdout=\"None\" stderr=\"None\" timeout_happened=False>"
            ]
          },
          "metadata": {
            "tags": []
          },
          "execution_count": 3
        }
      ]
    },
    {
      "cell_type": "code",
      "metadata": {
        "id": "AzL4zooO4chN",
        "colab_type": "code",
        "colab": {}
      },
      "source": [
        "# 카트폴 게임 환경을 만듦\n",
        "env = gym.make(\"CartPole-v1\")"
      ],
      "execution_count": 0,
      "outputs": []
    },
    {
      "cell_type": "code",
      "metadata": {
        "id": "YqwFQ3D3kU5u",
        "colab_type": "code",
        "colab": {}
      },
      "source": [
        "env.render('rgb_array')"
      ],
      "execution_count": 0,
      "outputs": []
    },
    {
      "cell_type": "code",
      "metadata": {
        "id": "TmvYV05oBk7M",
        "colab_type": "code",
        "colab": {}
      },
      "source": [
        "# 2 - 액션 종류 슈 (아웃풋)\n",
        "action_num=env.action_space.n\n",
        "# 4 - 상태 종류 수 (인풋)\n",
        "state_num=env.observation_space.shape[0]"
      ],
      "execution_count": 0,
      "outputs": []
    },
    {
      "cell_type": "code",
      "metadata": {
        "id": "Tn7crP0QCCpc",
        "colab_type": "code",
        "colab": {}
      },
      "source": [
        "# pg 모델 만들기 - REINFORCE 알고리즘(가장 기초)\n",
        "pg_model=tf.keras.models.Sequential()\n",
        "pg_model.add(tf.keras.layers.Dense(256,input_shape=(state_num,),activation='relu'))\n",
        "pg_model.add(tf.keras.layers.Dense(action_num,activation='softmax'))\n",
        "opt=tf.keras.optimizers.Adam(0.0005)"
      ],
      "execution_count": 0,
      "outputs": []
    },
    {
      "cell_type": "code",
      "metadata": {
        "id": "ACHwiSxKIoEc",
        "colab_type": "code",
        "outputId": "cf4ec709-ee7a-4839-e47b-c03cac8e4835",
        "colab": {
          "base_uri": "https://localhost:8080/",
          "height": 1000
        }
      },
      "source": [
        "# 에피소드 수만큼 학습\n",
        "episode_count=1000\n",
        "\n",
        "# 점수를 기록할 리스트\n",
        "scores = []\n",
        "memory=[]\n",
        "\n",
        "# 디스카운트 팩터 정의\n",
        "discount_rate=0.99\n",
        "\n",
        "for episode in range(episode_count):\n",
        "    state = env.reset()\n",
        "    # 차원을 맞추어 준다\n",
        "    state = np.reshape(state, [1, state_num])\n",
        "    done = False\n",
        "    total_reward = 0\n",
        "    while not done:\n",
        "        p=pg_model.predict(state)[0]\n",
        "        action=np.random.choice(range(action_num),p=p)\n",
        "        next_state, reward, done, _ = env.step(action)\n",
        "        next_state = np.reshape(next_state, [1, state_num])\n",
        "        i=(state,action,reward/100.,next_state,done)\n",
        "        # 메모리에 작업 내용을 기록한다\n",
        "        memory.append(i)\n",
        "        # 다음상태를 현사태로 변경하여 계속 진행한다\n",
        "        state = next_state\n",
        "        total_reward += reward\n",
        "\n",
        "    # 에피소드가 끝나면 PG 학습 시작\n",
        "    G=0\n",
        "    for s,a,r,n_s,d in memory[::-1]:\n",
        "        G=r+discount_rate * G\n",
        "        variable = pg_model.trainable_variables\n",
        "        with tf.GradientTape() as tape:\n",
        "            p=pg_model(s)[0][a]\n",
        "            loss = -tf.math.log(p) * G\n",
        "        grad=tape.gradient(loss,variable)\n",
        "        opt.apply_gradients(zip(grad,variable))   \n",
        "    \n",
        "    memory=[]\n",
        "    scores.append(total_reward)\n",
        "    if(total_reward>450):\n",
        "        pg_model.save('/gdrive/My Drive/hjk_pg_reinforce_model.h5')\n",
        "    mean_score = np.mean(scores)\n",
        "    \n",
        "    print(episode+1,total_reward)\n",
        "\n",
        "    if (episode+1) % 20 == 0:\n",
        "        print(\"Episode %d: Mean survival = %0.2lf in %d episodes\" %(episode+1, mean_score, 20))\n",
        "        if mean_score >= 400:\n",
        "            break\n",
        "        scores = []\n",
        "\n",
        "env.close() "
      ],
      "execution_count": 0,
      "outputs": [
        {
          "output_type": "stream",
          "text": [
            "1 11.0\n",
            "2 11.0\n",
            "3 16.0\n",
            "4 27.0\n",
            "5 29.0\n",
            "6 52.0\n",
            "7 19.0\n",
            "8 35.0\n",
            "9 11.0\n",
            "10 13.0\n",
            "11 16.0\n",
            "12 36.0\n",
            "13 14.0\n",
            "14 11.0\n",
            "15 15.0\n",
            "16 29.0\n",
            "17 27.0\n",
            "18 51.0\n",
            "19 27.0\n",
            "20 24.0\n",
            "Episode 20: Mean survival = 23.70 in 20 episodes\n",
            "21 15.0\n",
            "22 26.0\n",
            "23 21.0\n",
            "24 18.0\n",
            "25 13.0\n",
            "26 13.0\n",
            "27 26.0\n",
            "28 22.0\n",
            "29 33.0\n",
            "30 45.0\n",
            "31 17.0\n",
            "32 24.0\n",
            "33 44.0\n",
            "34 20.0\n",
            "35 19.0\n",
            "36 38.0\n",
            "37 34.0\n",
            "38 25.0\n",
            "39 28.0\n",
            "40 38.0\n",
            "Episode 40: Mean survival = 25.95 in 20 episodes\n",
            "41 27.0\n",
            "42 15.0\n",
            "43 18.0\n",
            "44 40.0\n",
            "45 26.0\n",
            "46 19.0\n",
            "47 18.0\n",
            "48 19.0\n",
            "49 31.0\n",
            "50 34.0\n",
            "51 17.0\n",
            "52 36.0\n",
            "53 18.0\n",
            "54 16.0\n",
            "55 17.0\n",
            "56 59.0\n",
            "57 86.0\n",
            "58 43.0\n",
            "59 49.0\n",
            "60 38.0\n",
            "Episode 60: Mean survival = 31.30 in 20 episodes\n",
            "61 72.0\n",
            "62 62.0\n",
            "63 26.0\n",
            "64 34.0\n",
            "65 40.0\n",
            "66 55.0\n",
            "67 18.0\n",
            "68 33.0\n",
            "69 43.0\n",
            "70 24.0\n",
            "71 37.0\n",
            "72 44.0\n",
            "73 100.0\n",
            "74 46.0\n",
            "75 65.0\n",
            "76 32.0\n",
            "77 81.0\n",
            "78 82.0\n",
            "79 32.0\n",
            "80 71.0\n",
            "Episode 80: Mean survival = 49.85 in 20 episodes\n",
            "81 34.0\n",
            "82 80.0\n",
            "83 88.0\n",
            "84 119.0\n",
            "85 41.0\n",
            "86 70.0\n",
            "87 43.0\n",
            "88 97.0\n",
            "89 42.0\n",
            "90 42.0\n",
            "91 88.0\n",
            "92 46.0\n",
            "93 92.0\n",
            "94 114.0\n",
            "95 151.0\n",
            "96 169.0\n",
            "97 110.0\n",
            "98 179.0\n",
            "99 291.0\n",
            "100 189.0\n",
            "Episode 100: Mean survival = 104.25 in 20 episodes\n",
            "101 139.0\n",
            "102 48.0\n",
            "103 67.0\n",
            "104 94.0\n",
            "105 27.0\n",
            "106 77.0\n",
            "107 149.0\n",
            "108 151.0\n",
            "109 118.0\n",
            "110 231.0\n",
            "111 143.0\n",
            "112 195.0\n",
            "113 110.0\n",
            "114 141.0\n",
            "115 161.0\n",
            "116 177.0\n",
            "117 110.0\n",
            "118 178.0\n",
            "119 153.0\n",
            "120 115.0\n",
            "Episode 120: Mean survival = 129.20 in 20 episodes\n",
            "121 115.0\n",
            "122 161.0\n",
            "123 97.0\n",
            "124 106.0\n",
            "125 104.0\n",
            "126 48.0\n",
            "127 84.0\n",
            "128 170.0\n",
            "129 133.0\n",
            "130 129.0\n",
            "131 211.0\n",
            "132 215.0\n",
            "133 163.0\n",
            "134 203.0\n",
            "135 166.0\n",
            "136 125.0\n",
            "137 112.0\n",
            "138 115.0\n",
            "139 155.0\n",
            "140 118.0\n",
            "Episode 140: Mean survival = 136.50 in 20 episodes\n",
            "141 204.0\n",
            "142 319.0\n",
            "143 158.0\n",
            "144 211.0\n",
            "145 326.0\n",
            "146 396.0\n",
            "147 212.0\n",
            "148 500.0\n",
            "149 180.0\n",
            "150 184.0\n",
            "151 142.0\n",
            "152 175.0\n",
            "153 182.0\n",
            "154 240.0\n",
            "155 212.0\n",
            "156 365.0\n",
            "157 341.0\n",
            "158 412.0\n",
            "159 277.0\n",
            "160 214.0\n",
            "Episode 160: Mean survival = 262.50 in 20 episodes\n",
            "161 270.0\n",
            "162 263.0\n",
            "163 214.0\n",
            "164 43.0\n",
            "165 165.0\n",
            "166 120.0\n",
            "167 192.0\n",
            "168 133.0\n",
            "169 176.0\n",
            "170 236.0\n",
            "171 393.0\n",
            "172 208.0\n",
            "173 500.0\n",
            "174 175.0\n",
            "175 442.0\n",
            "176 492.0\n",
            "177 500.0\n",
            "178 463.0\n",
            "179 274.0\n",
            "180 500.0\n",
            "Episode 180: Mean survival = 287.95 in 20 episodes\n",
            "181 431.0\n",
            "182 500.0\n",
            "183 500.0\n"
          ],
          "name": "stdout"
        }
      ]
    },
    {
      "cell_type": "code",
      "metadata": {
        "id": "le6oP-THjV3N",
        "colab_type": "code",
        "outputId": "333b147c-458e-46c4-81ae-32789b778670",
        "colab": {
          "base_uri": "https://localhost:8080/",
          "height": 34
        }
      },
      "source": [
        "pg_model=tf.keras.models.load_model('/gdrive/My Drive/hjk_pg_reinforce_model.h5')"
      ],
      "execution_count": 0,
      "outputs": [
        {
          "output_type": "stream",
          "text": [
            "WARNING:tensorflow:No training configuration found in the save file, so the model was *not* compiled. Compile it manually.\n"
          ],
          "name": "stdout"
        }
      ]
    },
    {
      "cell_type": "code",
      "metadata": {
        "id": "kJIjEQxQJ9O_",
        "colab_type": "code",
        "outputId": "e3534c15-3add-4508-d5c8-675d0b311002",
        "colab": {
          "base_uri": "https://localhost:8080/",
          "height": 34
        }
      },
      "source": [
        "env = gym.make('CartPole-v1')\n",
        "state=env.reset()\n",
        "state = np.reshape(state, [1, state_num])\n",
        "done=False\n",
        "# img = plt.imshow(env.render('rgb_array')) # only call this once\n",
        "total_reward=0\n",
        "img_avi=np.zeros((400,600,3))\n",
        "fcc=cv2.VideoWriter_fourcc(*'DIVX')\n",
        "out=cv2.VideoWriter('/gdrive/My Drive/hjk_pg_reinforce.avi',fcc,10.0,(600,400))\n",
        "while not done:\n",
        "    # img.set_data(env.render('rgb_array')) # just update the data\n",
        "    # display.display(plt.gcf())\n",
        "    # display.clear_output(wait=True)\n",
        "    img_avi=env.render('rgb_array')\n",
        "    action = np.argmax(pg_model.predict(state)[0])\n",
        "    # action = env.action_space.sample()\n",
        "    next_state, reward, done, _ = env.step(action)\n",
        "    next_state = np.reshape(next_state, [1, state_num])\n",
        "    state = next_state\n",
        "    total_reward += reward\n",
        "    out.write(np.uint8(img_avi))\n",
        "print(total_reward)\n",
        "out.release()\n",
        "cv2.destroyAllWindows()"
      ],
      "execution_count": 0,
      "outputs": [
        {
          "output_type": "stream",
          "text": [
            "500.0\n"
          ],
          "name": "stdout"
        }
      ]
    }
  ]
}
